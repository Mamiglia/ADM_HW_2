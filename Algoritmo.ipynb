{
 "cells": [
  {
   "cell_type": "code",
   "execution_count": 5,
   "id": "639a1438-9795-4a26-b91a-0c2195a7b33f",
   "metadata": {},
   "outputs": [],
   "source": [
    "def f1(sequence, end):\n",
    "    for i in range(end):\n",
    "        print(sequence[i], end='')\n",
    "    print(\"\")"
   ]
  },
  {
   "cell_type": "code",
   "execution_count": 13,
   "id": "7f836cc4-1207-444c-8291-9aee62c34246",
   "metadata": {},
   "outputs": [],
   "source": [
    "cnt = 0\n",
    "def f2(sequence, start, end):\n",
    "    global cnt\n",
    "    if start == end:\n",
    "        print(\"OUTPUT\\t\", end='')\n",
    "        f1(sequence, end)\n",
    "        pass\n",
    "    else:\n",
    "        for i in range(start+1, end):\n",
    "            print(f\"{start}:{i}\\t {sequence[start]}<>{sequence[i]}\\t {sequence}\")\n",
    "            cnt +=1\n",
    "            temp = sequence[start]\n",
    "            sequence[start] = sequence[i]\n",
    "            sequence[i] = temp\n",
    "            f2(sequence, start+1, end)\n",
    "            print(f\"{start}:{i}\\t {sequence[start]}<>{sequence[i]}\\t {sequence}\")\n",
    "            temp = sequence[start]\n",
    "            sequence[start] = sequence[i]\n",
    "            sequence[i] = temp\n",
    "            cnt+=1"
   ]
  },
  {
   "cell_type": "code",
   "execution_count": 14,
   "id": "15432c4c-4cc1-4ef1-83aa-d47e0bba17df",
   "metadata": {},
   "outputs": [
    {
     "name": "stdout",
     "output_type": "stream",
     "text": [
      "0:1\t a<>p\t ['a', 'p', 'e']\n",
      "1:2\t a<>e\t ['p', 'a', 'e']\n",
      "1:2\t e<>a\t ['p', 'e', 'a']\n",
      "0:1\t p<>a\t ['p', 'a', 'e']\n",
      "0:2\t a<>e\t ['a', 'p', 'e']\n",
      "1:2\t p<>a\t ['e', 'p', 'a']\n",
      "1:2\t a<>p\t ['e', 'a', 'p']\n",
      "0:2\t e<>a\t ['e', 'p', 'a']\n"
     ]
    }
   ],
   "source": [
    "lista = ['a', 'p', 'e']\n",
    "N = len(lista)\n",
    "f2(lista, 0, N)"
   ]
  },
  {
   "cell_type": "code",
   "execution_count": 59,
   "id": "2d3a195c-c2a6-4d74-b636-9ce988b127de",
   "metadata": {},
   "outputs": [
    {
     "name": "stdout",
     "output_type": "stream",
     "text": [
      "2th iteration\n",
      "3th iteration\n",
      "4th iteration\n",
      "5th iteration\n",
      "6th iteration\n",
      "7th iteration\n"
     ]
    }
   ],
   "source": [
    "performance = {\n",
    "    'time' : [],\n",
    "    'N' : []\n",
    "}\n",
    "N_RANGE = 8\n",
    "cnt=0\n",
    "for i in range(2,N_RANGE):\n",
    "    f2(['e']*i, 0, i)\n",
    "    print(f\"{i}th iteration\")\n",
    "    performance['time'].append(cnt)\n",
    "    performance['N'].append(i)\n",
    "    cnt=0"
   ]
  },
  {
   "cell_type": "code",
   "execution_count": 60,
   "id": "3d873543",
   "metadata": {},
   "outputs": [
    {
     "name": "stderr",
     "output_type": "stream",
     "text": [
      "C:\\Users\\Archimede\\AppData\\Local\\Temp\\ipykernel_17124\\2655344483.py:4: UserWarning: Ignoring `palette` because no `hue` variable has been assigned.\n",
      "  sns.lineplot(data=cut_performance,x='N', y='time', palette='pastel')\n"
     ]
    },
    {
     "data": {
      "text/plain": [
       "<AxesSubplot: xlabel='N', ylabel='time'>"
      ]
     },
     "execution_count": 60,
     "metadata": {},
     "output_type": "execute_result"
    },
    {
     "data": {
      "image/png": "[encoded data removed]",
      "text/plain": [
       "<Figure size 640x480 with 1 Axes>"
      ]
     },
     "metadata": {},
     "output_type": "display_data"
    }
   ],
   "source": [
    "import seaborn as sns\n",
    "import pandas as pd\n",
    "cut_performance = pd.DataFrame.from_dict(performance)\n",
    "sns.lineplot(data=cut_performance,x='N', y='time', palette='pastel')"
   ]
  }
 ],
 "metadata": {
  "kernelspec": {
   "display_name": "Python 3.10.8 64-bit (microsoft store)",
   "language": "python",
   "name": "python3"
  },
  "language_info": {
   "codemirror_mode": {
    "name": "ipython",
    "version": 3
   },
   "file_extension": ".py",
   "mimetype": "text/x-python",
   "name": "python",
   "nbconvert_exporter": "python",
   "pygments_lexer": "ipython3",
   "version": "3.10.8"
  },
  "vscode": {
   "interpreter": {
    "hash": "d0d9de1bd73e5057d6899d8fb9583eaa7e585bedee5ed3c304303aa57f28dd3f"
   }
  }
 },
 "nbformat": 4,
 "nbformat_minor": 5
}
