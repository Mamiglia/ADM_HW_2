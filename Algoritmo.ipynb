{
 "cells": [
  {
   "cell_type": "code",
   "execution_count": 1,
   "id": "639a1438-9795-4a26-b91a-0c2195a7b33f",
   "metadata": {},
   "outputs": [],
   "source": [
    "def f1(sequence, end):\n",
    "    for i in range(end):\n",
    "        print(sequence[i])\n",
    "    print(\"\\n\")"
   ]
  },
  {
   "cell_type": "code",
   "execution_count": 2,
   "id": "7f836cc4-1207-444c-8291-9aee62c34246",
   "metadata": {},
   "outputs": [],
   "source": [
    "def f2(sequence, start, end):\n",
    "    if start == end:\n",
    "        f1(sequence, end)\n",
    "    else:\n",
    "        for i in range(start, end): \n",
    "            temp = sequence[start]\n",
    "            sequence[start] = sequence[i]\n",
    "            sequence[i] = temp\n",
    "            f2(sequence, start+1, end)\n",
    "            temp = sequence[start]\n",
    "            sequence[start] = sequence[i]\n",
    "            sequence[i] = temp"
   ]
  },
  {
   "cell_type": "code",
   "execution_count": 4,
   "id": "15432c4c-4cc1-4ef1-83aa-d47e0bba17df",
   "metadata": {},
   "outputs": [
    {
     "name": "stdout",
     "output_type": "stream",
     "text": [
      "[1, 2, 3, 4]\n",
      "\n",
      "\n",
      "[1, 2, 4, 3]\n",
      "\n",
      "\n",
      "[1, 3, 2, 4]\n",
      "\n",
      "\n",
      "[1, 3, 4, 2]\n",
      "\n",
      "\n",
      "[1, 4, 3, 2]\n",
      "\n",
      "\n",
      "[1, 4, 2, 3]\n",
      "\n",
      "\n",
      "[2, 1, 3, 4]\n",
      "\n",
      "\n",
      "[2, 1, 4, 3]\n",
      "\n",
      "\n",
      "[2, 3, 1, 4]\n",
      "\n",
      "\n",
      "[2, 3, 4, 1]\n",
      "\n",
      "\n",
      "[2, 4, 3, 1]\n",
      "\n",
      "\n",
      "[2, 4, 1, 3]\n",
      "\n",
      "\n",
      "[3, 2, 1, 4]\n",
      "\n",
      "\n",
      "[3, 2, 4, 1]\n",
      "\n",
      "\n",
      "[3, 1, 2, 4]\n",
      "\n",
      "\n",
      "[3, 1, 4, 2]\n",
      "\n",
      "\n",
      "[3, 4, 1, 2]\n",
      "\n",
      "\n",
      "[3, 4, 2, 1]\n",
      "\n",
      "\n",
      "[4, 2, 3, 1]\n",
      "\n",
      "\n",
      "[4, 2, 1, 3]\n",
      "\n",
      "\n",
      "[4, 3, 2, 1]\n",
      "\n",
      "\n",
      "[4, 3, 1, 2]\n",
      "\n",
      "\n",
      "[4, 1, 3, 2]\n",
      "\n",
      "\n",
      "[4, 1, 2, 3]\n",
      "\n",
      "\n"
     ]
    }
   ],
   "source": [
    "lista = [1,2,3,4]\n",
    "N = len(lista)\n",
    "f2(lista, 0, N)"
   ]
  },
  {
   "cell_type": "code",
   "execution_count": null,
   "id": "2d3a195c-c2a6-4d74-b636-9ce988b127de",
   "metadata": {},
   "outputs": [],
   "source": []
  }
 ],
 "metadata": {
  "kernelspec": {
   "display_name": "Python 3 (ipykernel)",
   "language": "python",
   "name": "python3"
  },
  "language_info": {
   "codemirror_mode": {
    "name": "ipython",
    "version": 3
   },
   "file_extension": ".py",
   "mimetype": "text/x-python",
   "name": "python",
   "nbconvert_exporter": "python",
   "pygments_lexer": "ipython3",
   "version": "3.9.12"
  }
 },
 "nbformat": 4,
 "nbformat_minor": 5
}
