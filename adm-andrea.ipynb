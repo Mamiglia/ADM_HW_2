{
 "cells": [
  {
   "cell_type": "markdown",
   "id": "80d8bdc5-0088-4100-9346-63a706b19e34",
   "metadata": {
    "jp-MarkdownHeadingCollapsed": true,
    "tags": []
   },
   "source": [
    "# __PREPROCESSING__"
   ]
  },
  {
   "cell_type": "code",
   "execution_count": 1,
   "id": "5d8a0c11-0be1-4aca-8d2b-909d8e4934d2",
   "metadata": {},
   "outputs": [
    {
     "name": "stdout",
     "output_type": "stream",
     "text": [
      "Requirement already satisfied: pyarrow in /Users/andrea/opt/anaconda3/lib/python3.9/site-packages (9.0.0)\n",
      "Requirement already satisfied: numpy>=1.16.6 in /Users/andrea/opt/anaconda3/lib/python3.9/site-packages (from pyarrow) (1.21.5)\n"
     ]
    }
   ],
   "source": [
    "!pip install pyarrow\n",
    "\n",
    "import pandas as pd\n",
    "import seaborn as sns\n",
    "import numpy as np\n",
    "import random\n",
    "import re\n",
    "import os\n",
    "\n",
    "SAMPLE_SIZE = 500000\n",
    "\n",
    "%matplotlib inline\n",
    "import matplotlib.pyplot as plt"
   ]
  },
  {
   "cell_type": "code",
   "execution_count": 2,
   "id": "3871dde3-643a-4fd3-959c-742bc1473ad6",
   "metadata": {},
   "outputs": [],
   "source": [
    "class Dataset:\n",
    "    def __init__(self, file:str):\n",
    "        self.file_name : str = file\n",
    "        self.types : dict = self.load_types()\n",
    "        self.df : pd.DataFrame = None\n",
    "        \n",
    "    def name(self):\n",
    "        return re.search(r'\\/([\\w\\d]*)\\.csv',self.file_name).group(1)\n",
    "    \n",
    "    def __types_file__(self):\n",
    "        return 'types/' + self.name() +'.npy'\n",
    "        \n",
    "    def save_types(self):\n",
    "        np.save(self.__types_file__(), self.types)\n",
    "        \n",
    "    def load_types(self):\n",
    "        if os.path.isfile(self.__types_file__()):\n",
    "            self.types = np.load(self.__types_file__(),allow_pickle='TRUE').item()\n",
    "            return self.types\n",
    "        return None\n",
    "    \n",
    "    def col(self,columns:list, index:bool=True,**pd_params)->pd.DataFrame:\n",
    "        \"\"\"Loads some columns of the dataframe out of the whole csv file\n",
    "        \n",
    "        :param columns: a list of the desired columns\n",
    "        :type columns: list\n",
    "        :param index: if True loads also the 'sid' column as the index\n",
    "        :type index: bool\n",
    "        :param **pd_params: any other params for pd.read_csv(...)\n",
    "        :rtype: pd.DataFrame\n",
    "        \"\"\"\n",
    "        col_list = columns\n",
    "        if 'cts' in col_list:\n",
    "            pd_params['parse_dates'] = ['cts']\n",
    "        if index :\n",
    "            col_list.append('sid')\n",
    "        return pd.read_csv(self.file_name,\n",
    "                           usecols=col_list,\n",
    "                           dtype=self.types, \n",
    "                           index_col='sid' if index else None,\n",
    "                           delimiter='\\t', \n",
    "                           **pd_params)\n",
    "\n",
    "datasets = [\n",
    "    Dataset(file='instagram-dataset/instagram_profiles.csv'), \n",
    "    Dataset(file='instagram-dataset/instagram_locations.csv'), \n",
    "    Dataset(file='instagram-dataset/instagram_posts.csv')\n",
    "]\n",
    "profiles, locations, posts = datasets"
   ]
  },
  {
   "cell_type": "code",
   "execution_count": 3,
   "id": "4d5dea5b-63f3-4e21-80d9-7903cb8b8843",
   "metadata": {},
   "outputs": [],
   "source": [
    "profiles.types = {\n",
    "#     'sid' : int,\n",
    "    'profile_id' : int,\n",
    "    'profile_name' : pd.StringDtype(storage='pyarrow'),\n",
    "    'firstname_lastname' : pd.StringDtype(storage='pyarrow'),\n",
    "    'description' : pd.StringDtype(storage='pyarrow'),\n",
    "    'following' : int,\n",
    "    'followers' : int,\n",
    "    'n_posts' : int,\n",
    "    'url' : pd.StringDtype(storage='pyarrow'),\n",
    "#     'cts' : pd.DatetimeTZDtype(tz='UTC'), #obtained through parse_dates=['cts']\n",
    "    'is_business_account' : pd.BooleanDtype()\n",
    "}\n",
    "posts.types = {\n",
    "#     'sid' : int, # gives an error, maybe because it's the index?\n",
    "    'sid_profile' : int,\n",
    "    'post_id' : pd.StringDtype(storage='pyarrow'),\n",
    "    'profile_id' : int,\n",
    "    'location_id' : int,\n",
    "    'description' : pd.StringDtype(storage='pyarrow'),\n",
    "    'post_type' : pd.CategoricalDtype(categories=[1,2,3]),\n",
    "    'numbr_likes' : int,\n",
    "    'number_comments' : int\n",
    "}\n",
    "locations.types = {\n",
    "#     'sid' : int, # gives an error, maybe because it's the index?\n",
    "    'id' : int,\n",
    "    'name' : pd.StringDtype(storage='pyarrow'),\n",
    "    'street' : pd.StringDtype(storage='pyarrow'),\n",
    "    'zip' : pd.StringDtype(storage='pyarrow'),\n",
    "    'city' : pd.StringDtype(storage='pyarrow'),\n",
    "    'region' : pd.StringDtype(storage='pyarrow'),\n",
    "    'cd' : pd.CategoricalDtype(),\n",
    "    'phone' : pd.StringDtype(storage='pyarrow'),\n",
    "    'aj_exact_city_match' : pd.BooleanDtype(),\n",
    "    'aj_exact_country_match' : pd.BooleanDtype(),\n",
    "    'blurb' : pd.StringDtype(storage='pyarrow'),\n",
    "    'dir_city_id' : pd.StringDtype(storage='pyarrow'),\n",
    "    'dir_city_name' : pd.StringDtype(storage='pyarrow'),\n",
    "    'dir_city_slug' : pd.StringDtype(storage='pyarrow'),\n",
    "    'dir_country_id' : pd.CategoricalDtype(),\n",
    "    'dir_country_name' : pd.CategoricalDtype(),\n",
    "    'lat' : pd.Float32Dtype(),\n",
    "    'lng' : pd.Float32Dtype(),\n",
    "    'primary_alias_on_fb' : pd.StringDtype(storage='pyarrow'),\n",
    "    'slug' : pd.StringDtype(storage='pyarrow'),\n",
    "    'website' : pd.StringDtype(storage='pyarrow'),\n",
    "}"
   ]
  },
  {
   "cell_type": "code",
   "execution_count": 4,
   "id": "a8779273-f56e-4b8f-a2bf-c8c27901dedb",
   "metadata": {},
   "outputs": [],
   "source": [
    "def get_types(signed=True, unsigned=True, custom=[]):\n",
    "    '''Returns a pandas dataframe containing the boundaries of each integer dtype'''\n",
    "    # based on https://stackoverflow.com/a/57894540/9419492\n",
    "    pd_types = custom\n",
    "    if signed:\n",
    "        pd_types += [pd.Int8Dtype() ,pd.Int16Dtype() ,pd.Int32Dtype(), pd.Int64Dtype()]\n",
    "    if unsigned:\n",
    "        pd_types += [pd.UInt8Dtype() ,pd.UInt16Dtype(), pd.UInt32Dtype(), pd.UInt64Dtype()]\n",
    "    type_df = pd.DataFrame(data=pd_types, columns=['pd_type'])\n",
    "    type_df['np_type'] = type_df['pd_type'].apply(lambda t: t.numpy_dtype)\n",
    "    type_df['min_value'] = type_df['np_type'].apply(lambda row: np.iinfo(row).min)\n",
    "    type_df['max_value'] = type_df['np_type'].apply(lambda row: np.iinfo(row).max)\n",
    "    type_df['allow_negatives'] = type_df['min_value'] < 0\n",
    "    type_df['size'] = type_df['np_type'].apply(lambda row: row.itemsize)\n",
    "    type_df.sort_values(by=['size', 'allow_negatives'], inplace=True)\n",
    "    return type_df.reset_index(drop=True)\n",
    "    \n",
    "get_types()\n",
    "\n",
    "def downcast_int(file_path, column:str, chunksize=10000, delimiter=',', signed=True, unsigned=True):\n",
    "    '''Assigns the smallest possible dtype to an integer column of a csv'''\n",
    "    types = get_types(signed, unsigned)\n",
    "    negatives = False\n",
    "    for chunk in pd.read_csv(file_path, usecols=[column],delimiter=delimiter,chunksize=chunksize):\n",
    "        M = chunk[column].max()\n",
    "        m = chunk[column].min()\n",
    "        if not signed and not negatives and m < 0 :\n",
    "            types = types[types['allow_negatives']] # removes unsigned rows\n",
    "            negatives = True\n",
    "        if m < types['min_value'].iloc[0]:\n",
    "            types = types[types['min_value'] < m]\n",
    "        if M > types['max_value'].iloc[0]:\n",
    "            types = types[types['max_value'] > M]\n",
    "        if len(types) == 1:\n",
    "            print('early stop')\n",
    "            break\n",
    "    return types['pd_type'].iloc[0]\n",
    "\n",
    "def optimize_cols(file, int_cols, delimiter=',', signed=True, unsigned=True):\n",
    "    out = dict()\n",
    "    for col in int_cols:\n",
    "        out[col] = downcast_int(file, col, delimiter=delimiter, signed=signed, unsigned=unsigned)\n",
    "    return out"
   ]
  },
  {
   "cell_type": "code",
   "execution_count": 5,
   "id": "95ec550f-be74-4d2c-bd63-8b3ee40a1dd3",
   "metadata": {},
   "outputs": [
    {
     "name": "stdout",
     "output_type": "stream",
     "text": [
      "instagram_profiles  mean optimized memory usage per entry:  199 B vs  552 B  : 36.14%\n",
      "instagram_locations mean optimized memory usage per entry:  280 B vs 1134 B  :  24.7%\n",
      "instagram_posts     mean optimized memory usage per entry:  275 B vs  749 B  : 36.69%\n"
     ]
    }
   ],
   "source": [
    "for ds in datasets:\n",
    "    if not ds.load_types():\n",
    "        int_cols = [k for k,v in ds.types.items() if v is int]\n",
    "        print(int_cols)\n",
    "        ds.types.update(optimize_cols(ds.file_name, int_cols, delimiter='\\t'))\n",
    "        print(f'Optimized {len(int_cols)} types for {ds.name()}')\n",
    "#     ds.types.update({k:pd.StringDtype(storage='pyarrow') for k,v in ds.types.items() if v==pd.StringDtype(storage='pyarrow')})\n",
    "    ds.save_types()\n",
    "#     print(ds.types)\n",
    "\n",
    "for ds in datasets:\n",
    "    ds.df = pd.read_csv(ds.file_name, dtype=ds.types, index_col='sid', delimiter='\\t', parse_dates=['cts'], nrows=SAMPLE_SIZE)\n",
    "    avg_mem_unoptimized = pd.read_csv(ds.file_name, index_col='sid', delimiter='\\t', nrows=SAMPLE_SIZE).memory_usage(deep=True).sum()/SAMPLE_SIZE\n",
    "    avg_mem_optimized = ds.df.memory_usage(deep=True).sum()/SAMPLE_SIZE\n",
    "    print(f'{ds.name().ljust(19)} mean optimized memory usage per entry:  {round(avg_mem_optimized):3} B vs {round(avg_mem_unoptimized):4} B  : {round(avg_mem_optimized/avg_mem_unoptimized*100,2):5}%') "
   ]
  },
  {
   "cell_type": "markdown",
   "id": "1a20671c-8901-41ad-9dd5-2994e64d4efa",
   "metadata": {
    "tags": []
   },
   "source": [
    "# __RISPOSTE DOMANDE__"
   ]
  },
  {
   "cell_type": "markdown",
   "id": "14d8aa58-d698-49f3-903f-e0e2736e10af",
   "metadata": {
    "tags": []
   },
   "source": [
    "### __COLONNE DATASETS__\n",
    "\n",
    "| Locations | Posts | Profiles |\n",
    "| :-: | :-: | :-: |\n",
    "| sid | sid | sid\n",
    "| id | sid_profile | profile_id\n",
    "| name | post_id | profile_name\n",
    "| street | profile_id | firstname_lastname\n",
    "| zip | location_id | description\n",
    "| city | cts | following\n",
    "| region | post_type | followers\n",
    "| cd | description | n_posts\n",
    "| phone | numbr_likes | url\n",
    "| aj_exact_city_match | number_comments | cts\n"
   ]
  },
  {
   "cell_type": "markdown",
   "id": "27f216e9-6fc9-4c0c-8a77-f6ef4da7f66d",
   "metadata": {},
   "source": [
    "***\n",
    "__1 - [RQ1] After collecting information, the Data Scientists have to know what dataset they are dealing with, so let's start with an Exploratory Data Analysis (EDA). What can you say about our datasets? Please summarise its main characteristics with visual and tabular methods.__\n",
    "***"
   ]
  },
  {
   "cell_type": "markdown",
   "id": "300d2add-528f-444b-a376-26c0242763f2",
   "metadata": {},
   "source": [
    "As an initial step we can start by displaying the first 5 lines of the 3 datasets to have an idea of what we are dealing with"
   ]
  },
  {
   "cell_type": "markdown",
   "id": "dc9ae8cc-032b-4eb0-9dcb-472dac50885c",
   "metadata": {},
   "source": [
    "Locations dataset:"
   ]
  },
  {
   "cell_type": "code",
   "execution_count": 6,
   "id": "747249d7-4915-476e-a2a6-4986274608c2",
   "metadata": {},
   "outputs": [
    {
     "data": {
      "text/html": [
       "<div>\n",
       "<style scoped>\n",
       "    .dataframe tbody tr th:only-of-type {\n",
       "        vertical-align: middle;\n",
       "    }\n",
       "\n",
       "    .dataframe tbody tr th {\n",
       "        vertical-align: top;\n",
       "    }\n",
       "\n",
       "    .dataframe thead th {\n",
       "        text-align: right;\n",
       "    }\n",
       "</style>\n",
       "<table border=\"1\" class=\"dataframe\">\n",
       "  <thead>\n",
       "    <tr style=\"text-align: right;\">\n",
       "      <th></th>\n",
       "      <th>id</th>\n",
       "      <th>name</th>\n",
       "      <th>street</th>\n",
       "      <th>zip</th>\n",
       "      <th>city</th>\n",
       "      <th>region</th>\n",
       "      <th>cd</th>\n",
       "      <th>phone</th>\n",
       "      <th>aj_exact_city_match</th>\n",
       "      <th>aj_exact_country_match</th>\n",
       "      <th>...</th>\n",
       "      <th>dir_city_name</th>\n",
       "      <th>dir_city_slug</th>\n",
       "      <th>dir_country_id</th>\n",
       "      <th>dir_country_name</th>\n",
       "      <th>lat</th>\n",
       "      <th>lng</th>\n",
       "      <th>primary_alias_on_fb</th>\n",
       "      <th>slug</th>\n",
       "      <th>website</th>\n",
       "      <th>cts</th>\n",
       "    </tr>\n",
       "    <tr>\n",
       "      <th>sid</th>\n",
       "      <th></th>\n",
       "      <th></th>\n",
       "      <th></th>\n",
       "      <th></th>\n",
       "      <th></th>\n",
       "      <th></th>\n",
       "      <th></th>\n",
       "      <th></th>\n",
       "      <th></th>\n",
       "      <th></th>\n",
       "      <th></th>\n",
       "      <th></th>\n",
       "      <th></th>\n",
       "      <th></th>\n",
       "      <th></th>\n",
       "      <th></th>\n",
       "      <th></th>\n",
       "      <th></th>\n",
       "      <th></th>\n",
       "      <th></th>\n",
       "      <th></th>\n",
       "    </tr>\n",
       "  </thead>\n",
       "  <tbody>\n",
       "    <tr>\n",
       "      <th>719981</th>\n",
       "      <td>110296492939207</td>\n",
       "      <td>Playa de Daimuz - Valencia, España</td>\n",
       "      <td>&lt;NA&gt;</td>\n",
       "      <td>&lt;NA&gt;</td>\n",
       "      <td>&lt;NA&gt;</td>\n",
       "      <td>&lt;NA&gt;</td>\n",
       "      <td>&lt;NA&gt;</td>\n",
       "      <td>&lt;NA&gt;</td>\n",
       "      <td>False</td>\n",
       "      <td>False</td>\n",
       "      <td>...</td>\n",
       "      <td>&lt;NA&gt;</td>\n",
       "      <td>&lt;NA&gt;</td>\n",
       "      <td>NaN</td>\n",
       "      <td>NaN</td>\n",
       "      <td>-0.139475</td>\n",
       "      <td>38.974392</td>\n",
       "      <td>daimuzplaya</td>\n",
       "      <td>playa-de-daimuz-valencia-espana</td>\n",
       "      <td>https://es.wikipedia.org/wiki/Daimuz</td>\n",
       "      <td>2019-05-29 01:21:29.987</td>\n",
       "    </tr>\n",
       "    <tr>\n",
       "      <th>719983</th>\n",
       "      <td>274391278</td>\n",
       "      <td>Nová Vieska</td>\n",
       "      <td>&lt;NA&gt;</td>\n",
       "      <td>&lt;NA&gt;</td>\n",
       "      <td>Nová Vieska</td>\n",
       "      <td>&lt;NA&gt;</td>\n",
       "      <td>SK</td>\n",
       "      <td>&lt;NA&gt;</td>\n",
       "      <td>True</td>\n",
       "      <td>False</td>\n",
       "      <td>...</td>\n",
       "      <td>Kis-Újfalu</td>\n",
       "      <td>kis-ujfalu</td>\n",
       "      <td>SK</td>\n",
       "      <td>Slovakia</td>\n",
       "      <td>18.466667</td>\n",
       "      <td>47.866669</td>\n",
       "      <td>&lt;NA&gt;</td>\n",
       "      <td>nova-vieska</td>\n",
       "      <td>&lt;NA&gt;</td>\n",
       "      <td>2019-05-29 01:21:38.037</td>\n",
       "    </tr>\n",
       "    <tr>\n",
       "      <th>719985</th>\n",
       "      <td>148885595789195</td>\n",
       "      <td>Everest Today</td>\n",
       "      <td>Himalayas</td>\n",
       "      <td>+977</td>\n",
       "      <td>Kathmandu, Nepal</td>\n",
       "      <td>&lt;NA&gt;</td>\n",
       "      <td>NP</td>\n",
       "      <td>&lt;NA&gt;</td>\n",
       "      <td>False</td>\n",
       "      <td>False</td>\n",
       "      <td>...</td>\n",
       "      <td>Pasupati</td>\n",
       "      <td>pasupati</td>\n",
       "      <td>NP</td>\n",
       "      <td>Nepal</td>\n",
       "      <td>85.330147</td>\n",
       "      <td>27.70196</td>\n",
       "      <td>EverestToday</td>\n",
       "      <td>everest-today</td>\n",
       "      <td>&lt;NA&gt;</td>\n",
       "      <td>2019-05-29 01:21:46.295</td>\n",
       "    </tr>\n",
       "    <tr>\n",
       "      <th>719987</th>\n",
       "      <td>263258277</td>\n",
       "      <td>BULAC - Bibliothèque universitaire des langues...</td>\n",
       "      <td>65, rue des Grands-Moulins</td>\n",
       "      <td>75013</td>\n",
       "      <td>Paris, France</td>\n",
       "      <td>&lt;NA&gt;</td>\n",
       "      <td>FR</td>\n",
       "      <td>01 81 69 18 00</td>\n",
       "      <td>False</td>\n",
       "      <td>False</td>\n",
       "      <td>...</td>\n",
       "      <td>13ème Arrondissement Paris</td>\n",
       "      <td>13eme-arrondissement-paris</td>\n",
       "      <td>FR</td>\n",
       "      <td>France</td>\n",
       "      <td>2.375995</td>\n",
       "      <td>48.82724</td>\n",
       "      <td>BULAC.Paris</td>\n",
       "      <td>bulac-bibliotheque-universitaire-des-langues-e...</td>\n",
       "      <td>www.bulac.fr</td>\n",
       "      <td>2019-05-29 01:21:54.355</td>\n",
       "    </tr>\n",
       "    <tr>\n",
       "      <th>326443</th>\n",
       "      <td>406147529857708</td>\n",
       "      <td>ABC Cable Networks Group</td>\n",
       "      <td>3800 W Alameda Ave</td>\n",
       "      <td>91505</td>\n",
       "      <td>Burbank, California</td>\n",
       "      <td>&lt;NA&gt;</td>\n",
       "      <td>US</td>\n",
       "      <td>(818) 569-7500</td>\n",
       "      <td>False</td>\n",
       "      <td>False</td>\n",
       "      <td>...</td>\n",
       "      <td>&lt;NA&gt;</td>\n",
       "      <td>&lt;NA&gt;</td>\n",
       "      <td>NaN</td>\n",
       "      <td>NaN</td>\n",
       "      <td>-118.341866</td>\n",
       "      <td>34.153267</td>\n",
       "      <td>&lt;NA&gt;</td>\n",
       "      <td>abc-cable-networks-group</td>\n",
       "      <td>&lt;NA&gt;</td>\n",
       "      <td>2019-04-02 15:22:55.703</td>\n",
       "    </tr>\n",
       "  </tbody>\n",
       "</table>\n",
       "<p>5 rows × 22 columns</p>\n",
       "</div>"
      ],
      "text/plain": [
       "                     id                                               name  \\\n",
       "sid                                                                          \n",
       "719981  110296492939207                 Playa de Daimuz - Valencia, España   \n",
       "719983        274391278                                        Nová Vieska   \n",
       "719985  148885595789195                                      Everest Today   \n",
       "719987        263258277  BULAC - Bibliothèque universitaire des langues...   \n",
       "326443  406147529857708                           ABC Cable Networks Group   \n",
       "\n",
       "                            street    zip                 city region    cd  \\\n",
       "sid                                                                           \n",
       "719981                        <NA>   <NA>                 <NA>   <NA>  <NA>   \n",
       "719983                        <NA>   <NA>          Nová Vieska   <NA>    SK   \n",
       "719985                   Himalayas   +977     Kathmandu, Nepal   <NA>    NP   \n",
       "719987  65, rue des Grands-Moulins  75013        Paris, France   <NA>    FR   \n",
       "326443          3800 W Alameda Ave  91505  Burbank, California   <NA>    US   \n",
       "\n",
       "                 phone  aj_exact_city_match  aj_exact_country_match  ...  \\\n",
       "sid                                                                  ...   \n",
       "719981            <NA>                False                   False  ...   \n",
       "719983            <NA>                 True                   False  ...   \n",
       "719985            <NA>                False                   False  ...   \n",
       "719987  01 81 69 18 00                False                   False  ...   \n",
       "326443  (818) 569-7500                False                   False  ...   \n",
       "\n",
       "                     dir_city_name               dir_city_slug dir_country_id  \\\n",
       "sid                                                                             \n",
       "719981                        <NA>                        <NA>            NaN   \n",
       "719983                  Kis-Újfalu                  kis-ujfalu             SK   \n",
       "719985                    Pasupati                    pasupati             NP   \n",
       "719987  13ème Arrondissement Paris  13eme-arrondissement-paris             FR   \n",
       "326443                        <NA>                        <NA>            NaN   \n",
       "\n",
       "       dir_country_name         lat        lng  primary_alias_on_fb  \\\n",
       "sid                                                                   \n",
       "719981              NaN   -0.139475  38.974392          daimuzplaya   \n",
       "719983         Slovakia   18.466667  47.866669                 <NA>   \n",
       "719985            Nepal   85.330147   27.70196         EverestToday   \n",
       "719987           France    2.375995   48.82724          BULAC.Paris   \n",
       "326443              NaN -118.341866  34.153267                 <NA>   \n",
       "\n",
       "                                                     slug  \\\n",
       "sid                                                         \n",
       "719981                    playa-de-daimuz-valencia-espana   \n",
       "719983                                        nova-vieska   \n",
       "719985                                      everest-today   \n",
       "719987  bulac-bibliotheque-universitaire-des-langues-e...   \n",
       "326443                           abc-cable-networks-group   \n",
       "\n",
       "                                     website                     cts  \n",
       "sid                                                                   \n",
       "719981  https://es.wikipedia.org/wiki/Daimuz 2019-05-29 01:21:29.987  \n",
       "719983                                  <NA> 2019-05-29 01:21:38.037  \n",
       "719985                                  <NA> 2019-05-29 01:21:46.295  \n",
       "719987                          www.bulac.fr 2019-05-29 01:21:54.355  \n",
       "326443                                  <NA> 2019-04-02 15:22:55.703  \n",
       "\n",
       "[5 rows x 22 columns]"
      ]
     },
     "execution_count": 6,
     "metadata": {},
     "output_type": "execute_result"
    }
   ],
   "source": [
    "locations.df.head()"
   ]
  },
  {
   "cell_type": "markdown",
   "id": "7bb36801-bfb8-4e57-bf7d-96795e845f98",
   "metadata": {},
   "source": [
    "***"
   ]
  },
  {
   "cell_type": "markdown",
   "id": "1fee3cfc-53b5-4af8-85be-13340e864a06",
   "metadata": {},
   "source": [
    "Posts dataset:"
   ]
  },
  {
   "cell_type": "code",
   "execution_count": 7,
   "id": "2a138bf6-152d-4df6-8c7a-cb8f34ccb8c3",
   "metadata": {},
   "outputs": [
    {
     "data": {
      "text/html": [
       "<div>\n",
       "<style scoped>\n",
       "    .dataframe tbody tr th:only-of-type {\n",
       "        vertical-align: middle;\n",
       "    }\n",
       "\n",
       "    .dataframe tbody tr th {\n",
       "        vertical-align: top;\n",
       "    }\n",
       "\n",
       "    .dataframe thead th {\n",
       "        text-align: right;\n",
       "    }\n",
       "</style>\n",
       "<table border=\"1\" class=\"dataframe\">\n",
       "  <thead>\n",
       "    <tr style=\"text-align: right;\">\n",
       "      <th></th>\n",
       "      <th>sid_profile</th>\n",
       "      <th>post_id</th>\n",
       "      <th>profile_id</th>\n",
       "      <th>location_id</th>\n",
       "      <th>cts</th>\n",
       "      <th>post_type</th>\n",
       "      <th>description</th>\n",
       "      <th>numbr_likes</th>\n",
       "      <th>number_comments</th>\n",
       "    </tr>\n",
       "    <tr>\n",
       "      <th>sid</th>\n",
       "      <th></th>\n",
       "      <th></th>\n",
       "      <th></th>\n",
       "      <th></th>\n",
       "      <th></th>\n",
       "      <th></th>\n",
       "      <th></th>\n",
       "      <th></th>\n",
       "      <th></th>\n",
       "    </tr>\n",
       "  </thead>\n",
       "  <tbody>\n",
       "    <tr>\n",
       "      <th>28370919</th>\n",
       "      <td>3496776</td>\n",
       "      <td>BXdjjUlgcgq</td>\n",
       "      <td>2237947779</td>\n",
       "      <td>1022366247837915</td>\n",
       "      <td>2017-08-06 20:06:57</td>\n",
       "      <td>2</td>\n",
       "      <td>Wreckloose! Deevalley bike park laps on the @i...</td>\n",
       "      <td>80</td>\n",
       "      <td>0</td>\n",
       "    </tr>\n",
       "    <tr>\n",
       "      <th>28370932</th>\n",
       "      <td>-1</td>\n",
       "      <td>BVg0pbolYBC</td>\n",
       "      <td>5579335020</td>\n",
       "      <td>457426771112991</td>\n",
       "      <td>2017-06-19 09:31:16</td>\n",
       "      <td>1</td>\n",
       "      <td>🙌🏼 believe in ya dreams 🙌🏼 just like I believe...</td>\n",
       "      <td>25</td>\n",
       "      <td>1</td>\n",
       "    </tr>\n",
       "    <tr>\n",
       "      <th>28370933</th>\n",
       "      <td>-1</td>\n",
       "      <td>BRgkjcXFp3Q</td>\n",
       "      <td>313429634</td>\n",
       "      <td>457426771112991</td>\n",
       "      <td>2017-03-11 20:05:03</td>\n",
       "      <td>1</td>\n",
       "      <td>#meraviglia #incensi #the #candele #profumo #a...</td>\n",
       "      <td>9</td>\n",
       "      <td>0</td>\n",
       "    </tr>\n",
       "    <tr>\n",
       "      <th>28370934</th>\n",
       "      <td>-1</td>\n",
       "      <td>BKTKeNhjEA7</td>\n",
       "      <td>1837592700</td>\n",
       "      <td>457426771112991</td>\n",
       "      <td>2016-09-13 16:27:16</td>\n",
       "      <td>1</td>\n",
       "      <td>#teatime #scorpion #friends #love #mountains #...</td>\n",
       "      <td>4</td>\n",
       "      <td>0</td>\n",
       "    </tr>\n",
       "    <tr>\n",
       "      <th>28370935</th>\n",
       "      <td>-1</td>\n",
       "      <td>8-NQrvoYLX</td>\n",
       "      <td>1131527143</td>\n",
       "      <td>457426771112991</td>\n",
       "      <td>2015-10-18 10:19:27</td>\n",
       "      <td>1</td>\n",
       "      <td>thE sky gavE mE a #constEllation</td>\n",
       "      <td>8</td>\n",
       "      <td>0</td>\n",
       "    </tr>\n",
       "  </tbody>\n",
       "</table>\n",
       "</div>"
      ],
      "text/plain": [
       "          sid_profile      post_id  profile_id       location_id  \\\n",
       "sid                                                                \n",
       "28370919      3496776  BXdjjUlgcgq  2237947779  1022366247837915   \n",
       "28370932           -1  BVg0pbolYBC  5579335020   457426771112991   \n",
       "28370933           -1  BRgkjcXFp3Q   313429634   457426771112991   \n",
       "28370934           -1  BKTKeNhjEA7  1837592700   457426771112991   \n",
       "28370935           -1   8-NQrvoYLX  1131527143   457426771112991   \n",
       "\n",
       "                         cts post_type  \\\n",
       "sid                                      \n",
       "28370919 2017-08-06 20:06:57         2   \n",
       "28370932 2017-06-19 09:31:16         1   \n",
       "28370933 2017-03-11 20:05:03         1   \n",
       "28370934 2016-09-13 16:27:16         1   \n",
       "28370935 2015-10-18 10:19:27         1   \n",
       "\n",
       "                                                description  numbr_likes  \\\n",
       "sid                                                                        \n",
       "28370919  Wreckloose! Deevalley bike park laps on the @i...           80   \n",
       "28370932  🙌🏼 believe in ya dreams 🙌🏼 just like I believe...           25   \n",
       "28370933  #meraviglia #incensi #the #candele #profumo #a...            9   \n",
       "28370934  #teatime #scorpion #friends #love #mountains #...            4   \n",
       "28370935                   thE sky gavE mE a #constEllation            8   \n",
       "\n",
       "          number_comments  \n",
       "sid                        \n",
       "28370919                0  \n",
       "28370932                1  \n",
       "28370933                0  \n",
       "28370934                0  \n",
       "28370935                0  "
      ]
     },
     "execution_count": 7,
     "metadata": {},
     "output_type": "execute_result"
    }
   ],
   "source": [
    "posts.df.head()"
   ]
  },
  {
   "cell_type": "markdown",
   "id": "666f3a51-1121-4569-a8ef-0f17ac291a45",
   "metadata": {},
   "source": [
    "Profiles dataset:"
   ]
  },
  {
   "cell_type": "code",
   "execution_count": 8,
   "id": "f695e68e-df74-40ba-a6d9-cd66b5c79785",
   "metadata": {},
   "outputs": [
    {
     "data": {
      "text/html": [
       "<div>\n",
       "<style scoped>\n",
       "    .dataframe tbody tr th:only-of-type {\n",
       "        vertical-align: middle;\n",
       "    }\n",
       "\n",
       "    .dataframe tbody tr th {\n",
       "        vertical-align: top;\n",
       "    }\n",
       "\n",
       "    .dataframe thead th {\n",
       "        text-align: right;\n",
       "    }\n",
       "</style>\n",
       "<table border=\"1\" class=\"dataframe\">\n",
       "  <thead>\n",
       "    <tr style=\"text-align: right;\">\n",
       "      <th></th>\n",
       "      <th>profile_id</th>\n",
       "      <th>profile_name</th>\n",
       "      <th>firstname_lastname</th>\n",
       "      <th>description</th>\n",
       "      <th>following</th>\n",
       "      <th>followers</th>\n",
       "      <th>n_posts</th>\n",
       "      <th>url</th>\n",
       "      <th>cts</th>\n",
       "      <th>is_business_account</th>\n",
       "    </tr>\n",
       "    <tr>\n",
       "      <th>sid</th>\n",
       "      <th></th>\n",
       "      <th></th>\n",
       "      <th></th>\n",
       "      <th></th>\n",
       "      <th></th>\n",
       "      <th></th>\n",
       "      <th></th>\n",
       "      <th></th>\n",
       "      <th></th>\n",
       "      <th></th>\n",
       "    </tr>\n",
       "  </thead>\n",
       "  <tbody>\n",
       "    <tr>\n",
       "      <th>4184446</th>\n",
       "      <td>4721049632</td>\n",
       "      <td>jphillip033</td>\n",
       "      <td>John Pierce</td>\n",
       "      <td>\"Document Everything Always\"</td>\n",
       "      <td>250</td>\n",
       "      <td>146</td>\n",
       "      <td>170</td>\n",
       "      <td>&lt;NA&gt;</td>\n",
       "      <td>2019-08-01 14:38:55.394000-04:00</td>\n",
       "      <td>False</td>\n",
       "    </tr>\n",
       "    <tr>\n",
       "      <th>4184457</th>\n",
       "      <td>590583002</td>\n",
       "      <td>mama_haas</td>\n",
       "      <td>Deanna</td>\n",
       "      <td>Trying to enjoy the simple things in life. Kni...</td>\n",
       "      <td>534</td>\n",
       "      <td>1145</td>\n",
       "      <td>2878</td>\n",
       "      <td>www.etsy.com/shop/MamaHaas69</td>\n",
       "      <td>2019-08-01 14:39:36.526000-04:00</td>\n",
       "      <td>False</td>\n",
       "    </tr>\n",
       "    <tr>\n",
       "      <th>4184460</th>\n",
       "      <td>1074146658</td>\n",
       "      <td>yellowlightbreen</td>\n",
       "      <td>Eliza Gray</td>\n",
       "      <td>Maine is for Lovers</td>\n",
       "      <td>469</td>\n",
       "      <td>324</td>\n",
       "      <td>431</td>\n",
       "      <td>elizajanegray.com</td>\n",
       "      <td>2019-08-01 14:39:54.407000-04:00</td>\n",
       "      <td>False</td>\n",
       "    </tr>\n",
       "    <tr>\n",
       "      <th>4184461</th>\n",
       "      <td>1472038842</td>\n",
       "      <td>tec1025</td>\n",
       "      <td>Thomas Clark</td>\n",
       "      <td>&lt;NA&gt;</td>\n",
       "      <td>&lt;NA&gt;</td>\n",
       "      <td>&lt;NA&gt;</td>\n",
       "      <td>&lt;NA&gt;</td>\n",
       "      <td>&lt;NA&gt;</td>\n",
       "      <td>2019-08-01 14:40:06.472000-04:00</td>\n",
       "      <td>&lt;NA&gt;</td>\n",
       "    </tr>\n",
       "    <tr>\n",
       "      <th>4184462</th>\n",
       "      <td>3531420803</td>\n",
       "      <td>luckyfluff</td>\n",
       "      <td>&lt;NA&gt;</td>\n",
       "      <td>&lt;NA&gt;</td>\n",
       "      <td>&lt;NA&gt;</td>\n",
       "      <td>&lt;NA&gt;</td>\n",
       "      <td>&lt;NA&gt;</td>\n",
       "      <td>&lt;NA&gt;</td>\n",
       "      <td>2019-08-01 14:40:07.806000-04:00</td>\n",
       "      <td>&lt;NA&gt;</td>\n",
       "    </tr>\n",
       "  </tbody>\n",
       "</table>\n",
       "</div>"
      ],
      "text/plain": [
       "         profile_id      profile_name firstname_lastname  \\\n",
       "sid                                                        \n",
       "4184446  4721049632       jphillip033        John Pierce   \n",
       "4184457   590583002         mama_haas             Deanna   \n",
       "4184460  1074146658  yellowlightbreen         Eliza Gray   \n",
       "4184461  1472038842           tec1025       Thomas Clark   \n",
       "4184462  3531420803        luckyfluff               <NA>   \n",
       "\n",
       "                                               description  following  \\\n",
       "sid                                                                     \n",
       "4184446                       \"Document Everything Always\"        250   \n",
       "4184457  Trying to enjoy the simple things in life. Kni...        534   \n",
       "4184460                                Maine is for Lovers        469   \n",
       "4184461                                               <NA>       <NA>   \n",
       "4184462                                               <NA>       <NA>   \n",
       "\n",
       "         followers  n_posts                           url  \\\n",
       "sid                                                         \n",
       "4184446        146      170                          <NA>   \n",
       "4184457       1145     2878  www.etsy.com/shop/MamaHaas69   \n",
       "4184460        324      431             elizajanegray.com   \n",
       "4184461       <NA>     <NA>                          <NA>   \n",
       "4184462       <NA>     <NA>                          <NA>   \n",
       "\n",
       "                                      cts  is_business_account  \n",
       "sid                                                             \n",
       "4184446  2019-08-01 14:38:55.394000-04:00                False  \n",
       "4184457  2019-08-01 14:39:36.526000-04:00                False  \n",
       "4184460  2019-08-01 14:39:54.407000-04:00                False  \n",
       "4184461  2019-08-01 14:40:06.472000-04:00                 <NA>  \n",
       "4184462  2019-08-01 14:40:07.806000-04:00                 <NA>  "
      ]
     },
     "execution_count": 8,
     "metadata": {},
     "output_type": "execute_result"
    }
   ],
   "source": [
    "profiles.df.head()"
   ]
  },
  {
   "cell_type": "markdown",
   "id": "d9a158ad-a5dc-4a48-838c-537f80cd4271",
   "metadata": {},
   "source": [
    " "
   ]
  },
  {
   "cell_type": "markdown",
   "id": "164151af-df46-4449-945d-28879cd5cfd8",
   "metadata": {},
   "source": [
    " "
   ]
  },
  {
   "cell_type": "markdown",
   "id": "9a20f3f5-ed71-4745-9cb7-66fecc94d561",
   "metadata": {},
   "source": [
    "\n",
    "Now let's try to have a summary of the most important information of the three datasets starting with their dimensions (in terms of rows $\\times$ columns)\n"
   ]
  },
  {
   "cell_type": "code",
   "execution_count": 60,
   "id": "fe5023dc-f6db-421b-b6f3-b47d5e292865",
   "metadata": {},
   "outputs": [
    {
     "name": "stdout",
     "output_type": "stream",
     "text": [
      "Locations dataset --> (500000, 22)\n",
      "Posts dataset --> (500000, 9)\n",
      "Profiles dataset --> (500000, 10)\n"
     ]
    }
   ],
   "source": [
    "print(f\"Locations dataset --> {locations.df.shape}\")\n",
    "print(f\"Posts dataset --> {posts.df.shape}\")\n",
    "print(f\"Profiles dataset --> {profiles.df.shape}\")"
   ]
  },
  {
   "cell_type": "markdown",
   "id": "4ff5648c-d314-4635-96fa-19fa590c0567",
   "metadata": {},
   "source": [
    "We have three pretty big datasets, let's display the name of the variables (columns) for each of them with the information related to the number of \"Non null\" values and the type we have choose to assign to them."
   ]
  },
  {
   "cell_type": "markdown",
   "id": "d3b8206c-c232-47de-a577-7ca87bbbfd33",
   "metadata": {},
   "source": [
    "Locations dataset:"
   ]
  },
  {
   "cell_type": "code",
   "execution_count": 10,
   "id": "708cf0c7-d3bf-4851-a291-f51acbc57b84",
   "metadata": {},
   "outputs": [
    {
     "name": "stdout",
     "output_type": "stream",
     "text": [
      "<class 'pandas.core.frame.DataFrame'>\n",
      "Int64Index: 500000 entries, 719981 to 404538\n",
      "Data columns (total 22 columns):\n",
      " #   Column                  Non-Null Count   Dtype         \n",
      "---  ------                  --------------   -----         \n",
      " 0   id                      500000 non-null  UInt64        \n",
      " 1   name                    500000 non-null  string        \n",
      " 2   street                  352799 non-null  string        \n",
      " 3   zip                     364715 non-null  string        \n",
      " 4   city                    459638 non-null  string        \n",
      " 5   region                  1239 non-null    string        \n",
      " 6   cd                      460989 non-null  string        \n",
      " 7   phone                   301423 non-null  string        \n",
      " 8   aj_exact_city_match     489691 non-null  boolean       \n",
      " 9   aj_exact_country_match  489691 non-null  boolean       \n",
      " 10  blurb                   206724 non-null  string        \n",
      " 11  dir_city_id             243737 non-null  string        \n",
      " 12  dir_city_name           243737 non-null  string        \n",
      " 13  dir_city_slug           243600 non-null  string        \n",
      " 14  dir_country_id          243709 non-null  category      \n",
      " 15  dir_country_name        243737 non-null  category      \n",
      " 16  lat                     496908 non-null  Float32       \n",
      " 17  lng                     496908 non-null  Float32       \n",
      " 18  primary_alias_on_fb     217281 non-null  string        \n",
      " 19  slug                    472740 non-null  string        \n",
      " 20  website                 321438 non-null  string        \n",
      " 21  cts                     500000 non-null  datetime64[ns]\n",
      "dtypes: Float32(2), UInt64(1), boolean(2), category(2), datetime64[ns](1), string(14)\n",
      "memory usage: 133.5 MB\n"
     ]
    }
   ],
   "source": [
    "locations.df.info()"
   ]
  },
  {
   "cell_type": "markdown",
   "id": "372f38a5-0e57-47f8-b4b3-c7b62a0b18ef",
   "metadata": {},
   "source": [
    "Posts dataset:"
   ]
  },
  {
   "cell_type": "code",
   "execution_count": 11,
   "id": "ec0ef519-09f6-4481-9c57-864339e635ab",
   "metadata": {},
   "outputs": [
    {
     "name": "stdout",
     "output_type": "stream",
     "text": [
      "<class 'pandas.core.frame.DataFrame'>\n",
      "Int64Index: 500000 entries, 28370919 to 28878522\n",
      "Data columns (total 9 columns):\n",
      " #   Column           Non-Null Count   Dtype         \n",
      "---  ------           --------------   -----         \n",
      " 0   sid_profile      500000 non-null  Int32         \n",
      " 1   post_id          500000 non-null  string        \n",
      " 2   profile_id       500000 non-null  UInt64        \n",
      " 3   location_id      499994 non-null  UInt64        \n",
      " 4   cts              500000 non-null  datetime64[ns]\n",
      " 5   post_type        500000 non-null  category      \n",
      " 6   description      458485 non-null  string        \n",
      " 7   numbr_likes      500000 non-null  Int64         \n",
      " 8   number_comments  500000 non-null  UInt32        \n",
      "dtypes: Int32(1), Int64(1), UInt32(1), UInt64(2), category(1), datetime64[ns](1), string(2)\n",
      "memory usage: 131.1 MB\n"
     ]
    }
   ],
   "source": [
    "posts.df.info()"
   ]
  },
  {
   "cell_type": "markdown",
   "id": "3f0bd5f7-990f-43b1-bb7e-d6847a741e2d",
   "metadata": {},
   "source": [
    "Profiles dataset:"
   ]
  },
  {
   "cell_type": "code",
   "execution_count": 12,
   "id": "10d98cea-89a8-4416-b98c-03774157b038",
   "metadata": {},
   "outputs": [
    {
     "name": "stdout",
     "output_type": "stream",
     "text": [
      "<class 'pandas.core.frame.DataFrame'>\n",
      "Int64Index: 500000 entries, 4184446 to 76885\n",
      "Data columns (total 10 columns):\n",
      " #   Column               Non-Null Count   Dtype  \n",
      "---  ------               --------------   -----  \n",
      " 0   profile_id           479953 non-null  UInt64 \n",
      " 1   profile_name         500000 non-null  string \n",
      " 2   firstname_lastname   461740 non-null  string \n",
      " 3   description          275131 non-null  string \n",
      " 4   following            353624 non-null  UInt32 \n",
      " 5   followers            353624 non-null  UInt32 \n",
      " 6   n_posts              353624 non-null  UInt32 \n",
      " 7   url                  127126 non-null  string \n",
      " 8   cts                  493661 non-null  object \n",
      " 9   is_business_account  350261 non-null  boolean\n",
      "dtypes: UInt32(3), UInt64(1), boolean(1), object(1), string(4)\n",
      "memory usage: 72.4+ MB\n"
     ]
    }
   ],
   "source": [
    "profiles.df.info()"
   ]
  },
  {
   "cell_type": "markdown",
   "id": "666550f6-b05e-4209-9923-be5c3a6bab1f",
   "metadata": {},
   "source": [
    "We can now start to compute some statistics"
   ]
  },
  {
   "cell_type": "markdown",
   "id": "66514cc8-a28c-4474-9119-9b3d8b11dbdf",
   "metadata": {},
   "source": [
    "Let's start with the \"Posts\" dataset for which we choose the columns \"numbr_likes\" and \"numbr_comments\":"
   ]
  },
  {
   "cell_type": "code",
   "execution_count": 63,
   "id": "14b70055-25cb-49b3-8ba4-d9d12dc1bd71",
   "metadata": {},
   "outputs": [
    {
     "data": {
      "text/html": [
       "<div>\n",
       "<style scoped>\n",
       "    .dataframe tbody tr th:only-of-type {\n",
       "        vertical-align: middle;\n",
       "    }\n",
       "\n",
       "    .dataframe tbody tr th {\n",
       "        vertical-align: top;\n",
       "    }\n",
       "\n",
       "    .dataframe thead th {\n",
       "        text-align: right;\n",
       "    }\n",
       "</style>\n",
       "<table border=\"1\" class=\"dataframe\">\n",
       "  <thead>\n",
       "    <tr style=\"text-align: right;\">\n",
       "      <th></th>\n",
       "      <th>numbr_likes</th>\n",
       "      <th>number_comments</th>\n",
       "    </tr>\n",
       "  </thead>\n",
       "  <tbody>\n",
       "    <tr>\n",
       "      <th>count</th>\n",
       "      <td>5.000000e+05</td>\n",
       "      <td>500000.000000</td>\n",
       "    </tr>\n",
       "    <tr>\n",
       "      <th>mean</th>\n",
       "      <td>3.253357e+02</td>\n",
       "      <td>7.690992</td>\n",
       "    </tr>\n",
       "    <tr>\n",
       "      <th>std</th>\n",
       "      <td>6.068892e+03</td>\n",
       "      <td>231.952096</td>\n",
       "    </tr>\n",
       "    <tr>\n",
       "      <th>min</th>\n",
       "      <td>0.000000e+00</td>\n",
       "      <td>0.000000</td>\n",
       "    </tr>\n",
       "    <tr>\n",
       "      <th>25%</th>\n",
       "      <td>1.900000e+01</td>\n",
       "      <td>0.000000</td>\n",
       "    </tr>\n",
       "    <tr>\n",
       "      <th>50%</th>\n",
       "      <td>4.700000e+01</td>\n",
       "      <td>1.000000</td>\n",
       "    </tr>\n",
       "    <tr>\n",
       "      <th>75%</th>\n",
       "      <td>1.260000e+02</td>\n",
       "      <td>5.000000</td>\n",
       "    </tr>\n",
       "    <tr>\n",
       "      <th>max</th>\n",
       "      <td>1.963123e+06</td>\n",
       "      <td>135221.000000</td>\n",
       "    </tr>\n",
       "  </tbody>\n",
       "</table>\n",
       "</div>"
      ],
      "text/plain": [
       "        numbr_likes  number_comments\n",
       "count  5.000000e+05    500000.000000\n",
       "mean   3.253357e+02         7.690992\n",
       "std    6.068892e+03       231.952096\n",
       "min    0.000000e+00         0.000000\n",
       "25%    1.900000e+01         0.000000\n",
       "50%    4.700000e+01         1.000000\n",
       "75%    1.260000e+02         5.000000\n",
       "max    1.963123e+06    135221.000000"
      ]
     },
     "execution_count": 63,
     "metadata": {},
     "output_type": "execute_result"
    }
   ],
   "source": [
    "posts.df[[\"numbr_likes\", \"number_comments\"]].describe()"
   ]
  },
  {
   "cell_type": "markdown",
   "id": "2fb10cbe-f830-4b7f-b61d-74f629789add",
   "metadata": {},
   "source": [
    "And now the \"Profiles\" dataset for which we choose \"following\", \"followers\" and \"n_posts\""
   ]
  },
  {
   "cell_type": "code",
   "execution_count": 65,
   "id": "1afacc0b-d00d-4187-9592-19318140427d",
   "metadata": {},
   "outputs": [
    {
     "data": {
      "text/html": [
       "<div>\n",
       "<style scoped>\n",
       "    .dataframe tbody tr th:only-of-type {\n",
       "        vertical-align: middle;\n",
       "    }\n",
       "\n",
       "    .dataframe tbody tr th {\n",
       "        vertical-align: top;\n",
       "    }\n",
       "\n",
       "    .dataframe thead th {\n",
       "        text-align: right;\n",
       "    }\n",
       "</style>\n",
       "<table border=\"1\" class=\"dataframe\">\n",
       "  <thead>\n",
       "    <tr style=\"text-align: right;\">\n",
       "      <th></th>\n",
       "      <th>following</th>\n",
       "      <th>followers</th>\n",
       "      <th>n_posts</th>\n",
       "    </tr>\n",
       "  </thead>\n",
       "  <tbody>\n",
       "    <tr>\n",
       "      <th>count</th>\n",
       "      <td>353624.000000</td>\n",
       "      <td>3.536240e+05</td>\n",
       "      <td>353624.000000</td>\n",
       "    </tr>\n",
       "    <tr>\n",
       "      <th>mean</th>\n",
       "      <td>1044.935069</td>\n",
       "      <td>6.607593e+03</td>\n",
       "      <td>546.849722</td>\n",
       "    </tr>\n",
       "    <tr>\n",
       "      <th>std</th>\n",
       "      <td>1413.880253</td>\n",
       "      <td>1.044236e+05</td>\n",
       "      <td>1127.570218</td>\n",
       "    </tr>\n",
       "    <tr>\n",
       "      <th>min</th>\n",
       "      <td>0.000000</td>\n",
       "      <td>0.000000e+00</td>\n",
       "      <td>0.000000</td>\n",
       "    </tr>\n",
       "    <tr>\n",
       "      <th>25%</th>\n",
       "      <td>276.000000</td>\n",
       "      <td>2.550000e+02</td>\n",
       "      <td>75.000000</td>\n",
       "    </tr>\n",
       "    <tr>\n",
       "      <th>50%</th>\n",
       "      <td>593.000000</td>\n",
       "      <td>6.430000e+02</td>\n",
       "      <td>232.000000</td>\n",
       "    </tr>\n",
       "    <tr>\n",
       "      <th>75%</th>\n",
       "      <td>1127.000000</td>\n",
       "      <td>1.625000e+03</td>\n",
       "      <td>608.000000</td>\n",
       "    </tr>\n",
       "    <tr>\n",
       "      <th>max</th>\n",
       "      <td>153651.000000</td>\n",
       "      <td>2.917680e+07</td>\n",
       "      <td>108785.000000</td>\n",
       "    </tr>\n",
       "  </tbody>\n",
       "</table>\n",
       "</div>"
      ],
      "text/plain": [
       "           following     followers        n_posts\n",
       "count  353624.000000  3.536240e+05  353624.000000\n",
       "mean     1044.935069  6.607593e+03     546.849722\n",
       "std      1413.880253  1.044236e+05    1127.570218\n",
       "min         0.000000  0.000000e+00       0.000000\n",
       "25%       276.000000  2.550000e+02      75.000000\n",
       "50%       593.000000  6.430000e+02     232.000000\n",
       "75%      1127.000000  1.625000e+03     608.000000\n",
       "max    153651.000000  2.917680e+07  108785.000000"
      ]
     },
     "execution_count": 65,
     "metadata": {},
     "output_type": "execute_result"
    }
   ],
   "source": [
    "profiles.df[[\"following\", \"followers\", \"n_posts\"]].describe()"
   ]
  },
  {
   "cell_type": "markdown",
   "id": "ef33c223-fbf3-49e3-aa51-90390b7fe941",
   "metadata": {},
   "source": [
    "An important information to know when analyzing a dataset is the number of missing values for each variables. We already found the numbers of \"Non null\" but let's now visualize, trough a barplot for each dataset, which are the proportions of \"NaN\""
   ]
  },
  {
   "cell_type": "code",
   "execution_count": 66,
   "id": "81b6ff65-f0cc-4a66-a99b-5b4c8a1a36f7",
   "metadata": {},
   "outputs": [
    {
     "data": {
      "image/png": "[encoded data removed]",
      "text/plain": [
       "<Figure size 576x432 with 1 Axes>"
      ]
     },
     "metadata": {
      "needs_background": "light"
     },
     "output_type": "display_data"
    }
   ],
   "source": [
    "plt.rcParams['figure.figsize'] = [8,6]\n",
    "sns.barplot(x=np.array(locations.df.isna().sum())/len(locations.df), y=locations.df.columns.values.tolist(), palette=\"Blues\")\n",
    "plt.title(\"PROPORTIONS OF NaN FOR LOCATIONS DATASET\")\n",
    "plt.xlabel(\"Relative frequency of NaN\")\n",
    "plt.ylabel(\"Variables\")\n",
    "plt.grid()"
   ]
  },
  {
   "cell_type": "markdown",
   "id": "8f98afff-5f49-4232-bcd8-69c66fbfbd29",
   "metadata": {},
   "source": [
    "The barplot shows that for some variables we don't have around 50% of the observation, for the variable \"region\" this proportion it's much higher, we miss almost all the values."
   ]
  },
  {
   "cell_type": "code",
   "execution_count": 14,
   "id": "511ac650-4e83-427f-854e-565f49515824",
   "metadata": {},
   "outputs": [
    {
     "data": {
      "image/png": "[encoded data removed]",
      "text/plain": [
       "<Figure size 576x432 with 1 Axes>"
      ]
     },
     "metadata": {
      "needs_background": "light"
     },
     "output_type": "display_data"
    }
   ],
   "source": [
    "sns.barplot(x=np.array(posts.df.isna().sum())/len(posts.df), y=posts.df.columns.values.tolist(), palette=\"Blues\")\n",
    "plt.title(\"PROPORTIONS OF NaN FOR POSTS DATASET\")\n",
    "plt.xlabel(\"Relative frequency of NaN\")\n",
    "plt.ylabel(\"Variables\")\n",
    "plt.grid()"
   ]
  },
  {
   "cell_type": "markdown",
   "id": "6172fc39-985e-4ae2-b20f-c8e7ed30f8d3",
   "metadata": {},
   "source": [
    "For this dataset we have very few _NaN_ and they are all present in the variable \"Description\""
   ]
  },
  {
   "cell_type": "code",
   "execution_count": 15,
   "id": "7dd01308-92ee-4980-812e-1f5da2dc3b45",
   "metadata": {},
   "outputs": [
    {
     "data": {
      "image/png": "[encoded data removed]",
      "text/plain": [
       "<Figure size 576x432 with 1 Axes>"
      ]
     },
     "metadata": {
      "needs_background": "light"
     },
     "output_type": "display_data"
    }
   ],
   "source": [
    "sns.barplot(x=np.array(profiles.df.isna().sum())/len(profiles.df), y=profiles.df.columns.values.tolist(), palette=\"Blues\")\n",
    "plt.title(\"PROPORTIONS OF NaN FOR PROFILES DATASET\")\n",
    "plt.xlabel(\"Relative frequency of NaN\")\n",
    "plt.ylabel(\"Variables\")\n",
    "plt.grid()"
   ]
  },
  {
   "cell_type": "markdown",
   "id": "6c8a659b-3c40-4f9b-8bda-4910dd1a31ec",
   "metadata": {},
   "source": [
    "With this last barplot we can see that \"following\", \"followers\" and \"n_posts\" have the same percentage of _NaN_ and that \"url\" it's by far the variable with the most number of missing values. We miss a lot of values also for the variable \"description\" and \"is_business_account\""
   ]
  },
  {
   "cell_type": "markdown",
   "id": "688b01a1-3cb5-42a0-b174-920f89756b1e",
   "metadata": {},
   "source": [
    "Number likes and comments distribution (visualized with an histogram)"
   ]
  },
  {
   "cell_type": "code",
   "execution_count": null,
   "id": "bb20ba4a-15e6-48d0-a4dc-a2c3bc61b8a5",
   "metadata": {},
   "outputs": [],
   "source": []
  },
  {
   "cell_type": "markdown",
   "id": "808627bd-e5d2-4a55-a10b-e7419a2a2971",
   "metadata": {},
   "source": [
    "Number of followers, following and posts distribution (visualized with an histogram)"
   ]
  },
  {
   "cell_type": "code",
   "execution_count": 16,
   "id": "5ee977f7-806a-43c7-8b87-17892b8207f2",
   "metadata": {},
   "outputs": [],
   "source": [
    "# sns.histplot(data=profiles.df, x=\"followers\")"
   ]
  },
  {
   "cell_type": "code",
   "execution_count": null,
   "id": "42bd59f6-4638-42a4-b3d5-b766be6e4cbe",
   "metadata": {},
   "outputs": [],
   "source": []
  },
  {
   "cell_type": "markdown",
   "id": "fea200f7-dbd2-468f-9997-c577b1da5d0a",
   "metadata": {},
   "source": [
    "***"
   ]
  },
  {
   "cell_type": "markdown",
   "id": "ef984524-3cda-4906-9205-082991acffdc",
   "metadata": {},
   "source": [
    "__4 - [RQ4] In most cases, we will not have a consistent dataset, and the one we are dealing with is not an exception (ex. in the given datasets, you may not find the information of the profiles for some of the posts). So let’s enhance our analysis.__"
   ]
  },
  {
   "cell_type": "markdown",
   "id": "3a099e79-c9d3-48a6-9d96-9ccd10403c0f",
   "metadata": {},
   "source": [
    "$\\bullet$ Write a function that, given a profile_id, will be able to return the posts that belong to the given profile_id."
   ]
  },
  {
   "cell_type": "code",
   "execution_count": 13,
   "id": "3da5f734-ec16-40b3-9fd8-d4981206e1c3",
   "metadata": {},
   "outputs": [
    {
     "data": {
      "text/html": [
       "<div>\n",
       "<style scoped>\n",
       "    .dataframe tbody tr th:only-of-type {\n",
       "        vertical-align: middle;\n",
       "    }\n",
       "\n",
       "    .dataframe tbody tr th {\n",
       "        vertical-align: top;\n",
       "    }\n",
       "\n",
       "    .dataframe thead th {\n",
       "        text-align: right;\n",
       "    }\n",
       "</style>\n",
       "<table border=\"1\" class=\"dataframe\">\n",
       "  <thead>\n",
       "    <tr style=\"text-align: right;\">\n",
       "      <th></th>\n",
       "      <th>profile_id</th>\n",
       "      <th>post_id</th>\n",
       "      <th>numbr_likes</th>\n",
       "      <th>number_comments</th>\n",
       "    </tr>\n",
       "    <tr>\n",
       "      <th>sid</th>\n",
       "      <th></th>\n",
       "      <th></th>\n",
       "      <th></th>\n",
       "      <th></th>\n",
       "    </tr>\n",
       "  </thead>\n",
       "  <tbody>\n",
       "    <tr>\n",
       "      <th>28452682</th>\n",
       "      <td>5337907015</td>\n",
       "      <td>BxTV32ahahQ</td>\n",
       "      <td>15</td>\n",
       "      <td>2</td>\n",
       "    </tr>\n",
       "    <tr>\n",
       "      <th>28452667</th>\n",
       "      <td>5337907015</td>\n",
       "      <td>BsRarTBBPmd</td>\n",
       "      <td>30</td>\n",
       "      <td>6</td>\n",
       "    </tr>\n",
       "    <tr>\n",
       "      <th>28452668</th>\n",
       "      <td>5337907015</td>\n",
       "      <td>BqOlb0kBQ5V</td>\n",
       "      <td>25</td>\n",
       "      <td>5</td>\n",
       "    </tr>\n",
       "    <tr>\n",
       "      <th>28452669</th>\n",
       "      <td>5337907015</td>\n",
       "      <td>BtxQHmLhI1h</td>\n",
       "      <td>26</td>\n",
       "      <td>11</td>\n",
       "    </tr>\n",
       "    <tr>\n",
       "      <th>28452672</th>\n",
       "      <td>5337907015</td>\n",
       "      <td>Bic19O-liDj</td>\n",
       "      <td>28</td>\n",
       "      <td>0</td>\n",
       "    </tr>\n",
       "    <tr>\n",
       "      <th>28452673</th>\n",
       "      <td>5337907015</td>\n",
       "      <td>BsTLZELBTnU</td>\n",
       "      <td>28</td>\n",
       "      <td>0</td>\n",
       "    </tr>\n",
       "    <tr>\n",
       "      <th>28452674</th>\n",
       "      <td>5337907015</td>\n",
       "      <td>BqTsJM_FDQ_</td>\n",
       "      <td>28</td>\n",
       "      <td>0</td>\n",
       "    </tr>\n",
       "    <tr>\n",
       "      <th>28452675</th>\n",
       "      <td>5337907015</td>\n",
       "      <td>ByB_OFnnGFM</td>\n",
       "      <td>19</td>\n",
       "      <td>0</td>\n",
       "    </tr>\n",
       "    <tr>\n",
       "      <th>28452676</th>\n",
       "      <td>5337907015</td>\n",
       "      <td>BxxLqEyHlyg</td>\n",
       "      <td>24</td>\n",
       "      <td>0</td>\n",
       "    </tr>\n",
       "    <tr>\n",
       "      <th>28452677</th>\n",
       "      <td>5337907015</td>\n",
       "      <td>BxsxNBfHqgv</td>\n",
       "      <td>19</td>\n",
       "      <td>0</td>\n",
       "    </tr>\n",
       "    <tr>\n",
       "      <th>28452678</th>\n",
       "      <td>5337907015</td>\n",
       "      <td>Bxj4nbjHzkx</td>\n",
       "      <td>31</td>\n",
       "      <td>4</td>\n",
       "    </tr>\n",
       "    <tr>\n",
       "      <th>28452679</th>\n",
       "      <td>5337907015</td>\n",
       "      <td>BxXxQAXnOkL</td>\n",
       "      <td>15</td>\n",
       "      <td>0</td>\n",
       "    </tr>\n",
       "    <tr>\n",
       "      <th>28452680</th>\n",
       "      <td>5337907015</td>\n",
       "      <td>BxXZvyfhLCz</td>\n",
       "      <td>17</td>\n",
       "      <td>1</td>\n",
       "    </tr>\n",
       "    <tr>\n",
       "      <th>28452681</th>\n",
       "      <td>5337907015</td>\n",
       "      <td>BxVbbxihvLJ</td>\n",
       "      <td>16</td>\n",
       "      <td>0</td>\n",
       "    </tr>\n",
       "    <tr>\n",
       "      <th>28452683</th>\n",
       "      <td>5337907015</td>\n",
       "      <td>BxPa3dUhPtk</td>\n",
       "      <td>26</td>\n",
       "      <td>0</td>\n",
       "    </tr>\n",
       "    <tr>\n",
       "      <th>28452684</th>\n",
       "      <td>5337907015</td>\n",
       "      <td>BxOmh2QBn1q</td>\n",
       "      <td>19</td>\n",
       "      <td>0</td>\n",
       "    </tr>\n",
       "    <tr>\n",
       "      <th>28452685</th>\n",
       "      <td>5337907015</td>\n",
       "      <td>BxMyVcwhjs6</td>\n",
       "      <td>20</td>\n",
       "      <td>0</td>\n",
       "    </tr>\n",
       "    <tr>\n",
       "      <th>28452670</th>\n",
       "      <td>5337907015</td>\n",
       "      <td>BxDLnoAhLJL</td>\n",
       "      <td>24</td>\n",
       "      <td>3</td>\n",
       "    </tr>\n",
       "    <tr>\n",
       "      <th>28452686</th>\n",
       "      <td>5337907015</td>\n",
       "      <td>Bw-vVJsFZ-t</td>\n",
       "      <td>6</td>\n",
       "      <td>5</td>\n",
       "    </tr>\n",
       "    <tr>\n",
       "      <th>28452687</th>\n",
       "      <td>5337907015</td>\n",
       "      <td>BwzkHAWh1ff</td>\n",
       "      <td>22</td>\n",
       "      <td>0</td>\n",
       "    </tr>\n",
       "    <tr>\n",
       "      <th>28452688</th>\n",
       "      <td>5337907015</td>\n",
       "      <td>BwyVNqSB167</td>\n",
       "      <td>16</td>\n",
       "      <td>1</td>\n",
       "    </tr>\n",
       "    <tr>\n",
       "      <th>28452689</th>\n",
       "      <td>5337907015</td>\n",
       "      <td>BwhkuLblrOs</td>\n",
       "      <td>18</td>\n",
       "      <td>0</td>\n",
       "    </tr>\n",
       "    <tr>\n",
       "      <th>28452690</th>\n",
       "      <td>5337907015</td>\n",
       "      <td>BwHZPqvhuBC</td>\n",
       "      <td>25</td>\n",
       "      <td>6</td>\n",
       "    </tr>\n",
       "    <tr>\n",
       "      <th>28452691</th>\n",
       "      <td>5337907015</td>\n",
       "      <td>BwCKGP5BF5g</td>\n",
       "      <td>29</td>\n",
       "      <td>2</td>\n",
       "    </tr>\n",
       "    <tr>\n",
       "      <th>28452692</th>\n",
       "      <td>5337907015</td>\n",
       "      <td>BwBNmHiBYV3</td>\n",
       "      <td>22</td>\n",
       "      <td>0</td>\n",
       "    </tr>\n",
       "    <tr>\n",
       "      <th>28452693</th>\n",
       "      <td>5337907015</td>\n",
       "      <td>BvqVmBVBOsY</td>\n",
       "      <td>21</td>\n",
       "      <td>0</td>\n",
       "    </tr>\n",
       "    <tr>\n",
       "      <th>28452694</th>\n",
       "      <td>5337907015</td>\n",
       "      <td>BvHrnrMhBi9</td>\n",
       "      <td>21</td>\n",
       "      <td>0</td>\n",
       "    </tr>\n",
       "    <tr>\n",
       "      <th>28452695</th>\n",
       "      <td>5337907015</td>\n",
       "      <td>BvGARlZh6M9</td>\n",
       "      <td>21</td>\n",
       "      <td>0</td>\n",
       "    </tr>\n",
       "    <tr>\n",
       "      <th>28452671</th>\n",
       "      <td>5337907015</td>\n",
       "      <td>BvFHZuWBcy2</td>\n",
       "      <td>23</td>\n",
       "      <td>5</td>\n",
       "    </tr>\n",
       "  </tbody>\n",
       "</table>\n",
       "</div>"
      ],
      "text/plain": [
       "          profile_id      post_id  numbr_likes  number_comments\n",
       "sid                                                            \n",
       "28452682  5337907015  BxTV32ahahQ           15                2\n",
       "28452667  5337907015  BsRarTBBPmd           30                6\n",
       "28452668  5337907015  BqOlb0kBQ5V           25                5\n",
       "28452669  5337907015  BtxQHmLhI1h           26               11\n",
       "28452672  5337907015  Bic19O-liDj           28                0\n",
       "28452673  5337907015  BsTLZELBTnU           28                0\n",
       "28452674  5337907015  BqTsJM_FDQ_           28                0\n",
       "28452675  5337907015  ByB_OFnnGFM           19                0\n",
       "28452676  5337907015  BxxLqEyHlyg           24                0\n",
       "28452677  5337907015  BxsxNBfHqgv           19                0\n",
       "28452678  5337907015  Bxj4nbjHzkx           31                4\n",
       "28452679  5337907015  BxXxQAXnOkL           15                0\n",
       "28452680  5337907015  BxXZvyfhLCz           17                1\n",
       "28452681  5337907015  BxVbbxihvLJ           16                0\n",
       "28452683  5337907015  BxPa3dUhPtk           26                0\n",
       "28452684  5337907015  BxOmh2QBn1q           19                0\n",
       "28452685  5337907015  BxMyVcwhjs6           20                0\n",
       "28452670  5337907015  BxDLnoAhLJL           24                3\n",
       "28452686  5337907015  Bw-vVJsFZ-t            6                5\n",
       "28452687  5337907015  BwzkHAWh1ff           22                0\n",
       "28452688  5337907015  BwyVNqSB167           16                1\n",
       "28452689  5337907015  BwhkuLblrOs           18                0\n",
       "28452690  5337907015  BwHZPqvhuBC           25                6\n",
       "28452691  5337907015  BwCKGP5BF5g           29                2\n",
       "28452692  5337907015  BwBNmHiBYV3           22                0\n",
       "28452693  5337907015  BvqVmBVBOsY           21                0\n",
       "28452694  5337907015  BvHrnrMhBi9           21                0\n",
       "28452695  5337907015  BvGARlZh6M9           21                0\n",
       "28452671  5337907015  BvFHZuWBcy2           23                5"
      ]
     },
     "execution_count": 13,
     "metadata": {},
     "output_type": "execute_result"
    }
   ],
   "source": [
    "# andrà bene tutta la riga o vanno mostrate solo alcune colonne?\n",
    "def post_finder(prof_id):\n",
    "    posts_found = posts.df[posts.df[\"profile_id\"]==prof_id]\n",
    "    return posts_found[[\"profile_id\", \"post_id\", \"numbr_likes\", \"number_comments\"]]\n",
    "example = 5337907015\n",
    "post_finder(example)"
   ]
  },
  {
   "cell_type": "markdown",
   "id": "467e6c19-1ac5-478a-8fe9-a776611dbaef",
   "metadata": {},
   "source": [
    "$\\bullet$ Write another function that, given an input n (an integer), will return the posts that belong to the n top posted profiles (top n profiles that have posted the highest number of posts) that their data is available in the profile.csv using the previously written function."
   ]
  },
  {
   "cell_type": "code",
   "execution_count": 14,
   "id": "6dd5ce7a-b6de-4f22-b1da-620883530538",
   "metadata": {},
   "outputs": [
    {
     "data": {
      "text/html": [
       "<div>\n",
       "<style scoped>\n",
       "    .dataframe tbody tr th:only-of-type {\n",
       "        vertical-align: middle;\n",
       "    }\n",
       "\n",
       "    .dataframe tbody tr th {\n",
       "        vertical-align: top;\n",
       "    }\n",
       "\n",
       "    .dataframe thead th {\n",
       "        text-align: right;\n",
       "    }\n",
       "</style>\n",
       "<table border=\"1\" class=\"dataframe\">\n",
       "  <thead>\n",
       "    <tr style=\"text-align: right;\">\n",
       "      <th></th>\n",
       "      <th>profile_id</th>\n",
       "      <th>post_id</th>\n",
       "      <th>numbr_likes</th>\n",
       "      <th>number_comments</th>\n",
       "    </tr>\n",
       "    <tr>\n",
       "      <th>sid</th>\n",
       "      <th></th>\n",
       "      <th></th>\n",
       "      <th></th>\n",
       "      <th></th>\n",
       "    </tr>\n",
       "  </thead>\n",
       "  <tbody>\n",
       "    <tr>\n",
       "      <th>28404265</th>\n",
       "      <td>195747313</td>\n",
       "      <td>BDoMh4AJCgy</td>\n",
       "      <td>16</td>\n",
       "      <td>3</td>\n",
       "    </tr>\n",
       "    <tr>\n",
       "      <th>28404261</th>\n",
       "      <td>195747313</td>\n",
       "      <td>BsjHQEEgVrf</td>\n",
       "      <td>17</td>\n",
       "      <td>2</td>\n",
       "    </tr>\n",
       "    <tr>\n",
       "      <th>15060919</th>\n",
       "      <td>195747313</td>\n",
       "      <td>Bv9Dym3ghIx</td>\n",
       "      <td>18</td>\n",
       "      <td>3</td>\n",
       "    </tr>\n",
       "    <tr>\n",
       "      <th>28404260</th>\n",
       "      <td>195747313</td>\n",
       "      <td>BAhulPSJChO</td>\n",
       "      <td>23</td>\n",
       "      <td>0</td>\n",
       "    </tr>\n",
       "    <tr>\n",
       "      <th>28404264</th>\n",
       "      <td>195747313</td>\n",
       "      <td>BTWZXBtD696</td>\n",
       "      <td>20</td>\n",
       "      <td>0</td>\n",
       "    </tr>\n",
       "    <tr>\n",
       "      <th>...</th>\n",
       "      <td>...</td>\n",
       "      <td>...</td>\n",
       "      <td>...</td>\n",
       "      <td>...</td>\n",
       "    </tr>\n",
       "    <tr>\n",
       "      <th>29226389</th>\n",
       "      <td>19980428</td>\n",
       "      <td>BHP3z-hjv9n</td>\n",
       "      <td>18</td>\n",
       "      <td>0</td>\n",
       "    </tr>\n",
       "    <tr>\n",
       "      <th>29226390</th>\n",
       "      <td>19980428</td>\n",
       "      <td>BHPsj0XDKVz</td>\n",
       "      <td>37</td>\n",
       "      <td>3</td>\n",
       "    </tr>\n",
       "    <tr>\n",
       "      <th>29226391</th>\n",
       "      <td>19980428</td>\n",
       "      <td>BHKpa_aDa8f</td>\n",
       "      <td>26</td>\n",
       "      <td>0</td>\n",
       "    </tr>\n",
       "    <tr>\n",
       "      <th>29226392</th>\n",
       "      <td>19980428</td>\n",
       "      <td>BHID9-RDRrT</td>\n",
       "      <td>34</td>\n",
       "      <td>2</td>\n",
       "    </tr>\n",
       "    <tr>\n",
       "      <th>29226395</th>\n",
       "      <td>19980428</td>\n",
       "      <td>BG9_Ry6hrQt</td>\n",
       "      <td>35</td>\n",
       "      <td>3</td>\n",
       "    </tr>\n",
       "  </tbody>\n",
       "</table>\n",
       "<p>81 rows × 4 columns</p>\n",
       "</div>"
      ],
      "text/plain": [
       "          profile_id      post_id  numbr_likes  number_comments\n",
       "sid                                                            \n",
       "28404265   195747313  BDoMh4AJCgy           16                3\n",
       "28404261   195747313  BsjHQEEgVrf           17                2\n",
       "15060919   195747313  Bv9Dym3ghIx           18                3\n",
       "28404260   195747313  BAhulPSJChO           23                0\n",
       "28404264   195747313  BTWZXBtD696           20                0\n",
       "...              ...          ...          ...              ...\n",
       "29226389    19980428  BHP3z-hjv9n           18                0\n",
       "29226390    19980428  BHPsj0XDKVz           37                3\n",
       "29226391    19980428  BHKpa_aDa8f           26                0\n",
       "29226392    19980428  BHID9-RDRrT           34                2\n",
       "29226395    19980428  BG9_Ry6hrQt           35                3\n",
       "\n",
       "[81 rows x 4 columns]"
      ]
     },
     "execution_count": 14,
     "metadata": {},
     "output_type": "execute_result"
    }
   ],
   "source": [
    "def top_posts_profiles(n):\n",
    "    prof = posts.df[\"profile_id\"].value_counts().head(int(n)).index.tolist()\n",
    "    return posts.df.loc[posts.df['profile_id'].isin(prof), [\"profile_id\", \"post_id\", \"numbr_likes\", \"number_comments\"]]\n",
    "example = 2\n",
    "top_posts_profiles(example)"
   ]
  },
  {
   "cell_type": "markdown",
   "id": "b84cbf24-1da0-429a-afc9-d0d66a9bf431",
   "metadata": {},
   "source": [
    "$\\bullet$ What is the average number of \"likes\" and comments of the top 10 profiles with the highest number of posts which their information is available in profile.csv?"
   ]
  },
  {
   "cell_type": "code",
   "execution_count": 15,
   "id": "8c186a84-3706-44c4-9678-ffde8f759e04",
   "metadata": {},
   "outputs": [
    {
     "name": "stdout",
     "output_type": "stream",
     "text": [
      "numbr_likes        18.317\n",
      "number_comments     1.000\n",
      "dtype: float64\n",
      "numbr_likes        37.525\n",
      "number_comments     2.000\n",
      "dtype: float64\n",
      "numbr_likes        20.971\n",
      "number_comments     1.647\n",
      "dtype: float64\n",
      "numbr_likes        43.176\n",
      "number_comments     1.824\n",
      "dtype: float64\n",
      "numbr_likes        11.500\n",
      "number_comments     0.647\n",
      "dtype: float64\n",
      "numbr_likes        26.788\n",
      "number_comments     1.242\n",
      "dtype: float64\n",
      "numbr_likes        67.333\n",
      "number_comments     1.667\n",
      "dtype: float64\n",
      "numbr_likes        53.667\n",
      "number_comments    22.212\n",
      "dtype: float64\n",
      "numbr_likes        5.242\n",
      "number_comments    0.000\n",
      "dtype: float64\n",
      "numbr_likes        18.848\n",
      "number_comments     1.424\n",
      "dtype: float64\n"
     ]
    }
   ],
   "source": [
    "top10_profiles = posts.df[\"profile_id\"].value_counts().head(int(10)).index.tolist()\n",
    "for profile in top10_profiles:\n",
    "    print(round(posts.df.loc[posts.df['profile_id'] == profile, ['numbr_likes', \"number_comments\"]].mean(),3))"
   ]
  },
  {
   "cell_type": "markdown",
   "id": "48360911-d18e-49ce-b2ba-73b0e87882b6",
   "metadata": {},
   "source": [
    "$\\bullet$ Plot the number of posts that these top 10 profiles have sent on Instagram in the given interval in question RQ3. Interpret the resulting chart."
   ]
  },
  {
   "cell_type": "code",
   "execution_count": null,
   "id": "c3688b8d-f28c-4d63-8320-ad3925b23e0f",
   "metadata": {},
   "outputs": [],
   "source": [
    "# semplicemente un istogramma"
   ]
  },
  {
   "cell_type": "markdown",
   "id": "1db1cd07-e132-469c-b89b-11597bf43995",
   "metadata": {},
   "source": [
    "__7 - [RQ7] Of course, calculating probabilities is a job that any Data Scientist must know. So let's compute some engaging figures.__"
   ]
  },
  {
   "cell_type": "markdown",
   "id": "94ba0ca9-3070-445d-a7e8-ca6046e8407e",
   "metadata": {},
   "source": [
    "$\\bullet$ What's the probability that a post receives more than 20% \"likes\" of the number of followers a user has?"
   ]
  },
  {
   "cell_type": "code",
   "execution_count": 55,
   "id": "81e4b1da-0fb9-471c-ac25-5268a976bbd0",
   "metadata": {},
   "outputs": [
    {
     "name": "stdout",
     "output_type": "stream",
     "text": [
      "          sid_profile  numbr_likes\n",
      "sid                               \n",
      "28370919      3496776           80\n",
      "28370963      3303402          114\n",
      "10318140      3406435           46\n",
      "28370948      3529017           66\n",
      "28370984      3206132         1983\n",
      "(43598, 2)\n",
      "         followers\n",
      "sid               \n",
      "4184446        146\n",
      "4184457       1145\n",
      "4184460        324\n",
      "4184465        192\n",
      "4184471       4137\n",
      "(353624, 1)\n",
      "   sid_profile  numbr_likes  followers\n",
      "0      4376375            9       1263\n",
      "1      4368355          652      27753\n",
      "2      4368355          303      27753\n",
      "3      4471259          128      26373\n",
      "4      4471259          106      26373\n",
      "(1869, 3)\n",
      "115\n",
      "Probability is equal to: 6.1530000000000005%\n"
     ]
    }
   ],
   "source": [
    "# First we create a subset of the posts dataframe that contains only the columns that we need\n",
    "# and the rows for which we have a match (with the user) in the profiles dataset\n",
    "sub_posts = posts.df[[\"sid_profile\", \"numbr_likes\"]][posts.df['sid_profile'] != -1]\n",
    "# We create also a subset for the profiles dataset which contain only \"sid\" and \"followers\" and the rows different from NaN\n",
    "sub_prof = profiles.df[[\"followers\"]].dropna()\n",
    "# At this point we merge the to subsets on \"sid_profile\"\n",
    "merged_df = pd.merge(sub_posts, sub_prof, left_on=\"sid_profile\", right_on=sub_prof.index)\n",
    "# Then we can calculate the numbers of positive cases\n",
    "pos_cases = (merged_df.apply(lambda x: x.numbr_likes > x.followers*0.2, axis=1)).sum()\n",
    "# And finally we calculate the probability dividing the positive cases for the total number of evaluated posts\n",
    "print(f\"Probability is equal to: {round(pos_cases/merged_df.shape[0], 5)*100}%\")"
   ]
  },
  {
   "cell_type": "markdown",
   "id": "08d703b2-92b8-40fe-b8c9-c9a208ca82cc",
   "metadata": {},
   "source": [
    "$\\bullet$ Do users usually return to locations? Extract the probability that a user returns to a site after having posted it in the past. Does that probability make sense to you? Explain why or why not."
   ]
  },
  {
   "cell_type": "code",
   "execution_count": 51,
   "id": "10c547b5-bf23-47c7-980a-7dc262ce142e",
   "metadata": {},
   "outputs": [
    {
     "name": "stdout",
     "output_type": "stream",
     "text": [
      "Probability that a user returns to a site after having posted it in the past is equal to: 10.84%\n"
     ]
    }
   ],
   "source": [
    "# Da provare con value_counts(?) perche cosi potrebbe dare problemi con il chunking\n",
    "\n",
    "#sub_loc = locations.df[[\"id\", \"name\"]]\n",
    "#sub_loc['id'].duplicated().sum()\n",
    "# First we create a subset that contains only the necessary columns\n",
    "sub_7_2 = posts.df[[\"profile_id\", \"location_id\"]]\n",
    "# Then we eliminate the rows that do not contain duplicates in the values of the two columns\n",
    "sub_7_2_mod = sub_7_2[sub_7_2.duplicated(subset=[\"profile_id\", \"location_id\"], keep=False)]\n",
    "# As a last step we eliminate the duplicates and take the value of the number of rows left\n",
    "n_duplicates = sub_7_2_mod.drop_duplicates(subset=[\"profile_id\", \"location_id\"]).shape[0]\n",
    "# We are now ready to calculate the probability that has to take as denominator the number of total different users...\n",
    "prob_dupl = n_duplicates / sub_7_2.nunique()[0]\n",
    "print(f\"Probability that a user returns to a site after having posted it in the past is equal to: {round(prob_dupl,4)*100}%\")"
   ]
  },
  {
   "cell_type": "code",
   "execution_count": 22,
   "id": "a15358eb-7727-42a9-b0d5-ee2f3bb6f28c",
   "metadata": {},
   "outputs": [
    {
     "data": {
      "text/html": [
       "<div>\n",
       "<style scoped>\n",
       "    .dataframe tbody tr th:only-of-type {\n",
       "        vertical-align: middle;\n",
       "    }\n",
       "\n",
       "    .dataframe tbody tr th {\n",
       "        vertical-align: top;\n",
       "    }\n",
       "\n",
       "    .dataframe thead th {\n",
       "        text-align: right;\n",
       "    }\n",
       "</style>\n",
       "<table border=\"1\" class=\"dataframe\">\n",
       "  <thead>\n",
       "    <tr style=\"text-align: right;\">\n",
       "      <th></th>\n",
       "      <th>profile_id</th>\n",
       "      <th>profile_name</th>\n",
       "      <th>firstname_lastname</th>\n",
       "      <th>description</th>\n",
       "      <th>following</th>\n",
       "      <th>followers</th>\n",
       "      <th>n_posts</th>\n",
       "      <th>url</th>\n",
       "      <th>cts</th>\n",
       "      <th>is_business_account</th>\n",
       "    </tr>\n",
       "    <tr>\n",
       "      <th>sid</th>\n",
       "      <th></th>\n",
       "      <th></th>\n",
       "      <th></th>\n",
       "      <th></th>\n",
       "      <th></th>\n",
       "      <th></th>\n",
       "      <th></th>\n",
       "      <th></th>\n",
       "      <th></th>\n",
       "      <th></th>\n",
       "    </tr>\n",
       "  </thead>\n",
       "  <tbody>\n",
       "  </tbody>\n",
       "</table>\n",
       "</div>"
      ],
      "text/plain": [
       "Empty DataFrame\n",
       "Columns: [profile_id, profile_name, firstname_lastname, description, following, followers, n_posts, url, cts, is_business_account]\n",
       "Index: []"
      ]
     },
     "execution_count": 22,
     "metadata": {},
     "output_type": "execute_result"
    }
   ],
   "source": [
    "# check if a profile is in the dataset\n",
    "# profiles.df[profiles.df[\"profile_name\"]==\"b_iancaneve\"]"
   ]
  },
  {
   "cell_type": "code",
   "execution_count": 6,
   "id": "3af9fe89-dabb-4ca0-bca6-28757e43dac4",
   "metadata": {},
   "outputs": [],
   "source": [
    "# RQ2_1.dropna(inplace=True)"
   ]
  },
  {
   "cell_type": "code",
   "execution_count": 6,
   "id": "49f8aba2-217d-43a7-bc82-52517ddb1ca3",
   "metadata": {},
   "outputs": [
    {
     "data": {
      "text/html": [
       "<div>\n",
       "<style scoped>\n",
       "    .dataframe tbody tr th:only-of-type {\n",
       "        vertical-align: middle;\n",
       "    }\n",
       "\n",
       "    .dataframe tbody tr th {\n",
       "        vertical-align: top;\n",
       "    }\n",
       "\n",
       "    .dataframe thead th {\n",
       "        text-align: right;\n",
       "    }\n",
       "</style>\n",
       "<table border=\"1\" class=\"dataframe\">\n",
       "  <thead>\n",
       "    <tr style=\"text-align: right;\">\n",
       "      <th></th>\n",
       "      <th>profile_id</th>\n",
       "      <th>n_posts</th>\n",
       "    </tr>\n",
       "  </thead>\n",
       "  <tbody>\n",
       "    <tr>\n",
       "      <th>0</th>\n",
       "      <td>4.721050e+09</td>\n",
       "      <td>170.0</td>\n",
       "    </tr>\n",
       "    <tr>\n",
       "      <th>1</th>\n",
       "      <td>5.905830e+08</td>\n",
       "      <td>2878.0</td>\n",
       "    </tr>\n",
       "    <tr>\n",
       "      <th>2</th>\n",
       "      <td>1.074147e+09</td>\n",
       "      <td>431.0</td>\n",
       "    </tr>\n",
       "    <tr>\n",
       "      <th>5</th>\n",
       "      <td>1.450642e+08</td>\n",
       "      <td>590.0</td>\n",
       "    </tr>\n",
       "    <tr>\n",
       "      <th>6</th>\n",
       "      <td>2.061868e+09</td>\n",
       "      <td>753.0</td>\n",
       "    </tr>\n",
       "  </tbody>\n",
       "</table>\n",
       "</div>"
      ],
      "text/plain": [
       "     profile_id  n_posts\n",
       "0  4.721050e+09    170.0\n",
       "1  5.905830e+08   2878.0\n",
       "2  1.074147e+09    431.0\n",
       "5  1.450642e+08    590.0\n",
       "6  2.061868e+09    753.0"
      ]
     },
     "execution_count": 6,
     "metadata": {},
     "output_type": "execute_result"
    }
   ],
   "source": [
    "# RQ2_1.head()"
   ]
  },
  {
   "cell_type": "code",
   "execution_count": 12,
   "id": "810bbf27-bfb0-4243-a90d-45b27ddebd59",
   "metadata": {},
   "outputs": [],
   "source": [
    "# RQ2_1_2 = RQ2_1.sort_values(by=['n_posts'], ascending=False)[:100]"
   ]
  },
  {
   "cell_type": "code",
   "execution_count": 8,
   "id": "5055e592-ab5c-46e4-bf92-8d78681a929b",
   "metadata": {},
   "outputs": [
    {
     "data": {
      "text/plain": [
       "(100, 2)"
      ]
     },
     "execution_count": 8,
     "metadata": {},
     "output_type": "execute_result"
    }
   ],
   "source": [
    "# RQ2_1_2.shape"
   ]
  },
  {
   "cell_type": "code",
   "execution_count": 22,
   "id": "64b4b7f6-5708-4cb6-9273-91e30274e650",
   "metadata": {},
   "outputs": [
    {
     "data": {
      "text/plain": [
       "18811.0"
      ]
     },
     "execution_count": 22,
     "metadata": {},
     "output_type": "execute_result"
    }
   ],
   "source": [
    "# RQ2_1_2[\"n_posts\"].min()"
   ]
  },
  {
   "cell_type": "code",
   "execution_count": 41,
   "id": "08691103-3866-4ab5-afb8-5cf97b01a673",
   "metadata": {},
   "outputs": [],
   "source": [
    "#asdf = pd.DataFrame(profiles.df[\"n_posts\"].value_counts())\n",
    "#asdf.plot(x=\"n_posts\", y=asdf.index, kind=\"bar\", xticks=[], legend=False)"
   ]
  },
  {
   "cell_type": "code",
   "execution_count": null,
   "id": "d8667659-0ef4-4b2b-9a2a-9ceb217b0ada",
   "metadata": {},
   "outputs": [],
   "source": [
    "asdf.plot(x=\"profile_id\", y=\"n_posts\", kind=\"bar\", xticks=[], legend=False)"
   ]
  },
  {
   "cell_type": "code",
   "execution_count": 13,
   "id": "8c28a314-251c-47c9-90e0-548ac372690d",
   "metadata": {},
   "outputs": [
    {
     "data": {
      "text/plain": [
       "<AxesSubplot:xlabel='profile_id'>"
      ]
     },
     "execution_count": 13,
     "metadata": {},
     "output_type": "execute_result"
    },
    {
     "data": {
      "image/png": "[encoded data removed]",
      "text/plain": [
       "<Figure size 432x288 with 1 Axes>"
      ]
     },
     "metadata": {
      "needs_background": "light"
     },
     "output_type": "display_data"
    }
   ],
   "source": [
    "# RQ2_1_2.plot(x=\"profile_id\", y=\"n_posts\", kind=\"bar\", xticks=[], legend=False)"
   ]
  },
  {
   "cell_type": "code",
   "execution_count": null,
   "id": "f89bb95b-fc19-41e8-8748-b52e75fd2d7b",
   "metadata": {},
   "outputs": [],
   "source": []
  },
  {
   "cell_type": "markdown",
   "id": "73314558-a2ad-44fe-877a-253fc4018e3f",
   "metadata": {},
   "source": [
    "--- EXPLORATORY DATA ANALYSIS (EDA) ---"
   ]
  },
  {
   "cell_type": "code",
   "execution_count": 46,
   "id": "ad360ffd-45e5-4bd9-b437-ecc8bc5cc9b7",
   "metadata": {},
   "outputs": [
    {
     "name": "stdout",
     "output_type": "stream",
     "text": [
      "(4509586, 11)\n",
      "285457645.0\n",
      "4739.899180397426\n"
     ]
    }
   ],
   "source": [
    "### Locations dataset ###\n",
    "#print(df_loc.shape)\n",
    "#print(df_loc.isna().sum())\n",
    "\n",
    "### Posts dataset ###\n",
    "#print(df_posts.shape)\n",
    "#print(df_posts.isna().sum())\n",
    "\n",
    "### Profiles dataset ###\n",
    "# print(df_prof.shape)\n",
    "#print(df_prof.isna().sum())\n",
    "# print(df_prof[\"followers\"].max())\n",
    "# print(df_prof[\"followers\"].mean())"
   ]
  },
  {
   "cell_type": "code",
   "execution_count": null,
   "id": "0db3b8ee-2c3d-4edd-b6a6-85f530ef2e03",
   "metadata": {},
   "outputs": [],
   "source": [
    "# RQ2_2\n",
    "# RQ2_2 = df_posts[[\"post_id\", \"numbr_likes\"]].copy()"
   ]
  }
 ],
 "metadata": {
  "kernelspec": {
   "display_name": "Python 3 (ipykernel)",
   "language": "python",
   "name": "python3"
  },
  "language_info": {
   "codemirror_mode": {
    "name": "ipython",
    "version": 3
   },
   "file_extension": ".py",
   "mimetype": "text/x-python",
   "name": "python",
   "nbconvert_exporter": "python",
   "pygments_lexer": "ipython3",
   "version": "3.9.12"
  }
 },
 "nbformat": 4,
 "nbformat_minor": 5
}
