{
 "cells": [
  {
   "cell_type": "markdown",
   "id": "80d8bdc5-0088-4100-9346-63a706b19e34",
   "metadata": {
    "tags": []
   },
   "source": [
    "# __PREPROCESSING__"
   ]
  },
  {
   "cell_type": "code",
   "execution_count": 1,
   "id": "5d8a0c11-0be1-4aca-8d2b-909d8e4934d2",
   "metadata": {},
   "outputs": [
    {
     "name": "stdout",
     "output_type": "stream",
     "text": [
      "Requirement already satisfied: pyarrow in /Users/andrea/opt/anaconda3/lib/python3.9/site-packages (9.0.0)\n",
      "Requirement already satisfied: numpy>=1.16.6 in /Users/andrea/opt/anaconda3/lib/python3.9/site-packages (from pyarrow) (1.21.5)\n"
     ]
    }
   ],
   "source": [
    "!pip install pyarrow\n",
    "\n",
    "import pandas as pd\n",
    "import seaborn as sns\n",
    "import numpy as np\n",
    "import random\n",
    "import re\n",
    "import os\n",
    "\n",
    "SAMPLE_SIZE = 100000\n",
    "\n",
    "%matplotlib inline\n",
    "import matplotlib.pyplot as plt"
   ]
  },
  {
   "cell_type": "code",
   "execution_count": 2,
   "id": "3871dde3-643a-4fd3-959c-742bc1473ad6",
   "metadata": {},
   "outputs": [],
   "source": [
    "class Dataset:\n",
    "    def __init__(self, file:str):\n",
    "        self.file_name : str = file\n",
    "        self.types : dict = self.load_types()\n",
    "        self.df : pd.DataFrame = None\n",
    "        \n",
    "    def name(self):\n",
    "        return re.search(r'\\/([\\w\\d]*)\\.csv',self.file_name).group(1)\n",
    "    \n",
    "    def __types_file__(self):\n",
    "        return 'types/' + self.name() +'.npy'\n",
    "        \n",
    "    def save_types(self):\n",
    "        np.save(self.__types_file__(), self.types)\n",
    "        \n",
    "    def load_types(self):\n",
    "        if os.path.isfile(self.__types_file__()):\n",
    "            self.types = np.load(self.__types_file__(),allow_pickle='TRUE').item()\n",
    "            return self.types\n",
    "        return None\n",
    "    \n",
    "    def col(self,columns:list, index:bool=True,**pd_params)->pd.DataFrame:\n",
    "        \"\"\"Loads some columns of the dataframe out of the whole csv file\n",
    "        \n",
    "        :param columns: a list of the desired columns\n",
    "        :type columns: list\n",
    "        :param index: if True loads also the 'sid' column as the index\n",
    "        :type index: bool\n",
    "        :param **pd_params: any other params for pd.read_csv(...)\n",
    "        :rtype: pd.DataFrame\n",
    "        \"\"\"\n",
    "        col_list = columns\n",
    "        if 'cts' in col_list:\n",
    "            pd_params['parse_dates'] = ['cts']\n",
    "        if index :\n",
    "            col_list.append('sid')\n",
    "        return pd.read_csv(self.file_name,\n",
    "                           usecols=col_list,\n",
    "                           dtype=self.types, \n",
    "                           index_col='sid' if index else None,\n",
    "                           delimiter='\\t', \n",
    "                           **pd_params)\n",
    "\n",
    "datasets = [\n",
    "    Dataset(file='instagram-dataset/instagram_profiles.csv'), \n",
    "    Dataset(file='instagram-dataset/instagram_locations.csv'), \n",
    "    Dataset(file='instagram-dataset/instagram_posts.csv')\n",
    "]\n",
    "profiles, locations, posts = datasets"
   ]
  },
  {
   "cell_type": "code",
   "execution_count": 3,
   "id": "4d5dea5b-63f3-4e21-80d9-7903cb8b8843",
   "metadata": {},
   "outputs": [],
   "source": [
    "profiles.types = {\n",
    "#     'sid' : int,\n",
    "    'profile_id' : int,\n",
    "    'profile_name' : pd.StringDtype(storage='pyarrow'),\n",
    "    'firstname_lastname' : pd.StringDtype(storage='pyarrow'),\n",
    "    'description' : pd.StringDtype(storage='pyarrow'),\n",
    "    'following' : int,\n",
    "    'followers' : int,\n",
    "    'n_posts' : int,\n",
    "    'url' : pd.StringDtype(storage='pyarrow'),\n",
    "#     'cts' : pd.DatetimeTZDtype(tz='UTC'), #obtained through parse_dates=['cts']\n",
    "    'is_business_account' : pd.BooleanDtype()\n",
    "}\n",
    "posts.types = {\n",
    "#     'sid' : int, # gives an error, maybe because it's the index?\n",
    "    'sid_profile' : int,\n",
    "    'post_id' : pd.StringDtype(storage='pyarrow'),\n",
    "    'profile_id' : int,\n",
    "    'location_id' : int,\n",
    "    'description' : pd.StringDtype(storage='pyarrow'),\n",
    "    'post_type' : pd.CategoricalDtype(categories=[1,2,3]),\n",
    "    'numbr_likes' : int,\n",
    "    'number_comments' : int\n",
    "}\n",
    "locations.types = {\n",
    "#     'sid' : int, # gives an error, maybe because it's the index?\n",
    "    'id' : int,\n",
    "    'name' : pd.StringDtype(storage='pyarrow'),\n",
    "    'street' : pd.StringDtype(storage='pyarrow'),\n",
    "    'zip' : pd.StringDtype(storage='pyarrow'),\n",
    "    'city' : pd.StringDtype(storage='pyarrow'),\n",
    "    'region' : pd.StringDtype(storage='pyarrow'),\n",
    "    'cd' : pd.CategoricalDtype(),\n",
    "    'phone' : pd.StringDtype(storage='pyarrow'),\n",
    "    'aj_exact_city_match' : pd.BooleanDtype(),\n",
    "    'aj_exact_country_match' : pd.BooleanDtype(),\n",
    "    'blurb' : pd.StringDtype(storage='pyarrow'),\n",
    "    'dir_city_id' : pd.StringDtype(storage='pyarrow'),\n",
    "    'dir_city_name' : pd.StringDtype(storage='pyarrow'),\n",
    "    'dir_city_slug' : pd.StringDtype(storage='pyarrow'),\n",
    "    'dir_country_id' : pd.CategoricalDtype(),\n",
    "    'dir_country_name' : pd.CategoricalDtype(),\n",
    "    'lat' : pd.Float32Dtype(),\n",
    "    'lng' : pd.Float32Dtype(),\n",
    "    'primary_alias_on_fb' : pd.StringDtype(storage='pyarrow'),\n",
    "    'slug' : pd.StringDtype(storage='pyarrow'),\n",
    "    'website' : pd.StringDtype(storage='pyarrow'),\n",
    "}"
   ]
  },
  {
   "cell_type": "code",
   "execution_count": 4,
   "id": "a8779273-f56e-4b8f-a2bf-c8c27901dedb",
   "metadata": {},
   "outputs": [],
   "source": [
    "def get_types(signed=True, unsigned=True, custom=[]):\n",
    "    '''Returns a pandas dataframe containing the boundaries of each integer dtype'''\n",
    "    # based on https://stackoverflow.com/a/57894540/9419492\n",
    "    pd_types = custom\n",
    "    if signed:\n",
    "        pd_types += [pd.Int8Dtype() ,pd.Int16Dtype() ,pd.Int32Dtype(), pd.Int64Dtype()]\n",
    "    if unsigned:\n",
    "        pd_types += [pd.UInt8Dtype() ,pd.UInt16Dtype(), pd.UInt32Dtype(), pd.UInt64Dtype()]\n",
    "    type_df = pd.DataFrame(data=pd_types, columns=['pd_type'])\n",
    "    type_df['np_type'] = type_df['pd_type'].apply(lambda t: t.numpy_dtype)\n",
    "    type_df['min_value'] = type_df['np_type'].apply(lambda row: np.iinfo(row).min)\n",
    "    type_df['max_value'] = type_df['np_type'].apply(lambda row: np.iinfo(row).max)\n",
    "    type_df['allow_negatives'] = type_df['min_value'] < 0\n",
    "    type_df['size'] = type_df['np_type'].apply(lambda row: row.itemsize)\n",
    "    type_df.sort_values(by=['size', 'allow_negatives'], inplace=True)\n",
    "    return type_df.reset_index(drop=True)\n",
    "    \n",
    "get_types()\n",
    "\n",
    "def downcast_int(file_path, column:str, chunksize=10000, delimiter=',', signed=True, unsigned=True):\n",
    "    '''Assigns the smallest possible dtype to an integer column of a csv'''\n",
    "    types = get_types(signed, unsigned)\n",
    "    negatives = False\n",
    "    for chunk in pd.read_csv(file_path, usecols=[column],delimiter=delimiter,chunksize=chunksize):\n",
    "        M = chunk[column].max()\n",
    "        m = chunk[column].min()\n",
    "        if not signed and not negatives and m < 0 :\n",
    "            types = types[types['allow_negatives']] # removes unsigned rows\n",
    "            negatives = True\n",
    "        if m < types['min_value'].iloc[0]:\n",
    "            types = types[types['min_value'] < m]\n",
    "        if M > types['max_value'].iloc[0]:\n",
    "            types = types[types['max_value'] > M]\n",
    "        if len(types) == 1:\n",
    "            print('early stop')\n",
    "            break\n",
    "    return types['pd_type'].iloc[0]\n",
    "\n",
    "def optimize_cols(file, int_cols, delimiter=',', signed=True, unsigned=True):\n",
    "    out = dict()\n",
    "    for col in int_cols:\n",
    "        out[col] = downcast_int(file, col, delimiter=delimiter, signed=signed, unsigned=unsigned)\n",
    "    return out"
   ]
  },
  {
   "cell_type": "code",
   "execution_count": 5,
   "id": "95ec550f-be74-4d2c-bd63-8b3ee40a1dd3",
   "metadata": {},
   "outputs": [
    {
     "name": "stdout",
     "output_type": "stream",
     "text": [
      "instagram_profiles  mean optimized memory usage per entry:  197 B vs  539 B  : 36.51%\n",
      "instagram_locations mean optimized memory usage per entry:  267 B vs 1113 B  : 23.97%\n",
      "instagram_posts     mean optimized memory usage per entry:  278 B vs  755 B  : 36.76%\n"
     ]
    }
   ],
   "source": [
    "for ds in datasets:\n",
    "    if not ds.load_types():\n",
    "        int_cols = [k for k,v in ds.types.items() if v is int]\n",
    "        print(int_cols)\n",
    "        ds.types.update(optimize_cols(ds.file_name, int_cols, delimiter='\\t'))\n",
    "        print(f'Optimized {len(int_cols)} types for {ds.name()}')\n",
    "#     ds.types.update({k:pd.StringDtype(storage='pyarrow') for k,v in ds.types.items() if v==pd.StringDtype(storage='pyarrow')})\n",
    "    ds.save_types()\n",
    "#     print(ds.types)\n",
    "\n",
    "for ds in datasets:\n",
    "    ds.df = pd.read_csv(ds.file_name, dtype=ds.types, index_col='sid', delimiter='\\t', parse_dates=['cts'], nrows=SAMPLE_SIZE)\n",
    "    avg_mem_unoptimized = pd.read_csv(ds.file_name, index_col='sid', delimiter='\\t', nrows=SAMPLE_SIZE).memory_usage(deep=True).sum()/SAMPLE_SIZE\n",
    "    avg_mem_optimized = ds.df.memory_usage(deep=True).sum()/SAMPLE_SIZE\n",
    "    print(f'{ds.name().ljust(19)} mean optimized memory usage per entry:  {round(avg_mem_optimized):3} B vs {round(avg_mem_unoptimized):4} B  : {round(avg_mem_optimized/avg_mem_unoptimized*100,2):5}%') "
   ]
  },
  {
   "cell_type": "markdown",
   "id": "1a20671c-8901-41ad-9dd5-2994e64d4efa",
   "metadata": {
    "tags": []
   },
   "source": [
    "# __RISPOSTE DOMANDE__"
   ]
  },
  {
   "cell_type": "markdown",
   "id": "14d8aa58-d698-49f3-903f-e0e2736e10af",
   "metadata": {
    "tags": []
   },
   "source": [
    "### __COLONNE DATASETS__\n",
    "\n",
    "| Locations | Posts | Profiles |\n",
    "| :-: | :-: | :-: |\n",
    "| sid | sid | sid\n",
    "| id | sid_profile | profile_id\n",
    "| name | post_id | profile_name\n",
    "| street | profile_id | firstname_lastname\n",
    "| zip | location_id | description\n",
    "| city | cts | following\n",
    "| region | post_type | followers\n",
    "| cd | description | n_posts\n",
    "| phone | numbr_likes | url\n",
    "| aj_exact_city_match | number_comments | cts\n"
   ]
  },
  {
   "cell_type": "markdown",
   "id": "27f216e9-6fc9-4c0c-8a77-f6ef4da7f66d",
   "metadata": {},
   "source": [
    "***\n",
    "__1 - [RQ1] After collecting information, the Data Scientists have to know what dataset they are dealing with, so let's start with an Exploratory Data Analysis (EDA). What can you say about our datasets? Please summarise its main characteristics with visual and tabular methods.__\n",
    "***"
   ]
  },
  {
   "cell_type": "markdown",
   "id": "300d2add-528f-444b-a376-26c0242763f2",
   "metadata": {},
   "source": [
    "As an initial step we can start by displaying the first 5 lines of the 3 datasets to have an idea of what we are dealing with"
   ]
  },
  {
   "cell_type": "markdown",
   "id": "dc9ae8cc-032b-4eb0-9dcb-472dac50885c",
   "metadata": {},
   "source": [
    "Locations dataset:"
   ]
  },
  {
   "cell_type": "code",
   "execution_count": 6,
   "id": "747249d7-4915-476e-a2a6-4986274608c2",
   "metadata": {},
   "outputs": [
    {
     "data": {
      "text/html": [
       "<div>\n",
       "<style scoped>\n",
       "    .dataframe tbody tr th:only-of-type {\n",
       "        vertical-align: middle;\n",
       "    }\n",
       "\n",
       "    .dataframe tbody tr th {\n",
       "        vertical-align: top;\n",
       "    }\n",
       "\n",
       "    .dataframe thead th {\n",
       "        text-align: right;\n",
       "    }\n",
       "</style>\n",
       "<table border=\"1\" class=\"dataframe\">\n",
       "  <thead>\n",
       "    <tr style=\"text-align: right;\">\n",
       "      <th></th>\n",
       "      <th>id</th>\n",
       "      <th>name</th>\n",
       "      <th>street</th>\n",
       "      <th>zip</th>\n",
       "      <th>city</th>\n",
       "      <th>region</th>\n",
       "      <th>cd</th>\n",
       "      <th>phone</th>\n",
       "      <th>aj_exact_city_match</th>\n",
       "      <th>aj_exact_country_match</th>\n",
       "      <th>...</th>\n",
       "      <th>dir_city_name</th>\n",
       "      <th>dir_city_slug</th>\n",
       "      <th>dir_country_id</th>\n",
       "      <th>dir_country_name</th>\n",
       "      <th>lat</th>\n",
       "      <th>lng</th>\n",
       "      <th>primary_alias_on_fb</th>\n",
       "      <th>slug</th>\n",
       "      <th>website</th>\n",
       "      <th>cts</th>\n",
       "    </tr>\n",
       "    <tr>\n",
       "      <th>sid</th>\n",
       "      <th></th>\n",
       "      <th></th>\n",
       "      <th></th>\n",
       "      <th></th>\n",
       "      <th></th>\n",
       "      <th></th>\n",
       "      <th></th>\n",
       "      <th></th>\n",
       "      <th></th>\n",
       "      <th></th>\n",
       "      <th></th>\n",
       "      <th></th>\n",
       "      <th></th>\n",
       "      <th></th>\n",
       "      <th></th>\n",
       "      <th></th>\n",
       "      <th></th>\n",
       "      <th></th>\n",
       "      <th></th>\n",
       "      <th></th>\n",
       "      <th></th>\n",
       "    </tr>\n",
       "  </thead>\n",
       "  <tbody>\n",
       "    <tr>\n",
       "      <th>719981</th>\n",
       "      <td>110296492939207</td>\n",
       "      <td>Playa de Daimuz - Valencia, España</td>\n",
       "      <td>&lt;NA&gt;</td>\n",
       "      <td>&lt;NA&gt;</td>\n",
       "      <td>&lt;NA&gt;</td>\n",
       "      <td>&lt;NA&gt;</td>\n",
       "      <td>&lt;NA&gt;</td>\n",
       "      <td>&lt;NA&gt;</td>\n",
       "      <td>False</td>\n",
       "      <td>False</td>\n",
       "      <td>...</td>\n",
       "      <td>&lt;NA&gt;</td>\n",
       "      <td>&lt;NA&gt;</td>\n",
       "      <td>NaN</td>\n",
       "      <td>NaN</td>\n",
       "      <td>-0.139475</td>\n",
       "      <td>38.974392</td>\n",
       "      <td>daimuzplaya</td>\n",
       "      <td>playa-de-daimuz-valencia-espana</td>\n",
       "      <td>https://es.wikipedia.org/wiki/Daimuz</td>\n",
       "      <td>2019-05-29 01:21:29.987</td>\n",
       "    </tr>\n",
       "    <tr>\n",
       "      <th>719983</th>\n",
       "      <td>274391278</td>\n",
       "      <td>Nová Vieska</td>\n",
       "      <td>&lt;NA&gt;</td>\n",
       "      <td>&lt;NA&gt;</td>\n",
       "      <td>Nová Vieska</td>\n",
       "      <td>&lt;NA&gt;</td>\n",
       "      <td>SK</td>\n",
       "      <td>&lt;NA&gt;</td>\n",
       "      <td>True</td>\n",
       "      <td>False</td>\n",
       "      <td>...</td>\n",
       "      <td>Kis-Újfalu</td>\n",
       "      <td>kis-ujfalu</td>\n",
       "      <td>SK</td>\n",
       "      <td>Slovakia</td>\n",
       "      <td>18.466667</td>\n",
       "      <td>47.866669</td>\n",
       "      <td>&lt;NA&gt;</td>\n",
       "      <td>nova-vieska</td>\n",
       "      <td>&lt;NA&gt;</td>\n",
       "      <td>2019-05-29 01:21:38.037</td>\n",
       "    </tr>\n",
       "    <tr>\n",
       "      <th>719985</th>\n",
       "      <td>148885595789195</td>\n",
       "      <td>Everest Today</td>\n",
       "      <td>Himalayas</td>\n",
       "      <td>+977</td>\n",
       "      <td>Kathmandu, Nepal</td>\n",
       "      <td>&lt;NA&gt;</td>\n",
       "      <td>NP</td>\n",
       "      <td>&lt;NA&gt;</td>\n",
       "      <td>False</td>\n",
       "      <td>False</td>\n",
       "      <td>...</td>\n",
       "      <td>Pasupati</td>\n",
       "      <td>pasupati</td>\n",
       "      <td>NP</td>\n",
       "      <td>Nepal</td>\n",
       "      <td>85.330147</td>\n",
       "      <td>27.70196</td>\n",
       "      <td>EverestToday</td>\n",
       "      <td>everest-today</td>\n",
       "      <td>&lt;NA&gt;</td>\n",
       "      <td>2019-05-29 01:21:46.295</td>\n",
       "    </tr>\n",
       "    <tr>\n",
       "      <th>719987</th>\n",
       "      <td>263258277</td>\n",
       "      <td>BULAC - Bibliothèque universitaire des langues...</td>\n",
       "      <td>65, rue des Grands-Moulins</td>\n",
       "      <td>75013</td>\n",
       "      <td>Paris, France</td>\n",
       "      <td>&lt;NA&gt;</td>\n",
       "      <td>FR</td>\n",
       "      <td>01 81 69 18 00</td>\n",
       "      <td>False</td>\n",
       "      <td>False</td>\n",
       "      <td>...</td>\n",
       "      <td>13ème Arrondissement Paris</td>\n",
       "      <td>13eme-arrondissement-paris</td>\n",
       "      <td>FR</td>\n",
       "      <td>France</td>\n",
       "      <td>2.375995</td>\n",
       "      <td>48.82724</td>\n",
       "      <td>BULAC.Paris</td>\n",
       "      <td>bulac-bibliotheque-universitaire-des-langues-e...</td>\n",
       "      <td>www.bulac.fr</td>\n",
       "      <td>2019-05-29 01:21:54.355</td>\n",
       "    </tr>\n",
       "    <tr>\n",
       "      <th>326443</th>\n",
       "      <td>406147529857708</td>\n",
       "      <td>ABC Cable Networks Group</td>\n",
       "      <td>3800 W Alameda Ave</td>\n",
       "      <td>91505</td>\n",
       "      <td>Burbank, California</td>\n",
       "      <td>&lt;NA&gt;</td>\n",
       "      <td>US</td>\n",
       "      <td>(818) 569-7500</td>\n",
       "      <td>False</td>\n",
       "      <td>False</td>\n",
       "      <td>...</td>\n",
       "      <td>&lt;NA&gt;</td>\n",
       "      <td>&lt;NA&gt;</td>\n",
       "      <td>NaN</td>\n",
       "      <td>NaN</td>\n",
       "      <td>-118.341866</td>\n",
       "      <td>34.153267</td>\n",
       "      <td>&lt;NA&gt;</td>\n",
       "      <td>abc-cable-networks-group</td>\n",
       "      <td>&lt;NA&gt;</td>\n",
       "      <td>2019-04-02 15:22:55.703</td>\n",
       "    </tr>\n",
       "  </tbody>\n",
       "</table>\n",
       "<p>5 rows × 22 columns</p>\n",
       "</div>"
      ],
      "text/plain": [
       "                     id                                               name  \\\n",
       "sid                                                                          \n",
       "719981  110296492939207                 Playa de Daimuz - Valencia, España   \n",
       "719983        274391278                                        Nová Vieska   \n",
       "719985  148885595789195                                      Everest Today   \n",
       "719987        263258277  BULAC - Bibliothèque universitaire des langues...   \n",
       "326443  406147529857708                           ABC Cable Networks Group   \n",
       "\n",
       "                            street    zip                 city region    cd  \\\n",
       "sid                                                                           \n",
       "719981                        <NA>   <NA>                 <NA>   <NA>  <NA>   \n",
       "719983                        <NA>   <NA>          Nová Vieska   <NA>    SK   \n",
       "719985                   Himalayas   +977     Kathmandu, Nepal   <NA>    NP   \n",
       "719987  65, rue des Grands-Moulins  75013        Paris, France   <NA>    FR   \n",
       "326443          3800 W Alameda Ave  91505  Burbank, California   <NA>    US   \n",
       "\n",
       "                 phone  aj_exact_city_match  aj_exact_country_match  ...  \\\n",
       "sid                                                                  ...   \n",
       "719981            <NA>                False                   False  ...   \n",
       "719983            <NA>                 True                   False  ...   \n",
       "719985            <NA>                False                   False  ...   \n",
       "719987  01 81 69 18 00                False                   False  ...   \n",
       "326443  (818) 569-7500                False                   False  ...   \n",
       "\n",
       "                     dir_city_name               dir_city_slug dir_country_id  \\\n",
       "sid                                                                             \n",
       "719981                        <NA>                        <NA>            NaN   \n",
       "719983                  Kis-Újfalu                  kis-ujfalu             SK   \n",
       "719985                    Pasupati                    pasupati             NP   \n",
       "719987  13ème Arrondissement Paris  13eme-arrondissement-paris             FR   \n",
       "326443                        <NA>                        <NA>            NaN   \n",
       "\n",
       "       dir_country_name         lat        lng  primary_alias_on_fb  \\\n",
       "sid                                                                   \n",
       "719981              NaN   -0.139475  38.974392          daimuzplaya   \n",
       "719983         Slovakia   18.466667  47.866669                 <NA>   \n",
       "719985            Nepal   85.330147   27.70196         EverestToday   \n",
       "719987           France    2.375995   48.82724          BULAC.Paris   \n",
       "326443              NaN -118.341866  34.153267                 <NA>   \n",
       "\n",
       "                                                     slug  \\\n",
       "sid                                                         \n",
       "719981                    playa-de-daimuz-valencia-espana   \n",
       "719983                                        nova-vieska   \n",
       "719985                                      everest-today   \n",
       "719987  bulac-bibliotheque-universitaire-des-langues-e...   \n",
       "326443                           abc-cable-networks-group   \n",
       "\n",
       "                                     website                     cts  \n",
       "sid                                                                   \n",
       "719981  https://es.wikipedia.org/wiki/Daimuz 2019-05-29 01:21:29.987  \n",
       "719983                                  <NA> 2019-05-29 01:21:38.037  \n",
       "719985                                  <NA> 2019-05-29 01:21:46.295  \n",
       "719987                          www.bulac.fr 2019-05-29 01:21:54.355  \n",
       "326443                                  <NA> 2019-04-02 15:22:55.703  \n",
       "\n",
       "[5 rows x 22 columns]"
      ]
     },
     "execution_count": 6,
     "metadata": {},
     "output_type": "execute_result"
    }
   ],
   "source": [
    "locations.df.head()"
   ]
  },
  {
   "cell_type": "markdown",
   "id": "7bb36801-bfb8-4e57-bf7d-96795e845f98",
   "metadata": {},
   "source": [
    "***"
   ]
  },
  {
   "cell_type": "markdown",
   "id": "1fee3cfc-53b5-4af8-85be-13340e864a06",
   "metadata": {},
   "source": [
    "Posts dataset:"
   ]
  },
  {
   "cell_type": "code",
   "execution_count": 7,
   "id": "2a138bf6-152d-4df6-8c7a-cb8f34ccb8c3",
   "metadata": {},
   "outputs": [
    {
     "data": {
      "text/html": [
       "<div>\n",
       "<style scoped>\n",
       "    .dataframe tbody tr th:only-of-type {\n",
       "        vertical-align: middle;\n",
       "    }\n",
       "\n",
       "    .dataframe tbody tr th {\n",
       "        vertical-align: top;\n",
       "    }\n",
       "\n",
       "    .dataframe thead th {\n",
       "        text-align: right;\n",
       "    }\n",
       "</style>\n",
       "<table border=\"1\" class=\"dataframe\">\n",
       "  <thead>\n",
       "    <tr style=\"text-align: right;\">\n",
       "      <th></th>\n",
       "      <th>sid_profile</th>\n",
       "      <th>post_id</th>\n",
       "      <th>profile_id</th>\n",
       "      <th>location_id</th>\n",
       "      <th>cts</th>\n",
       "      <th>post_type</th>\n",
       "      <th>description</th>\n",
       "      <th>numbr_likes</th>\n",
       "      <th>number_comments</th>\n",
       "    </tr>\n",
       "    <tr>\n",
       "      <th>sid</th>\n",
       "      <th></th>\n",
       "      <th></th>\n",
       "      <th></th>\n",
       "      <th></th>\n",
       "      <th></th>\n",
       "      <th></th>\n",
       "      <th></th>\n",
       "      <th></th>\n",
       "      <th></th>\n",
       "    </tr>\n",
       "  </thead>\n",
       "  <tbody>\n",
       "    <tr>\n",
       "      <th>28370919</th>\n",
       "      <td>3496776</td>\n",
       "      <td>BXdjjUlgcgq</td>\n",
       "      <td>2237947779</td>\n",
       "      <td>1022366247837915</td>\n",
       "      <td>2017-08-06 20:06:57</td>\n",
       "      <td>2</td>\n",
       "      <td>Wreckloose! Deevalley bike park laps on the @i...</td>\n",
       "      <td>80</td>\n",
       "      <td>0</td>\n",
       "    </tr>\n",
       "    <tr>\n",
       "      <th>28370932</th>\n",
       "      <td>-1</td>\n",
       "      <td>BVg0pbolYBC</td>\n",
       "      <td>5579335020</td>\n",
       "      <td>457426771112991</td>\n",
       "      <td>2017-06-19 09:31:16</td>\n",
       "      <td>1</td>\n",
       "      <td>🙌🏼 believe in ya dreams 🙌🏼 just like I believe...</td>\n",
       "      <td>25</td>\n",
       "      <td>1</td>\n",
       "    </tr>\n",
       "    <tr>\n",
       "      <th>28370933</th>\n",
       "      <td>-1</td>\n",
       "      <td>BRgkjcXFp3Q</td>\n",
       "      <td>313429634</td>\n",
       "      <td>457426771112991</td>\n",
       "      <td>2017-03-11 20:05:03</td>\n",
       "      <td>1</td>\n",
       "      <td>#meraviglia #incensi #the #candele #profumo #a...</td>\n",
       "      <td>9</td>\n",
       "      <td>0</td>\n",
       "    </tr>\n",
       "    <tr>\n",
       "      <th>28370934</th>\n",
       "      <td>-1</td>\n",
       "      <td>BKTKeNhjEA7</td>\n",
       "      <td>1837592700</td>\n",
       "      <td>457426771112991</td>\n",
       "      <td>2016-09-13 16:27:16</td>\n",
       "      <td>1</td>\n",
       "      <td>#teatime #scorpion #friends #love #mountains #...</td>\n",
       "      <td>4</td>\n",
       "      <td>0</td>\n",
       "    </tr>\n",
       "    <tr>\n",
       "      <th>28370935</th>\n",
       "      <td>-1</td>\n",
       "      <td>8-NQrvoYLX</td>\n",
       "      <td>1131527143</td>\n",
       "      <td>457426771112991</td>\n",
       "      <td>2015-10-18 10:19:27</td>\n",
       "      <td>1</td>\n",
       "      <td>thE sky gavE mE a #constEllation</td>\n",
       "      <td>8</td>\n",
       "      <td>0</td>\n",
       "    </tr>\n",
       "  </tbody>\n",
       "</table>\n",
       "</div>"
      ],
      "text/plain": [
       "          sid_profile      post_id  profile_id       location_id  \\\n",
       "sid                                                                \n",
       "28370919      3496776  BXdjjUlgcgq  2237947779  1022366247837915   \n",
       "28370932           -1  BVg0pbolYBC  5579335020   457426771112991   \n",
       "28370933           -1  BRgkjcXFp3Q   313429634   457426771112991   \n",
       "28370934           -1  BKTKeNhjEA7  1837592700   457426771112991   \n",
       "28370935           -1   8-NQrvoYLX  1131527143   457426771112991   \n",
       "\n",
       "                         cts post_type  \\\n",
       "sid                                      \n",
       "28370919 2017-08-06 20:06:57         2   \n",
       "28370932 2017-06-19 09:31:16         1   \n",
       "28370933 2017-03-11 20:05:03         1   \n",
       "28370934 2016-09-13 16:27:16         1   \n",
       "28370935 2015-10-18 10:19:27         1   \n",
       "\n",
       "                                                description  numbr_likes  \\\n",
       "sid                                                                        \n",
       "28370919  Wreckloose! Deevalley bike park laps on the @i...           80   \n",
       "28370932  🙌🏼 believe in ya dreams 🙌🏼 just like I believe...           25   \n",
       "28370933  #meraviglia #incensi #the #candele #profumo #a...            9   \n",
       "28370934  #teatime #scorpion #friends #love #mountains #...            4   \n",
       "28370935                   thE sky gavE mE a #constEllation            8   \n",
       "\n",
       "          number_comments  \n",
       "sid                        \n",
       "28370919                0  \n",
       "28370932                1  \n",
       "28370933                0  \n",
       "28370934                0  \n",
       "28370935                0  "
      ]
     },
     "execution_count": 7,
     "metadata": {},
     "output_type": "execute_result"
    }
   ],
   "source": [
    "posts.df.head()"
   ]
  },
  {
   "cell_type": "markdown",
   "id": "666f3a51-1121-4569-a8ef-0f17ac291a45",
   "metadata": {},
   "source": [
    "Profiles dataset:"
   ]
  },
  {
   "cell_type": "code",
   "execution_count": 8,
   "id": "f695e68e-df74-40ba-a6d9-cd66b5c79785",
   "metadata": {},
   "outputs": [
    {
     "data": {
      "text/html": [
       "<div>\n",
       "<style scoped>\n",
       "    .dataframe tbody tr th:only-of-type {\n",
       "        vertical-align: middle;\n",
       "    }\n",
       "\n",
       "    .dataframe tbody tr th {\n",
       "        vertical-align: top;\n",
       "    }\n",
       "\n",
       "    .dataframe thead th {\n",
       "        text-align: right;\n",
       "    }\n",
       "</style>\n",
       "<table border=\"1\" class=\"dataframe\">\n",
       "  <thead>\n",
       "    <tr style=\"text-align: right;\">\n",
       "      <th></th>\n",
       "      <th>profile_id</th>\n",
       "      <th>profile_name</th>\n",
       "      <th>firstname_lastname</th>\n",
       "      <th>description</th>\n",
       "      <th>following</th>\n",
       "      <th>followers</th>\n",
       "      <th>n_posts</th>\n",
       "      <th>url</th>\n",
       "      <th>cts</th>\n",
       "      <th>is_business_account</th>\n",
       "    </tr>\n",
       "    <tr>\n",
       "      <th>sid</th>\n",
       "      <th></th>\n",
       "      <th></th>\n",
       "      <th></th>\n",
       "      <th></th>\n",
       "      <th></th>\n",
       "      <th></th>\n",
       "      <th></th>\n",
       "      <th></th>\n",
       "      <th></th>\n",
       "      <th></th>\n",
       "    </tr>\n",
       "  </thead>\n",
       "  <tbody>\n",
       "    <tr>\n",
       "      <th>4184446</th>\n",
       "      <td>4721049632</td>\n",
       "      <td>jphillip033</td>\n",
       "      <td>John Pierce</td>\n",
       "      <td>\"Document Everything Always\"</td>\n",
       "      <td>250</td>\n",
       "      <td>146</td>\n",
       "      <td>170</td>\n",
       "      <td>&lt;NA&gt;</td>\n",
       "      <td>2019-08-01 14:38:55.394000-04:00</td>\n",
       "      <td>False</td>\n",
       "    </tr>\n",
       "    <tr>\n",
       "      <th>4184457</th>\n",
       "      <td>590583002</td>\n",
       "      <td>mama_haas</td>\n",
       "      <td>Deanna</td>\n",
       "      <td>Trying to enjoy the simple things in life. Kni...</td>\n",
       "      <td>534</td>\n",
       "      <td>1145</td>\n",
       "      <td>2878</td>\n",
       "      <td>www.etsy.com/shop/MamaHaas69</td>\n",
       "      <td>2019-08-01 14:39:36.526000-04:00</td>\n",
       "      <td>False</td>\n",
       "    </tr>\n",
       "    <tr>\n",
       "      <th>4184460</th>\n",
       "      <td>1074146658</td>\n",
       "      <td>yellowlightbreen</td>\n",
       "      <td>Eliza Gray</td>\n",
       "      <td>Maine is for Lovers</td>\n",
       "      <td>469</td>\n",
       "      <td>324</td>\n",
       "      <td>431</td>\n",
       "      <td>elizajanegray.com</td>\n",
       "      <td>2019-08-01 14:39:54.407000-04:00</td>\n",
       "      <td>False</td>\n",
       "    </tr>\n",
       "    <tr>\n",
       "      <th>4184461</th>\n",
       "      <td>1472038842</td>\n",
       "      <td>tec1025</td>\n",
       "      <td>Thomas Clark</td>\n",
       "      <td>&lt;NA&gt;</td>\n",
       "      <td>&lt;NA&gt;</td>\n",
       "      <td>&lt;NA&gt;</td>\n",
       "      <td>&lt;NA&gt;</td>\n",
       "      <td>&lt;NA&gt;</td>\n",
       "      <td>2019-08-01 14:40:06.472000-04:00</td>\n",
       "      <td>&lt;NA&gt;</td>\n",
       "    </tr>\n",
       "    <tr>\n",
       "      <th>4184462</th>\n",
       "      <td>3531420803</td>\n",
       "      <td>luckyfluff</td>\n",
       "      <td>&lt;NA&gt;</td>\n",
       "      <td>&lt;NA&gt;</td>\n",
       "      <td>&lt;NA&gt;</td>\n",
       "      <td>&lt;NA&gt;</td>\n",
       "      <td>&lt;NA&gt;</td>\n",
       "      <td>&lt;NA&gt;</td>\n",
       "      <td>2019-08-01 14:40:07.806000-04:00</td>\n",
       "      <td>&lt;NA&gt;</td>\n",
       "    </tr>\n",
       "  </tbody>\n",
       "</table>\n",
       "</div>"
      ],
      "text/plain": [
       "         profile_id      profile_name firstname_lastname  \\\n",
       "sid                                                        \n",
       "4184446  4721049632       jphillip033        John Pierce   \n",
       "4184457   590583002         mama_haas             Deanna   \n",
       "4184460  1074146658  yellowlightbreen         Eliza Gray   \n",
       "4184461  1472038842           tec1025       Thomas Clark   \n",
       "4184462  3531420803        luckyfluff               <NA>   \n",
       "\n",
       "                                               description  following  \\\n",
       "sid                                                                     \n",
       "4184446                       \"Document Everything Always\"        250   \n",
       "4184457  Trying to enjoy the simple things in life. Kni...        534   \n",
       "4184460                                Maine is for Lovers        469   \n",
       "4184461                                               <NA>       <NA>   \n",
       "4184462                                               <NA>       <NA>   \n",
       "\n",
       "         followers  n_posts                           url  \\\n",
       "sid                                                         \n",
       "4184446        146      170                          <NA>   \n",
       "4184457       1145     2878  www.etsy.com/shop/MamaHaas69   \n",
       "4184460        324      431             elizajanegray.com   \n",
       "4184461       <NA>     <NA>                          <NA>   \n",
       "4184462       <NA>     <NA>                          <NA>   \n",
       "\n",
       "                                      cts  is_business_account  \n",
       "sid                                                             \n",
       "4184446  2019-08-01 14:38:55.394000-04:00                False  \n",
       "4184457  2019-08-01 14:39:36.526000-04:00                False  \n",
       "4184460  2019-08-01 14:39:54.407000-04:00                False  \n",
       "4184461  2019-08-01 14:40:06.472000-04:00                 <NA>  \n",
       "4184462  2019-08-01 14:40:07.806000-04:00                 <NA>  "
      ]
     },
     "execution_count": 8,
     "metadata": {},
     "output_type": "execute_result"
    }
   ],
   "source": [
    "profiles.df.head()"
   ]
  },
  {
   "cell_type": "markdown",
   "id": "d9a158ad-a5dc-4a48-838c-537f80cd4271",
   "metadata": {},
   "source": [
    " "
   ]
  },
  {
   "cell_type": "markdown",
   "id": "164151af-df46-4449-945d-28879cd5cfd8",
   "metadata": {},
   "source": [
    " "
   ]
  },
  {
   "cell_type": "markdown",
   "id": "9a20f3f5-ed71-4745-9cb7-66fecc94d561",
   "metadata": {},
   "source": [
    "\n",
    "Now let's try to have a summary of the most important information of the three datasets starting with their dimensions (in terms of rows $\\times$ columns)\n"
   ]
  },
  {
   "cell_type": "code",
   "execution_count": 9,
   "id": "fe5023dc-f6db-421b-b6f3-b47d5e292865",
   "metadata": {},
   "outputs": [
    {
     "name": "stdout",
     "output_type": "stream",
     "text": [
      "Locations dataset --> (100000, 22)\n",
      "Posts dataset --> (100000, 9)\n",
      "Profiles dataset --> (100000, 10)\n"
     ]
    }
   ],
   "source": [
    "print(f\"Locations dataset --> {locations.df.shape}\")\n",
    "print(f\"Posts dataset --> {posts.df.shape}\")\n",
    "print(f\"Profiles dataset --> {profiles.df.shape}\")"
   ]
  },
  {
   "cell_type": "markdown",
   "id": "4ff5648c-d314-4635-96fa-19fa590c0567",
   "metadata": {},
   "source": [
    "We have three pretty big datasets, let's display the name of the variables (columns) for each of them with the information related to the number of \"Non null\" values and the type we have choose to assign to them."
   ]
  },
  {
   "cell_type": "markdown",
   "id": "d3b8206c-c232-47de-a577-7ca87bbbfd33",
   "metadata": {},
   "source": [
    "Locations dataset:"
   ]
  },
  {
   "cell_type": "code",
   "execution_count": 10,
   "id": "708cf0c7-d3bf-4851-a291-f51acbc57b84",
   "metadata": {},
   "outputs": [
    {
     "name": "stdout",
     "output_type": "stream",
     "text": [
      "<class 'pandas.core.frame.DataFrame'>\n",
      "Int64Index: 100000 entries, 719981 to 807738\n",
      "Data columns (total 22 columns):\n",
      " #   Column                  Non-Null Count   Dtype         \n",
      "---  ------                  --------------   -----         \n",
      " 0   id                      100000 non-null  UInt64        \n",
      " 1   name                    100000 non-null  string        \n",
      " 2   street                  67518 non-null   string        \n",
      " 3   zip                     65807 non-null   string        \n",
      " 4   city                    90615 non-null   string        \n",
      " 5   region                  95 non-null      string        \n",
      " 6   cd                      90705 non-null   string        \n",
      " 7   phone                   55137 non-null   string        \n",
      " 8   aj_exact_city_match     97677 non-null   boolean       \n",
      " 9   aj_exact_country_match  97677 non-null   boolean       \n",
      " 10  blurb                   36661 non-null   string        \n",
      " 11  dir_city_id             48279 non-null   string        \n",
      " 12  dir_city_name           48279 non-null   string        \n",
      " 13  dir_city_slug           48222 non-null   string        \n",
      " 14  dir_country_id          48270 non-null   category      \n",
      " 15  dir_country_name        48279 non-null   category      \n",
      " 16  lat                     99329 non-null   Float32       \n",
      " 17  lng                     99329 non-null   Float32       \n",
      " 18  primary_alias_on_fb     38082 non-null   string        \n",
      " 19  slug                    90618 non-null   string        \n",
      " 20  website                 55551 non-null   string        \n",
      " 21  cts                     100000 non-null  datetime64[ns]\n",
      "dtypes: Float32(2), UInt64(1), boolean(2), category(2), datetime64[ns](1), string(14)\n",
      "memory usage: 25.4 MB\n"
     ]
    }
   ],
   "source": [
    "locations.df.info()"
   ]
  },
  {
   "cell_type": "markdown",
   "id": "372f38a5-0e57-47f8-b4b3-c7b62a0b18ef",
   "metadata": {},
   "source": [
    "Posts dataset:"
   ]
  },
  {
   "cell_type": "code",
   "execution_count": 11,
   "id": "ec0ef519-09f6-4481-9c57-864339e635ab",
   "metadata": {},
   "outputs": [
    {
     "name": "stdout",
     "output_type": "stream",
     "text": [
      "<class 'pandas.core.frame.DataFrame'>\n",
      "Int64Index: 100000 entries, 28370919 to 28472844\n",
      "Data columns (total 9 columns):\n",
      " #   Column           Non-Null Count   Dtype         \n",
      "---  ------           --------------   -----         \n",
      " 0   sid_profile      100000 non-null  Int32         \n",
      " 1   post_id          100000 non-null  string        \n",
      " 2   profile_id       100000 non-null  UInt64        \n",
      " 3   location_id      100000 non-null  UInt64        \n",
      " 4   cts              100000 non-null  datetime64[ns]\n",
      " 5   post_type        100000 non-null  category      \n",
      " 6   description      91905 non-null   string        \n",
      " 7   numbr_likes      100000 non-null  Int64         \n",
      " 8   number_comments  100000 non-null  UInt32        \n",
      "dtypes: Int32(1), Int64(1), UInt32(1), UInt64(2), category(1), datetime64[ns](1), string(2)\n",
      "memory usage: 26.5 MB\n"
     ]
    }
   ],
   "source": [
    "posts.df.info()"
   ]
  },
  {
   "cell_type": "markdown",
   "id": "3f0bd5f7-990f-43b1-bb7e-d6847a741e2d",
   "metadata": {},
   "source": [
    "Profiles dataset:"
   ]
  },
  {
   "cell_type": "code",
   "execution_count": 12,
   "id": "10d98cea-89a8-4416-b98c-03774157b038",
   "metadata": {},
   "outputs": [
    {
     "name": "stdout",
     "output_type": "stream",
     "text": [
      "<class 'pandas.core.frame.DataFrame'>\n",
      "Int64Index: 100000 entries, 4184446 to 4285016\n",
      "Data columns (total 10 columns):\n",
      " #   Column               Non-Null Count   Dtype  \n",
      "---  ------               --------------   -----  \n",
      " 0   profile_id           99998 non-null   UInt64 \n",
      " 1   profile_name         100000 non-null  string \n",
      " 2   firstname_lastname   95733 non-null   string \n",
      " 3   description          50170 non-null   string \n",
      " 4   following            63022 non-null   UInt32 \n",
      " 5   followers            63022 non-null   UInt32 \n",
      " 6   n_posts              63022 non-null   UInt32 \n",
      " 7   url                  22613 non-null   string \n",
      " 8   cts                  99974 non-null   object \n",
      " 9   is_business_account  63022 non-null   boolean\n",
      "dtypes: UInt32(3), UInt64(1), boolean(1), object(1), string(4)\n",
      "memory usage: 14.2+ MB\n"
     ]
    }
   ],
   "source": [
    "profiles.df.info()"
   ]
  },
  {
   "cell_type": "markdown",
   "id": "666550f6-b05e-4209-9923-be5c3a6bab1f",
   "metadata": {},
   "source": [
    "We can now start to compute some statistics"
   ]
  },
  {
   "cell_type": "markdown",
   "id": "66514cc8-a28c-4474-9119-9b3d8b11dbdf",
   "metadata": {},
   "source": [
    "Let's start with the \"Posts\" dataset for which we choose the columns \"numbr_likes\" and \"numbr_comments\":"
   ]
  },
  {
   "cell_type": "code",
   "execution_count": 13,
   "id": "14b70055-25cb-49b3-8ba4-d9d12dc1bd71",
   "metadata": {},
   "outputs": [
    {
     "data": {
      "text/html": [
       "<div>\n",
       "<style scoped>\n",
       "    .dataframe tbody tr th:only-of-type {\n",
       "        vertical-align: middle;\n",
       "    }\n",
       "\n",
       "    .dataframe tbody tr th {\n",
       "        vertical-align: top;\n",
       "    }\n",
       "\n",
       "    .dataframe thead th {\n",
       "        text-align: right;\n",
       "    }\n",
       "</style>\n",
       "<table border=\"1\" class=\"dataframe\">\n",
       "  <thead>\n",
       "    <tr style=\"text-align: right;\">\n",
       "      <th></th>\n",
       "      <th>numbr_likes</th>\n",
       "      <th>number_comments</th>\n",
       "    </tr>\n",
       "  </thead>\n",
       "  <tbody>\n",
       "    <tr>\n",
       "      <th>count</th>\n",
       "      <td>100000.000000</td>\n",
       "      <td>100000.000000</td>\n",
       "    </tr>\n",
       "    <tr>\n",
       "      <th>mean</th>\n",
       "      <td>325.856710</td>\n",
       "      <td>7.582170</td>\n",
       "    </tr>\n",
       "    <tr>\n",
       "      <th>std</th>\n",
       "      <td>5512.736285</td>\n",
       "      <td>124.782766</td>\n",
       "    </tr>\n",
       "    <tr>\n",
       "      <th>min</th>\n",
       "      <td>0.000000</td>\n",
       "      <td>0.000000</td>\n",
       "    </tr>\n",
       "    <tr>\n",
       "      <th>25%</th>\n",
       "      <td>20.000000</td>\n",
       "      <td>0.000000</td>\n",
       "    </tr>\n",
       "    <tr>\n",
       "      <th>50%</th>\n",
       "      <td>48.000000</td>\n",
       "      <td>2.000000</td>\n",
       "    </tr>\n",
       "    <tr>\n",
       "      <th>75%</th>\n",
       "      <td>126.000000</td>\n",
       "      <td>5.000000</td>\n",
       "    </tr>\n",
       "    <tr>\n",
       "      <th>max</th>\n",
       "      <td>852230.000000</td>\n",
       "      <td>31655.000000</td>\n",
       "    </tr>\n",
       "  </tbody>\n",
       "</table>\n",
       "</div>"
      ],
      "text/plain": [
       "         numbr_likes  number_comments\n",
       "count  100000.000000    100000.000000\n",
       "mean      325.856710         7.582170\n",
       "std      5512.736285       124.782766\n",
       "min         0.000000         0.000000\n",
       "25%        20.000000         0.000000\n",
       "50%        48.000000         2.000000\n",
       "75%       126.000000         5.000000\n",
       "max    852230.000000     31655.000000"
      ]
     },
     "execution_count": 13,
     "metadata": {},
     "output_type": "execute_result"
    }
   ],
   "source": [
    "posts.df[[\"numbr_likes\", \"number_comments\"]].describe()"
   ]
  },
  {
   "cell_type": "markdown",
   "id": "2fb10cbe-f830-4b7f-b61d-74f629789add",
   "metadata": {},
   "source": [
    "And now the \"Profiles\" dataset for which we choose \"following\", \"followers\" and \"n_posts\""
   ]
  },
  {
   "cell_type": "code",
   "execution_count": 14,
   "id": "1afacc0b-d00d-4187-9592-19318140427d",
   "metadata": {},
   "outputs": [
    {
     "data": {
      "text/html": [
       "<div>\n",
       "<style scoped>\n",
       "    .dataframe tbody tr th:only-of-type {\n",
       "        vertical-align: middle;\n",
       "    }\n",
       "\n",
       "    .dataframe tbody tr th {\n",
       "        vertical-align: top;\n",
       "    }\n",
       "\n",
       "    .dataframe thead th {\n",
       "        text-align: right;\n",
       "    }\n",
       "</style>\n",
       "<table border=\"1\" class=\"dataframe\">\n",
       "  <thead>\n",
       "    <tr style=\"text-align: right;\">\n",
       "      <th></th>\n",
       "      <th>following</th>\n",
       "      <th>followers</th>\n",
       "      <th>n_posts</th>\n",
       "    </tr>\n",
       "  </thead>\n",
       "  <tbody>\n",
       "    <tr>\n",
       "      <th>count</th>\n",
       "      <td>63022.000000</td>\n",
       "      <td>6.302200e+04</td>\n",
       "      <td>63022.000000</td>\n",
       "    </tr>\n",
       "    <tr>\n",
       "      <th>mean</th>\n",
       "      <td>805.227460</td>\n",
       "      <td>8.153461e+03</td>\n",
       "      <td>576.003745</td>\n",
       "    </tr>\n",
       "    <tr>\n",
       "      <th>std</th>\n",
       "      <td>1079.162713</td>\n",
       "      <td>1.220786e+05</td>\n",
       "      <td>1137.808700</td>\n",
       "    </tr>\n",
       "    <tr>\n",
       "      <th>min</th>\n",
       "      <td>0.000000</td>\n",
       "      <td>0.000000e+00</td>\n",
       "      <td>0.000000</td>\n",
       "    </tr>\n",
       "    <tr>\n",
       "      <th>25%</th>\n",
       "      <td>225.000000</td>\n",
       "      <td>2.620000e+02</td>\n",
       "      <td>85.000000</td>\n",
       "    </tr>\n",
       "    <tr>\n",
       "      <th>50%</th>\n",
       "      <td>494.000000</td>\n",
       "      <td>6.530000e+02</td>\n",
       "      <td>241.000000</td>\n",
       "    </tr>\n",
       "    <tr>\n",
       "      <th>75%</th>\n",
       "      <td>932.000000</td>\n",
       "      <td>1.475000e+03</td>\n",
       "      <td>631.000000</td>\n",
       "    </tr>\n",
       "    <tr>\n",
       "      <th>max</th>\n",
       "      <td>7597.000000</td>\n",
       "      <td>1.167298e+07</td>\n",
       "      <td>41762.000000</td>\n",
       "    </tr>\n",
       "  </tbody>\n",
       "</table>\n",
       "</div>"
      ],
      "text/plain": [
       "          following     followers       n_posts\n",
       "count  63022.000000  6.302200e+04  63022.000000\n",
       "mean     805.227460  8.153461e+03    576.003745\n",
       "std     1079.162713  1.220786e+05   1137.808700\n",
       "min        0.000000  0.000000e+00      0.000000\n",
       "25%      225.000000  2.620000e+02     85.000000\n",
       "50%      494.000000  6.530000e+02    241.000000\n",
       "75%      932.000000  1.475000e+03    631.000000\n",
       "max     7597.000000  1.167298e+07  41762.000000"
      ]
     },
     "execution_count": 14,
     "metadata": {},
     "output_type": "execute_result"
    }
   ],
   "source": [
    "profiles.df[[\"following\", \"followers\", \"n_posts\"]].describe()"
   ]
  },
  {
   "cell_type": "markdown",
   "id": "ef33c223-fbf3-49e3-aa51-90390b7fe941",
   "metadata": {},
   "source": [
    "An important information to know when analyzing a dataset is the number of missing values for each variables. We already found the numbers of \"Non null\" but let's now visualize, trough a barplot for each dataset, which are the proportions of \"NaN\""
   ]
  },
  {
   "cell_type": "code",
   "execution_count": 15,
   "id": "81b6ff65-f0cc-4a66-a99b-5b4c8a1a36f7",
   "metadata": {},
   "outputs": [
    {
     "data": {
      "image/png": "[encoded data removed]",
      "text/plain": [
       "<Figure size 576x432 with 1 Axes>"
      ]
     },
     "metadata": {
      "needs_background": "light"
     },
     "output_type": "display_data"
    }
   ],
   "source": [
    "# magari potrei usare il lollipop plot\n",
    "plt.rcParams['figure.figsize'] = [8,6]\n",
    "sns.barplot(x=np.array(locations.df.isna().sum())/len(locations.df), y=locations.df.columns.values.tolist(), palette=\"Blues\")\n",
    "plt.title(\"PROPORTIONS OF NaN FOR LOCATIONS DATASET\")\n",
    "plt.xlabel(\"Relative frequency of NaN\")\n",
    "plt.ylabel(\"Variables\")\n",
    "plt.grid()"
   ]
  },
  {
   "cell_type": "markdown",
   "id": "8f98afff-5f49-4232-bcd8-69c66fbfbd29",
   "metadata": {},
   "source": [
    "The barplot shows that for some variables we don't have around 50% of the observation, for the variable \"region\" this proportion it's much higher, we miss almost all the values."
   ]
  },
  {
   "cell_type": "code",
   "execution_count": 16,
   "id": "511ac650-4e83-427f-854e-565f49515824",
   "metadata": {},
   "outputs": [
    {
     "data": {
      "image/png": "[encoded data removed]",
      "text/plain": [
       "<Figure size 576x432 with 1 Axes>"
      ]
     },
     "metadata": {
      "needs_background": "light"
     },
     "output_type": "display_data"
    }
   ],
   "source": [
    "sns.barplot(x=np.array(posts.df.isna().sum())/len(posts.df), y=posts.df.columns.values.tolist(), palette=\"Blues\")\n",
    "plt.title(\"PROPORTIONS OF NaN FOR POSTS DATASET\")\n",
    "plt.xlabel(\"Relative frequency of NaN\")\n",
    "plt.ylabel(\"Variables\")\n",
    "plt.grid()"
   ]
  },
  {
   "cell_type": "markdown",
   "id": "6172fc39-985e-4ae2-b20f-c8e7ed30f8d3",
   "metadata": {},
   "source": [
    "For this dataset we have very few _NaN_ and they are all present in the variable \"Description\""
   ]
  },
  {
   "cell_type": "code",
   "execution_count": 17,
   "id": "7dd01308-92ee-4980-812e-1f5da2dc3b45",
   "metadata": {},
   "outputs": [
    {
     "data": {
      "image/png": "[encoded data removed]",
      "text/plain": [
       "<Figure size 576x432 with 1 Axes>"
      ]
     },
     "metadata": {
      "needs_background": "light"
     },
     "output_type": "display_data"
    }
   ],
   "source": [
    "sns.barplot(x=np.array(profiles.df.isna().sum())/len(profiles.df), y=profiles.df.columns.values.tolist(), palette=\"Blues\")\n",
    "plt.title(\"PROPORTIONS OF NaN FOR PROFILES DATASET\")\n",
    "plt.xlabel(\"Relative frequency of NaN\")\n",
    "plt.ylabel(\"Variables\")\n",
    "plt.grid()"
   ]
  },
  {
   "cell_type": "markdown",
   "id": "6c8a659b-3c40-4f9b-8bda-4910dd1a31ec",
   "metadata": {},
   "source": [
    "With this last barplot we can see that \"following\", \"followers\" and \"n_posts\" have the same percentage of _NaN_ and that \"url\" it's by far the variable with the most number of missing values. We miss a lot of values also for the variable \"description\" and \"is_business_account\""
   ]
  },
  {
   "cell_type": "code",
   "execution_count": 18,
   "id": "2c81fc9b-6bd4-455e-91ca-716cccce095c",
   "metadata": {},
   "outputs": [
    {
     "data": {
      "image/png": "[encoded data removed]",
      "text/plain": [
       "<Figure size 576x432 with 1 Axes>"
      ]
     },
     "metadata": {
      "needs_background": "light"
     },
     "output_type": "display_data"
    }
   ],
   "source": [
    "# https://aakashkh.github.io/python/visualisation/2019/08/23/Plotting-Seaborn-Heatmap-Lollipop.html\n",
    "values = np.array(profiles.df.isna().sum())/len(profiles.df)\n",
    "my_range =range(0,len(values))\n",
    "names = profiles.df.columns.values.tolist()\n",
    "plt.grid()\n",
    "plt.hlines(y=names, xmin=0, xmax=values, linewidth=3, alpha=0.8)\n",
    "plt.scatter(values, my_range, s=80, alpha=1)\n",
    "plt.show()"
   ]
  },
  {
   "cell_type": "markdown",
   "id": "688b01a1-3cb5-42a0-b174-920f89756b1e",
   "metadata": {},
   "source": [
    "Number likes and comments distribution (visualized with an histogram)"
   ]
  },
  {
   "cell_type": "code",
   "execution_count": null,
   "id": "bb20ba4a-15e6-48d0-a4dc-a2c3bc61b8a5",
   "metadata": {},
   "outputs": [],
   "source": []
  },
  {
   "cell_type": "markdown",
   "id": "808627bd-e5d2-4a55-a10b-e7419a2a2971",
   "metadata": {},
   "source": [
    "Number of followers, following and posts distribution (visualized with an histogram)"
   ]
  },
  {
   "cell_type": "code",
   "execution_count": 19,
   "id": "5ee977f7-806a-43c7-8b87-17892b8207f2",
   "metadata": {},
   "outputs": [],
   "source": [
    "# sns.histplot(data=profiles.df, x=\"followers\")"
   ]
  },
  {
   "cell_type": "markdown",
   "id": "fea200f7-dbd2-468f-9997-c577b1da5d0a",
   "metadata": {},
   "source": [
    "***"
   ]
  },
  {
   "cell_type": "markdown",
   "id": "ef984524-3cda-4906-9205-082991acffdc",
   "metadata": {},
   "source": [
    "__4 - [RQ4] In most cases, we will not have a consistent dataset, and the one we are dealing with is not an exception (ex. in the given datasets, you may not find the information of the profiles for some of the posts). So let’s enhance our analysis.__"
   ]
  },
  {
   "cell_type": "markdown",
   "id": "3a099e79-c9d3-48a6-9d96-9ccd10403c0f",
   "metadata": {},
   "source": [
    "$\\bullet$ Write a function that, given a profile_id, will be able to return the posts that belong to the given profile_id."
   ]
  },
  {
   "cell_type": "code",
   "execution_count": 46,
   "id": "42bd59f6-4638-42a4-b3d5-b766be6e4cbe",
   "metadata": {},
   "outputs": [],
   "source": [
    "sub_posts1 = posts.col(['profile_id', 'post_id', 'numbr_likes', 'number_comments']) # 4:15 minuti "
   ]
  },
  {
   "cell_type": "code",
   "execution_count": 28,
   "id": "d12195ca-d507-4af2-be5a-f37a5b36fc51",
   "metadata": {},
   "outputs": [
    {
     "data": {
      "text/html": [
       "<div>\n",
       "<style scoped>\n",
       "    .dataframe tbody tr th:only-of-type {\n",
       "        vertical-align: middle;\n",
       "    }\n",
       "\n",
       "    .dataframe tbody tr th {\n",
       "        vertical-align: top;\n",
       "    }\n",
       "\n",
       "    .dataframe thead th {\n",
       "        text-align: right;\n",
       "    }\n",
       "</style>\n",
       "<table border=\"1\" class=\"dataframe\">\n",
       "  <thead>\n",
       "    <tr style=\"text-align: right;\">\n",
       "      <th></th>\n",
       "      <th>post_id</th>\n",
       "      <th>profile_id</th>\n",
       "      <th>numbr_likes</th>\n",
       "      <th>number_comments</th>\n",
       "    </tr>\n",
       "    <tr>\n",
       "      <th>sid</th>\n",
       "      <th></th>\n",
       "      <th></th>\n",
       "      <th></th>\n",
       "      <th></th>\n",
       "    </tr>\n",
       "  </thead>\n",
       "  <tbody>\n",
       "    <tr>\n",
       "      <th>28370919</th>\n",
       "      <td>BXdjjUlgcgq</td>\n",
       "      <td>2237947779</td>\n",
       "      <td>80</td>\n",
       "      <td>0</td>\n",
       "    </tr>\n",
       "    <tr>\n",
       "      <th>28370932</th>\n",
       "      <td>BVg0pbolYBC</td>\n",
       "      <td>5579335020</td>\n",
       "      <td>25</td>\n",
       "      <td>1</td>\n",
       "    </tr>\n",
       "    <tr>\n",
       "      <th>28370933</th>\n",
       "      <td>BRgkjcXFp3Q</td>\n",
       "      <td>313429634</td>\n",
       "      <td>9</td>\n",
       "      <td>0</td>\n",
       "    </tr>\n",
       "    <tr>\n",
       "      <th>28370934</th>\n",
       "      <td>BKTKeNhjEA7</td>\n",
       "      <td>1837592700</td>\n",
       "      <td>4</td>\n",
       "      <td>0</td>\n",
       "    </tr>\n",
       "    <tr>\n",
       "      <th>28370935</th>\n",
       "      <td>8-NQrvoYLX</td>\n",
       "      <td>1131527143</td>\n",
       "      <td>8</td>\n",
       "      <td>0</td>\n",
       "    </tr>\n",
       "    <tr>\n",
       "      <th>...</th>\n",
       "      <td>...</td>\n",
       "      <td>...</td>\n",
       "      <td>...</td>\n",
       "      <td>...</td>\n",
       "    </tr>\n",
       "    <tr>\n",
       "      <th>28370925</th>\n",
       "      <td>BcpWMWGBfxh</td>\n",
       "      <td>5556457201</td>\n",
       "      <td>74</td>\n",
       "      <td>0</td>\n",
       "    </tr>\n",
       "    <tr>\n",
       "      <th>28370926</th>\n",
       "      <td>Ba6LZWwlCl8</td>\n",
       "      <td>337186454</td>\n",
       "      <td>49</td>\n",
       "      <td>0</td>\n",
       "    </tr>\n",
       "    <tr>\n",
       "      <th>28370929</th>\n",
       "      <td>BPN0kM1hYUw</td>\n",
       "      <td>3289886053</td>\n",
       "      <td>18</td>\n",
       "      <td>0</td>\n",
       "    </tr>\n",
       "    <tr>\n",
       "      <th>28370997</th>\n",
       "      <td>BxsZ8nDBr-L</td>\n",
       "      <td>8536366360</td>\n",
       "      <td>27</td>\n",
       "      <td>1</td>\n",
       "    </tr>\n",
       "    <tr>\n",
       "      <th>28370928</th>\n",
       "      <td>BgNJ4EzHQwQ</td>\n",
       "      <td>2219099766</td>\n",
       "      <td>1824</td>\n",
       "      <td>49</td>\n",
       "    </tr>\n",
       "  </tbody>\n",
       "</table>\n",
       "<p>42710197 rows × 4 columns</p>\n",
       "</div>"
      ],
      "text/plain": [
       "              post_id  profile_id  numbr_likes  number_comments\n",
       "sid                                                            \n",
       "28370919  BXdjjUlgcgq  2237947779           80                0\n",
       "28370932  BVg0pbolYBC  5579335020           25                1\n",
       "28370933  BRgkjcXFp3Q   313429634            9                0\n",
       "28370934  BKTKeNhjEA7  1837592700            4                0\n",
       "28370935   8-NQrvoYLX  1131527143            8                0\n",
       "...               ...         ...          ...              ...\n",
       "28370925  BcpWMWGBfxh  5556457201           74                0\n",
       "28370926  Ba6LZWwlCl8   337186454           49                0\n",
       "28370929  BPN0kM1hYUw  3289886053           18                0\n",
       "28370997  BxsZ8nDBr-L  8536366360           27                1\n",
       "28370928  BgNJ4EzHQwQ  2219099766         1824               49\n",
       "\n",
       "[42710197 rows x 4 columns]"
      ]
     },
     "execution_count": 28,
     "metadata": {},
     "output_type": "execute_result"
    }
   ],
   "source": [
    "sub_posts1"
   ]
  },
  {
   "cell_type": "code",
   "execution_count": 21,
   "id": "2d2b6945-e5ba-46ef-b091-4e0e272bd15e",
   "metadata": {},
   "outputs": [
    {
     "name": "stdout",
     "output_type": "stream",
     "text": [
      "Collecting datatable\n",
      "  Downloading datatable-1.0.0-cp39-cp39-macosx_10_9_x86_64.whl (7.9 MB)\n",
      "\u001b[K     |████████████████████████████████| 7.9 MB 3.1 MB/s eta 0:00:01\n",
      "\u001b[?25hInstalling collected packages: datatable\n",
      "Successfully installed datatable-1.0.0\n"
     ]
    },
    {
     "data": {
      "text/html": [
       "<style type='text/css'>\n",
       ".datatable table.frame { margin-bottom: 0; }\n",
       ".datatable table.frame thead { border-bottom: none; }\n",
       ".datatable table.frame tr.coltypes td {  color: #FFFFFF;  line-height: 6px;  padding: 0 0.5em;}\n",
       ".datatable .bool    { background: #DDDD99; }\n",
       ".datatable .object  { background: #565656; }\n",
       ".datatable .int     { background: #5D9E5D; }\n",
       ".datatable .float   { background: #4040CC; }\n",
       ".datatable .str     { background: #CC4040; }\n",
       ".datatable .time    { background: #40CC40; }\n",
       ".datatable .row_index {  background: var(--jp-border-color3);  border-right: 1px solid var(--jp-border-color0);  color: var(--jp-ui-font-color3);  font-size: 9px;}\n",
       ".datatable .frame tbody td { text-align: left; }\n",
       ".datatable .frame tr.coltypes .row_index {  background: var(--jp-border-color0);}\n",
       ".datatable th:nth-child(2) { padding-left: 12px; }\n",
       ".datatable .hellipsis {  color: var(--jp-cell-editor-border-color);}\n",
       ".datatable .vellipsis {  background: var(--jp-layout-color0);  color: var(--jp-cell-editor-border-color);}\n",
       ".datatable .na {  color: var(--jp-cell-editor-border-color);  font-size: 80%;}\n",
       ".datatable .sp {  opacity: 0.25;}\n",
       ".datatable .footer { font-size: 9px; }\n",
       ".datatable .frame_dimensions {  background: var(--jp-border-color3);  border-top: 1px solid var(--jp-border-color0);  color: var(--jp-ui-font-color3);  display: inline-block;  opacity: 0.6;  padding: 1px 10px 1px 5px;}\n",
       "</style>\n"
      ],
      "text/plain": [
       "<IPython.core.display.HTML object>"
      ]
     },
     "metadata": {},
     "output_type": "display_data"
    }
   ],
   "source": [
    "!pip install datatable\n",
    "import datatable as dt"
   ]
  },
  {
   "cell_type": "code",
   "execution_count": 25,
   "id": "312c5b01-7946-47cd-a60e-dccbd1dc68e9",
   "metadata": {},
   "outputs": [],
   "source": [
    "sub_posts = dt.fread(\"instagram_posts.csv\", columns={'profile_id', 'post_id', 'numbr_likes', 'number_comments'},\n",
    "                     sep='\\t').to_pandas() # 50 secondi"
   ]
  },
  {
   "cell_type": "code",
   "execution_count": 26,
   "id": "ae9c80b9-0276-4c1e-86b3-e572ebbdf501",
   "metadata": {},
   "outputs": [
    {
     "data": {
      "text/html": [
       "<div>\n",
       "<style scoped>\n",
       "    .dataframe tbody tr th:only-of-type {\n",
       "        vertical-align: middle;\n",
       "    }\n",
       "\n",
       "    .dataframe tbody tr th {\n",
       "        vertical-align: top;\n",
       "    }\n",
       "\n",
       "    .dataframe thead th {\n",
       "        text-align: right;\n",
       "    }\n",
       "</style>\n",
       "<table border=\"1\" class=\"dataframe\">\n",
       "  <thead>\n",
       "    <tr style=\"text-align: right;\">\n",
       "      <th></th>\n",
       "      <th>post_id</th>\n",
       "      <th>profile_id</th>\n",
       "      <th>numbr_likes</th>\n",
       "      <th>number_comments</th>\n",
       "    </tr>\n",
       "  </thead>\n",
       "  <tbody>\n",
       "    <tr>\n",
       "      <th>0</th>\n",
       "      <td>BXdjjUlgcgq</td>\n",
       "      <td>2.237948e+09</td>\n",
       "      <td>80.0</td>\n",
       "      <td>0.0</td>\n",
       "    </tr>\n",
       "    <tr>\n",
       "      <th>1</th>\n",
       "      <td>BVg0pbolYBC</td>\n",
       "      <td>5.579335e+09</td>\n",
       "      <td>25.0</td>\n",
       "      <td>1.0</td>\n",
       "    </tr>\n",
       "    <tr>\n",
       "      <th>2</th>\n",
       "      <td>BRgkjcXFp3Q</td>\n",
       "      <td>3.134296e+08</td>\n",
       "      <td>9.0</td>\n",
       "      <td>0.0</td>\n",
       "    </tr>\n",
       "    <tr>\n",
       "      <th>3</th>\n",
       "      <td>BKTKeNhjEA7</td>\n",
       "      <td>1.837593e+09</td>\n",
       "      <td>4.0</td>\n",
       "      <td>0.0</td>\n",
       "    </tr>\n",
       "    <tr>\n",
       "      <th>4</th>\n",
       "      <td>8-NQrvoYLX</td>\n",
       "      <td>1.131527e+09</td>\n",
       "      <td>8.0</td>\n",
       "      <td>0.0</td>\n",
       "    </tr>\n",
       "    <tr>\n",
       "      <th>...</th>\n",
       "      <td>...</td>\n",
       "      <td>...</td>\n",
       "      <td>...</td>\n",
       "      <td>...</td>\n",
       "    </tr>\n",
       "    <tr>\n",
       "      <th>42710192</th>\n",
       "      <td>BcpWMWGBfxh</td>\n",
       "      <td>5.556457e+09</td>\n",
       "      <td>74.0</td>\n",
       "      <td>0.0</td>\n",
       "    </tr>\n",
       "    <tr>\n",
       "      <th>42710193</th>\n",
       "      <td>Ba6LZWwlCl8</td>\n",
       "      <td>3.371865e+08</td>\n",
       "      <td>49.0</td>\n",
       "      <td>0.0</td>\n",
       "    </tr>\n",
       "    <tr>\n",
       "      <th>42710194</th>\n",
       "      <td>BPN0kM1hYUw</td>\n",
       "      <td>3.289886e+09</td>\n",
       "      <td>18.0</td>\n",
       "      <td>0.0</td>\n",
       "    </tr>\n",
       "    <tr>\n",
       "      <th>42710195</th>\n",
       "      <td>BxsZ8nDBr-L</td>\n",
       "      <td>8.536366e+09</td>\n",
       "      <td>27.0</td>\n",
       "      <td>1.0</td>\n",
       "    </tr>\n",
       "    <tr>\n",
       "      <th>42710196</th>\n",
       "      <td>BgNJ4EzHQwQ</td>\n",
       "      <td>2.219100e+09</td>\n",
       "      <td>1824.0</td>\n",
       "      <td>49.0</td>\n",
       "    </tr>\n",
       "  </tbody>\n",
       "</table>\n",
       "<p>42710197 rows × 4 columns</p>\n",
       "</div>"
      ],
      "text/plain": [
       "              post_id    profile_id  numbr_likes  number_comments\n",
       "0         BXdjjUlgcgq  2.237948e+09         80.0              0.0\n",
       "1         BVg0pbolYBC  5.579335e+09         25.0              1.0\n",
       "2         BRgkjcXFp3Q  3.134296e+08          9.0              0.0\n",
       "3         BKTKeNhjEA7  1.837593e+09          4.0              0.0\n",
       "4          8-NQrvoYLX  1.131527e+09          8.0              0.0\n",
       "...               ...           ...          ...              ...\n",
       "42710192  BcpWMWGBfxh  5.556457e+09         74.0              0.0\n",
       "42710193  Ba6LZWwlCl8  3.371865e+08         49.0              0.0\n",
       "42710194  BPN0kM1hYUw  3.289886e+09         18.0              0.0\n",
       "42710195  BxsZ8nDBr-L  8.536366e+09         27.0              1.0\n",
       "42710196  BgNJ4EzHQwQ  2.219100e+09       1824.0             49.0\n",
       "\n",
       "[42710197 rows x 4 columns]"
      ]
     },
     "execution_count": 26,
     "metadata": {},
     "output_type": "execute_result"
    }
   ],
   "source": []
  },
  {
   "cell_type": "code",
   "execution_count": 47,
   "id": "3da5f734-ec16-40b3-9fd8-d4981206e1c3",
   "metadata": {},
   "outputs": [
    {
     "data": {
      "text/html": [
       "<div>\n",
       "<style scoped>\n",
       "    .dataframe tbody tr th:only-of-type {\n",
       "        vertical-align: middle;\n",
       "    }\n",
       "\n",
       "    .dataframe tbody tr th {\n",
       "        vertical-align: top;\n",
       "    }\n",
       "\n",
       "    .dataframe thead th {\n",
       "        text-align: right;\n",
       "    }\n",
       "</style>\n",
       "<table border=\"1\" class=\"dataframe\">\n",
       "  <thead>\n",
       "    <tr style=\"text-align: right;\">\n",
       "      <th></th>\n",
       "      <th>post_id</th>\n",
       "      <th>profile_id</th>\n",
       "      <th>numbr_likes</th>\n",
       "      <th>number_comments</th>\n",
       "    </tr>\n",
       "    <tr>\n",
       "      <th>sid</th>\n",
       "      <th></th>\n",
       "      <th></th>\n",
       "      <th></th>\n",
       "      <th></th>\n",
       "    </tr>\n",
       "  </thead>\n",
       "  <tbody>\n",
       "    <tr>\n",
       "      <th>28452682</th>\n",
       "      <td>BxTV32ahahQ</td>\n",
       "      <td>5337907015</td>\n",
       "      <td>15</td>\n",
       "      <td>2</td>\n",
       "    </tr>\n",
       "    <tr>\n",
       "      <th>28452667</th>\n",
       "      <td>BsRarTBBPmd</td>\n",
       "      <td>5337907015</td>\n",
       "      <td>30</td>\n",
       "      <td>6</td>\n",
       "    </tr>\n",
       "    <tr>\n",
       "      <th>28452668</th>\n",
       "      <td>BqOlb0kBQ5V</td>\n",
       "      <td>5337907015</td>\n",
       "      <td>25</td>\n",
       "      <td>5</td>\n",
       "    </tr>\n",
       "    <tr>\n",
       "      <th>28452669</th>\n",
       "      <td>BtxQHmLhI1h</td>\n",
       "      <td>5337907015</td>\n",
       "      <td>26</td>\n",
       "      <td>11</td>\n",
       "    </tr>\n",
       "    <tr>\n",
       "      <th>28452672</th>\n",
       "      <td>Bic19O-liDj</td>\n",
       "      <td>5337907015</td>\n",
       "      <td>28</td>\n",
       "      <td>0</td>\n",
       "    </tr>\n",
       "    <tr>\n",
       "      <th>28452673</th>\n",
       "      <td>BsTLZELBTnU</td>\n",
       "      <td>5337907015</td>\n",
       "      <td>28</td>\n",
       "      <td>0</td>\n",
       "    </tr>\n",
       "    <tr>\n",
       "      <th>28452674</th>\n",
       "      <td>BqTsJM_FDQ_</td>\n",
       "      <td>5337907015</td>\n",
       "      <td>28</td>\n",
       "      <td>0</td>\n",
       "    </tr>\n",
       "    <tr>\n",
       "      <th>28452675</th>\n",
       "      <td>ByB_OFnnGFM</td>\n",
       "      <td>5337907015</td>\n",
       "      <td>19</td>\n",
       "      <td>0</td>\n",
       "    </tr>\n",
       "    <tr>\n",
       "      <th>28452676</th>\n",
       "      <td>BxxLqEyHlyg</td>\n",
       "      <td>5337907015</td>\n",
       "      <td>24</td>\n",
       "      <td>0</td>\n",
       "    </tr>\n",
       "    <tr>\n",
       "      <th>28452677</th>\n",
       "      <td>BxsxNBfHqgv</td>\n",
       "      <td>5337907015</td>\n",
       "      <td>19</td>\n",
       "      <td>0</td>\n",
       "    </tr>\n",
       "    <tr>\n",
       "      <th>28452678</th>\n",
       "      <td>Bxj4nbjHzkx</td>\n",
       "      <td>5337907015</td>\n",
       "      <td>31</td>\n",
       "      <td>4</td>\n",
       "    </tr>\n",
       "    <tr>\n",
       "      <th>28452679</th>\n",
       "      <td>BxXxQAXnOkL</td>\n",
       "      <td>5337907015</td>\n",
       "      <td>15</td>\n",
       "      <td>0</td>\n",
       "    </tr>\n",
       "    <tr>\n",
       "      <th>28452680</th>\n",
       "      <td>BxXZvyfhLCz</td>\n",
       "      <td>5337907015</td>\n",
       "      <td>17</td>\n",
       "      <td>1</td>\n",
       "    </tr>\n",
       "    <tr>\n",
       "      <th>28452681</th>\n",
       "      <td>BxVbbxihvLJ</td>\n",
       "      <td>5337907015</td>\n",
       "      <td>16</td>\n",
       "      <td>0</td>\n",
       "    </tr>\n",
       "    <tr>\n",
       "      <th>28452683</th>\n",
       "      <td>BxPa3dUhPtk</td>\n",
       "      <td>5337907015</td>\n",
       "      <td>26</td>\n",
       "      <td>0</td>\n",
       "    </tr>\n",
       "    <tr>\n",
       "      <th>28452684</th>\n",
       "      <td>BxOmh2QBn1q</td>\n",
       "      <td>5337907015</td>\n",
       "      <td>19</td>\n",
       "      <td>0</td>\n",
       "    </tr>\n",
       "    <tr>\n",
       "      <th>28452685</th>\n",
       "      <td>BxMyVcwhjs6</td>\n",
       "      <td>5337907015</td>\n",
       "      <td>20</td>\n",
       "      <td>0</td>\n",
       "    </tr>\n",
       "    <tr>\n",
       "      <th>28452670</th>\n",
       "      <td>BxDLnoAhLJL</td>\n",
       "      <td>5337907015</td>\n",
       "      <td>24</td>\n",
       "      <td>3</td>\n",
       "    </tr>\n",
       "    <tr>\n",
       "      <th>28452686</th>\n",
       "      <td>Bw-vVJsFZ-t</td>\n",
       "      <td>5337907015</td>\n",
       "      <td>6</td>\n",
       "      <td>5</td>\n",
       "    </tr>\n",
       "    <tr>\n",
       "      <th>28452687</th>\n",
       "      <td>BwzkHAWh1ff</td>\n",
       "      <td>5337907015</td>\n",
       "      <td>22</td>\n",
       "      <td>0</td>\n",
       "    </tr>\n",
       "    <tr>\n",
       "      <th>28452688</th>\n",
       "      <td>BwyVNqSB167</td>\n",
       "      <td>5337907015</td>\n",
       "      <td>16</td>\n",
       "      <td>1</td>\n",
       "    </tr>\n",
       "    <tr>\n",
       "      <th>28452689</th>\n",
       "      <td>BwhkuLblrOs</td>\n",
       "      <td>5337907015</td>\n",
       "      <td>18</td>\n",
       "      <td>0</td>\n",
       "    </tr>\n",
       "    <tr>\n",
       "      <th>28452690</th>\n",
       "      <td>BwHZPqvhuBC</td>\n",
       "      <td>5337907015</td>\n",
       "      <td>25</td>\n",
       "      <td>6</td>\n",
       "    </tr>\n",
       "    <tr>\n",
       "      <th>28452691</th>\n",
       "      <td>BwCKGP5BF5g</td>\n",
       "      <td>5337907015</td>\n",
       "      <td>29</td>\n",
       "      <td>2</td>\n",
       "    </tr>\n",
       "    <tr>\n",
       "      <th>28452692</th>\n",
       "      <td>BwBNmHiBYV3</td>\n",
       "      <td>5337907015</td>\n",
       "      <td>22</td>\n",
       "      <td>0</td>\n",
       "    </tr>\n",
       "    <tr>\n",
       "      <th>28452693</th>\n",
       "      <td>BvqVmBVBOsY</td>\n",
       "      <td>5337907015</td>\n",
       "      <td>21</td>\n",
       "      <td>0</td>\n",
       "    </tr>\n",
       "    <tr>\n",
       "      <th>28452694</th>\n",
       "      <td>BvHrnrMhBi9</td>\n",
       "      <td>5337907015</td>\n",
       "      <td>21</td>\n",
       "      <td>0</td>\n",
       "    </tr>\n",
       "    <tr>\n",
       "      <th>28452695</th>\n",
       "      <td>BvGARlZh6M9</td>\n",
       "      <td>5337907015</td>\n",
       "      <td>21</td>\n",
       "      <td>0</td>\n",
       "    </tr>\n",
       "    <tr>\n",
       "      <th>28452671</th>\n",
       "      <td>BvFHZuWBcy2</td>\n",
       "      <td>5337907015</td>\n",
       "      <td>23</td>\n",
       "      <td>5</td>\n",
       "    </tr>\n",
       "    <tr>\n",
       "      <th>33826690</th>\n",
       "      <td>ByK_5hhnY0o</td>\n",
       "      <td>5337907015</td>\n",
       "      <td>33</td>\n",
       "      <td>2</td>\n",
       "    </tr>\n",
       "  </tbody>\n",
       "</table>\n",
       "</div>"
      ],
      "text/plain": [
       "              post_id  profile_id  numbr_likes  number_comments\n",
       "sid                                                            \n",
       "28452682  BxTV32ahahQ  5337907015           15                2\n",
       "28452667  BsRarTBBPmd  5337907015           30                6\n",
       "28452668  BqOlb0kBQ5V  5337907015           25                5\n",
       "28452669  BtxQHmLhI1h  5337907015           26               11\n",
       "28452672  Bic19O-liDj  5337907015           28                0\n",
       "28452673  BsTLZELBTnU  5337907015           28                0\n",
       "28452674  BqTsJM_FDQ_  5337907015           28                0\n",
       "28452675  ByB_OFnnGFM  5337907015           19                0\n",
       "28452676  BxxLqEyHlyg  5337907015           24                0\n",
       "28452677  BxsxNBfHqgv  5337907015           19                0\n",
       "28452678  Bxj4nbjHzkx  5337907015           31                4\n",
       "28452679  BxXxQAXnOkL  5337907015           15                0\n",
       "28452680  BxXZvyfhLCz  5337907015           17                1\n",
       "28452681  BxVbbxihvLJ  5337907015           16                0\n",
       "28452683  BxPa3dUhPtk  5337907015           26                0\n",
       "28452684  BxOmh2QBn1q  5337907015           19                0\n",
       "28452685  BxMyVcwhjs6  5337907015           20                0\n",
       "28452670  BxDLnoAhLJL  5337907015           24                3\n",
       "28452686  Bw-vVJsFZ-t  5337907015            6                5\n",
       "28452687  BwzkHAWh1ff  5337907015           22                0\n",
       "28452688  BwyVNqSB167  5337907015           16                1\n",
       "28452689  BwhkuLblrOs  5337907015           18                0\n",
       "28452690  BwHZPqvhuBC  5337907015           25                6\n",
       "28452691  BwCKGP5BF5g  5337907015           29                2\n",
       "28452692  BwBNmHiBYV3  5337907015           22                0\n",
       "28452693  BvqVmBVBOsY  5337907015           21                0\n",
       "28452694  BvHrnrMhBi9  5337907015           21                0\n",
       "28452695  BvGARlZh6M9  5337907015           21                0\n",
       "28452671  BvFHZuWBcy2  5337907015           23                5\n",
       "33826690  ByK_5hhnY0o  5337907015           33                2"
      ]
     },
     "execution_count": 47,
     "metadata": {},
     "output_type": "execute_result"
    }
   ],
   "source": [
    "def post_finder(prof_id):\n",
    "    # the function will return a subset containing only the rows with profile_id equal to the query  \n",
    "    return sub_posts1[sub_posts1[\"profile_id\"]==prof_id]\n",
    "# let's try the function with an example profile_id\n",
    "example = 5337907015\n",
    "post_finder(example)"
   ]
  },
  {
   "cell_type": "markdown",
   "id": "467e6c19-1ac5-478a-8fe9-a776611dbaef",
   "metadata": {},
   "source": [
    "$\\bullet$ Write another function that, given an input n (an integer), will return the posts that belong to the n top posted profiles (top n profiles that have posted the highest number of posts) that their data is available in the profile.csv using the previously written function."
   ]
  },
  {
   "cell_type": "code",
   "execution_count": 48,
   "id": "6dd5ce7a-b6de-4f22-b1da-620883530538",
   "metadata": {},
   "outputs": [
    {
     "data": {
      "text/html": [
       "<div>\n",
       "<style scoped>\n",
       "    .dataframe tbody tr th:only-of-type {\n",
       "        vertical-align: middle;\n",
       "    }\n",
       "\n",
       "    .dataframe tbody tr th {\n",
       "        vertical-align: top;\n",
       "    }\n",
       "\n",
       "    .dataframe thead th {\n",
       "        text-align: right;\n",
       "    }\n",
       "</style>\n",
       "<table border=\"1\" class=\"dataframe\">\n",
       "  <thead>\n",
       "    <tr style=\"text-align: right;\">\n",
       "      <th></th>\n",
       "      <th>profile_id</th>\n",
       "      <th>post_id</th>\n",
       "      <th>numbr_likes</th>\n",
       "      <th>number_comments</th>\n",
       "    </tr>\n",
       "    <tr>\n",
       "      <th>sid</th>\n",
       "      <th></th>\n",
       "      <th></th>\n",
       "      <th></th>\n",
       "      <th></th>\n",
       "    </tr>\n",
       "  </thead>\n",
       "  <tbody>\n",
       "    <tr>\n",
       "      <th>28374592</th>\n",
       "      <td>12413245305</td>\n",
       "      <td>ByBUnBtjiZ3</td>\n",
       "      <td>2</td>\n",
       "      <td>0</td>\n",
       "    </tr>\n",
       "    <tr>\n",
       "      <th>28390546</th>\n",
       "      <td>12413245305</td>\n",
       "      <td>Bx_NkeBj3hC</td>\n",
       "      <td>4</td>\n",
       "      <td>0</td>\n",
       "    </tr>\n",
       "    <tr>\n",
       "      <th>28412069</th>\n",
       "      <td>12413245305</td>\n",
       "      <td>ByDczg5jNAi</td>\n",
       "      <td>5</td>\n",
       "      <td>0</td>\n",
       "    </tr>\n",
       "    <tr>\n",
       "      <th>28453545</th>\n",
       "      <td>12413245305</td>\n",
       "      <td>ByBgDmvDMzH</td>\n",
       "      <td>5</td>\n",
       "      <td>2</td>\n",
       "    </tr>\n",
       "    <tr>\n",
       "      <th>28488981</th>\n",
       "      <td>12878122053</td>\n",
       "      <td>Bx7YHanlnQ1</td>\n",
       "      <td>0</td>\n",
       "      <td>0</td>\n",
       "    </tr>\n",
       "    <tr>\n",
       "      <th>...</th>\n",
       "      <td>...</td>\n",
       "      <td>...</td>\n",
       "      <td>...</td>\n",
       "      <td>...</td>\n",
       "    </tr>\n",
       "    <tr>\n",
       "      <th>28213027</th>\n",
       "      <td>5421037289</td>\n",
       "      <td>BxFUEVkpJiW</td>\n",
       "      <td>6</td>\n",
       "      <td>0</td>\n",
       "    </tr>\n",
       "    <tr>\n",
       "      <th>28233074</th>\n",
       "      <td>5421037289</td>\n",
       "      <td>BszahmNA_7K</td>\n",
       "      <td>6</td>\n",
       "      <td>0</td>\n",
       "    </tr>\n",
       "    <tr>\n",
       "      <th>28260294</th>\n",
       "      <td>12413245305</td>\n",
       "      <td>Bx2bGXPDzz2</td>\n",
       "      <td>5</td>\n",
       "      <td>0</td>\n",
       "    </tr>\n",
       "    <tr>\n",
       "      <th>28277378</th>\n",
       "      <td>12413245305</td>\n",
       "      <td>BxzZIHGjyW4</td>\n",
       "      <td>3</td>\n",
       "      <td>0</td>\n",
       "    </tr>\n",
       "    <tr>\n",
       "      <th>28329463</th>\n",
       "      <td>12413245305</td>\n",
       "      <td>Bx9F9xZjtAb</td>\n",
       "      <td>1</td>\n",
       "      <td>0</td>\n",
       "    </tr>\n",
       "  </tbody>\n",
       "</table>\n",
       "<p>1755 rows × 4 columns</p>\n",
       "</div>"
      ],
      "text/plain": [
       "           profile_id      post_id  numbr_likes  number_comments\n",
       "sid                                                             \n",
       "28374592  12413245305  ByBUnBtjiZ3            2                0\n",
       "28390546  12413245305  Bx_NkeBj3hC            4                0\n",
       "28412069  12413245305  ByDczg5jNAi            5                0\n",
       "28453545  12413245305  ByBgDmvDMzH            5                2\n",
       "28488981  12878122053  Bx7YHanlnQ1            0                0\n",
       "...               ...          ...          ...              ...\n",
       "28213027   5421037289  BxFUEVkpJiW            6                0\n",
       "28233074   5421037289  BszahmNA_7K            6                0\n",
       "28260294  12413245305  Bx2bGXPDzz2            5                0\n",
       "28277378  12413245305  BxzZIHGjyW4            3                0\n",
       "28329463  12413245305  Bx9F9xZjtAb            1                0\n",
       "\n",
       "[1755 rows x 4 columns]"
      ]
     },
     "execution_count": 48,
     "metadata": {},
     "output_type": "execute_result"
    }
   ],
   "source": [
    "def top_posts_profiles(n):\n",
    "    # search which are the n profiles that have posted the most ---> store their profile_id in a list\n",
    "    prof = sub_posts1[\"profile_id\"].value_counts().head(int(n)).index.tolist()\n",
    "    # search and return all the posts that belongs to \"prof\"\n",
    "    return sub_posts1.loc[sub_posts1['profile_id'].isin(prof), [\"profile_id\", \"post_id\", \"numbr_likes\", \"number_comments\"]]\n",
    "# let's try the function with an example n\n",
    "example = 3\n",
    "top_posts_profiles(example)"
   ]
  },
  {
   "cell_type": "markdown",
   "id": "b84cbf24-1da0-429a-afc9-d0d66a9bf431",
   "metadata": {},
   "source": [
    "$\\bullet$ What is the average number of \"likes\" and comments of the top 10 profiles with the highest number of posts which their information is available in profile.csv?"
   ]
  },
  {
   "cell_type": "code",
   "execution_count": 49,
   "id": "8c186a84-3706-44c4-9678-ffde8f759e04",
   "metadata": {},
   "outputs": [],
   "source": [
    "# through the previously created function it finds all the posts of the 10 users who post the most \n",
    "# with the associated number of likes and comments\n",
    "top10 = top_posts_profiles(10)\n",
    "### top10_profiles = sub_posts1[\"profile_id\"].value_counts().head(int(10)).index.tolist()\n",
    "### for profile in top10_profiles:\n",
    "###     print(round(sub_posts1.loc[sub_posts1['profile_id'] == profile, ['numbr_likes', \"number_comments\"]].mean(),3))"
   ]
  },
  {
   "cell_type": "code",
   "execution_count": 50,
   "id": "6142c615-59cb-47c6-9166-b8e4d860eb4f",
   "metadata": {},
   "outputs": [
    {
     "data": {
      "text/html": [
       "<div>\n",
       "<style scoped>\n",
       "    .dataframe tbody tr th:only-of-type {\n",
       "        vertical-align: middle;\n",
       "    }\n",
       "\n",
       "    .dataframe tbody tr th {\n",
       "        vertical-align: top;\n",
       "    }\n",
       "\n",
       "    .dataframe thead th {\n",
       "        text-align: right;\n",
       "    }\n",
       "</style>\n",
       "<table border=\"1\" class=\"dataframe\">\n",
       "  <thead>\n",
       "    <tr style=\"text-align: right;\">\n",
       "      <th></th>\n",
       "      <th>numbr_likes</th>\n",
       "    </tr>\n",
       "    <tr>\n",
       "      <th>profile_id</th>\n",
       "      <th></th>\n",
       "    </tr>\n",
       "  </thead>\n",
       "  <tbody>\n",
       "    <tr>\n",
       "      <th>2243212181</th>\n",
       "      <td>636.5</td>\n",
       "    </tr>\n",
       "    <tr>\n",
       "      <th>4575459348</th>\n",
       "      <td>19.43</td>\n",
       "    </tr>\n",
       "    <tr>\n",
       "      <th>5421037289</th>\n",
       "      <td>10.37</td>\n",
       "    </tr>\n",
       "    <tr>\n",
       "      <th>5515448111</th>\n",
       "      <td>8.17</td>\n",
       "    </tr>\n",
       "    <tr>\n",
       "      <th>12413245305</th>\n",
       "      <td>4.64</td>\n",
       "    </tr>\n",
       "    <tr>\n",
       "      <th>12606499712</th>\n",
       "      <td>1.65</td>\n",
       "    </tr>\n",
       "    <tr>\n",
       "      <th>12878122053</th>\n",
       "      <td>2.17</td>\n",
       "    </tr>\n",
       "    <tr>\n",
       "      <th>12961349015</th>\n",
       "      <td>3.09</td>\n",
       "    </tr>\n",
       "    <tr>\n",
       "      <th>13324461711</th>\n",
       "      <td>3.5</td>\n",
       "    </tr>\n",
       "    <tr>\n",
       "      <th>13478139882</th>\n",
       "      <td>3.57</td>\n",
       "    </tr>\n",
       "  </tbody>\n",
       "</table>\n",
       "</div>"
      ],
      "text/plain": [
       "             numbr_likes\n",
       "profile_id              \n",
       "2243212181         636.5\n",
       "4575459348         19.43\n",
       "5421037289         10.37\n",
       "5515448111          8.17\n",
       "12413245305         4.64\n",
       "12606499712         1.65\n",
       "12878122053         2.17\n",
       "12961349015         3.09\n",
       "13324461711          3.5\n",
       "13478139882         3.57"
      ]
     },
     "execution_count": 50,
     "metadata": {},
     "output_type": "execute_result"
    }
   ],
   "source": [
    "# groups by profile_id and calculates the average of the number of likes their posts have obtained\n",
    "round(top10[['profile_id', 'numbr_likes']].groupby('profile_id').mean(), 2)"
   ]
  },
  {
   "cell_type": "code",
   "execution_count": 51,
   "id": "06ea0c2b-ac82-43b0-abc0-9e8180d3e941",
   "metadata": {},
   "outputs": [
    {
     "data": {
      "text/html": [
       "<div>\n",
       "<style scoped>\n",
       "    .dataframe tbody tr th:only-of-type {\n",
       "        vertical-align: middle;\n",
       "    }\n",
       "\n",
       "    .dataframe tbody tr th {\n",
       "        vertical-align: top;\n",
       "    }\n",
       "\n",
       "    .dataframe thead th {\n",
       "        text-align: right;\n",
       "    }\n",
       "</style>\n",
       "<table border=\"1\" class=\"dataframe\">\n",
       "  <thead>\n",
       "    <tr style=\"text-align: right;\">\n",
       "      <th></th>\n",
       "      <th>number_comments</th>\n",
       "    </tr>\n",
       "    <tr>\n",
       "      <th>profile_id</th>\n",
       "      <th></th>\n",
       "    </tr>\n",
       "  </thead>\n",
       "  <tbody>\n",
       "    <tr>\n",
       "      <th>2243212181</th>\n",
       "      <td>15.49</td>\n",
       "    </tr>\n",
       "    <tr>\n",
       "      <th>4575459348</th>\n",
       "      <td>0.02</td>\n",
       "    </tr>\n",
       "    <tr>\n",
       "      <th>5421037289</th>\n",
       "      <td>0.26</td>\n",
       "    </tr>\n",
       "    <tr>\n",
       "      <th>5515448111</th>\n",
       "      <td>0.07</td>\n",
       "    </tr>\n",
       "    <tr>\n",
       "      <th>12413245305</th>\n",
       "      <td>0.17</td>\n",
       "    </tr>\n",
       "    <tr>\n",
       "      <th>12606499712</th>\n",
       "      <td>0.15</td>\n",
       "    </tr>\n",
       "    <tr>\n",
       "      <th>12878122053</th>\n",
       "      <td>0.11</td>\n",
       "    </tr>\n",
       "    <tr>\n",
       "      <th>12961349015</th>\n",
       "      <td>0.1</td>\n",
       "    </tr>\n",
       "    <tr>\n",
       "      <th>13324461711</th>\n",
       "      <td>0.09</td>\n",
       "    </tr>\n",
       "    <tr>\n",
       "      <th>13478139882</th>\n",
       "      <td>0.15</td>\n",
       "    </tr>\n",
       "  </tbody>\n",
       "</table>\n",
       "</div>"
      ],
      "text/plain": [
       "             number_comments\n",
       "profile_id                  \n",
       "2243212181             15.49\n",
       "4575459348              0.02\n",
       "5421037289              0.26\n",
       "5515448111              0.07\n",
       "12413245305             0.17\n",
       "12606499712             0.15\n",
       "12878122053             0.11\n",
       "12961349015              0.1\n",
       "13324461711             0.09\n",
       "13478139882             0.15"
      ]
     },
     "execution_count": 51,
     "metadata": {},
     "output_type": "execute_result"
    }
   ],
   "source": [
    "# groups by profile_id and calculates the average of the number of comments their posts have obtained\n",
    "round(top10[['profile_id', 'number_comments']].groupby('profile_id').mean(), 2)"
   ]
  },
  {
   "cell_type": "code",
   "execution_count": 61,
   "id": "e6e68b95-b4ef-4a08-81c6-7b5c1902afbb",
   "metadata": {},
   "outputs": [],
   "source": [
    "# del sub_posts1"
   ]
  },
  {
   "cell_type": "markdown",
   "id": "48360911-d18e-49ce-b2ba-73b0e87882b6",
   "metadata": {},
   "source": [
    "$\\bullet$ Plot the number of posts that these top 10 profiles have sent on Instagram in the given interval in question RQ3. Interpret the resulting chart."
   ]
  },
  {
   "cell_type": "code",
   "execution_count": 52,
   "id": "0146e076-f746-43f1-b6fd-12b02aeebf80",
   "metadata": {},
   "outputs": [],
   "source": [
    "### messa qui perchè è la funzione fatta da matteo sul suo notebook\n",
    "def inter(h, inters):\n",
    "    assert inters[0] == 0 and inters[-1]==24, 'Intervals list must start at 0 and end at 24'\n",
    "    for i in range(len(inters) - 1):\n",
    "        if h >= inters[i] and h < inters[i+1]:\n",
    "            return i"
   ]
  },
  {
   "cell_type": "code",
   "execution_count": 87,
   "id": "c3688b8d-f28c-4d63-8320-ad3925b23e0f",
   "metadata": {},
   "outputs": [],
   "source": [
    "# create a new subset that contains only profile_id and cts\n",
    "posts_cts = posts.col(['profile_id', 'cts'], index=False)\n",
    "# keep only the rows in which a profile_id belonging to the top 10 appears\n",
    "posts_cts = posts_cts[posts_cts[\"profile_id\"].isin(top10['profile_id'].value_counts().index.tolist())]\n",
    "# add a column called hour in the same way of exercise 3\n",
    "posts_cts['hour'] = posts_cts['cts'].map(lambda x: x.hour).astype('Int8')\n",
    "# add a column called intervals in the same way of exercise 3\n",
    "posts_cts['intervals'] = posts_cts['hour'].map(lambda h :inter(h, [0,3,6,11,14,17,20,24]))"
   ]
  },
  {
   "cell_type": "code",
   "execution_count": 91,
   "id": "3da93d1f-803f-4ec5-8520-38a636bcf6f6",
   "metadata": {},
   "outputs": [],
   "source": [
    "# for each user of the top 10 it counts how many posts he made in each of the established time intervals\n",
    "prof_posts_hour = pd.crosstab(posts_cts.profile_id, posts_cts.intervals).replace(0,np.nan).\\\n",
    "     stack().reset_index().rename(columns={0:'Time'})"
   ]
  },
  {
   "cell_type": "code",
   "execution_count": 92,
   "id": "3d420899-fd81-47b4-a782-bd361bcf87ba",
   "metadata": {},
   "outputs": [
    {
     "data": {
      "image/png": "[encoded data removed]",
      "text/plain": [
       "<Figure size 864x576 with 1 Axes>"
      ]
     },
     "metadata": {},
     "output_type": "display_data"
    }
   ],
   "source": [
    "labels=[\"[0, 3)\",\"[3, 6)\", \"[6, 11)\", \"[11, 14)\", \"[14, 17)\", \"[17, 20)\", \"[20, 24)\"]\n",
    "ax = sns.barplot(data=prof_posts_hour, x=\"profile_id\", y=\"Time\", hue=\"intervals\", palette=\"Blues\")\n",
    "plt.xticks(rotation=60)\n",
    "plt.tight_layout()\n",
    "plt.title(\"TOP 10 PROFILES: NUMBER OF POSTS FOR EACH TIME INTERVAL\")\n",
    "plt.xlabel(\"Profile id\")\n",
    "plt.ylabel(\"Frequency\")\n",
    "h, l = ax.get_legend_handles_labels()\n",
    "ax.legend(h, labels, title=\"Time intervals\", loc='upper left')\n",
    "sns.set(rc={'figure.figsize':(12,8)})\n",
    "sns.set_theme(style=\"whitegrid\")\n",
    "plt.show()"
   ]
  },
  {
   "cell_type": "markdown",
   "id": "b509bc22-de6f-4bc9-8e74-47eb1dcc1708",
   "metadata": {
    "tags": []
   },
   "source": [
    "***\n",
    "\n",
    "### 5. __[RQ5] The most influential users are the ones with the highest number of “followers\", you can now look more into their activity.__\n",
    "\n",
    "***"
   ]
  },
  {
   "cell_type": "markdown",
   "id": "fab47f9a-1cd0-4ede-90bf-de11e626caa5",
   "metadata": {},
   "source": [
    "#### $\\bullet$ Plot the top 10 most popular users in terms of followers and their number of posts."
   ]
  },
  {
   "cell_type": "code",
   "execution_count": 108,
   "id": "3070fbc0-12e1-4589-b783-03469da1085f",
   "metadata": {},
   "outputs": [],
   "source": [
    "subset5 = profiles.col(['profile_name', 'followers', 'n_posts']).dropna()\n",
    "top10profiles_followers = subset5.nlargest(10, 'followers')\n",
    "top10profiles_posts = subset5.nlargest(10, 'n_posts')"
   ]
  },
  {
   "cell_type": "code",
   "execution_count": 109,
   "id": "e1507262-ff5e-4736-b7b9-0c27f0311a80",
   "metadata": {},
   "outputs": [
    {
     "data": {
      "image/png": "[encoded data removed]",
      "text/plain": [
       "<Figure size 864x576 with 1 Axes>"
      ]
     },
     "metadata": {},
     "output_type": "display_data"
    }
   ],
   "source": [
    "sns.barplot(data=top10profiles_followers, y='profile_name', x='followers', palette=\"Blues\")\n",
    "plt.title(\"BARPLOT OF THE 10 USERS WITH MOST FOLLOWERS\")\n",
    "plt.ylabel(\"Profiles\")\n",
    "plt.xlabel(\"Numbers of followers * e^7)\")\n",
    "plt.grid()\n",
    "plt.show()"
   ]
  },
  {
   "cell_type": "code",
   "execution_count": 110,
   "id": "8e588e27-f35e-4b58-90e6-6efbce5a2958",
   "metadata": {},
   "outputs": [
    {
     "data": {
      "image/png": "[encoded data removed]",
      "text/plain": [
       "<Figure size 864x576 with 1 Axes>"
      ]
     },
     "metadata": {},
     "output_type": "display_data"
    }
   ],
   "source": []
  },
  {
   "cell_type": "markdown",
   "id": "47faa150-165b-4ec2-b2ac-61ea4e9acc60",
   "metadata": {},
   "source": [
    "#### $\\bullet$ Who is the most influential user?"
   ]
  },
  {
   "cell_type": "code",
   "execution_count": null,
   "id": "5f069e58-d374-4adb-938c-5639c6db3879",
   "metadata": {},
   "outputs": [],
   "source": []
  },
  {
   "cell_type": "markdown",
   "id": "8180c947-f46e-4378-b88f-f70d93c46388",
   "metadata": {},
   "source": [
    "#### $\\bullet$ Have they posted anything with tagged locations? Extract the most frequent areas on their posts and plot the number of times each city has been visited."
   ]
  },
  {
   "cell_type": "code",
   "execution_count": null,
   "id": "7dc2b1d0-89db-4ec3-aa28-da386cd19652",
   "metadata": {},
   "outputs": [],
   "source": []
  },
  {
   "cell_type": "markdown",
   "id": "34636156-2241-4181-8379-4a9f61ae4b98",
   "metadata": {},
   "source": [
    "#### $\\bullet$ How many pictures-only posts have they published? How many reels? (only videos) and how many with both contents? Provide the number as percentages and interpret those figures."
   ]
  },
  {
   "cell_type": "code",
   "execution_count": null,
   "id": "a6294429-1317-4896-bcc6-5a729e21fd4c",
   "metadata": {},
   "outputs": [],
   "source": []
  },
  {
   "cell_type": "markdown",
   "id": "696b364e-77d4-4e4c-bac2-2bfc88d4c0d8",
   "metadata": {},
   "source": [
    "#### $\\bullet$ How many \"likes\" and comments did posts with only pictures receive? How about videos and mixed posts? Try to provide the average numbers and confront them with their followers amount, explaining what you can say from that comparison."
   ]
  },
  {
   "cell_type": "code",
   "execution_count": null,
   "id": "764a5709-ed52-4445-b931-6f75b2e96d06",
   "metadata": {},
   "outputs": [],
   "source": []
  },
  {
   "cell_type": "markdown",
   "id": "1db1cd07-e132-469c-b89b-11597bf43995",
   "metadata": {},
   "source": [
    "__7 - [RQ7] Of course, calculating probabilities is a job that any Data Scientist must know. So let's compute some engaging figures.__"
   ]
  },
  {
   "cell_type": "code",
   "execution_count": 96,
   "id": "271f7ba6-897c-4f02-ba56-61027c4cdbbd",
   "metadata": {},
   "outputs": [
    {
     "data": {
      "text/html": [
       "<div>\n",
       "<style scoped>\n",
       "    .dataframe tbody tr th:only-of-type {\n",
       "        vertical-align: middle;\n",
       "    }\n",
       "\n",
       "    .dataframe tbody tr th {\n",
       "        vertical-align: top;\n",
       "    }\n",
       "\n",
       "    .dataframe thead th {\n",
       "        text-align: right;\n",
       "    }\n",
       "</style>\n",
       "<table border=\"1\" class=\"dataframe\">\n",
       "  <thead>\n",
       "    <tr style=\"text-align: right;\">\n",
       "      <th></th>\n",
       "      <th>profile_id</th>\n",
       "      <th>profile_name</th>\n",
       "      <th>firstname_lastname</th>\n",
       "      <th>description</th>\n",
       "      <th>following</th>\n",
       "      <th>followers</th>\n",
       "      <th>n_posts</th>\n",
       "      <th>url</th>\n",
       "      <th>cts</th>\n",
       "      <th>is_business_account</th>\n",
       "    </tr>\n",
       "    <tr>\n",
       "      <th>sid</th>\n",
       "      <th></th>\n",
       "      <th></th>\n",
       "      <th></th>\n",
       "      <th></th>\n",
       "      <th></th>\n",
       "      <th></th>\n",
       "      <th></th>\n",
       "      <th></th>\n",
       "      <th></th>\n",
       "      <th></th>\n",
       "    </tr>\n",
       "  </thead>\n",
       "  <tbody>\n",
       "    <tr>\n",
       "      <th>4184446</th>\n",
       "      <td>4721049632</td>\n",
       "      <td>jphillip033</td>\n",
       "      <td>John Pierce</td>\n",
       "      <td>\"Document Everything Always\"</td>\n",
       "      <td>250</td>\n",
       "      <td>146</td>\n",
       "      <td>170</td>\n",
       "      <td>&lt;NA&gt;</td>\n",
       "      <td>2019-08-01 14:38:55.394000-04:00</td>\n",
       "      <td>False</td>\n",
       "    </tr>\n",
       "    <tr>\n",
       "      <th>4184457</th>\n",
       "      <td>590583002</td>\n",
       "      <td>mama_haas</td>\n",
       "      <td>Deanna</td>\n",
       "      <td>Trying to enjoy the simple things in life. Kni...</td>\n",
       "      <td>534</td>\n",
       "      <td>1145</td>\n",
       "      <td>2878</td>\n",
       "      <td>www.etsy.com/shop/MamaHaas69</td>\n",
       "      <td>2019-08-01 14:39:36.526000-04:00</td>\n",
       "      <td>False</td>\n",
       "    </tr>\n",
       "    <tr>\n",
       "      <th>4184460</th>\n",
       "      <td>1074146658</td>\n",
       "      <td>yellowlightbreen</td>\n",
       "      <td>Eliza Gray</td>\n",
       "      <td>Maine is for Lovers</td>\n",
       "      <td>469</td>\n",
       "      <td>324</td>\n",
       "      <td>431</td>\n",
       "      <td>elizajanegray.com</td>\n",
       "      <td>2019-08-01 14:39:54.407000-04:00</td>\n",
       "      <td>False</td>\n",
       "    </tr>\n",
       "    <tr>\n",
       "      <th>4184461</th>\n",
       "      <td>1472038842</td>\n",
       "      <td>tec1025</td>\n",
       "      <td>Thomas Clark</td>\n",
       "      <td>&lt;NA&gt;</td>\n",
       "      <td>&lt;NA&gt;</td>\n",
       "      <td>&lt;NA&gt;</td>\n",
       "      <td>&lt;NA&gt;</td>\n",
       "      <td>&lt;NA&gt;</td>\n",
       "      <td>2019-08-01 14:40:06.472000-04:00</td>\n",
       "      <td>&lt;NA&gt;</td>\n",
       "    </tr>\n",
       "    <tr>\n",
       "      <th>4184462</th>\n",
       "      <td>3531420803</td>\n",
       "      <td>luckyfluff</td>\n",
       "      <td>&lt;NA&gt;</td>\n",
       "      <td>&lt;NA&gt;</td>\n",
       "      <td>&lt;NA&gt;</td>\n",
       "      <td>&lt;NA&gt;</td>\n",
       "      <td>&lt;NA&gt;</td>\n",
       "      <td>&lt;NA&gt;</td>\n",
       "      <td>2019-08-01 14:40:07.806000-04:00</td>\n",
       "      <td>&lt;NA&gt;</td>\n",
       "    </tr>\n",
       "  </tbody>\n",
       "</table>\n",
       "</div>"
      ],
      "text/plain": [
       "         profile_id      profile_name firstname_lastname  \\\n",
       "sid                                                        \n",
       "4184446  4721049632       jphillip033        John Pierce   \n",
       "4184457   590583002         mama_haas             Deanna   \n",
       "4184460  1074146658  yellowlightbreen         Eliza Gray   \n",
       "4184461  1472038842           tec1025       Thomas Clark   \n",
       "4184462  3531420803        luckyfluff               <NA>   \n",
       "\n",
       "                                               description  following  \\\n",
       "sid                                                                     \n",
       "4184446                       \"Document Everything Always\"        250   \n",
       "4184457  Trying to enjoy the simple things in life. Kni...        534   \n",
       "4184460                                Maine is for Lovers        469   \n",
       "4184461                                               <NA>       <NA>   \n",
       "4184462                                               <NA>       <NA>   \n",
       "\n",
       "         followers  n_posts                           url  \\\n",
       "sid                                                         \n",
       "4184446        146      170                          <NA>   \n",
       "4184457       1145     2878  www.etsy.com/shop/MamaHaas69   \n",
       "4184460        324      431             elizajanegray.com   \n",
       "4184461       <NA>     <NA>                          <NA>   \n",
       "4184462       <NA>     <NA>                          <NA>   \n",
       "\n",
       "                                      cts  is_business_account  \n",
       "sid                                                             \n",
       "4184446  2019-08-01 14:38:55.394000-04:00                False  \n",
       "4184457  2019-08-01 14:39:36.526000-04:00                False  \n",
       "4184460  2019-08-01 14:39:54.407000-04:00                False  \n",
       "4184461  2019-08-01 14:40:06.472000-04:00                 <NA>  \n",
       "4184462  2019-08-01 14:40:07.806000-04:00                 <NA>  "
      ]
     },
     "execution_count": 96,
     "metadata": {},
     "output_type": "execute_result"
    }
   ],
   "source": [
    "profiles.df.head()"
   ]
  },
  {
   "cell_type": "markdown",
   "id": "94ba0ca9-3070-445d-a7e8-ca6046e8407e",
   "metadata": {},
   "source": [
    "$\\bullet$ What's the probability that a post receives more than 20% \"likes\" of the number of followers a user has?"
   ]
  },
  {
   "cell_type": "code",
   "execution_count": 99,
   "id": "3432c23d-dd08-4bda-afab-e08b0e097506",
   "metadata": {},
   "outputs": [],
   "source": [
    "### da modificare sotto con i nuovi modi per caricare i dataset\n",
    "# profiles --> [['sid', 'followers']]\n",
    "# posts --> [['sid_profile', 'numbr_likes', 'location_id']]"
   ]
  },
  {
   "cell_type": "code",
   "execution_count": 101,
   "id": "81e4b1da-0fb9-471c-ac25-5268a976bbd0",
   "metadata": {},
   "outputs": [
    {
     "name": "stdout",
     "output_type": "stream",
     "text": [
      "Probability is equal to: 9.091000000000001%\n"
     ]
    }
   ],
   "source": [
    "# First we create a subset of the posts dataframe that contains only the columns that we need\n",
    "# and the rows for which we have a match (with the user) in the profiles dataset\n",
    "sub_posts = posts.df[[\"sid_profile\", \"numbr_likes\"]][posts.df['sid_profile'] != -1]\n",
    "# We create also a subset for the profiles dataset which contain only \"sid\" and \"followers\" and the rows different from NaN\n",
    "sub_prof = profiles.df[[\"followers\"]].dropna()\n",
    "# At this point we merge the to subsets on \"sid_profile\"\n",
    "merged_df = pd.merge(sub_posts, sub_prof, left_on=\"sid_profile\", right_on=sub_prof.index)\n",
    "# Then we can calculate the numbers of positive cases\n",
    "pos_cases = (merged_df.apply(lambda x: x.numbr_likes > x.followers*0.2, axis=1)).sum()\n",
    "# And finally we calculate the probability dividing the positive cases for the total number of evaluated posts\n",
    "print(f\"Probability is equal to: {round(pos_cases/merged_df.shape[0], 5)*100}%\")"
   ]
  },
  {
   "cell_type": "markdown",
   "id": "08d703b2-92b8-40fe-b8c9-c9a208ca82cc",
   "metadata": {},
   "source": [
    "$\\bullet$ Do users usually return to locations? Extract the probability that a user returns to a site after having posted it in the past. Does that probability make sense to you? Explain why or why not."
   ]
  },
  {
   "cell_type": "code",
   "execution_count": 30,
   "id": "10c547b5-bf23-47c7-980a-7dc262ce142e",
   "metadata": {},
   "outputs": [
    {
     "name": "stdout",
     "output_type": "stream",
     "text": [
      "Probability that a user returns to a site after having posted it in the past is equal to: 10.42%\n",
      "Probability that a user returns to a site after having posted it in the past is equal to: 10.38%\n"
     ]
    }
   ],
   "source": [
    "# Da provare con value_counts(?) perche cosi potrebbe dare problemi con il chunking\n",
    "# forse non è possibile usare il chunking, caricare solo le colonne necessarie e effettuare analisi su tutte le righe\n",
    "\n",
    "#sub_loc = locations.df[[\"id\", \"name\"]]\n",
    "#sub_loc['id'].duplicated().sum()\n",
    "\n",
    "# First we create a subset that contains only the necessary columns\n",
    "sub_7_2 = posts.df[[\"profile_id\", \"location_id\"]]\n",
    "# Then we eliminate the rows that do not contain duplicates in the values of the two columns\n",
    "sub_7_2_mod = sub_7_2[sub_7_2.duplicated(subset=[\"profile_id\", \"location_id\"], keep=False)]\n",
    "# As a last step we eliminate the duplicates and take the value of the number of rows left\n",
    "n_duplicates = sub_7_2_mod.drop_duplicates(subset=[\"profile_id\", \"location_id\"]).shape[0]\n",
    "# We are now ready to calculate the probability that has to take as denominator the number of total different users...\n",
    "prob_dupl1 = n_duplicates / sub_7_2.nunique()[0]\n",
    "# più giusta questa perchè tiene contoo delle differenti coppie al denominatore\n",
    "prob_dupl2 = n_duplicates / sub_7_2.groupby([\"profile_id\", \"location_id\"]).ngroups\n",
    "print(f\"Probability that a user returns to a site after having posted it in the past is equal to: {round(prob_dupl1,4)*100}%\")\n",
    "print(f\"Probability that a user returns to a site after having posted it in the past is equal to: {round(prob_dupl2,4)*100}%\")"
   ]
  },
  {
   "cell_type": "code",
   "execution_count": null,
   "id": "3773b49a-dbc5-4c4c-926c-f7b38c38a3b2",
   "metadata": {},
   "outputs": [],
   "source": []
  },
  {
   "cell_type": "markdown",
   "id": "33658b46-f9d5-459b-93b7-3bc6c9fca52c",
   "metadata": {},
   "source": [
    "### 8. __[RQ8] Every decision you take in a data-based environment should be reinforced with charts, statistical tests and analysis methods to check whether a hypothesis is correct or not.__"
   ]
  },
  {
   "cell_type": "code",
   "execution_count": 110,
   "id": "37c843cf-15cb-4c61-a1ea-5b867e207379",
   "metadata": {},
   "outputs": [],
   "source": [
    "from scipy.stats.stats import pearsonr"
   ]
  },
  {
   "cell_type": "markdown",
   "id": "4821e3d8-8d12-4710-a587-8c866b7eb919",
   "metadata": {},
   "source": [
    "#### $\\bullet$ Does more “likes” also mean more comments? Plot a scatter plot of “likes” vs comments for posts."
   ]
  },
  {
   "cell_type": "code",
   "execution_count": 102,
   "id": "40d00413-bde8-4977-826c-23dad7707b99",
   "metadata": {},
   "outputs": [],
   "source": [
    "# create a subset with only the necessaries columns\n",
    "sub8_posts = posts.col(['post_id', 'numbr_likes', 'number_comments', 'cts'], index=False)"
   ]
  },
  {
   "cell_type": "code",
   "execution_count": 111,
   "id": "a598c2e8-2a5d-489e-9b4c-4d66b937d53c",
   "metadata": {},
   "outputs": [
    {
     "ename": "AttributeError",
     "evalue": "'bool' object has no attribute 'all'",
     "output_type": "error",
     "traceback": [
      "\u001b[0;31m---------------------------------------------------------------------------\u001b[0m",
      "\u001b[0;31mAttributeError\u001b[0m                            Traceback (most recent call last)",
      "Input \u001b[0;32mIn [111]\u001b[0m, in \u001b[0;36m<cell line: 2>\u001b[0;34m()\u001b[0m\n\u001b[1;32m      1\u001b[0m \u001b[38;5;66;03m# to check if there is a correlation between the number of likes and the number of comments\u001b[39;00m\n\u001b[0;32m----> 2\u001b[0m test_likes_vs_comments \u001b[38;5;241m=\u001b[39m \u001b[43mpearsonr\u001b[49m\u001b[43m(\u001b[49m\u001b[43msub8_posts\u001b[49m\u001b[43m[\u001b[49m\u001b[38;5;124;43m'\u001b[39;49m\u001b[38;5;124;43mnumbr_likes\u001b[39;49m\u001b[38;5;124;43m'\u001b[39;49m\u001b[43m]\u001b[49m\u001b[43m,\u001b[49m\u001b[43m \u001b[49m\u001b[43msub8_posts\u001b[49m\u001b[43m[\u001b[49m\u001b[38;5;124;43m'\u001b[39;49m\u001b[38;5;124;43mnumber_comments\u001b[39;49m\u001b[38;5;124;43m'\u001b[39;49m\u001b[43m]\u001b[49m\u001b[43m)\u001b[49m\n\u001b[1;32m      3\u001b[0m test_likes_vs_comments\n",
      "File \u001b[0;32m~/opt/anaconda3/lib/python3.9/site-packages/scipy/stats/stats.py:4022\u001b[0m, in \u001b[0;36mpearsonr\u001b[0;34m(x, y)\u001b[0m\n\u001b[1;32m   4019\u001b[0m y \u001b[38;5;241m=\u001b[39m np\u001b[38;5;241m.\u001b[39masarray(y)\n\u001b[1;32m   4021\u001b[0m \u001b[38;5;66;03m# If an input is constant, the correlation coefficient is not defined.\u001b[39;00m\n\u001b[0;32m-> 4022\u001b[0m \u001b[38;5;28;01mif\u001b[39;00m \u001b[43m(\u001b[49m\u001b[43mx\u001b[49m\u001b[43m \u001b[49m\u001b[38;5;241;43m==\u001b[39;49m\u001b[43m \u001b[49m\u001b[43mx\u001b[49m\u001b[43m[\u001b[49m\u001b[38;5;241;43m0\u001b[39;49m\u001b[43m]\u001b[49m\u001b[43m)\u001b[49m\u001b[38;5;241;43m.\u001b[39;49m\u001b[43mall\u001b[49m() \u001b[38;5;129;01mor\u001b[39;00m (y \u001b[38;5;241m==\u001b[39m y[\u001b[38;5;241m0\u001b[39m])\u001b[38;5;241m.\u001b[39mall():\n\u001b[1;32m   4023\u001b[0m     warnings\u001b[38;5;241m.\u001b[39mwarn(PearsonRConstantInputWarning())\n\u001b[1;32m   4024\u001b[0m     \u001b[38;5;28;01mreturn\u001b[39;00m np\u001b[38;5;241m.\u001b[39mnan, np\u001b[38;5;241m.\u001b[39mnan\n",
      "\u001b[0;31mAttributeError\u001b[0m: 'bool' object has no attribute 'all'"
     ]
    }
   ],
   "source": [
    "# to check if there is a correlation between the number of likes and the number of comments\n",
    "test_likes_vs_comments = pearsonr(sub8_posts['numbr_likes'], sub8_posts['number_comments'])\n",
    "test_likes_vs_comments"
   ]
  },
  {
   "cell_type": "markdown",
   "id": "c0d056d1-678a-4424-a3fb-c312e3453840",
   "metadata": {},
   "source": [
    "Through the pearson correlation index we calculate the correlation between the two variables, we find that they are positively correlated. To test whether this correlation is statistically significant or not, we calculate the p-value which, being <0.05, confirms that the correlation is statistically significant."
   ]
  },
  {
   "cell_type": "code",
   "execution_count": 107,
   "id": "fd361cad-b9db-4360-a679-d7314ce19c61",
   "metadata": {},
   "outputs": [
    {
     "data": {
      "image/png": "[encoded data removed]",
      "text/plain": [
       "<Figure size 864x576 with 1 Axes>"
      ]
     },
     "metadata": {},
     "output_type": "display_data"
    }
   ],
   "source": [
    "# To visualize the scatterplot it is useful to apply a logorithmic transformation both \n",
    "# to the values of the likes column and to the values of the comments column. \n",
    "# This transformation is used when the range of natural scales is too wide and there are \n",
    "# \"extreme\" values that make it impossible to display the graph correctly.\n",
    "scatter_plot = sns.scatterplot(data=sub8_posts, x=\"numbr_likes\", y=\"number_comments\")\n",
    "scatter_plot.set(xscale=\"log\", yscale=\"log\")\n",
    "plt.xlabel(\"Log number likes\")\n",
    "plt.ylabel(\"Log number comments\")\n",
    "plt.title(\"SCATTERPLOT OF LIKES vs COMMENTS USING LOG/LOG-SCALE\")\n",
    "plt.show()"
   ]
  },
  {
   "cell_type": "markdown",
   "id": "2d0fb4bf-9a14-4f69-a430-1e323d32b4a6",
   "metadata": {},
   "source": [
    "#### $\\bullet$ Can you find any significant relationship between the time a user publishes a post and the number of comments and “likes”? Use an appropriate statistical test or technique and support your choice."
   ]
  },
  {
   "cell_type": "code",
   "execution_count": 108,
   "id": "10e5af2a-850c-40ea-b9e6-a7746880f77d",
   "metadata": {},
   "outputs": [
    {
     "data": {
      "text/html": [
       "<div>\n",
       "<style scoped>\n",
       "    .dataframe tbody tr th:only-of-type {\n",
       "        vertical-align: middle;\n",
       "    }\n",
       "\n",
       "    .dataframe tbody tr th {\n",
       "        vertical-align: top;\n",
       "    }\n",
       "\n",
       "    .dataframe thead th {\n",
       "        text-align: right;\n",
       "    }\n",
       "</style>\n",
       "<table border=\"1\" class=\"dataframe\">\n",
       "  <thead>\n",
       "    <tr style=\"text-align: right;\">\n",
       "      <th></th>\n",
       "      <th>post_id</th>\n",
       "      <th>cts</th>\n",
       "      <th>numbr_likes</th>\n",
       "      <th>number_comments</th>\n",
       "      <th>hour</th>\n",
       "    </tr>\n",
       "  </thead>\n",
       "  <tbody>\n",
       "    <tr>\n",
       "      <th>0</th>\n",
       "      <td>BXdjjUlgcgq</td>\n",
       "      <td>2017-08-06 20:06:57</td>\n",
       "      <td>80</td>\n",
       "      <td>0</td>\n",
       "      <td>20</td>\n",
       "    </tr>\n",
       "    <tr>\n",
       "      <th>1</th>\n",
       "      <td>BVg0pbolYBC</td>\n",
       "      <td>2017-06-19 09:31:16</td>\n",
       "      <td>25</td>\n",
       "      <td>1</td>\n",
       "      <td>9</td>\n",
       "    </tr>\n",
       "    <tr>\n",
       "      <th>2</th>\n",
       "      <td>BRgkjcXFp3Q</td>\n",
       "      <td>2017-03-11 20:05:03</td>\n",
       "      <td>9</td>\n",
       "      <td>0</td>\n",
       "      <td>20</td>\n",
       "    </tr>\n",
       "    <tr>\n",
       "      <th>3</th>\n",
       "      <td>BKTKeNhjEA7</td>\n",
       "      <td>2016-09-13 16:27:16</td>\n",
       "      <td>4</td>\n",
       "      <td>0</td>\n",
       "      <td>16</td>\n",
       "    </tr>\n",
       "    <tr>\n",
       "      <th>4</th>\n",
       "      <td>8-NQrvoYLX</td>\n",
       "      <td>2015-10-18 10:19:27</td>\n",
       "      <td>8</td>\n",
       "      <td>0</td>\n",
       "      <td>10</td>\n",
       "    </tr>\n",
       "  </tbody>\n",
       "</table>\n",
       "</div>"
      ],
      "text/plain": [
       "       post_id                 cts  numbr_likes  number_comments  hour\n",
       "0  BXdjjUlgcgq 2017-08-06 20:06:57           80                0    20\n",
       "1  BVg0pbolYBC 2017-06-19 09:31:16           25                1     9\n",
       "2  BRgkjcXFp3Q 2017-03-11 20:05:03            9                0    20\n",
       "3  BKTKeNhjEA7 2016-09-13 16:27:16            4                0    16\n",
       "4   8-NQrvoYLX 2015-10-18 10:19:27            8                0    10"
      ]
     },
     "execution_count": 108,
     "metadata": {},
     "output_type": "execute_result"
    }
   ],
   "source": [
    "sub8_posts['hour'] = sub8_posts['cts'].map(lambda x: x.hour).astype('Int8')\n",
    "sub8_posts.head()"
   ]
  },
  {
   "cell_type": "code",
   "execution_count": 109,
   "id": "3bc93c75-9a4d-4452-968e-9e56042ce887",
   "metadata": {},
   "outputs": [
    {
     "ename": "AttributeError",
     "evalue": "'bool' object has no attribute 'all'",
     "output_type": "error",
     "traceback": [
      "\u001b[0;31m---------------------------------------------------------------------------\u001b[0m",
      "\u001b[0;31mAttributeError\u001b[0m                            Traceback (most recent call last)",
      "Input \u001b[0;32mIn [109]\u001b[0m, in \u001b[0;36m<cell line: 1>\u001b[0;34m()\u001b[0m\n\u001b[0;32m----> 1\u001b[0m test_likes \u001b[38;5;241m=\u001b[39m \u001b[43mpearsonr\u001b[49m\u001b[43m(\u001b[49m\u001b[43msub8_posts\u001b[49m\u001b[43m[\u001b[49m\u001b[38;5;124;43m'\u001b[39;49m\u001b[38;5;124;43mhour\u001b[39;49m\u001b[38;5;124;43m'\u001b[39;49m\u001b[43m]\u001b[49m\u001b[43m,\u001b[49m\u001b[43m \u001b[49m\u001b[43msub8_posts\u001b[49m\u001b[43m[\u001b[49m\u001b[38;5;124;43m'\u001b[39;49m\u001b[38;5;124;43mnumbr_likes\u001b[39;49m\u001b[38;5;124;43m'\u001b[39;49m\u001b[43m]\u001b[49m\u001b[43m)\u001b[49m\n\u001b[1;32m      2\u001b[0m test_comments \u001b[38;5;241m=\u001b[39m pearsonr(sub8_posts[\u001b[38;5;124m'\u001b[39m\u001b[38;5;124mhour\u001b[39m\u001b[38;5;124m'\u001b[39m], sub8_posts[\u001b[38;5;124m'\u001b[39m\u001b[38;5;124mnumber_comments\u001b[39m\u001b[38;5;124m'\u001b[39m])\n\u001b[1;32m      3\u001b[0m \u001b[38;5;28mprint\u001b[39m(\u001b[38;5;124mf\u001b[39m\u001b[38;5;124m\"\u001b[39m\u001b[38;5;124mPearson correlation coefficient (r) between hour and likes: \u001b[39m\u001b[38;5;132;01m{\u001b[39;00m\u001b[38;5;28mround\u001b[39m(test_likes[\u001b[38;5;241m0\u001b[39m],\u001b[38;5;241m4\u001b[39m)\u001b[38;5;132;01m}\u001b[39;00m\u001b[38;5;124m\"\u001b[39m)\n",
      "File \u001b[0;32m~/opt/anaconda3/lib/python3.9/site-packages/scipy/stats/stats.py:4022\u001b[0m, in \u001b[0;36mpearsonr\u001b[0;34m(x, y)\u001b[0m\n\u001b[1;32m   4019\u001b[0m y \u001b[38;5;241m=\u001b[39m np\u001b[38;5;241m.\u001b[39masarray(y)\n\u001b[1;32m   4021\u001b[0m \u001b[38;5;66;03m# If an input is constant, the correlation coefficient is not defined.\u001b[39;00m\n\u001b[0;32m-> 4022\u001b[0m \u001b[38;5;28;01mif\u001b[39;00m \u001b[43m(\u001b[49m\u001b[43mx\u001b[49m\u001b[43m \u001b[49m\u001b[38;5;241;43m==\u001b[39;49m\u001b[43m \u001b[49m\u001b[43mx\u001b[49m\u001b[43m[\u001b[49m\u001b[38;5;241;43m0\u001b[39;49m\u001b[43m]\u001b[49m\u001b[43m)\u001b[49m\u001b[38;5;241;43m.\u001b[39;49m\u001b[43mall\u001b[49m() \u001b[38;5;129;01mor\u001b[39;00m (y \u001b[38;5;241m==\u001b[39m y[\u001b[38;5;241m0\u001b[39m])\u001b[38;5;241m.\u001b[39mall():\n\u001b[1;32m   4023\u001b[0m     warnings\u001b[38;5;241m.\u001b[39mwarn(PearsonRConstantInputWarning())\n\u001b[1;32m   4024\u001b[0m     \u001b[38;5;28;01mreturn\u001b[39;00m np\u001b[38;5;241m.\u001b[39mnan, np\u001b[38;5;241m.\u001b[39mnan\n",
      "\u001b[0;31mAttributeError\u001b[0m: 'bool' object has no attribute 'all'"
     ]
    }
   ],
   "source": [
    "test_likes = pearsonr(sub8_posts['hour'], sub8_posts['numbr_likes'])\n",
    "test_comments = pearsonr(sub8_posts['hour'], sub8_posts['number_comments'])\n",
    "print(f\"Pearson correlation coefficient (r) between hour and likes: {round(test_likes[0],4)}\")\n",
    "print(f\"Two-tailed p-value between hour and likes: {round(test_likes[1],4)}\")\n",
    "print(f\"Pearson correlation coefficient (r) between hour and comments: {round(test_comments[0],4)}\")\n",
    "print(f\"Two-tailed p-value between hour and comments: {round(test_comments[1],4)}\")"
   ]
  },
  {
   "cell_type": "markdown",
   "id": "c015022d-3ed4-4a9f-b071-5d96d26fcd6d",
   "metadata": {},
   "source": [
    "In both cases we do not have a correlation between the two variables as shown by the correlation coefficient (r) and since the corresponding p-value is much greater than .05, we conclude that there is not a statistically significant association between the two variables."
   ]
  },
  {
   "cell_type": "markdown",
   "id": "0df19e32-64d3-4164-8bb4-3478bd233691",
   "metadata": {},
   "source": [
    "#### $\\bullet$ What’s the distribution of followers? Plot the empirical distribution of followers amongst all users and extract the mean, mode, and quantiles. Interpret those figures."
   ]
  },
  {
   "cell_type": "code",
   "execution_count": 44,
   "id": "c8f8fd0e-b62a-4704-8a08-917dda6d48bf",
   "metadata": {},
   "outputs": [],
   "source": [
    "# First we create a subset wich contains only the number of followers\n",
    "profiles_followers = profiles.col(['followers'], index=False, nrows=SAMPLE_SIZE)\n",
    "# Then we can drop all the NaN because we don't need them to visualize the empirical distribution\n",
    "profiles_followers.dropna(inplace=True)\n",
    "# As a last step we apply the logaritm to the followers because the range is too big and otherwise would be impossible \n",
    "# to visualize them correctly. We use log(x+1) to avoid that profiles with 0 followers will result -inf\n",
    "prof_foll_log = profiles_followers['followers'].apply(lambda x: np.log(x+1))"
   ]
  },
  {
   "cell_type": "code",
   "execution_count": 67,
   "id": "0c11b1af-bd70-4612-bf9f-95bdc2745aed",
   "metadata": {},
   "outputs": [
    {
     "data": {
      "image/png": "[encoded data removed]",
      "text/plain": [
       "<Figure size 864x576 with 1 Axes>"
      ]
     },
     "metadata": {},
     "output_type": "display_data"
    }
   ],
   "source": [
    "sns.histplot(prof_foll_log, bins=100, kde=True)\n",
    "plt.xlabel(\"Log(followers + 1)\")\n",
    "plt.ylabel(\"Frequency\")\n",
    "plt.title(\"HISTOGRAM OF THE FOLLOWERS DISTRIBUTION USING LOG-SCALE\")\n",
    "plt.show()"
   ]
  },
  {
   "cell_type": "code",
   "execution_count": 77,
   "id": "fdecec6a-5301-4d5a-a50f-59707b30ab7c",
   "metadata": {},
   "outputs": [
    {
     "name": "stdout",
     "output_type": "stream",
     "text": [
      "Followers mean is equal to: 8153.461\n",
      "Followers mode is equal to: 156\n",
      "Followers first quartile is equal to: 262\n",
      "Followers median is equal to: 653\n",
      "Followers third quartile is equal to: 1475\n"
     ]
    }
   ],
   "source": [
    "import statistics\n",
    "# followers mean\n",
    "followers_mean = round(np.mean(profiles_followers['followers']), 3)\n",
    "print(f'Followers mean is equal to: {followers_mean}')\n",
    "# followers mode\n",
    "followers_mode = round(statistics.mode(profiles_followers['followers']), 3)\n",
    "print(f'Followers mode is equal to: {followers_mode}')\n",
    "# followers first quartile\n",
    "followers_1stQuantile = int(np.quantile(profiles_followers['followers'], q=0.25))\n",
    "print(f'Followers first quartile is equal to: {followers_1stQuantile}')\n",
    "# followers median\n",
    "followers_median = int(np.quantile(profiles_followers['followers'], q=0.5))\n",
    "print(f'Followers median is equal to: {followers_median}')\n",
    "# followers third quartile\n",
    "followers_3rdQuantile = int(np.quantile(profiles_followers['followers'], q=0.75))\n",
    "print(f'Followers third quartile is equal to: {followers_3rdQuantile}')"
   ]
  },
  {
   "cell_type": "markdown",
   "id": "36f3046f-5b1c-4e64-b5d3-7e0e1bc5f534",
   "metadata": {},
   "source": [
    "#### $\\bullet$ What are histograms, bar plots, scatterplots and pie charts used for?"
   ]
  },
  {
   "cell_type": "markdown",
   "id": "90581906-8188-492b-a1fb-ca158726acde",
   "metadata": {},
   "source": [
    "_per ora è solo un copia e incolla da internet, scrivere meglio casi in cui vengono utilizzati_\n",
    "\n",
    "$\\bullet$ Histograms are used to summarize discrete or continuous data that are measured on an interval scale. It is often used to illustrate the major features of the distribution of the data in a convenient form. It is also useful when dealing with large data sets because it can help in detecting any unusual observations (outliers) or any gaps in the data. \n",
    "A histogram divides up the range of possible values in a data set into classes or groups. For each group, a rectangle is constructed with a base length equal to the range of values in that specific group and a length equal to the number of observations falling into that group. A histogram has an appearance similar to a vertical bar chart, but there are no gaps between the bars. Generally, a histogram will have bars of equal width. \n",
    "\n",
    "$\\bullet$ A bar plot is a chart that presents categorical data with rectangular bars with heights or lengths proportional to the values that they represent. The bars can be plotted vertically or horizontally.\n",
    "A bar plot shows comparisons among discrete categories. One axis of the chart shows the specific categories being compared, and the other axis represents a measured value. They can also represent bars clustered in groups of more than one, showing the values of more than one measured variable.\n",
    "\n",
    "$\\bullet$ A scatterplot is a type of plot or mathematical diagram that use cartesian coordinates to display values for typically two variables for a set of data. If the points are coded (color/shape/size), one additional variable can be displayed. The data are displayed as a collection of points, each having the value of one variable determining the position on the horizontal axis and the value of the other variable determining the position on the vertical axis.\n",
    "\n",
    "$\\bullet$ A pie chart is a circular statistical graphic, which is divided into slices to illustrate numerical proportion. In a pie chart, the arc length of each slice (and consequently its central angle and area) is proportional to the quantity it represents."
   ]
  },
  {
   "cell_type": "markdown",
   "id": "dcc6d0f3-ce52-44c1-be60-db09cf881c37",
   "metadata": {},
   "source": [
    "#### $\\bullet$ What insights can you extract from a Box Plot?"
   ]
  },
  {
   "cell_type": "markdown",
   "id": "12d24682-56e8-4ade-8304-4f5808b196fa",
   "metadata": {},
   "source": [
    "Box plots provide a quick visual summary of the variability of values in a dataset. They show the median, upper and lower quartiles, minimum and maximum values, and any outliers in the dataset. Outliers can reveal mistakes or unusual occurrences in data. A box plot is created using a number or rate/ratio field on the y-axis.\n",
    "\n",
    "Box plots are usefull to answer questions like: How is my data distributed? Are there any outliers in the dataset? \n",
    "\n",
    "| Component | Description |\n",
    "|---|---|\n",
    "| Whisker | The range of data less than the first quartile and greater than the third quartile. Each whisker has 25 percent of the data. Whiskers typically cannot be more than 1.5 times IQR, which sets the threshold for outliers. |\n",
    "| Box | The range of data between the first and third quartiles. 50 percent of the data lies within this range. The range between the first and third quartile is also known as the Inter Quartile Range (IQR). |\n",
    "| Maximum | The largest value in the dataset or the largest value that is not outside the threshold set by the whiskers. |\n",
    "| Third quartile | The value where 75 percent of the data is less than the value, and 25 percent of the data is greater than the value. |\n",
    "| Median | The middle number in the dataset. Half of the numbers are greater than the median and half are less than the median. The median can also be called the second quartile. |\n",
    "| First quartile | The value where 25 percent of the data is less than the value, and 75 percent of the data is greater than the value. |\n",
    "| Minimum| The smallest value in the dataset or the smallest value that is not outside the threshold set by the whiskers. |\n",
    "| Outliers| Data values that are higher or lower than the limits set by the whiskers. |"
   ]
  },
  {
   "cell_type": "code",
   "execution_count": 6,
   "id": "3af9fe89-dabb-4ca0-bca6-28757e43dac4",
   "metadata": {},
   "outputs": [],
   "source": [
    "# RQ2_1.dropna(inplace=True)"
   ]
  },
  {
   "cell_type": "code",
   "execution_count": 6,
   "id": "49f8aba2-217d-43a7-bc82-52517ddb1ca3",
   "metadata": {},
   "outputs": [
    {
     "data": {
      "text/html": [
       "<div>\n",
       "<style scoped>\n",
       "    .dataframe tbody tr th:only-of-type {\n",
       "        vertical-align: middle;\n",
       "    }\n",
       "\n",
       "    .dataframe tbody tr th {\n",
       "        vertical-align: top;\n",
       "    }\n",
       "\n",
       "    .dataframe thead th {\n",
       "        text-align: right;\n",
       "    }\n",
       "</style>\n",
       "<table border=\"1\" class=\"dataframe\">\n",
       "  <thead>\n",
       "    <tr style=\"text-align: right;\">\n",
       "      <th></th>\n",
       "      <th>profile_id</th>\n",
       "      <th>n_posts</th>\n",
       "    </tr>\n",
       "  </thead>\n",
       "  <tbody>\n",
       "    <tr>\n",
       "      <th>0</th>\n",
       "      <td>4.721050e+09</td>\n",
       "      <td>170.0</td>\n",
       "    </tr>\n",
       "    <tr>\n",
       "      <th>1</th>\n",
       "      <td>5.905830e+08</td>\n",
       "      <td>2878.0</td>\n",
       "    </tr>\n",
       "    <tr>\n",
       "      <th>2</th>\n",
       "      <td>1.074147e+09</td>\n",
       "      <td>431.0</td>\n",
       "    </tr>\n",
       "    <tr>\n",
       "      <th>5</th>\n",
       "      <td>1.450642e+08</td>\n",
       "      <td>590.0</td>\n",
       "    </tr>\n",
       "    <tr>\n",
       "      <th>6</th>\n",
       "      <td>2.061868e+09</td>\n",
       "      <td>753.0</td>\n",
       "    </tr>\n",
       "  </tbody>\n",
       "</table>\n",
       "</div>"
      ],
      "text/plain": [
       "     profile_id  n_posts\n",
       "0  4.721050e+09    170.0\n",
       "1  5.905830e+08   2878.0\n",
       "2  1.074147e+09    431.0\n",
       "5  1.450642e+08    590.0\n",
       "6  2.061868e+09    753.0"
      ]
     },
     "execution_count": 6,
     "metadata": {},
     "output_type": "execute_result"
    }
   ],
   "source": [
    "# RQ2_1.head()"
   ]
  },
  {
   "cell_type": "code",
   "execution_count": 12,
   "id": "810bbf27-bfb0-4243-a90d-45b27ddebd59",
   "metadata": {},
   "outputs": [],
   "source": [
    "# RQ2_1_2 = RQ2_1.sort_values(by=['n_posts'], ascending=False)[:100]"
   ]
  },
  {
   "cell_type": "code",
   "execution_count": 8,
   "id": "5055e592-ab5c-46e4-bf92-8d78681a929b",
   "metadata": {},
   "outputs": [
    {
     "data": {
      "text/plain": [
       "(100, 2)"
      ]
     },
     "execution_count": 8,
     "metadata": {},
     "output_type": "execute_result"
    }
   ],
   "source": [
    "# RQ2_1_2.shape"
   ]
  },
  {
   "cell_type": "code",
   "execution_count": 22,
   "id": "64b4b7f6-5708-4cb6-9273-91e30274e650",
   "metadata": {},
   "outputs": [
    {
     "data": {
      "text/plain": [
       "18811.0"
      ]
     },
     "execution_count": 22,
     "metadata": {},
     "output_type": "execute_result"
    }
   ],
   "source": [
    "# RQ2_1_2[\"n_posts\"].min()"
   ]
  },
  {
   "cell_type": "code",
   "execution_count": 41,
   "id": "08691103-3866-4ab5-afb8-5cf97b01a673",
   "metadata": {},
   "outputs": [],
   "source": [
    "#asdf = pd.DataFrame(profiles.df[\"n_posts\"].value_counts())\n",
    "#asdf.plot(x=\"n_posts\", y=asdf.index, kind=\"bar\", xticks=[], legend=False)"
   ]
  },
  {
   "cell_type": "code",
   "execution_count": null,
   "id": "d8667659-0ef4-4b2b-9a2a-9ceb217b0ada",
   "metadata": {},
   "outputs": [],
   "source": [
    "asdf.plot(x=\"profile_id\", y=\"n_posts\", kind=\"bar\", xticks=[], legend=False)"
   ]
  },
  {
   "cell_type": "code",
   "execution_count": 13,
   "id": "8c28a314-251c-47c9-90e0-548ac372690d",
   "metadata": {},
   "outputs": [
    {
     "data": {
      "text/plain": [
       "<AxesSubplot:xlabel='profile_id'>"
      ]
     },
     "execution_count": 13,
     "metadata": {},
     "output_type": "execute_result"
    },
    {
     "data": {
      "image/png": "[encoded data removed]",
      "text/plain": [
       "<Figure size 432x288 with 1 Axes>"
      ]
     },
     "metadata": {
      "needs_background": "light"
     },
     "output_type": "display_data"
    }
   ],
   "source": [
    "# RQ2_1_2.plot(x=\"profile_id\", y=\"n_posts\", kind=\"bar\", xticks=[], legend=False)"
   ]
  },
  {
   "cell_type": "code",
   "execution_count": null,
   "id": "f89bb95b-fc19-41e8-8748-b52e75fd2d7b",
   "metadata": {},
   "outputs": [],
   "source": []
  },
  {
   "cell_type": "markdown",
   "id": "73314558-a2ad-44fe-877a-253fc4018e3f",
   "metadata": {},
   "source": [
    "--- EXPLORATORY DATA ANALYSIS (EDA) ---"
   ]
  },
  {
   "cell_type": "code",
   "execution_count": 46,
   "id": "ad360ffd-45e5-4bd9-b437-ecc8bc5cc9b7",
   "metadata": {},
   "outputs": [
    {
     "name": "stdout",
     "output_type": "stream",
     "text": [
      "(4509586, 11)\n",
      "285457645.0\n",
      "4739.899180397426\n"
     ]
    }
   ],
   "source": [
    "### Locations dataset ###\n",
    "#print(df_loc.shape)\n",
    "#print(df_loc.isna().sum())\n",
    "\n",
    "### Posts dataset ###\n",
    "#print(df_posts.shape)\n",
    "#print(df_posts.isna().sum())\n",
    "\n",
    "### Profiles dataset ###\n",
    "# print(df_prof.shape)\n",
    "#print(df_prof.isna().sum())\n",
    "# print(df_prof[\"followers\"].max())\n",
    "# print(df_prof[\"followers\"].mean())"
   ]
  },
  {
   "cell_type": "code",
   "execution_count": null,
   "id": "0db3b8ee-2c3d-4edd-b6a6-85f530ef2e03",
   "metadata": {},
   "outputs": [],
   "source": [
    "# RQ2_2\n",
    "# RQ2_2 = df_posts[[\"post_id\", \"numbr_likes\"]].copy()"
   ]
  },
  {
   "cell_type": "code",
   "execution_count": null,
   "id": "24472922-5200-4e13-b618-4d2873b3e542",
   "metadata": {},
   "outputs": [],
   "source": []
  },
  {
   "cell_type": "markdown",
   "id": "d2303693-ba9d-40c4-a98e-ae32db0f2849",
   "metadata": {},
   "source": [
    "### 3. __[AQ2] Considering the following problem, answer the questions:__"
   ]
  },
  {
   "cell_type": "markdown",
   "id": "3586f8fc-40f9-430c-b621-79a1485e16ca",
   "metadata": {},
   "source": [
    "#### Alex has a ribbon of length N. He wants to cut the ribbon in a way that fulfils the following __three__ conditions:"
   ]
  },
  {
   "cell_type": "markdown",
   "id": "c95a415f-cacb-4545-8442-5a84842b4efb",
   "metadata": {},
   "source": [
    "#### $\\bullet$ Each piece of the cut should have an integer length\n",
    "#### $\\bullet$ He should at least cut the ribbon once\n",
    "#### $\\bullet$ The __multiplication__ of the length of all the pieces be the maximum possible"
   ]
  },
  {
   "cell_type": "markdown",
   "id": "8d4a05c6-65c7-4696-b768-9abb554a3f19",
   "metadata": {},
   "source": [
    "#### 1. Implement a __recursive algorithm__ to help Alex find the maximum possible value after multiplying the length of the pieces. Explain your algorithm in detail."
   ]
  },
  {
   "cell_type": "code",
   "execution_count": null,
   "id": "dc5bc81c-11d4-4399-8db2-340ce930a981",
   "metadata": {},
   "outputs": [],
   "source": [
    "# link problema simile https://en.wikipedia.org/wiki/Subset_sum_problem"
   ]
  },
  {
   "cell_type": "code",
   "execution_count": 6,
   "id": "03b2e88b-391a-40ce-82e3-647239a7a4db",
   "metadata": {},
   "outputs": [
    {
     "data": {
      "text/plain": [
       "27"
      ]
     },
     "execution_count": 6,
     "metadata": {},
     "output_type": "execute_result"
    }
   ],
   "source": [
    "# Devo lavorare solo con interi \n",
    "# Il minimo input possibile è 2 perchè devo poter fare almeno un taglio\n",
    "# Voglio massimizzare il prodotto della lunghezza dei tagli\n",
    "# L'algoritmo deve essere ricorsivo\n"
   ]
  },
  {
   "cell_type": "markdown",
   "id": "17050be1-26b5-4f51-b594-1e63d1366bad",
   "metadata": {},
   "source": [
    "#### 2. Show that the algorithm has exponential running time."
   ]
  },
  {
   "cell_type": "code",
   "execution_count": null,
   "id": "f1a78c8b-2e5d-42e3-a248-38e022d877ad",
   "metadata": {},
   "outputs": [],
   "source": []
  },
  {
   "cell_type": "markdown",
   "id": "725e92d8-fe60-4bfd-972d-bc9c5d41b3de",
   "metadata": {},
   "source": [
    "#### 3. Now provide a polynomial solution, based on __dynamic programming__, and compute its running-time complexity."
   ]
  },
  {
   "cell_type": "code",
   "execution_count": 20,
   "id": "bde0225a-2a7c-4a54-9589-c98968523bdb",
   "metadata": {},
   "outputs": [
    {
     "data": {
      "text/plain": [
       "3140085798164163223281069126"
      ]
     },
     "execution_count": 20,
     "metadata": {},
     "output_type": "execute_result"
    }
   ],
   "source": []
  },
  {
   "cell_type": "markdown",
   "id": "0d90bb1d-68f9-46c0-b199-7e78453021bb",
   "metadata": {},
   "source": [
    "#### 4. Evaluate the running time of your algorithm for the sizes (Ns) in the __range of [2, 25]__, plot the results, and interpret it (if you have implemented two algorithms, please include both in the plot and compare them)."
   ]
  },
  {
   "cell_type": "code",
   "execution_count": null,
   "id": "7327a37b-e97c-40b0-b563-21eee1af4476",
   "metadata": {},
   "outputs": [],
   "source": []
  },
  {
   "cell_type": "markdown",
   "id": "389476e5-3ca8-4507-b546-a04d21da99e5",
   "metadata": {},
   "source": [
    "#### 5. (Optional, mini bonus) Is the algorithm of question 3 __optimal__? If you belive it, can you prove it? If not, can you find a faster algorithm? In case you found a faster algorithm implement it and explain your algorithm in detail."
   ]
  },
  {
   "cell_type": "code",
   "execution_count": null,
   "id": "a4992fba-50b0-4017-991b-41ee9b4cc322",
   "metadata": {},
   "outputs": [],
   "source": [
    "def ribbon_cut_top(n):\n",
    "    # n = int(n) \n",
    "    if n < 2:\n",
    "        print(\"Input not valid. Try with an int greater than 2\")\n",
    "    elif n == 2:\n",
    "        return 1\n",
    "    elif n == 3:\n",
    "        return 2\n",
    "    elif n == 4:\n",
    "        return 4\n",
    "    else:\n",
    "        if n % 3 == 0:\n",
    "            return int(3 ** (n / 3))\n",
    "        elif (n + 1) % 3 == 0:\n",
    "            return int(3 ** (n // 3) * 2)\n",
    "        else: # (n+1) % 3 == 0\n",
    "            return int(3 ** (n // 3 - 1) * (4))\n",
    "ribbon_cut(17)"
   ]
  }
 ],
 "metadata": {
  "kernelspec": {
   "display_name": "Python 3 (ipykernel)",
   "language": "python",
   "name": "python3"
  },
  "language_info": {
   "codemirror_mode": {
    "name": "ipython",
    "version": 3
   },
   "file_extension": ".py",
   "mimetype": "text/x-python",
   "name": "python",
   "nbconvert_exporter": "python",
   "pygments_lexer": "ipython3",
   "version": "3.9.12"
  }
 },
 "nbformat": 4,
 "nbformat_minor": 5
}
