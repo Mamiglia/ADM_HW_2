{
 "cells": [
  {
   "cell_type": "markdown",
   "id": "f456713e-b437-485e-a47c-b88d08497b94",
   "metadata": {},
   "source": [
    "# Homework2"
   ]
  },
  {
   "cell_type": "markdown",
   "id": "b617d5a6-dcd9-4519-b09f-05155d09ddcc",
   "metadata": {},
   "source": [
    "## Preprocessing"
   ]
  },
  {
   "cell_type": "code",
   "execution_count": 1,
   "id": "ef27e81e-9eb8-4eed-b464-923d30f7946c",
   "metadata": {},
   "outputs": [],
   "source": [
    "# Import some useful libraries\n",
    "import pandas as pd\n",
    "import seaborn as sns\n",
    "import numpy as np\n",
    "import random\n",
    "import re\n",
    "import os\n",
    "from math import pi\n",
    "\n",
    "SAMPLE_SIZE = 100000\n",
    "\n",
    "%matplotlib inline\n",
    "import matplotlib.pyplot as plt"
   ]
  },
  {
   "cell_type": "code",
   "execution_count": 2,
   "id": "a2ac8b81-8dc4-4b7d-8a4a-259cf468199a",
   "metadata": {},
   "outputs": [
    {
     "name": "stdout",
     "output_type": "stream",
     "text": [
      "Requirement already satisfied: pyarrow in c:\\users\\carol\\appdata\\local\\packages\\pythonsoftwarefoundation.python.3.10_qbz5n2kfra8p0\\localcache\\local-packages\\python310\\site-packages (9.0.0)\n",
      "Requirement already satisfied: numpy>=1.16.6 in c:\\users\\carol\\appdata\\local\\packages\\pythonsoftwarefoundation.python.3.10_qbz5n2kfra8p0\\localcache\\local-packages\\python310\\site-packages (from pyarrow) (1.21.3)\n"
     ]
    },
    {
     "name": "stderr",
     "output_type": "stream",
     "text": [
      "WARNING: You are using pip version 22.0.4; however, version 22.3 is available.\n",
      "You should consider upgrading via the 'C:\\Users\\carol\\AppData\\Local\\Microsoft\\WindowsApps\\PythonSoftwareFoundation.Python.3.10_qbz5n2kfra8p0\\python.exe -m pip install --upgrade pip' command.\n"
     ]
    }
   ],
   "source": [
    "!pip install pyarrow"
   ]
  },
  {
   "cell_type": "code",
   "execution_count": 3,
   "id": "07478f5c-d8c4-411a-9a91-c7da151834a6",
   "metadata": {},
   "outputs": [],
   "source": [
    "class Dataset:\n",
    "    def __init__(self, file:str):\n",
    "        self.file_name : str = file\n",
    "        self.types : dict = self.load_types()\n",
    "        self.df : pd.DataFrame = None\n",
    "        \n",
    "    def name(self):\n",
    "        return re.search(r'\\/([\\w\\d]*)\\.csv',self.file_name).group(1)\n",
    "    \n",
    "    def __types_file__(self):\n",
    "        return 'types/' + self.name() +'.npy'\n",
    "        \n",
    "    def save_types(self):\n",
    "        np.save(self.__types_file__(), self.types)\n",
    "        \n",
    "    def load_types(self):\n",
    "        if os.path.isfile(self.__types_file__()):\n",
    "            self.types = np.load(self.__types_file__(),allow_pickle='TRUE').item()\n",
    "            return self.types\n",
    "        return None\n",
    "    \n",
    "    def col(self,columns:list, index:bool=True,**pd_params)->pd.DataFrame:\n",
    "        \"\"\"Loads some columns of the dataframe out of the whole csv file\n",
    "        \n",
    "        :param columns: a list of the desired columns\n",
    "        :type columns: list\n",
    "        :param index: if True loads also the 'sid' column as the index\n",
    "        :type index: bool\n",
    "        :param **pd_params: any other params for pd.read_csv(...)\n",
    "        :rtype: pd.DataFrame\n",
    "        \"\"\"\n",
    "        col_list = columns\n",
    "        if 'cts' in col_list:\n",
    "            pd_params['parse_dates'] = ['cts']\n",
    "        if index :\n",
    "            col_list.append('sid')\n",
    "        return pd.read_csv(self.file_name,\n",
    "                           usecols=col_list,\n",
    "                           dtype=self.types, \n",
    "                           index_col='sid' if index else None,\n",
    "                           delimiter='\\t', \n",
    "                           **pd_params)\n",
    "\n",
    "datasets = [\n",
    "    Dataset(file='instagram-dataset/instagram_profiles.csv'), \n",
    "    Dataset(file='instagram-dataset/instagram_locations.csv'), \n",
    "    Dataset(file='instagram-dataset/instagram_posts.csv')\n",
    "]\n",
    "profiles, locations, posts = datasets"
   ]
  },
  {
   "cell_type": "code",
   "execution_count": 4,
   "id": "80a05538-5327-41df-9095-b4ab48986f6e",
   "metadata": {},
   "outputs": [],
   "source": [
    "profiles.types = {\n",
    "#     'sid' : 'Int64',\n",
    "    'profile_id' : 'Int64',\n",
    "    'profile_name' : pd.StringDtype(storage='pyarrow'),\n",
    "    'firstname_lastname' : pd.StringDtype(storage='pyarrow'),\n",
    "    'description' : pd.StringDtype(storage='pyarrow'),\n",
    "    'following' : 'Int64',\n",
    "    'followers' : 'Int64',\n",
    "    'n_posts' : 'Int64',\n",
    "    'url' : pd.StringDtype(storage='pyarrow'),\n",
    "#     'cts' : pd.DatetimeTZDtype(tz='UTC'), #obtained through parse_dates=['cts']\n",
    "    'is_business_account' : pd.BooleanDtype()\n",
    "}\n",
    "posts.types = {\n",
    "#     'sid' : 'Int64', # gives an error, maybe because it's the index?\n",
    "    'sid_profile' : 'Int64',\n",
    "    'post_id' : pd.StringDtype(storage='pyarrow'),\n",
    "    'profile_id' : 'Int64',\n",
    "    'location_id' : 'Int64',\n",
    "    'description' : pd.StringDtype(storage='pyarrow'),\n",
    "    'post_type' : pd.CategoricalDtype(categories=[1,2,3]),\n",
    "    'numbr_likes' : 'Int64',\n",
    "    'number_comments' : 'Int64'\n",
    "}\n",
    "locations.types = {\n",
    "#     'sid' : 'Int64', # gives an error, maybe because it's the index?\n",
    "    'id' : 'Int64',\n",
    "    'name' : pd.StringDtype(storage='pyarrow'),\n",
    "    'street' : pd.StringDtype(storage='pyarrow'),\n",
    "    'zip' : pd.StringDtype(storage='pyarrow'),\n",
    "    'city' : pd.StringDtype(storage='pyarrow'),\n",
    "    'region' : pd.StringDtype(storage='pyarrow'),\n",
    "    'cd' : pd.CategoricalDtype(),\n",
    "    'phone' : pd.StringDtype(storage='pyarrow'),\n",
    "    'aj_exact_city_match' : pd.BooleanDtype(),\n",
    "    'aj_exact_country_match' : pd.BooleanDtype(),\n",
    "    'blurb' : pd.StringDtype(storage='pyarrow'),\n",
    "    'dir_city_id' : pd.StringDtype(storage='pyarrow'),\n",
    "    'dir_city_name' : pd.StringDtype(storage='pyarrow'),\n",
    "    'dir_city_slug' : pd.StringDtype(storage='pyarrow'),\n",
    "    'dir_country_id' : pd.CategoricalDtype(),\n",
    "    'dir_country_name' : pd.CategoricalDtype(),\n",
    "    'lat' : pd.Float32Dtype(),\n",
    "    'lng' : pd.Float32Dtype(),\n",
    "    'primary_alias_on_fb' : pd.StringDtype(storage='pyarrow'),\n",
    "    'slug' : pd.StringDtype(storage='pyarrow'),\n",
    "    'website' : pd.StringDtype(storage='pyarrow'),\n",
    "}"
   ]
  },
  {
   "cell_type": "code",
   "execution_count": 5,
   "id": "63929592-72ad-4da1-a7a3-dcd434b7b067",
   "metadata": {},
   "outputs": [],
   "source": [
    "def get_types(signed=True, unsigned=True, custom=[]):\n",
    "    '''Returns a pandas dataframe containing the boundaries of each integer dtype'''\n",
    "    # based on https://stackoverflow.com/a/57894540/9419492\n",
    "    pd_types = custom\n",
    "    if signed:\n",
    "        pd_types += [pd.Int8Dtype() ,pd.Int16Dtype() ,pd.Int32Dtype(), pd.Int64Dtype()]\n",
    "    if unsigned:\n",
    "        pd_types += [pd.UInt8Dtype() ,pd.UInt16Dtype(), pd.UInt32Dtype(), pd.UInt64Dtype()]\n",
    "    type_df = pd.DataFrame(data=pd_types, columns=['pd_type'])\n",
    "    type_df['np_type'] = type_df['pd_type'].apply(lambda t: t.numpy_dtype)\n",
    "    type_df['min_value'] = type_df['np_type'].apply(lambda row: np.iinfo(row).min)\n",
    "    type_df['max_value'] = type_df['np_type'].apply(lambda row: np.iinfo(row).max)\n",
    "    type_df['allow_negatives'] = type_df['min_value'] < 0\n",
    "    type_df['size'] = type_df['np_type'].apply(lambda row: row.itemsize)\n",
    "    type_df.sort_values(by=['size', 'allow_negatives'], inplace=True)\n",
    "    return type_df.reset_index(drop=True)\n",
    "def downcast_int(file_path, column:str, chunksize=10000, delimiter=',', signed=True, unsigned=True):\n",
    "    '''Assigns the smallest possible dtype to an integer column of a csv'''\n",
    "    types = get_types(signed, unsigned)\n",
    "    negatives = False\n",
    "    print(delimiter)\n",
    "    for chunk in pd.read_csv(file_path, \n",
    "                             usecols=[column],\n",
    "                             delimiter=delimiter,\n",
    "                             chunksize=chunksize):\n",
    "        M = chunk[column].max()\n",
    "        m = chunk[column].min()\n",
    "        if not signed and not negatives and m < 0 :\n",
    "            types = types[types['allow_negatives']] # removes unsigned rows\n",
    "            negatives = True\n",
    "        if m < types['min_value'].iloc[0]:\n",
    "            types = types[types['min_value'] < m]\n",
    "        if M > types['max_value'].iloc[0]:\n",
    "            types = types[types['max_value'] > M]\n",
    "        if len(types) == 1:\n",
    "            print('early stop')\n",
    "            break\n",
    "    return types['pd_type'].iloc[0]\n",
    "\n",
    "def optimize_cols(file, int_cols, delimiter=',', signed=True, unsigned=True):\n",
    "    out = dict()\n",
    "    for col in int_cols:\n",
    "        out[col] = downcast_int(file, col, delimiter=delimiter, signed=signed, unsigned=unsigned)\n",
    "    return out"
   ]
  },
  {
   "cell_type": "code",
   "execution_count": 6,
   "id": "3ee6822b-bce3-4cd1-91ee-bd534a517bcc",
   "metadata": {},
   "outputs": [
    {
     "name": "stdout",
     "output_type": "stream",
     "text": [
      "instagram_profiles  mean optimized memory usage per entry:  197 B vs  539 B  : 36.51%\n",
      "instagram_locations mean optimized memory usage per entry:  267 B vs 1113 B  : 23.97%\n",
      "instagram_posts     mean optimized memory usage per entry:  278 B vs  755 B  : 36.76%\n"
     ]
    }
   ],
   "source": [
    "for ds in datasets:\n",
    "    if not ds.load_types():\n",
    "        int_cols = [k for k,v in ds.types.items() if v == 'Int64']\n",
    "        print(int_cols)\n",
    "        ds.types.update(optimize_cols(ds.file_name, int_cols, delimiter='\\t'))\n",
    "        print(f'Optimized {len(int_cols)} types for {ds.name()}')\n",
    "    ds.save_types()\n",
    "\n",
    "for ds in datasets:\n",
    "    ds.df = pd.read_csv(ds.file_name, dtype=ds.types, index_col='sid', delimiter='\\t', parse_dates=['cts'], nrows=SAMPLE_SIZE)\n",
    "    avg_mem_unoptimized = pd.read_csv(ds.file_name, index_col='sid', delimiter='\\t', nrows=SAMPLE_SIZE).memory_usage(deep=True).sum()/SAMPLE_SIZE\n",
    "    avg_mem_optimized = ds.df.memory_usage(deep=True).sum()/SAMPLE_SIZE\n",
    "    print(f'{ds.name().ljust(19)} mean optimized memory usage per entry:  {round(avg_mem_optimized):3} B vs {round(avg_mem_unoptimized):4} B  : {round(avg_mem_optimized/avg_mem_unoptimized*100,2):5}%') "
   ]
  },
  {
   "cell_type": "code",
   "execution_count": null,
   "id": "4243710f-2fe3-4400-86b8-79b809766da1",
   "metadata": {},
   "outputs": [],
   "source": []
  },
  {
   "cell_type": "markdown",
   "id": "a4cd0d8a-83de-465b-b23e-7ab61bc0d9a3",
   "metadata": {},
   "source": [
    "# [RQ2]"
   ]
  },
  {
   "cell_type": "markdown",
   "id": "db22cbf0-7064-41bf-ad2f-0bfd5bf26071",
   "metadata": {},
   "source": [
    "### Plot the number of posts for each profile in descending order"
   ]
  },
  {
   "cell_type": "code",
   "execution_count": 7,
   "id": "cd2c4127-7438-4f35-950d-e12fbc8eb21c",
   "metadata": {},
   "outputs": [],
   "source": [
    "d_prof = profiles.col([\"profile_name\", \"n_posts\", \"following\", \"followers\", \"is_business_account\"])"
   ]
  },
  {
   "cell_type": "code",
   "execution_count": 8,
   "id": "de46977e-585c-4145-a110-d057e296d5e4",
   "metadata": {},
   "outputs": [
    {
     "data": {
      "image/png": "[encoded data removed]",
      "text/plain": [
       "<Figure size 576x432 with 1 Axes>"
      ]
     },
     "metadata": {
      "needs_background": "light"
     },
     "output_type": "display_data"
    }
   ],
   "source": [
    "#We limit it to the top 20\n",
    "plt.rcParams['figure.figsize'] = [8,6]\n",
    "plot_order = d_prof.sort_values(by=['n_posts'], ascending=False).head(20)\n",
    "sns.barplot(data=plot_order, x=\"profile_name\", y=\"n_posts\", palette=\"pastel\")\n",
    "plt.xlabel(\"Profile name\")\n",
    "plt.xticks(rotation=90)\n",
    "plt.ylabel(\"Number of posts\")\n",
    "plt.grid()"
   ]
  },
  {
   "cell_type": "markdown",
   "id": "eec6e200-aa19-4d9c-a88a-25e1e747e6dc",
   "metadata": {},
   "source": [
    "### What posts have the highest number of \"likes\"?"
   ]
  },
  {
   "cell_type": "code",
   "execution_count": 9,
   "id": "7a224e14-c460-4dc9-934a-42a1b7498099",
   "metadata": {},
   "outputs": [],
   "source": [
    "d_posts = posts.col([\"profile_id\", \"location_id\", \"post_type\", \"numbr_likes\", \"number_comments\", \"post_id\"], index=False, nrows=SAMPLE_SIZE)"
   ]
  },
  {
   "cell_type": "code",
   "execution_count": 10,
   "id": "996f710d-bb58-4bc7-8b75-c81b31b72f26",
   "metadata": {},
   "outputs": [
    {
     "data": {
      "text/html": [
       "<div>\n",
       "<style scoped>\n",
       "    .dataframe tbody tr th:only-of-type {\n",
       "        vertical-align: middle;\n",
       "    }\n",
       "\n",
       "    .dataframe tbody tr th {\n",
       "        vertical-align: top;\n",
       "    }\n",
       "\n",
       "    .dataframe thead th {\n",
       "        text-align: right;\n",
       "    }\n",
       "</style>\n",
       "<table border=\"1\" class=\"dataframe\">\n",
       "  <thead>\n",
       "    <tr style=\"text-align: right;\">\n",
       "      <th></th>\n",
       "      <th>post_id</th>\n",
       "      <th>profile_id</th>\n",
       "      <th>location_id</th>\n",
       "      <th>post_type</th>\n",
       "      <th>numbr_likes</th>\n",
       "      <th>number_comments</th>\n",
       "    </tr>\n",
       "  </thead>\n",
       "  <tbody>\n",
       "    <tr>\n",
       "      <th>85047</th>\n",
       "      <td>BZ_YhYugj_s</td>\n",
       "      <td>191110424</td>\n",
       "      <td>256808124805616</td>\n",
       "      <td>1</td>\n",
       "      <td>852230</td>\n",
       "      <td>1491</td>\n",
       "    </tr>\n",
       "    <tr>\n",
       "      <th>30773</th>\n",
       "      <td>BwMpiRqgGKk</td>\n",
       "      <td>293427480</td>\n",
       "      <td>1012959430</td>\n",
       "      <td>1</td>\n",
       "      <td>655354</td>\n",
       "      <td>6482</td>\n",
       "    </tr>\n",
       "    <tr>\n",
       "      <th>74739</th>\n",
       "      <td>BmOlqNbA98p</td>\n",
       "      <td>522601519</td>\n",
       "      <td>238970550099065</td>\n",
       "      <td>1</td>\n",
       "      <td>586484</td>\n",
       "      <td>6444</td>\n",
       "    </tr>\n",
       "    <tr>\n",
       "      <th>14566</th>\n",
       "      <td>Bb90GKnHlH5</td>\n",
       "      <td>12017431</td>\n",
       "      <td>115139952</td>\n",
       "      <td>1</td>\n",
       "      <td>472921</td>\n",
       "      <td>4235</td>\n",
       "    </tr>\n",
       "    <tr>\n",
       "      <th>41546</th>\n",
       "      <td>BsShUuXDDHh</td>\n",
       "      <td>23299911</td>\n",
       "      <td>4523118</td>\n",
       "      <td>1</td>\n",
       "      <td>352795</td>\n",
       "      <td>3318</td>\n",
       "    </tr>\n",
       "    <tr>\n",
       "      <th>1861</th>\n",
       "      <td>BWatkdZACtC</td>\n",
       "      <td>7061024</td>\n",
       "      <td>59743640</td>\n",
       "      <td>1</td>\n",
       "      <td>298913</td>\n",
       "      <td>386</td>\n",
       "    </tr>\n",
       "    <tr>\n",
       "      <th>49316</th>\n",
       "      <td>BeIrW70DHg1</td>\n",
       "      <td>787132</td>\n",
       "      <td>271576538</td>\n",
       "      <td>1</td>\n",
       "      <td>273971</td>\n",
       "      <td>585</td>\n",
       "    </tr>\n",
       "    <tr>\n",
       "      <th>90937</th>\n",
       "      <td>BQc65i1BLYh</td>\n",
       "      <td>22288455</td>\n",
       "      <td>265805924</td>\n",
       "      <td>1</td>\n",
       "      <td>265909</td>\n",
       "      <td>937</td>\n",
       "    </tr>\n",
       "    <tr>\n",
       "      <th>35787</th>\n",
       "      <td>BDlWL0ALf5W</td>\n",
       "      <td>28902942</td>\n",
       "      <td>255558274</td>\n",
       "      <td>1</td>\n",
       "      <td>243842</td>\n",
       "      <td>1087</td>\n",
       "    </tr>\n",
       "    <tr>\n",
       "      <th>18750</th>\n",
       "      <td>BwRWzebnL9u</td>\n",
       "      <td>256358723</td>\n",
       "      <td>499723383824358</td>\n",
       "      <td>1</td>\n",
       "      <td>243354</td>\n",
       "      <td>2367</td>\n",
       "    </tr>\n",
       "    <tr>\n",
       "      <th>57136</th>\n",
       "      <td>BPBDAySj1sC</td>\n",
       "      <td>358307373</td>\n",
       "      <td>375755225</td>\n",
       "      <td>1</td>\n",
       "      <td>223127</td>\n",
       "      <td>623</td>\n",
       "    </tr>\n",
       "    <tr>\n",
       "      <th>73215</th>\n",
       "      <td>BsDxU4fBjc5</td>\n",
       "      <td>179489603</td>\n",
       "      <td>278296893</td>\n",
       "      <td>1</td>\n",
       "      <td>198286</td>\n",
       "      <td>1134</td>\n",
       "    </tr>\n",
       "    <tr>\n",
       "      <th>48291</th>\n",
       "      <td>BhYIqI0jfUK</td>\n",
       "      <td>1320207</td>\n",
       "      <td>695966733905536</td>\n",
       "      <td>1</td>\n",
       "      <td>186417</td>\n",
       "      <td>653</td>\n",
       "    </tr>\n",
       "    <tr>\n",
       "      <th>42037</th>\n",
       "      <td>BM_Kl1jDjxb</td>\n",
       "      <td>352713906</td>\n",
       "      <td>242995327</td>\n",
       "      <td>1</td>\n",
       "      <td>186089</td>\n",
       "      <td>1192</td>\n",
       "    </tr>\n",
       "    <tr>\n",
       "      <th>76727</th>\n",
       "      <td>BwEikwrlMKy</td>\n",
       "      <td>174788501</td>\n",
       "      <td>2590498480977865</td>\n",
       "      <td>1</td>\n",
       "      <td>184467</td>\n",
       "      <td>849</td>\n",
       "    </tr>\n",
       "    <tr>\n",
       "      <th>78871</th>\n",
       "      <td>BvML-ZZlkgX</td>\n",
       "      <td>1375116651</td>\n",
       "      <td>256203518645649</td>\n",
       "      <td>2</td>\n",
       "      <td>162086</td>\n",
       "      <td>1648</td>\n",
       "    </tr>\n",
       "    <tr>\n",
       "      <th>54108</th>\n",
       "      <td>BHuN4CzBOGV</td>\n",
       "      <td>12095217</td>\n",
       "      <td>804791679651171</td>\n",
       "      <td>1</td>\n",
       "      <td>155714</td>\n",
       "      <td>974</td>\n",
       "    </tr>\n",
       "    <tr>\n",
       "      <th>52459</th>\n",
       "      <td>BuIGxAdAaMu</td>\n",
       "      <td>8124614</td>\n",
       "      <td>1022336243</td>\n",
       "      <td>2</td>\n",
       "      <td>137175</td>\n",
       "      <td>5262</td>\n",
       "    </tr>\n",
       "    <tr>\n",
       "      <th>72581</th>\n",
       "      <td>BHmuX_1AHSF</td>\n",
       "      <td>17969461</td>\n",
       "      <td>1807481</td>\n",
       "      <td>1</td>\n",
       "      <td>131789</td>\n",
       "      <td>370</td>\n",
       "    </tr>\n",
       "    <tr>\n",
       "      <th>1265</th>\n",
       "      <td>BP3clgjDC-Q</td>\n",
       "      <td>319897212</td>\n",
       "      <td>1029929202</td>\n",
       "      <td>1</td>\n",
       "      <td>129571</td>\n",
       "      <td>386</td>\n",
       "    </tr>\n",
       "  </tbody>\n",
       "</table>\n",
       "</div>"
      ],
      "text/plain": [
       "           post_id  profile_id       location_id post_type  numbr_likes  \\\n",
       "85047  BZ_YhYugj_s   191110424   256808124805616         1       852230   \n",
       "30773  BwMpiRqgGKk   293427480        1012959430         1       655354   \n",
       "74739  BmOlqNbA98p   522601519   238970550099065         1       586484   \n",
       "14566  Bb90GKnHlH5    12017431         115139952         1       472921   \n",
       "41546  BsShUuXDDHh    23299911           4523118         1       352795   \n",
       "1861   BWatkdZACtC     7061024          59743640         1       298913   \n",
       "49316  BeIrW70DHg1      787132         271576538         1       273971   \n",
       "90937  BQc65i1BLYh    22288455         265805924         1       265909   \n",
       "35787  BDlWL0ALf5W    28902942         255558274         1       243842   \n",
       "18750  BwRWzebnL9u   256358723   499723383824358         1       243354   \n",
       "57136  BPBDAySj1sC   358307373         375755225         1       223127   \n",
       "73215  BsDxU4fBjc5   179489603         278296893         1       198286   \n",
       "48291  BhYIqI0jfUK     1320207   695966733905536         1       186417   \n",
       "42037  BM_Kl1jDjxb   352713906         242995327         1       186089   \n",
       "76727  BwEikwrlMKy   174788501  2590498480977865         1       184467   \n",
       "78871  BvML-ZZlkgX  1375116651   256203518645649         2       162086   \n",
       "54108  BHuN4CzBOGV    12095217   804791679651171         1       155714   \n",
       "52459  BuIGxAdAaMu     8124614        1022336243         2       137175   \n",
       "72581  BHmuX_1AHSF    17969461           1807481         1       131789   \n",
       "1265   BP3clgjDC-Q   319897212        1029929202         1       129571   \n",
       "\n",
       "       number_comments  \n",
       "85047             1491  \n",
       "30773             6482  \n",
       "74739             6444  \n",
       "14566             4235  \n",
       "41546             3318  \n",
       "1861               386  \n",
       "49316              585  \n",
       "90937              937  \n",
       "35787             1087  \n",
       "18750             2367  \n",
       "57136              623  \n",
       "73215             1134  \n",
       "48291              653  \n",
       "42037             1192  \n",
       "76727              849  \n",
       "78871             1648  \n",
       "54108              974  \n",
       "52459             5262  \n",
       "72581              370  \n",
       "1265               386  "
      ]
     },
     "execution_count": 10,
     "metadata": {},
     "output_type": "execute_result"
    }
   ],
   "source": [
    "pop_posts = d_posts.sort_values(by=['numbr_likes'], ascending = False).head(20)\n",
    "pop_posts"
   ]
  },
  {
   "cell_type": "code",
   "execution_count": 11,
   "id": "a819cd91-3e95-4aa5-b829-62ff917ed7ca",
   "metadata": {},
   "outputs": [
    {
     "data": {
      "image/png": "[encoded data removed]",
      "text/plain": [
       "<Figure size 576x432 with 1 Axes>"
      ]
     },
     "metadata": {
      "needs_background": "light"
     },
     "output_type": "display_data"
    }
   ],
   "source": [
    "plt.rcParams['figure.figsize'] = [8,6]\n",
    "plot_order = d_posts.sort_values(by=['numbr_likes'], ascending=False).head(20)\n",
    "sns.barplot(data=plot_order, x=\"post_id\", y=\"numbr_likes\", palette=\"pastel\")\n",
    "plt.xlabel(\"Post ID\")\n",
    "plt.xticks(rotation=90)\n",
    "plt.ylabel(\"Number of likes\")\n",
    "plt.grid()"
   ]
  },
  {
   "cell_type": "markdown",
   "id": "ab7d7a79-cd82-4f4d-bb12-ce4470082de8",
   "metadata": {},
   "source": [
    "### What posts have the most and the least number of comments?"
   ]
  },
  {
   "cell_type": "code",
   "execution_count": 57,
   "id": "c423b75a-d4c6-4845-9e00-c58aa31ffcba",
   "metadata": {},
   "outputs": [],
   "source": [
    "post_comm = posts.col([\"profile_id\", \"post_type\", \"number_comments\", \"post_id\"], index=False, nrows=SAMPLE_SIZE)"
   ]
  },
  {
   "cell_type": "code",
   "execution_count": 58,
   "id": "a508c32e-6a1e-44e0-841f-f71041d1ed25",
   "metadata": {},
   "outputs": [
    {
     "data": {
      "text/html": [
       "<div>\n",
       "<style scoped>\n",
       "    .dataframe tbody tr th:only-of-type {\n",
       "        vertical-align: middle;\n",
       "    }\n",
       "\n",
       "    .dataframe tbody tr th {\n",
       "        vertical-align: top;\n",
       "    }\n",
       "\n",
       "    .dataframe thead th {\n",
       "        text-align: right;\n",
       "    }\n",
       "</style>\n",
       "<table border=\"1\" class=\"dataframe\">\n",
       "  <thead>\n",
       "    <tr style=\"text-align: right;\">\n",
       "      <th></th>\n",
       "      <th>post_id</th>\n",
       "      <th>profile_id</th>\n",
       "      <th>post_type</th>\n",
       "      <th>number_comments</th>\n",
       "    </tr>\n",
       "  </thead>\n",
       "  <tbody>\n",
       "    <tr>\n",
       "      <th>50077</th>\n",
       "      <td>BuvfTmgFsuY</td>\n",
       "      <td>3950062135</td>\n",
       "      <td>1</td>\n",
       "      <td>31655</td>\n",
       "    </tr>\n",
       "    <tr>\n",
       "      <th>5633</th>\n",
       "      <td>BgkKMt4hAW7</td>\n",
       "      <td>2955286544</td>\n",
       "      <td>1</td>\n",
       "      <td>13983</td>\n",
       "    </tr>\n",
       "    <tr>\n",
       "      <th>30773</th>\n",
       "      <td>BwMpiRqgGKk</td>\n",
       "      <td>293427480</td>\n",
       "      <td>1</td>\n",
       "      <td>6482</td>\n",
       "    </tr>\n",
       "    <tr>\n",
       "      <th>74739</th>\n",
       "      <td>BmOlqNbA98p</td>\n",
       "      <td>522601519</td>\n",
       "      <td>1</td>\n",
       "      <td>6444</td>\n",
       "    </tr>\n",
       "    <tr>\n",
       "      <th>52459</th>\n",
       "      <td>BuIGxAdAaMu</td>\n",
       "      <td>8124614</td>\n",
       "      <td>2</td>\n",
       "      <td>5262</td>\n",
       "    </tr>\n",
       "    <tr>\n",
       "      <th>14295</th>\n",
       "      <td>1IqH8bsCFI</td>\n",
       "      <td>268353079</td>\n",
       "      <td>2</td>\n",
       "      <td>5246</td>\n",
       "    </tr>\n",
       "    <tr>\n",
       "      <th>14566</th>\n",
       "      <td>Bb90GKnHlH5</td>\n",
       "      <td>12017431</td>\n",
       "      <td>1</td>\n",
       "      <td>4235</td>\n",
       "    </tr>\n",
       "    <tr>\n",
       "      <th>40130</th>\n",
       "      <td>Bx_Iw7PpxNE</td>\n",
       "      <td>188523455</td>\n",
       "      <td>1</td>\n",
       "      <td>4051</td>\n",
       "    </tr>\n",
       "    <tr>\n",
       "      <th>41546</th>\n",
       "      <td>BsShUuXDDHh</td>\n",
       "      <td>23299911</td>\n",
       "      <td>1</td>\n",
       "      <td>3318</td>\n",
       "    </tr>\n",
       "    <tr>\n",
       "      <th>41656</th>\n",
       "      <td>Bo9qDpSHIrR</td>\n",
       "      <td>249063683</td>\n",
       "      <td>1</td>\n",
       "      <td>3272</td>\n",
       "    </tr>\n",
       "  </tbody>\n",
       "</table>\n",
       "</div>"
      ],
      "text/plain": [
       "           post_id  profile_id post_type  number_comments\n",
       "50077  BuvfTmgFsuY  3950062135         1            31655\n",
       "5633   BgkKMt4hAW7  2955286544         1            13983\n",
       "30773  BwMpiRqgGKk   293427480         1             6482\n",
       "74739  BmOlqNbA98p   522601519         1             6444\n",
       "52459  BuIGxAdAaMu     8124614         2             5262\n",
       "14295   1IqH8bsCFI   268353079         2             5246\n",
       "14566  Bb90GKnHlH5    12017431         1             4235\n",
       "40130  Bx_Iw7PpxNE   188523455         1             4051\n",
       "41546  BsShUuXDDHh    23299911         1             3318\n",
       "41656  Bo9qDpSHIrR   249063683         1             3272"
      ]
     },
     "execution_count": 58,
     "metadata": {},
     "output_type": "execute_result"
    }
   ],
   "source": [
    "most_num_comm = post_comm.sort_values(by=['number_comments'], ascending = False).head(10)\n",
    "most_num_comm"
   ]
  },
  {
   "cell_type": "code",
   "execution_count": 62,
   "id": "51366932-515e-4f3a-a5db-f4c4a6469382",
   "metadata": {},
   "outputs": [
    {
     "data": {
      "image/png": "[encoded data removed]",
      "text/plain": [
       "<Figure size 576x432 with 1 Axes>"
      ]
     },
     "metadata": {
      "needs_background": "light"
     },
     "output_type": "display_data"
    }
   ],
   "source": [
    "plt.rcParams['figure.figsize'] = [8,6]\n",
    "sns.barplot(data=most_num_comm, x=\"post_id\", y=\"number_comments\", palette=\"pastel\")\n",
    "plt.xlabel(\"Post ID\")\n",
    "plt.xticks(rotation=90)\n",
    "plt.ylabel(\"Number of comments\")\n",
    "plt.grid()"
   ]
  },
  {
   "cell_type": "code",
   "execution_count": 60,
   "id": "d1c47a37-8b02-4dcb-86e7-b8835644956f",
   "metadata": {},
   "outputs": [
    {
     "data": {
      "text/html": [
       "<div>\n",
       "<style scoped>\n",
       "    .dataframe tbody tr th:only-of-type {\n",
       "        vertical-align: middle;\n",
       "    }\n",
       "\n",
       "    .dataframe tbody tr th {\n",
       "        vertical-align: top;\n",
       "    }\n",
       "\n",
       "    .dataframe thead th {\n",
       "        text-align: right;\n",
       "    }\n",
       "</style>\n",
       "<table border=\"1\" class=\"dataframe\">\n",
       "  <thead>\n",
       "    <tr style=\"text-align: right;\">\n",
       "      <th></th>\n",
       "      <th>post_id</th>\n",
       "      <th>profile_id</th>\n",
       "      <th>post_type</th>\n",
       "      <th>number_comments</th>\n",
       "    </tr>\n",
       "  </thead>\n",
       "  <tbody>\n",
       "    <tr>\n",
       "      <th>50077</th>\n",
       "      <td>BuvfTmgFsuY</td>\n",
       "      <td>3950062135</td>\n",
       "      <td>1</td>\n",
       "      <td>31655</td>\n",
       "    </tr>\n",
       "  </tbody>\n",
       "</table>\n",
       "</div>"
      ],
      "text/plain": [
       "           post_id  profile_id post_type  number_comments\n",
       "50077  BuvfTmgFsuY  3950062135         1            31655"
      ]
     },
     "execution_count": 60,
     "metadata": {},
     "output_type": "execute_result"
    }
   ],
   "source": [
    "most_num_comm.head(1)"
   ]
  },
  {
   "cell_type": "markdown",
   "id": "7395d0c8-b80d-478e-813c-dfda47e28a52",
   "metadata": {},
   "source": [
    "This is the post with the most number of comments in our chunk of data."
   ]
  },
  {
   "cell_type": "code",
   "execution_count": 59,
   "id": "b119537b-34e7-4069-8a77-7efe9fdb18e9",
   "metadata": {},
   "outputs": [
    {
     "data": {
      "text/html": [
       "<div>\n",
       "<style scoped>\n",
       "    .dataframe tbody tr th:only-of-type {\n",
       "        vertical-align: middle;\n",
       "    }\n",
       "\n",
       "    .dataframe tbody tr th {\n",
       "        vertical-align: top;\n",
       "    }\n",
       "\n",
       "    .dataframe thead th {\n",
       "        text-align: right;\n",
       "    }\n",
       "</style>\n",
       "<table border=\"1\" class=\"dataframe\">\n",
       "  <thead>\n",
       "    <tr style=\"text-align: right;\">\n",
       "      <th></th>\n",
       "      <th>post_id</th>\n",
       "      <th>profile_id</th>\n",
       "      <th>post_type</th>\n",
       "      <th>number_comments</th>\n",
       "    </tr>\n",
       "  </thead>\n",
       "  <tbody>\n",
       "    <tr>\n",
       "      <th>73209</th>\n",
       "      <td>Bu39V4ehgTe</td>\n",
       "      <td>8905420683</td>\n",
       "      <td>1</td>\n",
       "      <td>0</td>\n",
       "    </tr>\n",
       "    <tr>\n",
       "      <th>6811</th>\n",
       "      <td>BxM4La1gHkT</td>\n",
       "      <td>10895811453</td>\n",
       "      <td>1</td>\n",
       "      <td>0</td>\n",
       "    </tr>\n",
       "    <tr>\n",
       "      <th>44257</th>\n",
       "      <td>BxDUSY-niZ0</td>\n",
       "      <td>6817352651</td>\n",
       "      <td>1</td>\n",
       "      <td>0</td>\n",
       "    </tr>\n",
       "    <tr>\n",
       "      <th>6809</th>\n",
       "      <td>BgqnLKEj3hX</td>\n",
       "      <td>930911058</td>\n",
       "      <td>1</td>\n",
       "      <td>0</td>\n",
       "    </tr>\n",
       "    <tr>\n",
       "      <th>44261</th>\n",
       "      <td>BwhUsAUHSK0</td>\n",
       "      <td>3721243884</td>\n",
       "      <td>1</td>\n",
       "      <td>0</td>\n",
       "    </tr>\n",
       "    <tr>\n",
       "      <th>44259</th>\n",
       "      <td>BxDTieQHF9W</td>\n",
       "      <td>6817352651</td>\n",
       "      <td>1</td>\n",
       "      <td>0</td>\n",
       "    </tr>\n",
       "    <tr>\n",
       "      <th>73217</th>\n",
       "      <td>ByFfcu8nIc_</td>\n",
       "      <td>1575677066</td>\n",
       "      <td>1</td>\n",
       "      <td>0</td>\n",
       "    </tr>\n",
       "    <tr>\n",
       "      <th>44258</th>\n",
       "      <td>BxDUPtZnFUt</td>\n",
       "      <td>6817352651</td>\n",
       "      <td>1</td>\n",
       "      <td>0</td>\n",
       "    </tr>\n",
       "    <tr>\n",
       "      <th>73219</th>\n",
       "      <td>ByE2FFWHcv0</td>\n",
       "      <td>1575677066</td>\n",
       "      <td>1</td>\n",
       "      <td>0</td>\n",
       "    </tr>\n",
       "    <tr>\n",
       "      <th>0</th>\n",
       "      <td>BXdjjUlgcgq</td>\n",
       "      <td>2237947779</td>\n",
       "      <td>2</td>\n",
       "      <td>0</td>\n",
       "    </tr>\n",
       "  </tbody>\n",
       "</table>\n",
       "</div>"
      ],
      "text/plain": [
       "           post_id   profile_id post_type  number_comments\n",
       "73209  Bu39V4ehgTe   8905420683         1                0\n",
       "6811   BxM4La1gHkT  10895811453         1                0\n",
       "44257  BxDUSY-niZ0   6817352651         1                0\n",
       "6809   BgqnLKEj3hX    930911058         1                0\n",
       "44261  BwhUsAUHSK0   3721243884         1                0\n",
       "44259  BxDTieQHF9W   6817352651         1                0\n",
       "73217  ByFfcu8nIc_   1575677066         1                0\n",
       "44258  BxDUPtZnFUt   6817352651         1                0\n",
       "73219  ByE2FFWHcv0   1575677066         1                0\n",
       "0      BXdjjUlgcgq   2237947779         2                0"
      ]
     },
     "execution_count": 59,
     "metadata": {},
     "output_type": "execute_result"
    }
   ],
   "source": [
    "least_num_comm = post_comm.sort_values(by=['number_comments'], ascending = False).tail(10)\n",
    "least_num_comm"
   ]
  },
  {
   "cell_type": "code",
   "execution_count": 61,
   "id": "c4a95e13-6ec4-48e1-9931-40dded770212",
   "metadata": {},
   "outputs": [
    {
     "data": {
      "text/html": [
       "<div>\n",
       "<style scoped>\n",
       "    .dataframe tbody tr th:only-of-type {\n",
       "        vertical-align: middle;\n",
       "    }\n",
       "\n",
       "    .dataframe tbody tr th {\n",
       "        vertical-align: top;\n",
       "    }\n",
       "\n",
       "    .dataframe thead th {\n",
       "        text-align: right;\n",
       "    }\n",
       "</style>\n",
       "<table border=\"1\" class=\"dataframe\">\n",
       "  <thead>\n",
       "    <tr style=\"text-align: right;\">\n",
       "      <th></th>\n",
       "      <th>post_id</th>\n",
       "      <th>profile_id</th>\n",
       "      <th>post_type</th>\n",
       "      <th>number_comments</th>\n",
       "    </tr>\n",
       "  </thead>\n",
       "  <tbody>\n",
       "    <tr>\n",
       "      <th>0</th>\n",
       "      <td>BXdjjUlgcgq</td>\n",
       "      <td>2237947779</td>\n",
       "      <td>2</td>\n",
       "      <td>0</td>\n",
       "    </tr>\n",
       "  </tbody>\n",
       "</table>\n",
       "</div>"
      ],
      "text/plain": [
       "       post_id  profile_id post_type  number_comments\n",
       "0  BXdjjUlgcgq  2237947779         2                0"
      ]
     },
     "execution_count": 61,
     "metadata": {},
     "output_type": "execute_result"
    }
   ],
   "source": [
    "least_num_comm.tail(1)"
   ]
  },
  {
   "cell_type": "markdown",
   "id": "688d65c4-f511-4cc3-ab1f-b5de408bd145",
   "metadata": {},
   "source": [
    "This is the post with the least number of comments in our chunk of data, but as we can see, there are other posts with 0 comments."
   ]
  },
  {
   "cell_type": "markdown",
   "id": "ef87eaab-dd3d-43cd-8db7-c85d0f8327bd",
   "metadata": {},
   "source": [
    "### How many posts include tagged locations, and how many do not? Show it using an appropriate chart and comment your results"
   ]
  },
  {
   "cell_type": "code",
   "execution_count": 12,
   "id": "a7a244b5-1ee1-462b-bbb5-8137ac449262",
   "metadata": {},
   "outputs": [],
   "source": [
    "d_loc = locations.col([\"sid\", \"id\", \"name\", \"city\", \"cd\", \"dir_city_name\", \"dir_city_slug\"])"
   ]
  },
  {
   "cell_type": "code",
   "execution_count": 38,
   "id": "18916d43-a089-4de3-90dc-c2e69b02c9a1",
   "metadata": {},
   "outputs": [
    {
     "data": {
      "text/plain": [
       "215747078836645     33\n",
       "44037               33\n",
       "156669956           33\n",
       "889039841190944     33\n",
       "403794              33\n",
       "                    ..\n",
       "1031576345           1\n",
       "204888340227037      1\n",
       "1373067189395693     1\n",
       "1731672923721531     1\n",
       "<NA>                 0\n",
       "Name: location_id, Length: 4639, dtype: Int64"
      ]
     },
     "execution_count": 38,
     "metadata": {},
     "output_type": "execute_result"
    }
   ],
   "source": [
    "post_loc = d_posts[\"location_id\"].value_counts(dropna=False)\n",
    "post_loc"
   ]
  },
  {
   "cell_type": "markdown",
   "id": "7e2b714e-5989-4ac0-9e71-fb9429af8fbe",
   "metadata": {},
   "source": [
    "### How many posts include only photos? How many also have videos?"
   ]
  },
  {
   "cell_type": "code",
   "execution_count": 21,
   "id": "27e93490-2a1c-4e74-a046-6590eaefb8c2",
   "metadata": {},
   "outputs": [
    {
     "data": {
      "text/plain": [
       "1    94171\n",
       "2     5829\n",
       "3        0\n",
       "Name: post_type, dtype: int64"
      ]
     },
     "execution_count": 21,
     "metadata": {},
     "output_type": "execute_result"
    }
   ],
   "source": [
    "post_type = d_posts[\"post_type\"].value_counts() \n",
    "post_type"
   ]
  },
  {
   "cell_type": "code",
   "execution_count": 22,
   "id": "bbfe7a23-50b0-47cd-9c5e-cf04f773ba0e",
   "metadata": {},
   "outputs": [
    {
     "data": {
      "text/plain": [
       "<AxesSubplot:>"
      ]
     },
     "execution_count": 22,
     "metadata": {},
     "output_type": "execute_result"
    },
    {
     "data": {
      "image/png": "[encoded data removed]",
      "text/plain": [
       "<Figure size 576x432 with 1 Axes>"
      ]
     },
     "metadata": {
      "needs_background": "light"
     },
     "output_type": "display_data"
    }
   ],
   "source": [
    "post_type.plot.bar()"
   ]
  },
  {
   "cell_type": "markdown",
   "id": "faa2b42b-5ee8-425c-b031-c1c8fed3728b",
   "metadata": {},
   "source": [
    "In this chunk of data there are  94171 posts with only photos and 0 posts with photos and also videos"
   ]
  },
  {
   "cell_type": "markdown",
   "id": "81c96f15-08b4-41dd-a9ef-b5bf18c034f8",
   "metadata": {},
   "source": [
    "### What's the percentage of business accounts vs non-business? What can you interpret regarding that percentage?"
   ]
  },
  {
   "cell_type": "code",
   "execution_count": 13,
   "id": "13243a46-645c-45f9-a12c-9df5d765244e",
   "metadata": {},
   "outputs": [
    {
     "data": {
      "text/plain": [
       "1064263"
      ]
     },
     "execution_count": 13,
     "metadata": {},
     "output_type": "execute_result"
    }
   ],
   "source": [
    "nan_prof = d_prof[\"is_business_account\"].isna().sum()\n",
    "nan_prof"
   ]
  },
  {
   "cell_type": "code",
   "execution_count": 28,
   "id": "5d442537-69d4-448d-8bbe-4c370cc1cdd7",
   "metadata": {},
   "outputs": [
    {
     "data": {
      "text/plain": [
       "False    2590069\n",
       "<NA>     1064263\n",
       "True      855254\n",
       "Name: is_business_account, dtype: Int64"
      ]
     },
     "execution_count": 28,
     "metadata": {},
     "output_type": "execute_result"
    }
   ],
   "source": [
    "b_prof = d_prof[\"is_business_account\"].value_counts(dropna=False)\n",
    "b_prof"
   ]
  },
  {
   "cell_type": "code",
   "execution_count": 32,
   "id": "8d19e0dc-5346-47b5-8b92-f074695a96b3",
   "metadata": {},
   "outputs": [
    {
     "data": {
      "text/plain": [
       "<AxesSubplot:>"
      ]
     },
     "execution_count": 32,
     "metadata": {},
     "output_type": "execute_result"
    },
    {
     "data": {
      "image/png": "[encoded data removed]",
      "text/plain": [
       "<Figure size 576x432 with 1 Axes>"
      ]
     },
     "metadata": {
      "needs_background": "light"
     },
     "output_type": "display_data"
    }
   ],
   "source": [
    "b_prof.plot.bar()"
   ]
  },
  {
   "cell_type": "markdown",
   "id": "22d1e228-5735-498b-9760-b292cee98699",
   "metadata": {},
   "source": [
    "The most profiles are not business accounts, maybe beacause this kind of account is mostly used by influencers or companies, which are a small percentage in the totality of Instagram accounts."
   ]
  },
  {
   "cell_type": "markdown",
   "id": "0f024f93-1971-4a5a-b1e7-9b1d7f923da8",
   "metadata": {},
   "source": [
    "# [RQ5]"
   ]
  },
  {
   "cell_type": "markdown",
   "id": "f8c1e669-895b-44b1-8643-d22c0f2f9171",
   "metadata": {},
   "source": [
    "### Plot the top 10 most popular users in terms of followers and their number of posts."
   ]
  },
  {
   "cell_type": "code",
   "execution_count": 42,
   "id": "92ba597f-d258-4e13-add6-fed430554f19",
   "metadata": {},
   "outputs": [
    {
     "data": {
      "text/html": [
       "<div>\n",
       "<style scoped>\n",
       "    .dataframe tbody tr th:only-of-type {\n",
       "        vertical-align: middle;\n",
       "    }\n",
       "\n",
       "    .dataframe tbody tr th {\n",
       "        vertical-align: top;\n",
       "    }\n",
       "\n",
       "    .dataframe thead th {\n",
       "        text-align: right;\n",
       "    }\n",
       "</style>\n",
       "<table border=\"1\" class=\"dataframe\">\n",
       "  <thead>\n",
       "    <tr style=\"text-align: right;\">\n",
       "      <th></th>\n",
       "      <th>profile_id</th>\n",
       "      <th>profile_name</th>\n",
       "      <th>followers</th>\n",
       "      <th>n_posts</th>\n",
       "    </tr>\n",
       "    <tr>\n",
       "      <th>sid</th>\n",
       "      <th></th>\n",
       "      <th></th>\n",
       "      <th></th>\n",
       "      <th></th>\n",
       "    </tr>\n",
       "  </thead>\n",
       "  <tbody>\n",
       "    <tr>\n",
       "      <th>336492</th>\n",
       "      <td>25025320</td>\n",
       "      <td>instagram</td>\n",
       "      <td>285457645</td>\n",
       "      <td>5760</td>\n",
       "    </tr>\n",
       "    <tr>\n",
       "      <th>371414</th>\n",
       "      <td>3416684</td>\n",
       "      <td>victoriassecret</td>\n",
       "      <td>65269440</td>\n",
       "      <td>7355</td>\n",
       "    </tr>\n",
       "    <tr>\n",
       "      <th>337097</th>\n",
       "      <td>20824486</td>\n",
       "      <td>nba</td>\n",
       "      <td>35339708</td>\n",
       "      <td>28816</td>\n",
       "    </tr>\n",
       "    <tr>\n",
       "      <th>330376</th>\n",
       "      <td>187619120</td>\n",
       "      <td>louisvuitton</td>\n",
       "      <td>30689316</td>\n",
       "      <td>3352</td>\n",
       "    </tr>\n",
       "    <tr>\n",
       "      <th>292359</th>\n",
       "      <td>2125506698</td>\n",
       "      <td>buzzfeedtasty</td>\n",
       "      <td>30246783</td>\n",
       "      <td>2791</td>\n",
       "    </tr>\n",
       "    <tr>\n",
       "      <th>3437294</th>\n",
       "      <td>496865116</td>\n",
       "      <td>andresiniesta8</td>\n",
       "      <td>29542143</td>\n",
       "      <td>990</td>\n",
       "    </tr>\n",
       "    <tr>\n",
       "      <th>158690</th>\n",
       "      <td>23410080</td>\n",
       "      <td>hm</td>\n",
       "      <td>29176804</td>\n",
       "      <td>4566</td>\n",
       "    </tr>\n",
       "    <tr>\n",
       "      <th>3615154</th>\n",
       "      <td>24239929</td>\n",
       "      <td>princessyahrini</td>\n",
       "      <td>29042823</td>\n",
       "      <td>4719</td>\n",
       "    </tr>\n",
       "    <tr>\n",
       "      <th>508140</th>\n",
       "      <td>50417061</td>\n",
       "      <td>danbilzerian</td>\n",
       "      <td>26476004</td>\n",
       "      <td>1311</td>\n",
       "    </tr>\n",
       "    <tr>\n",
       "      <th>3513205</th>\n",
       "      <td>907025384</td>\n",
       "      <td>akshaykumar</td>\n",
       "      <td>26252169</td>\n",
       "      <td>1173</td>\n",
       "    </tr>\n",
       "  </tbody>\n",
       "</table>\n",
       "</div>"
      ],
      "text/plain": [
       "         profile_id     profile_name  followers  n_posts\n",
       "sid                                                     \n",
       "336492     25025320        instagram  285457645     5760\n",
       "371414      3416684  victoriassecret   65269440     7355\n",
       "337097     20824486              nba   35339708    28816\n",
       "330376    187619120     louisvuitton   30689316     3352\n",
       "292359   2125506698    buzzfeedtasty   30246783     2791\n",
       "3437294   496865116   andresiniesta8   29542143      990\n",
       "158690     23410080               hm   29176804     4566\n",
       "3615154    24239929  princessyahrini   29042823     4719\n",
       "508140     50417061     danbilzerian   26476004     1311\n",
       "3513205   907025384      akshaykumar   26252169     1173"
      ]
     },
     "execution_count": 42,
     "metadata": {},
     "output_type": "execute_result"
    }
   ],
   "source": [
    "users = profiles.col([\"profile_name\", \"profile_id\", \"followers\", \"n_posts\"])\n",
    "pop_users = users.sort_values(by=['followers','n_posts'], ascending = False).head(10)\n",
    "pop_users"
   ]
  },
  {
   "cell_type": "code",
   "execution_count": 43,
   "id": "19acef7f-14cc-4544-ae06-144529a73f10",
   "metadata": {},
   "outputs": [
    {
     "data": {
      "image/png": "[encoded data removed]",
      "text/plain": [
       "<Figure size 576x432 with 1 Axes>"
      ]
     },
     "metadata": {
      "needs_background": "light"
     },
     "output_type": "display_data"
    }
   ],
   "source": [
    "#Plot\n",
    "plt.rcParams['figure.figsize'] = [8,6]\n",
    "sns.barplot(data=pop_users, x=\"profile_name\", y=\"followers\", palette=\"pastel\")\n",
    "plt.xlabel(\"Profile name\")\n",
    "plt.xticks(rotation=90)\n",
    "plt.ylabel(\"Followers\")\n",
    "plt.grid()"
   ]
  },
  {
   "cell_type": "markdown",
   "id": "284c9e7e-e46d-4a7a-ad43-334db5e96ad9",
   "metadata": {},
   "source": [
    "### Who is the most influential user?"
   ]
  },
  {
   "cell_type": "code",
   "execution_count": 44,
   "id": "433b4a0e-158f-4937-8780-fc14df2da993",
   "metadata": {},
   "outputs": [
    {
     "data": {
      "text/html": [
       "<div>\n",
       "<style scoped>\n",
       "    .dataframe tbody tr th:only-of-type {\n",
       "        vertical-align: middle;\n",
       "    }\n",
       "\n",
       "    .dataframe tbody tr th {\n",
       "        vertical-align: top;\n",
       "    }\n",
       "\n",
       "    .dataframe thead th {\n",
       "        text-align: right;\n",
       "    }\n",
       "</style>\n",
       "<table border=\"1\" class=\"dataframe\">\n",
       "  <thead>\n",
       "    <tr style=\"text-align: right;\">\n",
       "      <th></th>\n",
       "      <th>profile_id</th>\n",
       "      <th>profile_name</th>\n",
       "      <th>followers</th>\n",
       "      <th>n_posts</th>\n",
       "    </tr>\n",
       "    <tr>\n",
       "      <th>sid</th>\n",
       "      <th></th>\n",
       "      <th></th>\n",
       "      <th></th>\n",
       "      <th></th>\n",
       "    </tr>\n",
       "  </thead>\n",
       "  <tbody>\n",
       "    <tr>\n",
       "      <th>336492</th>\n",
       "      <td>25025320</td>\n",
       "      <td>instagram</td>\n",
       "      <td>285457645</td>\n",
       "      <td>5760</td>\n",
       "    </tr>\n",
       "  </tbody>\n",
       "</table>\n",
       "</div>"
      ],
      "text/plain": [
       "        profile_id profile_name  followers  n_posts\n",
       "sid                                                \n",
       "336492    25025320    instagram  285457645     5760"
      ]
     },
     "execution_count": 44,
     "metadata": {},
     "output_type": "execute_result"
    }
   ],
   "source": [
    "#forse aggiungerci qualcosa?\n",
    "pop_users.head(1)"
   ]
  },
  {
   "cell_type": "markdown",
   "id": "1ecb242d-ab95-4378-9e83-0484aa144a01",
   "metadata": {},
   "source": [
    "### Have they posted anything with tagged locations? Extract the most frequent areas on their posts and plot the number of times each city has been visited."
   ]
  },
  {
   "cell_type": "code",
   "execution_count": null,
   "id": "14bd5fdc-e587-471b-8497-39ccdbd03176",
   "metadata": {},
   "outputs": [],
   "source": []
  },
  {
   "cell_type": "code",
   "execution_count": 48,
   "id": "2e9af723-8863-46ec-ba75-0fa7b505d1f5",
   "metadata": {},
   "outputs": [],
   "source": [
    "#pop_user_id = 25025320\n",
    "#pop_user = users[users['profile_id'] == pop_user_id]"
   ]
  },
  {
   "cell_type": "code",
   "execution_count": 49,
   "id": "08030448-4650-4b7f-8a36-ff0494351e65",
   "metadata": {},
   "outputs": [],
   "source": [
    "#locations = profiles.col([\"id\", \"names\", \"city\", \"cd\"])\n",
    "#pop_loc = locations.\n",
    "#pop_loc"
   ]
  },
  {
   "cell_type": "code",
   "execution_count": 50,
   "id": "bb989829-63ab-49f7-b864-784b3c3abbcd",
   "metadata": {},
   "outputs": [],
   "source": [
    "#print('The most frequent locations tagged by the most popular user are:', len(pop_user), 'apps:\\n', mp_author['app_name'])"
   ]
  },
  {
   "cell_type": "markdown",
   "id": "8ace19d7-d5d9-429d-8d33-f0d40690604b",
   "metadata": {},
   "source": [
    "### How many pictures-only posts have they published? How many reels? (only videos) and how many with both contents? Provide the number as percentages and interpret those figures."
   ]
  },
  {
   "cell_type": "code",
   "execution_count": null,
   "id": "a2c1fe79-9d0c-4041-873a-e5392011c5ca",
   "metadata": {},
   "outputs": [],
   "source": []
  },
  {
   "cell_type": "markdown",
   "id": "8ebde140-df59-46f8-8d48-04cbdc5eaa83",
   "metadata": {},
   "source": [
    "### How many \"likes\" and comments did posts with only pictures receive? How about videos and mixed posts? Try to provide the average numbers and confront them with their followers amount, explaining what you can say from that comparison."
   ]
  },
  {
   "cell_type": "code",
   "execution_count": null,
   "id": "b207318d-6d84-4f47-97fc-ab8fee20444e",
   "metadata": {},
   "outputs": [],
   "source": []
  },
  {
   "cell_type": "markdown",
   "id": "fc467c0e-da7f-4742-928c-8ffbec0a8fe7",
   "metadata": {},
   "source": [
    "# [RQ8]"
   ]
  },
  {
   "cell_type": "markdown",
   "id": "35510c71-b99a-4cbd-8320-ee20f7d44fee",
   "metadata": {},
   "source": [
    "### Does more “likes” also mean more comments? Plot a scatter plot of “likes” vs comments for posts."
   ]
  },
  {
   "cell_type": "code",
   "execution_count": 21,
   "id": "32537bcd-f56c-4caf-92dc-8fe2addd69a0",
   "metadata": {},
   "outputs": [],
   "source": [
    "posts1 = posts.col(['post_id', 'numbr_likes', 'number_comments'], index=False, nrows=SAMPLE_SIZE)"
   ]
  },
  {
   "cell_type": "code",
   "execution_count": 27,
   "id": "6972f357-19cb-46d1-ac62-3b6759c6a77c",
   "metadata": {},
   "outputs": [
    {
     "data": {
      "image/png": "[encoded data removed]",
      "text/plain": [
       "<Figure size 576x432 with 1 Axes>"
      ]
     },
     "metadata": {
      "needs_background": "light"
     },
     "output_type": "display_data"
    }
   ],
   "source": [
    "# Let's see graphically with a scatterplot if there is some kind of relationship between the two variables.\n",
    "#sns.set(rc = {'figure.figsize':(15,8)})\n",
    "fig = sns.scatterplot(data=posts1, x=\"numbr_likes\", y=\"number_comments\",   \n",
    "                      alpha=0.8)                               \n",
    "fig.set(xlabel='Number of likes', ylabel='Number of comments', title='Number of likes VS number of comments')\n",
    "plt.grid()"
   ]
  },
  {
   "cell_type": "markdown",
   "id": "9e2474d6-f37a-4a23-aae0-3d171360760e",
   "metadata": {},
   "source": [
    "### Can you find any significant relationship between the time a user publishes a post and the number of comments and “likes”? Use an appropriate statistical test or technique and support your choice."
   ]
  },
  {
   "cell_type": "code",
   "execution_count": null,
   "id": "e12f3294-01c9-40b0-a460-2acfb5973bdb",
   "metadata": {},
   "outputs": [],
   "source": []
  },
  {
   "cell_type": "markdown",
   "id": "89807d06-ca4f-4fff-91d6-02153102932b",
   "metadata": {},
   "source": [
    "### What’s the distribution of followers? Plot the empirical distribution of followers amongst all users and extract the mean, mode, and quantiles. Interpret those figures."
   ]
  },
  {
   "cell_type": "code",
   "execution_count": null,
   "id": "97376883-613c-4e05-a262-fa46869918e0",
   "metadata": {},
   "outputs": [],
   "source": []
  },
  {
   "cell_type": "markdown",
   "id": "03d4b809-a82f-4f2c-8779-383e55b08118",
   "metadata": {},
   "source": [
    "### What are histograms, bar plots, scatterplots and pie charts used for?"
   ]
  },
  {
   "cell_type": "markdown",
   "id": "9d62ca63-288a-4954-8df3-8d1f9fae125b",
   "metadata": {},
   "source": [
    "Histograms, bar plots, scatterplots and pie charts are the most popular and used tools for data visualization.\n",
    "\n",
    "* **Histograms** are used for representing continuous variables divided into a series of intervals. These intervals must be adjacent and they can be also of different sizes. For each bin (interval) we have a rectangle. If the bins have the same size, the height of the rectangle is proportional to the frequency (the number of cases in each interval), otherwise the *area* of the rectangle has to be proportional to the frequency. In this last case, the height represent the *frequency density* (the number of cases per unit of the variable on the x-axis).\n",
    "\n",
    "* **Bar plots** are used for comparing categorical data. For each category we have a rectangular bar which heigth is proportional to the value that represents. The bars can be horizontal or vertical.\n",
    "\n",
    "* **Scatterplots** are plots used for representing values for (usually) two variables in a Cartesian diagram. Every value is represented by a point with coordinates equal to the value for the first variable on the x-axis and the value for the second variable on the y-axis. With a scatterplot we can detect relations and correlations between variables. They can be used for both continuous and discrete variables.\n",
    "\n",
    "* **Pie charts** are circular statistical graphics. The 'pie' is divided into slices proportional to the quantity it represents. They are suited to express percentage and to observe the composition of a phenomena. The total of the percentages must be equal to 100%. If there are a lot of modalities related to the phenomena we want to represent, it can be worth to use a bar plot, because comparing the area of a lot of 'slices' can be difficult and not so easy."
   ]
  },
  {
   "cell_type": "markdown",
   "id": "89d7bf89-7fc2-4f48-8763-e6dd33032e43",
   "metadata": {},
   "source": [
    "### What insights can you extract from a Box Plot?"
   ]
  },
  {
   "cell_type": "markdown",
   "id": "d9fa2a5b-8592-4614-b44b-fcb4f8ac83e3",
   "metadata": {},
   "source": [
    "With a **Box Plot** we analyze the distribution of a variable paying attention to its quartiles. In a box plot we can identify the first quartile (as the lower box edge), the median (as the line inside the box) and the third quartile (as the upper box edge). In the box plots can be plotted also lines representing the values located outside lower and upper quartiles. Outlier values can be represented by single points. \n",
    "\n",
    "In addition, we are able to know the variability and the dispersion of the variable, looking at the length of the box. If we have a little box, all the data are located near the median, so we have low dispersion; otherwise we have a larger box. We can also get information about the symmetry of a variable, if t"
   ]
  },
  {
   "cell_type": "code",
   "execution_count": null,
   "id": "135308de-c71a-4995-ad2b-d12e0f9e18c9",
   "metadata": {},
   "outputs": [],
   "source": []
  }
 ],
 "metadata": {
  "kernelspec": {
   "display_name": "Python 3 (ipykernel)",
   "language": "python",
   "name": "python3"
  },
  "language_info": {
   "codemirror_mode": {
    "name": "ipython",
    "version": 3
   },
   "file_extension": ".py",
   "mimetype": "text/x-python",
   "name": "python",
   "nbconvert_exporter": "python",
   "pygments_lexer": "ipython3",
   "version": "3.10.8"
  }
 },
 "nbformat": 4,
 "nbformat_minor": 5
}
