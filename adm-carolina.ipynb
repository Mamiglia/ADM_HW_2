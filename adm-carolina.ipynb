{
 "cells": [
  {
   "cell_type": "markdown",
   "id": "f456713e-b437-485e-a47c-b88d08497b94",
   "metadata": {},
   "source": [
    "# Homework2"
   ]
  },
  {
   "cell_type": "markdown",
   "id": "b617d5a6-dcd9-4519-b09f-05155d09ddcc",
   "metadata": {},
   "source": [
    "## Preprocessing"
   ]
  },
  {
   "cell_type": "code",
   "execution_count": 1,
   "id": "ef27e81e-9eb8-4eed-b464-923d30f7946c",
   "metadata": {},
   "outputs": [],
   "source": [
    "# Import some useful libraries\n",
    "import pandas as pd\n",
    "import seaborn as sns\n",
    "import numpy as np\n",
    "import random\n",
    "import re\n",
    "import os\n",
    "from math import pi\n",
    "\n",
    "SAMPLE_SIZE = 1000000\n",
    "\n",
    "%matplotlib inline\n",
    "import matplotlib.pyplot as plt"
   ]
  },
  {
   "cell_type": "code",
   "execution_count": 2,
   "id": "a2ac8b81-8dc4-4b7d-8a4a-259cf468199a",
   "metadata": {},
   "outputs": [
    {
     "name": "stdout",
     "output_type": "stream",
     "text": [
      "Requirement already satisfied: pyarrow in c:\\users\\carol\\appdata\\local\\packages\\pythonsoftwarefoundation.python.3.10_qbz5n2kfra8p0\\localcache\\local-packages\\python310\\site-packages (9.0.0)\n",
      "Requirement already satisfied: numpy>=1.16.6 in c:\\users\\carol\\appdata\\local\\packages\\pythonsoftwarefoundation.python.3.10_qbz5n2kfra8p0\\localcache\\local-packages\\python310\\site-packages (from pyarrow) (1.21.3)\n"
     ]
    },
    {
     "name": "stderr",
     "output_type": "stream",
     "text": [
      "WARNING: You are using pip version 22.0.4; however, version 22.3 is available.\n",
      "You should consider upgrading via the 'C:\\Users\\carol\\AppData\\Local\\Microsoft\\WindowsApps\\PythonSoftwareFoundation.Python.3.10_qbz5n2kfra8p0\\python.exe -m pip install --upgrade pip' command.\n"
     ]
    }
   ],
   "source": [
    "!pip install pyarrow"
   ]
  },
  {
   "cell_type": "code",
   "execution_count": 3,
   "id": "07478f5c-d8c4-411a-9a91-c7da151834a6",
   "metadata": {},
   "outputs": [],
   "source": [
    "class Dataset:\n",
    "    def __init__(self, file:str):\n",
    "        self.file_name : str = file\n",
    "        self.types : dict = self.load_types()\n",
    "        self.df : pd.DataFrame = None\n",
    "        \n",
    "    def name(self):\n",
    "        return re.search(r'\\/([\\w\\d]*)\\.csv',self.file_name).group(1)\n",
    "    \n",
    "    def __types_file__(self):\n",
    "        return 'types/' + self.name() +'.npy'\n",
    "        \n",
    "    def save_types(self):\n",
    "        np.save(self.__types_file__(), self.types)\n",
    "        \n",
    "    def load_types(self):\n",
    "        if os.path.isfile(self.__types_file__()):\n",
    "            self.types = np.load(self.__types_file__(),allow_pickle='TRUE').item()\n",
    "            return self.types\n",
    "        return None\n",
    "    \n",
    "    def col(self,columns:list, index:bool=True,**pd_params)->pd.DataFrame:\n",
    "        \"\"\"Loads some columns of the dataframe out of the whole csv file\n",
    "        \n",
    "        :param columns: a list of the desired columns\n",
    "        :type columns: list\n",
    "        :param index: if True loads also the 'sid' column as the index\n",
    "        :type index: bool\n",
    "        :param **pd_params: any other params for pd.read_csv(...)\n",
    "        :rtype: pd.DataFrame\n",
    "        \"\"\"\n",
    "        col_list = columns\n",
    "        if 'cts' in col_list:\n",
    "            pd_params['parse_dates'] = ['cts']\n",
    "        if index :\n",
    "            col_list.append('sid')\n",
    "        return pd.read_csv(self.file_name,\n",
    "                           usecols=col_list,\n",
    "                           dtype=self.types, \n",
    "                           index_col='sid' if index else None,\n",
    "                           delimiter='\\t', \n",
    "                           **pd_params)\n",
    "\n",
    "datasets = [\n",
    "    Dataset(file='instagram-dataset/instagram_profiles.csv'), \n",
    "    Dataset(file='instagram-dataset/instagram_locations.csv'), \n",
    "    Dataset(file='instagram-dataset/instagram_posts.csv')\n",
    "]\n",
    "profiles, locations, posts = datasets"
   ]
  },
  {
   "cell_type": "code",
   "execution_count": 4,
   "id": "80a05538-5327-41df-9095-b4ab48986f6e",
   "metadata": {},
   "outputs": [],
   "source": [
    "profiles.types = {\n",
    "#     'sid' : 'Int64',\n",
    "    'profile_id' : 'Int64',\n",
    "    'profile_name' : pd.StringDtype(storage='pyarrow'),\n",
    "    'firstname_lastname' : pd.StringDtype(storage='pyarrow'),\n",
    "    'description' : pd.StringDtype(storage='pyarrow'),\n",
    "    'following' : 'Int64',\n",
    "    'followers' : 'Int64',\n",
    "    'n_posts' : 'Int64',\n",
    "    'url' : pd.StringDtype(storage='pyarrow'),\n",
    "#     'cts' : pd.DatetimeTZDtype(tz='UTC'), #obtained through parse_dates=['cts']\n",
    "    'is_business_account' : pd.BooleanDtype()\n",
    "}\n",
    "posts.types = {\n",
    "#     'sid' : 'Int64', # gives an error, maybe because it's the index?\n",
    "    'sid_profile' : 'Int64',\n",
    "    'post_id' : pd.StringDtype(storage='pyarrow'),\n",
    "    'profile_id' : 'Int64',\n",
    "    'location_id' : 'Int64',\n",
    "    'description' : pd.StringDtype(storage='pyarrow'),\n",
    "    'post_type' : pd.CategoricalDtype(categories=[1,2,3]),\n",
    "    'numbr_likes' : 'Int64',\n",
    "    'number_comments' : 'Int64'\n",
    "}\n",
    "locations.types = {\n",
    "#     'sid' : 'Int64', # gives an error, maybe because it's the index?\n",
    "    'id' : 'Int64',\n",
    "    'name' : pd.StringDtype(storage='pyarrow'),\n",
    "    'street' : pd.StringDtype(storage='pyarrow'),\n",
    "    'zip' : pd.StringDtype(storage='pyarrow'),\n",
    "    'city' : pd.StringDtype(storage='pyarrow'),\n",
    "    'region' : pd.StringDtype(storage='pyarrow'),\n",
    "    'cd' : pd.CategoricalDtype(),\n",
    "    'phone' : pd.StringDtype(storage='pyarrow'),\n",
    "    'aj_exact_city_match' : pd.BooleanDtype(),\n",
    "    'aj_exact_country_match' : pd.BooleanDtype(),\n",
    "    'blurb' : pd.StringDtype(storage='pyarrow'),\n",
    "    'dir_city_id' : pd.StringDtype(storage='pyarrow'),\n",
    "    'dir_city_name' : pd.StringDtype(storage='pyarrow'),\n",
    "    'dir_city_slug' : pd.StringDtype(storage='pyarrow'),\n",
    "    'dir_country_id' : pd.CategoricalDtype(),\n",
    "    'dir_country_name' : pd.CategoricalDtype(),\n",
    "    'lat' : pd.Float32Dtype(),\n",
    "    'lng' : pd.Float32Dtype(),\n",
    "    'primary_alias_on_fb' : pd.StringDtype(storage='pyarrow'),\n",
    "    'slug' : pd.StringDtype(storage='pyarrow'),\n",
    "    'website' : pd.StringDtype(storage='pyarrow'),\n",
    "}"
   ]
  },
  {
   "cell_type": "code",
   "execution_count": 5,
   "id": "63929592-72ad-4da1-a7a3-dcd434b7b067",
   "metadata": {},
   "outputs": [],
   "source": [
    "def get_types(signed=True, unsigned=True, custom=[]):\n",
    "    '''Returns a pandas dataframe containing the boundaries of each integer dtype'''\n",
    "    # based on https://stackoverflow.com/a/57894540/9419492\n",
    "    pd_types = custom\n",
    "    if signed:\n",
    "        pd_types += [pd.Int8Dtype() ,pd.Int16Dtype() ,pd.Int32Dtype(), pd.Int64Dtype()]\n",
    "    if unsigned:\n",
    "        pd_types += [pd.UInt8Dtype() ,pd.UInt16Dtype(), pd.UInt32Dtype(), pd.UInt64Dtype()]\n",
    "    type_df = pd.DataFrame(data=pd_types, columns=['pd_type'])\n",
    "    type_df['np_type'] = type_df['pd_type'].apply(lambda t: t.numpy_dtype)\n",
    "    type_df['min_value'] = type_df['np_type'].apply(lambda row: np.iinfo(row).min)\n",
    "    type_df['max_value'] = type_df['np_type'].apply(lambda row: np.iinfo(row).max)\n",
    "    type_df['allow_negatives'] = type_df['min_value'] < 0\n",
    "    type_df['size'] = type_df['np_type'].apply(lambda row: row.itemsize)\n",
    "    type_df.sort_values(by=['size', 'allow_negatives'], inplace=True)\n",
    "    return type_df.reset_index(drop=True)\n",
    "def downcast_int(file_path, column:str, chunksize=10000, delimiter=',', signed=True, unsigned=True):\n",
    "    '''Assigns the smallest possible dtype to an integer column of a csv'''\n",
    "    types = get_types(signed, unsigned)\n",
    "    negatives = False\n",
    "    print(delimiter)\n",
    "    for chunk in pd.read_csv(file_path, \n",
    "                             usecols=[column],\n",
    "                             delimiter=delimiter,\n",
    "                             chunksize=chunksize):\n",
    "        M = chunk[column].max()\n",
    "        m = chunk[column].min()\n",
    "        if not signed and not negatives and m < 0 :\n",
    "            types = types[types['allow_negatives']] # removes unsigned rows\n",
    "            negatives = True\n",
    "        if m < types['min_value'].iloc[0]:\n",
    "            types = types[types['min_value'] < m]\n",
    "        if M > types['max_value'].iloc[0]:\n",
    "            types = types[types['max_value'] > M]\n",
    "        if len(types) == 1:\n",
    "            print('early stop')\n",
    "            break\n",
    "    return types['pd_type'].iloc[0]\n",
    "\n",
    "def optimize_cols(file, int_cols, delimiter=',', signed=True, unsigned=True):\n",
    "    out = dict()\n",
    "    for col in int_cols:\n",
    "        out[col] = downcast_int(file, col, delimiter=delimiter, signed=signed, unsigned=unsigned)\n",
    "    return out"
   ]
  },
  {
   "cell_type": "code",
   "execution_count": 6,
   "id": "3ee6822b-bce3-4cd1-91ee-bd534a517bcc",
   "metadata": {},
   "outputs": [
    {
     "name": "stdout",
     "output_type": "stream",
     "text": [
      "instagram_profiles  mean optimized memory usage per entry:  182 B vs  510 B  : 35.69%\n",
      "instagram_locations mean optimized memory usage per entry:  276 B vs 1128 B  : 24.46%\n",
      "instagram_posts     mean optimized memory usage per entry:  272 B vs  743 B  : 36.57%\n"
     ]
    }
   ],
   "source": [
    "for ds in datasets:\n",
    "    if not ds.load_types():\n",
    "        int_cols = [k for k,v in ds.types.items() if v == 'Int64']\n",
    "        print(int_cols)\n",
    "        ds.types.update(optimize_cols(ds.file_name, int_cols, delimiter='\\t'))\n",
    "        print(f'Optimized {len(int_cols)} types for {ds.name()}')\n",
    "    ds.save_types()\n",
    "\n",
    "for ds in datasets:\n",
    "    ds.df = pd.read_csv(ds.file_name, dtype=ds.types, index_col='sid', delimiter='\\t', parse_dates=['cts'], nrows=SAMPLE_SIZE)\n",
    "    avg_mem_unoptimized = pd.read_csv(ds.file_name, index_col='sid', delimiter='\\t', nrows=SAMPLE_SIZE).memory_usage(deep=True).sum()/SAMPLE_SIZE\n",
    "    avg_mem_optimized = ds.df.memory_usage(deep=True).sum()/SAMPLE_SIZE\n",
    "    print(f'{ds.name().ljust(19)} mean optimized memory usage per entry:  {round(avg_mem_optimized):3} B vs {round(avg_mem_unoptimized):4} B  : {round(avg_mem_optimized/avg_mem_unoptimized*100,2):5}%') "
   ]
  },
  {
   "cell_type": "markdown",
   "id": "a4cd0d8a-83de-465b-b23e-7ab61bc0d9a3",
   "metadata": {},
   "source": [
    "# [RQ2]"
   ]
  },
  {
   "cell_type": "markdown",
   "id": "db22cbf0-7064-41bf-ad2f-0bfd5bf26071",
   "metadata": {},
   "source": [
    "### Plot the number of posts for each profile in descending order"
   ]
  },
  {
   "cell_type": "code",
   "execution_count": 7,
   "id": "cd2c4127-7438-4f35-950d-e12fbc8eb21c",
   "metadata": {},
   "outputs": [],
   "source": [
    "d_prof = profiles.col([\"profile_name\", \"n_posts\", \"following\", \"followers\", \"is_business_account\"])"
   ]
  },
  {
   "cell_type": "code",
   "execution_count": 8,
   "id": "de46977e-585c-4145-a110-d057e296d5e4",
   "metadata": {},
   "outputs": [
    {
     "data": {
      "image/png": "[encoded data removed]",
      "text/plain": [
       "<Figure size 576x432 with 1 Axes>"
      ]
     },
     "metadata": {
      "needs_background": "light"
     },
     "output_type": "display_data"
    }
   ],
   "source": [
    "#We limit it to the top 20\n",
    "plt.rcParams['figure.figsize'] = [8,6]\n",
    "plot_order = d_prof.sort_values(by=['n_posts'], ascending=False).head(20)\n",
    "sns.barplot(data=plot_order, x=\"profile_name\", y=\"n_posts\", palette=\"pastel\")\n",
    "plt.xlabel(\"Profile name\")\n",
    "plt.xticks(rotation=90)\n",
    "plt.ylabel(\"Number of posts\")\n",
    "plt.grid()"
   ]
  },
  {
   "cell_type": "markdown",
   "id": "eec6e200-aa19-4d9c-a88a-25e1e747e6dc",
   "metadata": {},
   "source": [
    "### What posts have the highest number of \"likes\"?"
   ]
  },
  {
   "cell_type": "code",
   "execution_count": 9,
   "id": "7a224e14-c460-4dc9-934a-42a1b7498099",
   "metadata": {},
   "outputs": [],
   "source": [
    "d_posts = posts.col([\"profile_id\", \"location_id\", \"post_type\", \"numbr_likes\", \"number_comments\", \"post_id\"], index=False, nrows=SAMPLE_SIZE)"
   ]
  },
  {
   "cell_type": "code",
   "execution_count": 10,
   "id": "996f710d-bb58-4bc7-8b75-c81b31b72f26",
   "metadata": {},
   "outputs": [
    {
     "data": {
      "text/html": [
       "<div>\n",
       "<style scoped>\n",
       "    .dataframe tbody tr th:only-of-type {\n",
       "        vertical-align: middle;\n",
       "    }\n",
       "\n",
       "    .dataframe tbody tr th {\n",
       "        vertical-align: top;\n",
       "    }\n",
       "\n",
       "    .dataframe thead th {\n",
       "        text-align: right;\n",
       "    }\n",
       "</style>\n",
       "<table border=\"1\" class=\"dataframe\">\n",
       "  <thead>\n",
       "    <tr style=\"text-align: right;\">\n",
       "      <th></th>\n",
       "      <th>post_id</th>\n",
       "      <th>profile_id</th>\n",
       "      <th>location_id</th>\n",
       "      <th>post_type</th>\n",
       "      <th>numbr_likes</th>\n",
       "      <th>number_comments</th>\n",
       "    </tr>\n",
       "  </thead>\n",
       "  <tbody>\n",
       "    <tr>\n",
       "      <th>313806</th>\n",
       "      <td>BxrapKyCgg0</td>\n",
       "      <td>4731970969</td>\n",
       "      <td>361936204</td>\n",
       "      <td>1</td>\n",
       "      <td>1963123</td>\n",
       "      <td>53878</td>\n",
       "    </tr>\n",
       "    <tr>\n",
       "      <th>918473</th>\n",
       "      <td>BqVfV4VlKRB</td>\n",
       "      <td>191110424</td>\n",
       "      <td>147477665841469</td>\n",
       "      <td>1</td>\n",
       "      <td>1376659</td>\n",
       "      <td>5035</td>\n",
       "    </tr>\n",
       "    <tr>\n",
       "      <th>233650</th>\n",
       "      <td>Bld6LughoQ_</td>\n",
       "      <td>1408289748</td>\n",
       "      <td>793182890871330</td>\n",
       "      <td>1</td>\n",
       "      <td>1355678</td>\n",
       "      <td>18733</td>\n",
       "    </tr>\n",
       "    <tr>\n",
       "      <th>712304</th>\n",
       "      <td>Bq-INRTlPhO</td>\n",
       "      <td>270902355</td>\n",
       "      <td>766186022</td>\n",
       "      <td>2</td>\n",
       "      <td>1153291</td>\n",
       "      <td>26386</td>\n",
       "    </tr>\n",
       "    <tr>\n",
       "      <th>573395</th>\n",
       "      <td>BxbcmE-H9lG</td>\n",
       "      <td>3439002676</td>\n",
       "      <td>392194091</td>\n",
       "      <td>1</td>\n",
       "      <td>1043810</td>\n",
       "      <td>4107</td>\n",
       "    </tr>\n",
       "    <tr>\n",
       "      <th>318465</th>\n",
       "      <td>BxXnBYOn7dw</td>\n",
       "      <td>268167552</td>\n",
       "      <td>361081001189541</td>\n",
       "      <td>1</td>\n",
       "      <td>984604</td>\n",
       "      <td>23713</td>\n",
       "    </tr>\n",
       "    <tr>\n",
       "      <th>240698</th>\n",
       "      <td>Bkf8aHTAda7</td>\n",
       "      <td>32406002</td>\n",
       "      <td>250228139</td>\n",
       "      <td>2</td>\n",
       "      <td>900232</td>\n",
       "      <td>3401</td>\n",
       "    </tr>\n",
       "    <tr>\n",
       "      <th>85047</th>\n",
       "      <td>BZ_YhYugj_s</td>\n",
       "      <td>191110424</td>\n",
       "      <td>256808124805616</td>\n",
       "      <td>1</td>\n",
       "      <td>852230</td>\n",
       "      <td>1491</td>\n",
       "    </tr>\n",
       "    <tr>\n",
       "      <th>914815</th>\n",
       "      <td>BnRRq8_htgM</td>\n",
       "      <td>333120168</td>\n",
       "      <td>143063389689916</td>\n",
       "      <td>1</td>\n",
       "      <td>780556</td>\n",
       "      <td>2821</td>\n",
       "    </tr>\n",
       "    <tr>\n",
       "      <th>659635</th>\n",
       "      <td>BeECzRuh1O6</td>\n",
       "      <td>25025320</td>\n",
       "      <td>587387369</td>\n",
       "      <td>1</td>\n",
       "      <td>669786</td>\n",
       "      <td>4818</td>\n",
       "    </tr>\n",
       "    <tr>\n",
       "      <th>30773</th>\n",
       "      <td>BwMpiRqgGKk</td>\n",
       "      <td>293427480</td>\n",
       "      <td>1012959430</td>\n",
       "      <td>1</td>\n",
       "      <td>655354</td>\n",
       "      <td>6482</td>\n",
       "    </tr>\n",
       "    <tr>\n",
       "      <th>731801</th>\n",
       "      <td>ByDd2e0lnvX</td>\n",
       "      <td>47416228</td>\n",
       "      <td>840189975</td>\n",
       "      <td>1</td>\n",
       "      <td>647287</td>\n",
       "      <td>3738</td>\n",
       "    </tr>\n",
       "    <tr>\n",
       "      <th>686019</th>\n",
       "      <td>BcHndKbnKo9</td>\n",
       "      <td>227407214</td>\n",
       "      <td>679249082</td>\n",
       "      <td>1</td>\n",
       "      <td>631166</td>\n",
       "      <td>2976</td>\n",
       "    </tr>\n",
       "    <tr>\n",
       "      <th>343281</th>\n",
       "      <td>BtOV40eAnCn</td>\n",
       "      <td>260375673</td>\n",
       "      <td>1020609444</td>\n",
       "      <td>2</td>\n",
       "      <td>609626</td>\n",
       "      <td>1937</td>\n",
       "    </tr>\n",
       "    <tr>\n",
       "      <th>74739</th>\n",
       "      <td>BmOlqNbA98p</td>\n",
       "      <td>522601519</td>\n",
       "      <td>238970550099065</td>\n",
       "      <td>1</td>\n",
       "      <td>586484</td>\n",
       "      <td>6444</td>\n",
       "    </tr>\n",
       "    <tr>\n",
       "      <th>493488</th>\n",
       "      <td>BvIA31VjBte</td>\n",
       "      <td>266319242</td>\n",
       "      <td>295588263</td>\n",
       "      <td>1</td>\n",
       "      <td>568738</td>\n",
       "      <td>2971</td>\n",
       "    </tr>\n",
       "    <tr>\n",
       "      <th>496915</th>\n",
       "      <td>Bi9q3CHlaSn</td>\n",
       "      <td>278733773</td>\n",
       "      <td>298878971</td>\n",
       "      <td>1</td>\n",
       "      <td>563346</td>\n",
       "      <td>4440</td>\n",
       "    </tr>\n",
       "    <tr>\n",
       "      <th>350950</th>\n",
       "      <td>Bldb0tInnQ-</td>\n",
       "      <td>19769622</td>\n",
       "      <td>400420934</td>\n",
       "      <td>1</td>\n",
       "      <td>550805</td>\n",
       "      <td>1723</td>\n",
       "    </tr>\n",
       "    <tr>\n",
       "      <th>121568</th>\n",
       "      <td>Bxuos34h688</td>\n",
       "      <td>253625977</td>\n",
       "      <td>287052784</td>\n",
       "      <td>2</td>\n",
       "      <td>532205</td>\n",
       "      <td>7777</td>\n",
       "    </tr>\n",
       "    <tr>\n",
       "      <th>452780</th>\n",
       "      <td>Bnw5kzIBIfw</td>\n",
       "      <td>267685466</td>\n",
       "      <td>17744717</td>\n",
       "      <td>1</td>\n",
       "      <td>520858</td>\n",
       "      <td>5548</td>\n",
       "    </tr>\n",
       "  </tbody>\n",
       "</table>\n",
       "</div>"
      ],
      "text/plain": [
       "            post_id  profile_id      location_id post_type  numbr_likes  \\\n",
       "313806  BxrapKyCgg0  4731970969        361936204         1      1963123   \n",
       "918473  BqVfV4VlKRB   191110424  147477665841469         1      1376659   \n",
       "233650  Bld6LughoQ_  1408289748  793182890871330         1      1355678   \n",
       "712304  Bq-INRTlPhO   270902355        766186022         2      1153291   \n",
       "573395  BxbcmE-H9lG  3439002676        392194091         1      1043810   \n",
       "318465  BxXnBYOn7dw   268167552  361081001189541         1       984604   \n",
       "240698  Bkf8aHTAda7    32406002        250228139         2       900232   \n",
       "85047   BZ_YhYugj_s   191110424  256808124805616         1       852230   \n",
       "914815  BnRRq8_htgM   333120168  143063389689916         1       780556   \n",
       "659635  BeECzRuh1O6    25025320        587387369         1       669786   \n",
       "30773   BwMpiRqgGKk   293427480       1012959430         1       655354   \n",
       "731801  ByDd2e0lnvX    47416228        840189975         1       647287   \n",
       "686019  BcHndKbnKo9   227407214        679249082         1       631166   \n",
       "343281  BtOV40eAnCn   260375673       1020609444         2       609626   \n",
       "74739   BmOlqNbA98p   522601519  238970550099065         1       586484   \n",
       "493488  BvIA31VjBte   266319242        295588263         1       568738   \n",
       "496915  Bi9q3CHlaSn   278733773        298878971         1       563346   \n",
       "350950  Bldb0tInnQ-    19769622        400420934         1       550805   \n",
       "121568  Bxuos34h688   253625977        287052784         2       532205   \n",
       "452780  Bnw5kzIBIfw   267685466         17744717         1       520858   \n",
       "\n",
       "        number_comments  \n",
       "313806            53878  \n",
       "918473             5035  \n",
       "233650            18733  \n",
       "712304            26386  \n",
       "573395             4107  \n",
       "318465            23713  \n",
       "240698             3401  \n",
       "85047              1491  \n",
       "914815             2821  \n",
       "659635             4818  \n",
       "30773              6482  \n",
       "731801             3738  \n",
       "686019             2976  \n",
       "343281             1937  \n",
       "74739              6444  \n",
       "493488             2971  \n",
       "496915             4440  \n",
       "350950             1723  \n",
       "121568             7777  \n",
       "452780             5548  "
      ]
     },
     "execution_count": 10,
     "metadata": {},
     "output_type": "execute_result"
    }
   ],
   "source": [
    "pop_posts = d_posts.sort_values(by=['numbr_likes'], ascending = False).head(20)\n",
    "pop_posts"
   ]
  },
  {
   "cell_type": "code",
   "execution_count": 11,
   "id": "a819cd91-3e95-4aa5-b829-62ff917ed7ca",
   "metadata": {},
   "outputs": [
    {
     "data": {
      "image/png": "[encoded data removed]",
      "text/plain": [
       "<Figure size 576x432 with 1 Axes>"
      ]
     },
     "metadata": {
      "needs_background": "light"
     },
     "output_type": "display_data"
    }
   ],
   "source": [
    "plt.rcParams['figure.figsize'] = [8,6]\n",
    "plot_order = d_posts.sort_values(by=['numbr_likes'], ascending=False).head(20)\n",
    "sns.barplot(data=plot_order, x=\"post_id\", y=\"numbr_likes\", palette=\"pastel\")\n",
    "plt.xlabel(\"Post ID\")\n",
    "plt.xticks(rotation=90)\n",
    "plt.ylabel(\"Number of likes\")\n",
    "plt.grid()"
   ]
  },
  {
   "cell_type": "markdown",
   "id": "ab7d7a79-cd82-4f4d-bb12-ce4470082de8",
   "metadata": {},
   "source": [
    "### What posts have the most and the least number of comments?"
   ]
  },
  {
   "cell_type": "code",
   "execution_count": 12,
   "id": "c423b75a-d4c6-4845-9e00-c58aa31ffcba",
   "metadata": {},
   "outputs": [],
   "source": [
    "post_comm = posts.col([\"profile_id\", \"post_type\", \"number_comments\", \"post_id\"], index=False, nrows=SAMPLE_SIZE)"
   ]
  },
  {
   "cell_type": "code",
   "execution_count": 13,
   "id": "a508c32e-6a1e-44e0-841f-f71041d1ed25",
   "metadata": {},
   "outputs": [
    {
     "data": {
      "text/html": [
       "<div>\n",
       "<style scoped>\n",
       "    .dataframe tbody tr th:only-of-type {\n",
       "        vertical-align: middle;\n",
       "    }\n",
       "\n",
       "    .dataframe tbody tr th {\n",
       "        vertical-align: top;\n",
       "    }\n",
       "\n",
       "    .dataframe thead th {\n",
       "        text-align: right;\n",
       "    }\n",
       "</style>\n",
       "<table border=\"1\" class=\"dataframe\">\n",
       "  <thead>\n",
       "    <tr style=\"text-align: right;\">\n",
       "      <th></th>\n",
       "      <th>post_id</th>\n",
       "      <th>profile_id</th>\n",
       "      <th>post_type</th>\n",
       "      <th>number_comments</th>\n",
       "    </tr>\n",
       "  </thead>\n",
       "  <tbody>\n",
       "    <tr>\n",
       "      <th>242837</th>\n",
       "      <td>BQ_N0bzhTSL</td>\n",
       "      <td>55336452</td>\n",
       "      <td>1</td>\n",
       "      <td>135221</td>\n",
       "    </tr>\n",
       "    <tr>\n",
       "      <th>579112</th>\n",
       "      <td>BmORc4znzzA</td>\n",
       "      <td>11884528</td>\n",
       "      <td>1</td>\n",
       "      <td>56686</td>\n",
       "    </tr>\n",
       "    <tr>\n",
       "      <th>313806</th>\n",
       "      <td>BxrapKyCgg0</td>\n",
       "      <td>4731970969</td>\n",
       "      <td>1</td>\n",
       "      <td>53878</td>\n",
       "    </tr>\n",
       "    <tr>\n",
       "      <th>377722</th>\n",
       "      <td>Bbz6IBXhKgg</td>\n",
       "      <td>7396934</td>\n",
       "      <td>1</td>\n",
       "      <td>32505</td>\n",
       "    </tr>\n",
       "    <tr>\n",
       "      <th>50077</th>\n",
       "      <td>BuvfTmgFsuY</td>\n",
       "      <td>3950062135</td>\n",
       "      <td>1</td>\n",
       "      <td>31655</td>\n",
       "    </tr>\n",
       "    <tr>\n",
       "      <th>712304</th>\n",
       "      <td>Bq-INRTlPhO</td>\n",
       "      <td>270902355</td>\n",
       "      <td>2</td>\n",
       "      <td>26386</td>\n",
       "    </tr>\n",
       "    <tr>\n",
       "      <th>318465</th>\n",
       "      <td>BxXnBYOn7dw</td>\n",
       "      <td>268167552</td>\n",
       "      <td>1</td>\n",
       "      <td>23713</td>\n",
       "    </tr>\n",
       "    <tr>\n",
       "      <th>940557</th>\n",
       "      <td>BHVg_BkDuxM</td>\n",
       "      <td>553970442</td>\n",
       "      <td>1</td>\n",
       "      <td>20671</td>\n",
       "    </tr>\n",
       "    <tr>\n",
       "      <th>304686</th>\n",
       "      <td>Bx-GeASCzBP</td>\n",
       "      <td>44714080</td>\n",
       "      <td>2</td>\n",
       "      <td>20126</td>\n",
       "    </tr>\n",
       "    <tr>\n",
       "      <th>233650</th>\n",
       "      <td>Bld6LughoQ_</td>\n",
       "      <td>1408289748</td>\n",
       "      <td>1</td>\n",
       "      <td>18733</td>\n",
       "    </tr>\n",
       "  </tbody>\n",
       "</table>\n",
       "</div>"
      ],
      "text/plain": [
       "            post_id  profile_id post_type  number_comments\n",
       "242837  BQ_N0bzhTSL    55336452         1           135221\n",
       "579112  BmORc4znzzA    11884528         1            56686\n",
       "313806  BxrapKyCgg0  4731970969         1            53878\n",
       "377722  Bbz6IBXhKgg     7396934         1            32505\n",
       "50077   BuvfTmgFsuY  3950062135         1            31655\n",
       "712304  Bq-INRTlPhO   270902355         2            26386\n",
       "318465  BxXnBYOn7dw   268167552         1            23713\n",
       "940557  BHVg_BkDuxM   553970442         1            20671\n",
       "304686  Bx-GeASCzBP    44714080         2            20126\n",
       "233650  Bld6LughoQ_  1408289748         1            18733"
      ]
     },
     "execution_count": 13,
     "metadata": {},
     "output_type": "execute_result"
    }
   ],
   "source": [
    "most_num_comm = post_comm.sort_values(by=['number_comments'], ascending = False).head(10)\n",
    "most_num_comm"
   ]
  },
  {
   "cell_type": "code",
   "execution_count": 14,
   "id": "51366932-515e-4f3a-a5db-f4c4a6469382",
   "metadata": {},
   "outputs": [
    {
     "data": {
      "image/png": "[encoded data removed]",
      "text/plain": [
       "<Figure size 576x432 with 1 Axes>"
      ]
     },
     "metadata": {
      "needs_background": "light"
     },
     "output_type": "display_data"
    }
   ],
   "source": [
    "plt.rcParams['figure.figsize'] = [8,6]\n",
    "sns.barplot(data=most_num_comm, x=\"post_id\", y=\"number_comments\", palette=\"pastel\")\n",
    "plt.xlabel(\"Post ID\")\n",
    "plt.xticks(rotation=90)\n",
    "plt.ylabel(\"Number of comments\")\n",
    "plt.grid()"
   ]
  },
  {
   "cell_type": "code",
   "execution_count": 15,
   "id": "d1c47a37-8b02-4dcb-86e7-b8835644956f",
   "metadata": {},
   "outputs": [
    {
     "data": {
      "text/html": [
       "<div>\n",
       "<style scoped>\n",
       "    .dataframe tbody tr th:only-of-type {\n",
       "        vertical-align: middle;\n",
       "    }\n",
       "\n",
       "    .dataframe tbody tr th {\n",
       "        vertical-align: top;\n",
       "    }\n",
       "\n",
       "    .dataframe thead th {\n",
       "        text-align: right;\n",
       "    }\n",
       "</style>\n",
       "<table border=\"1\" class=\"dataframe\">\n",
       "  <thead>\n",
       "    <tr style=\"text-align: right;\">\n",
       "      <th></th>\n",
       "      <th>post_id</th>\n",
       "      <th>profile_id</th>\n",
       "      <th>post_type</th>\n",
       "      <th>number_comments</th>\n",
       "    </tr>\n",
       "  </thead>\n",
       "  <tbody>\n",
       "    <tr>\n",
       "      <th>242837</th>\n",
       "      <td>BQ_N0bzhTSL</td>\n",
       "      <td>55336452</td>\n",
       "      <td>1</td>\n",
       "      <td>135221</td>\n",
       "    </tr>\n",
       "  </tbody>\n",
       "</table>\n",
       "</div>"
      ],
      "text/plain": [
       "            post_id  profile_id post_type  number_comments\n",
       "242837  BQ_N0bzhTSL    55336452         1           135221"
      ]
     },
     "execution_count": 15,
     "metadata": {},
     "output_type": "execute_result"
    }
   ],
   "source": [
    "most_num_comm.head(1)"
   ]
  },
  {
   "cell_type": "markdown",
   "id": "7395d0c8-b80d-478e-813c-dfda47e28a52",
   "metadata": {},
   "source": [
    "This is the post with the most number of comments in our chunk of data."
   ]
  },
  {
   "cell_type": "code",
   "execution_count": 16,
   "id": "b119537b-34e7-4069-8a77-7efe9fdb18e9",
   "metadata": {},
   "outputs": [
    {
     "data": {
      "text/html": [
       "<div>\n",
       "<style scoped>\n",
       "    .dataframe tbody tr th:only-of-type {\n",
       "        vertical-align: middle;\n",
       "    }\n",
       "\n",
       "    .dataframe tbody tr th {\n",
       "        vertical-align: top;\n",
       "    }\n",
       "\n",
       "    .dataframe thead th {\n",
       "        text-align: right;\n",
       "    }\n",
       "</style>\n",
       "<table border=\"1\" class=\"dataframe\">\n",
       "  <thead>\n",
       "    <tr style=\"text-align: right;\">\n",
       "      <th></th>\n",
       "      <th>post_id</th>\n",
       "      <th>profile_id</th>\n",
       "      <th>post_type</th>\n",
       "      <th>number_comments</th>\n",
       "    </tr>\n",
       "  </thead>\n",
       "  <tbody>\n",
       "    <tr>\n",
       "      <th>636320</th>\n",
       "      <td>9YyzFLDT4m</td>\n",
       "      <td>298740846</td>\n",
       "      <td>1</td>\n",
       "      <td>0</td>\n",
       "    </tr>\n",
       "    <tr>\n",
       "      <th>636319</th>\n",
       "      <td>-g7LbVJgPO</td>\n",
       "      <td>2274117431</td>\n",
       "      <td>1</td>\n",
       "      <td>0</td>\n",
       "    </tr>\n",
       "    <tr>\n",
       "      <th>214343</th>\n",
       "      <td>BvGYPiiB80N</td>\n",
       "      <td>1682486955</td>\n",
       "      <td>1</td>\n",
       "      <td>0</td>\n",
       "    </tr>\n",
       "    <tr>\n",
       "      <th>636317</th>\n",
       "      <td>BXYRZNLA3GM</td>\n",
       "      <td>320006468</td>\n",
       "      <td>1</td>\n",
       "      <td>0</td>\n",
       "    </tr>\n",
       "    <tr>\n",
       "      <th>636315</th>\n",
       "      <td>BXYcrPBFCw2</td>\n",
       "      <td>2893147210</td>\n",
       "      <td>1</td>\n",
       "      <td>0</td>\n",
       "    </tr>\n",
       "    <tr>\n",
       "      <th>214344</th>\n",
       "      <td>BvGXxsCB4D5</td>\n",
       "      <td>1682486955</td>\n",
       "      <td>1</td>\n",
       "      <td>0</td>\n",
       "    </tr>\n",
       "    <tr>\n",
       "      <th>636313</th>\n",
       "      <td>BXaXRJeFS03</td>\n",
       "      <td>2893147210</td>\n",
       "      <td>1</td>\n",
       "      <td>0</td>\n",
       "    </tr>\n",
       "    <tr>\n",
       "      <th>636312</th>\n",
       "      <td>BXaocqHldI4</td>\n",
       "      <td>2893147210</td>\n",
       "      <td>2</td>\n",
       "      <td>0</td>\n",
       "    </tr>\n",
       "    <tr>\n",
       "      <th>636311</th>\n",
       "      <td>BXaovHTFl8y</td>\n",
       "      <td>2893147210</td>\n",
       "      <td>1</td>\n",
       "      <td>0</td>\n",
       "    </tr>\n",
       "    <tr>\n",
       "      <th>0</th>\n",
       "      <td>BXdjjUlgcgq</td>\n",
       "      <td>2237947779</td>\n",
       "      <td>2</td>\n",
       "      <td>0</td>\n",
       "    </tr>\n",
       "  </tbody>\n",
       "</table>\n",
       "</div>"
      ],
      "text/plain": [
       "            post_id  profile_id post_type  number_comments\n",
       "636320   9YyzFLDT4m   298740846         1                0\n",
       "636319   -g7LbVJgPO  2274117431         1                0\n",
       "214343  BvGYPiiB80N  1682486955         1                0\n",
       "636317  BXYRZNLA3GM   320006468         1                0\n",
       "636315  BXYcrPBFCw2  2893147210         1                0\n",
       "214344  BvGXxsCB4D5  1682486955         1                0\n",
       "636313  BXaXRJeFS03  2893147210         1                0\n",
       "636312  BXaocqHldI4  2893147210         2                0\n",
       "636311  BXaovHTFl8y  2893147210         1                0\n",
       "0       BXdjjUlgcgq  2237947779         2                0"
      ]
     },
     "execution_count": 16,
     "metadata": {},
     "output_type": "execute_result"
    }
   ],
   "source": [
    "least_num_comm = post_comm.sort_values(by=['number_comments'], ascending = False).tail(10)\n",
    "least_num_comm"
   ]
  },
  {
   "cell_type": "code",
   "execution_count": 17,
   "id": "c4a95e13-6ec4-48e1-9931-40dded770212",
   "metadata": {},
   "outputs": [
    {
     "data": {
      "text/html": [
       "<div>\n",
       "<style scoped>\n",
       "    .dataframe tbody tr th:only-of-type {\n",
       "        vertical-align: middle;\n",
       "    }\n",
       "\n",
       "    .dataframe tbody tr th {\n",
       "        vertical-align: top;\n",
       "    }\n",
       "\n",
       "    .dataframe thead th {\n",
       "        text-align: right;\n",
       "    }\n",
       "</style>\n",
       "<table border=\"1\" class=\"dataframe\">\n",
       "  <thead>\n",
       "    <tr style=\"text-align: right;\">\n",
       "      <th></th>\n",
       "      <th>post_id</th>\n",
       "      <th>profile_id</th>\n",
       "      <th>post_type</th>\n",
       "      <th>number_comments</th>\n",
       "    </tr>\n",
       "  </thead>\n",
       "  <tbody>\n",
       "    <tr>\n",
       "      <th>0</th>\n",
       "      <td>BXdjjUlgcgq</td>\n",
       "      <td>2237947779</td>\n",
       "      <td>2</td>\n",
       "      <td>0</td>\n",
       "    </tr>\n",
       "  </tbody>\n",
       "</table>\n",
       "</div>"
      ],
      "text/plain": [
       "       post_id  profile_id post_type  number_comments\n",
       "0  BXdjjUlgcgq  2237947779         2                0"
      ]
     },
     "execution_count": 17,
     "metadata": {},
     "output_type": "execute_result"
    }
   ],
   "source": [
    "least_num_comm.tail(1)"
   ]
  },
  {
   "cell_type": "markdown",
   "id": "688d65c4-f511-4cc3-ab1f-b5de408bd145",
   "metadata": {},
   "source": [
    "This is the post with the least number of comments in our chunk of data, but as we can see, there are other posts with 0 comments."
   ]
  },
  {
   "cell_type": "markdown",
   "id": "ef87eaab-dd3d-43cd-8db7-c85d0f8327bd",
   "metadata": {},
   "source": [
    "### How many posts include tagged locations, and how many do not? Show it using an appropriate chart and comment your results"
   ]
  },
  {
   "cell_type": "code",
   "execution_count": 46,
   "id": "7f1bcd2f-6e2c-47e8-9e7c-be3e2e4a09e8",
   "metadata": {},
   "outputs": [],
   "source": [
    "#da sistemare, non so bene come raggruppare i post solo per il fatto che hanno taggato una location, e non per location taggate (manca grafico)"
   ]
  },
  {
   "cell_type": "code",
   "execution_count": 18,
   "id": "a7a244b5-1ee1-462b-bbb5-8137ac449262",
   "metadata": {},
   "outputs": [],
   "source": [
    "d_loc = locations.col([\"sid\", \"id\", \"name\", \"city\", \"cd\", \"dir_city_name\", \"dir_city_slug\"])"
   ]
  },
  {
   "cell_type": "code",
   "execution_count": 19,
   "id": "c426a331-16d4-4851-9650-052d0cc2de47",
   "metadata": {},
   "outputs": [
    {
     "data": {
      "text/html": [
       "<div>\n",
       "<style scoped>\n",
       "    .dataframe tbody tr th:only-of-type {\n",
       "        vertical-align: middle;\n",
       "    }\n",
       "\n",
       "    .dataframe tbody tr th {\n",
       "        vertical-align: top;\n",
       "    }\n",
       "\n",
       "    .dataframe thead th {\n",
       "        text-align: right;\n",
       "    }\n",
       "</style>\n",
       "<table border=\"1\" class=\"dataframe\">\n",
       "  <thead>\n",
       "    <tr style=\"text-align: right;\">\n",
       "      <th></th>\n",
       "      <th>dir_city_slug</th>\n",
       "    </tr>\n",
       "  </thead>\n",
       "  <tbody>\n",
       "    <tr>\n",
       "      <th>count</th>\n",
       "      <td>495221</td>\n",
       "    </tr>\n",
       "    <tr>\n",
       "      <th>unique</th>\n",
       "      <td>114426</td>\n",
       "    </tr>\n",
       "    <tr>\n",
       "      <th>top</th>\n",
       "      <td>hells-kitchen-manhattan</td>\n",
       "    </tr>\n",
       "    <tr>\n",
       "      <th>freq</th>\n",
       "      <td>1326</td>\n",
       "    </tr>\n",
       "  </tbody>\n",
       "</table>\n",
       "</div>"
      ],
      "text/plain": [
       "                  dir_city_slug\n",
       "count                    495221\n",
       "unique                   114426\n",
       "top     hells-kitchen-manhattan\n",
       "freq                       1326"
      ]
     },
     "execution_count": 19,
     "metadata": {},
     "output_type": "execute_result"
    }
   ],
   "source": [
    "d_loc[[\"dir_city_slug\"]].describe()"
   ]
  },
  {
   "cell_type": "code",
   "execution_count": 20,
   "id": "18916d43-a089-4de3-90dc-c2e69b02c9a1",
   "metadata": {},
   "outputs": [
    {
     "data": {
      "text/plain": [
       "<NA>                       527437\n",
       "hells-kitchen-manhattan      1326\n",
       "harlem                       1151\n",
       "aptekarskiy                  1039\n",
       "murray-hill-manhattan         933\n",
       "                            ...  \n",
       "luzianky                        1\n",
       "camogli                         1\n",
       "marinho                         1\n",
       "south-greenfield                1\n",
       "gambolovo                       1\n",
       "Name: dir_city_slug, Length: 114427, dtype: Int64"
      ]
     },
     "execution_count": 20,
     "metadata": {},
     "output_type": "execute_result"
    }
   ],
   "source": [
    "#divisi per locations\n",
    "post_loc = d_loc[\"dir_city_slug\"].value_counts(dropna=False)\n",
    "post_loc"
   ]
  },
  {
   "cell_type": "code",
   "execution_count": 21,
   "id": "16cd4ef2-2d9b-4427-a42a-bd768d14c450",
   "metadata": {},
   "outputs": [
    {
     "data": {
      "text/plain": [
       "527437"
      ]
     },
     "execution_count": 21,
     "metadata": {},
     "output_type": "execute_result"
    }
   ],
   "source": [
    "#solo NA\n",
    "nan_loc = d_loc[\"dir_city_slug\"].isna().sum()\n",
    "nan_loc"
   ]
  },
  {
   "cell_type": "code",
   "execution_count": 22,
   "id": "adfc3b9d-56a7-4040-9273-77120192d403",
   "metadata": {},
   "outputs": [
    {
     "data": {
      "text/plain": [
       "495221"
      ]
     },
     "execution_count": 22,
     "metadata": {},
     "output_type": "execute_result"
    }
   ],
   "source": [
    "#solo post con locations\n",
    "loc_tag = d_loc[\"dir_city_slug\"].value_counts().sum()\n",
    "loc_tag"
   ]
  },
  {
   "cell_type": "markdown",
   "id": "7e2b714e-5989-4ac0-9e71-fb9429af8fbe",
   "metadata": {},
   "source": [
    "### How many posts include only photos? How many also have videos?"
   ]
  },
  {
   "cell_type": "code",
   "execution_count": 23,
   "id": "27e93490-2a1c-4e74-a046-6590eaefb8c2",
   "metadata": {},
   "outputs": [
    {
     "data": {
      "text/plain": [
       "1    940326\n",
       "2     59671\n",
       "3         3\n",
       "Name: post_type, dtype: int64"
      ]
     },
     "execution_count": 23,
     "metadata": {},
     "output_type": "execute_result"
    }
   ],
   "source": [
    "post_type = d_posts[\"post_type\"].value_counts() \n",
    "post_type"
   ]
  },
  {
   "cell_type": "code",
   "execution_count": 24,
   "id": "f433d537-56f9-4463-9a4a-ca781ada1d63",
   "metadata": {},
   "outputs": [
    {
     "data": {
      "image/png": "[encoded data removed]",
      "text/plain": [
       "<Figure size 576x432 with 1 Axes>"
      ]
     },
     "metadata": {
      "needs_background": "light"
     },
     "output_type": "display_data"
    }
   ],
   "source": [
    "sns.countplot(x=d_posts[\"post_type\"], palette = \"pastel\")\n",
    "plt.xlabel(\"Post Type\")\n",
    "plt.ylabel(\"Count\")\n",
    "plt.grid()"
   ]
  },
  {
   "cell_type": "markdown",
   "id": "faa2b42b-5ee8-425c-b031-c1c8fed3728b",
   "metadata": {},
   "source": [
    "In this chunk of data there are  94171 posts with only photos and 0 posts with photos and also videos"
   ]
  },
  {
   "cell_type": "markdown",
   "id": "81c96f15-08b4-41dd-a9ef-b5bf18c034f8",
   "metadata": {},
   "source": [
    "### What's the percentage of business accounts vs non-business? What can you interpret regarding that percentage?"
   ]
  },
  {
   "cell_type": "code",
   "execution_count": 44,
   "id": "cc22dc8d-2627-4a52-b761-928955bb94b3",
   "metadata": {},
   "outputs": [],
   "source": [
    "#da sistemare il grafico, con seaborn viene meglio ma non so come includere gli NA"
   ]
  },
  {
   "cell_type": "code",
   "execution_count": 25,
   "id": "13243a46-645c-45f9-a12c-9df5d765244e",
   "metadata": {},
   "outputs": [
    {
     "data": {
      "text/plain": [
       "1064263"
      ]
     },
     "execution_count": 25,
     "metadata": {},
     "output_type": "execute_result"
    }
   ],
   "source": [
    "nan_prof = d_prof[\"is_business_account\"].isna().sum()\n",
    "nan_prof"
   ]
  },
  {
   "cell_type": "code",
   "execution_count": 26,
   "id": "5d442537-69d4-448d-8bbe-4c370cc1cdd7",
   "metadata": {},
   "outputs": [
    {
     "data": {
      "text/plain": [
       "False    2590069\n",
       "<NA>     1064263\n",
       "True      855254\n",
       "Name: is_business_account, dtype: Int64"
      ]
     },
     "execution_count": 26,
     "metadata": {},
     "output_type": "execute_result"
    }
   ],
   "source": [
    "b_prof = d_prof[\"is_business_account\"].value_counts(dropna=False)\n",
    "b_prof"
   ]
  },
  {
   "cell_type": "code",
   "execution_count": 27,
   "id": "8d19e0dc-5346-47b5-8b92-f074695a96b3",
   "metadata": {},
   "outputs": [
    {
     "data": {
      "text/plain": [
       "<AxesSubplot:>"
      ]
     },
     "execution_count": 27,
     "metadata": {},
     "output_type": "execute_result"
    },
    {
     "data": {
      "image/png": "[encoded data removed]",
      "text/plain": [
       "<Figure size 576x432 with 1 Axes>"
      ]
     },
     "metadata": {
      "needs_background": "light"
     },
     "output_type": "display_data"
    }
   ],
   "source": [
    "b_prof.plot.bar()"
   ]
  },
  {
   "cell_type": "markdown",
   "id": "22d1e228-5735-498b-9760-b292cee98699",
   "metadata": {},
   "source": [
    "The most profiles are not business accounts, maybe beacause this kind of account is mostly used by influencers or companies, which are a small percentage in the totality of Instagram accounts."
   ]
  },
  {
   "cell_type": "markdown",
   "id": "0f024f93-1971-4a5a-b1e7-9b1d7f923da8",
   "metadata": {},
   "source": [
    "# [RQ5]"
   ]
  },
  {
   "cell_type": "markdown",
   "id": "f8c1e669-895b-44b1-8643-d22c0f2f9171",
   "metadata": {},
   "source": [
    "### Plot the top 10 most popular users in terms of followers and their number of posts."
   ]
  },
  {
   "cell_type": "code",
   "execution_count": 28,
   "id": "92ba597f-d258-4e13-add6-fed430554f19",
   "metadata": {},
   "outputs": [
    {
     "data": {
      "text/html": [
       "<div>\n",
       "<style scoped>\n",
       "    .dataframe tbody tr th:only-of-type {\n",
       "        vertical-align: middle;\n",
       "    }\n",
       "\n",
       "    .dataframe tbody tr th {\n",
       "        vertical-align: top;\n",
       "    }\n",
       "\n",
       "    .dataframe thead th {\n",
       "        text-align: right;\n",
       "    }\n",
       "</style>\n",
       "<table border=\"1\" class=\"dataframe\">\n",
       "  <thead>\n",
       "    <tr style=\"text-align: right;\">\n",
       "      <th></th>\n",
       "      <th>profile_id</th>\n",
       "      <th>profile_name</th>\n",
       "      <th>followers</th>\n",
       "      <th>n_posts</th>\n",
       "    </tr>\n",
       "    <tr>\n",
       "      <th>sid</th>\n",
       "      <th></th>\n",
       "      <th></th>\n",
       "      <th></th>\n",
       "      <th></th>\n",
       "    </tr>\n",
       "  </thead>\n",
       "  <tbody>\n",
       "    <tr>\n",
       "      <th>336492</th>\n",
       "      <td>25025320</td>\n",
       "      <td>instagram</td>\n",
       "      <td>285457645</td>\n",
       "      <td>5760</td>\n",
       "    </tr>\n",
       "    <tr>\n",
       "      <th>371414</th>\n",
       "      <td>3416684</td>\n",
       "      <td>victoriassecret</td>\n",
       "      <td>65269440</td>\n",
       "      <td>7355</td>\n",
       "    </tr>\n",
       "    <tr>\n",
       "      <th>337097</th>\n",
       "      <td>20824486</td>\n",
       "      <td>nba</td>\n",
       "      <td>35339708</td>\n",
       "      <td>28816</td>\n",
       "    </tr>\n",
       "    <tr>\n",
       "      <th>330376</th>\n",
       "      <td>187619120</td>\n",
       "      <td>louisvuitton</td>\n",
       "      <td>30689316</td>\n",
       "      <td>3352</td>\n",
       "    </tr>\n",
       "    <tr>\n",
       "      <th>292359</th>\n",
       "      <td>2125506698</td>\n",
       "      <td>buzzfeedtasty</td>\n",
       "      <td>30246783</td>\n",
       "      <td>2791</td>\n",
       "    </tr>\n",
       "    <tr>\n",
       "      <th>3437294</th>\n",
       "      <td>496865116</td>\n",
       "      <td>andresiniesta8</td>\n",
       "      <td>29542143</td>\n",
       "      <td>990</td>\n",
       "    </tr>\n",
       "    <tr>\n",
       "      <th>158690</th>\n",
       "      <td>23410080</td>\n",
       "      <td>hm</td>\n",
       "      <td>29176804</td>\n",
       "      <td>4566</td>\n",
       "    </tr>\n",
       "    <tr>\n",
       "      <th>3615154</th>\n",
       "      <td>24239929</td>\n",
       "      <td>princessyahrini</td>\n",
       "      <td>29042823</td>\n",
       "      <td>4719</td>\n",
       "    </tr>\n",
       "    <tr>\n",
       "      <th>508140</th>\n",
       "      <td>50417061</td>\n",
       "      <td>danbilzerian</td>\n",
       "      <td>26476004</td>\n",
       "      <td>1311</td>\n",
       "    </tr>\n",
       "    <tr>\n",
       "      <th>3513205</th>\n",
       "      <td>907025384</td>\n",
       "      <td>akshaykumar</td>\n",
       "      <td>26252169</td>\n",
       "      <td>1173</td>\n",
       "    </tr>\n",
       "  </tbody>\n",
       "</table>\n",
       "</div>"
      ],
      "text/plain": [
       "         profile_id     profile_name  followers  n_posts\n",
       "sid                                                     \n",
       "336492     25025320        instagram  285457645     5760\n",
       "371414      3416684  victoriassecret   65269440     7355\n",
       "337097     20824486              nba   35339708    28816\n",
       "330376    187619120     louisvuitton   30689316     3352\n",
       "292359   2125506698    buzzfeedtasty   30246783     2791\n",
       "3437294   496865116   andresiniesta8   29542143      990\n",
       "158690     23410080               hm   29176804     4566\n",
       "3615154    24239929  princessyahrini   29042823     4719\n",
       "508140     50417061     danbilzerian   26476004     1311\n",
       "3513205   907025384      akshaykumar   26252169     1173"
      ]
     },
     "execution_count": 28,
     "metadata": {},
     "output_type": "execute_result"
    }
   ],
   "source": [
    "users = profiles.col([\"profile_name\", \"profile_id\", \"followers\", \"n_posts\", \"sid\"])\n",
    "pop_users = users.sort_values(by=['followers', 'n_posts'], ascending = False).head(10)\n",
    "pop_users"
   ]
  },
  {
   "cell_type": "code",
   "execution_count": 29,
   "id": "19acef7f-14cc-4544-ae06-144529a73f10",
   "metadata": {},
   "outputs": [
    {
     "data": {
      "image/png": "[encoded data removed]",
      "text/plain": [
       "<Figure size 576x432 with 1 Axes>"
      ]
     },
     "metadata": {
      "needs_background": "light"
     },
     "output_type": "display_data"
    }
   ],
   "source": [
    "#Plot\n",
    "plt.rcParams['figure.figsize'] = [8,6]\n",
    "sns.barplot(data=pop_users, x=\"profile_name\", y=\"followers\", palette=\"pastel\")\n",
    "plt.xlabel(\"Profile name\")\n",
    "plt.xticks(rotation=90)\n",
    "plt.ylabel(\"Followers\")\n",
    "plt.grid()"
   ]
  },
  {
   "cell_type": "markdown",
   "id": "284c9e7e-e46d-4a7a-ad43-334db5e96ad9",
   "metadata": {},
   "source": [
    "### Who is the most influential user?"
   ]
  },
  {
   "cell_type": "code",
   "execution_count": 30,
   "id": "433b4a0e-158f-4937-8780-fc14df2da993",
   "metadata": {},
   "outputs": [
    {
     "data": {
      "text/html": [
       "<div>\n",
       "<style scoped>\n",
       "    .dataframe tbody tr th:only-of-type {\n",
       "        vertical-align: middle;\n",
       "    }\n",
       "\n",
       "    .dataframe tbody tr th {\n",
       "        vertical-align: top;\n",
       "    }\n",
       "\n",
       "    .dataframe thead th {\n",
       "        text-align: right;\n",
       "    }\n",
       "</style>\n",
       "<table border=\"1\" class=\"dataframe\">\n",
       "  <thead>\n",
       "    <tr style=\"text-align: right;\">\n",
       "      <th></th>\n",
       "      <th>profile_id</th>\n",
       "      <th>profile_name</th>\n",
       "      <th>followers</th>\n",
       "      <th>n_posts</th>\n",
       "    </tr>\n",
       "    <tr>\n",
       "      <th>sid</th>\n",
       "      <th></th>\n",
       "      <th></th>\n",
       "      <th></th>\n",
       "      <th></th>\n",
       "    </tr>\n",
       "  </thead>\n",
       "  <tbody>\n",
       "    <tr>\n",
       "      <th>336492</th>\n",
       "      <td>25025320</td>\n",
       "      <td>instagram</td>\n",
       "      <td>285457645</td>\n",
       "      <td>5760</td>\n",
       "    </tr>\n",
       "  </tbody>\n",
       "</table>\n",
       "</div>"
      ],
      "text/plain": [
       "        profile_id profile_name  followers  n_posts\n",
       "sid                                                \n",
       "336492    25025320    instagram  285457645     5760"
      ]
     },
     "execution_count": 30,
     "metadata": {},
     "output_type": "execute_result"
    }
   ],
   "source": [
    "#forse aggiungerci qualcosa?\n",
    "pop_users.head(1)"
   ]
  },
  {
   "cell_type": "markdown",
   "id": "5ca92038-a478-43dd-a8dd-b2bf54739594",
   "metadata": {},
   "source": [
    "The most popular user is Instagram."
   ]
  },
  {
   "cell_type": "markdown",
   "id": "1ecb242d-ab95-4378-9e83-0484aa144a01",
   "metadata": {},
   "source": [
    "### Have they posted anything with tagged locations? Extract the most frequent areas on their posts and plot the number of times each city has been visited."
   ]
  },
  {
   "cell_type": "code",
   "execution_count": 36,
   "id": "08030448-4650-4b7f-8a36-ff0494351e65",
   "metadata": {},
   "outputs": [],
   "source": [
    "locations = posts.col([\"sid_profile\", \"location_id\", \"post_type\"], index=False, nrows=SAMPLE_SIZE)"
   ]
  },
  {
   "cell_type": "code",
   "execution_count": 47,
   "id": "80055f72-d96e-4cdb-b7ba-99e213350c63",
   "metadata": {},
   "outputs": [],
   "source": [
    "subset = profiles.col([\"sid\", \"profile_name\", \"followers\", \"n_posts\"])\n",
    "pop_subset = subset.dropna().nlargest(10, [\"followers\"])\n",
    "#pop_subset"
   ]
  },
  {
   "cell_type": "code",
   "execution_count": 48,
   "id": "17bc154a-0c74-4741-a3b3-fd303618ab99",
   "metadata": {},
   "outputs": [],
   "source": [
    "#mi da un problema di index con sid\n",
    "\n",
    "#pop_sid = pop_subset[\"sid\"].tolist()\n",
    "#ciao = locations.loc[locations['sid_profile'].isin(pop_sid), ['sid_profile', 'location_id']]\n",
    "#ciao2 = pd.DataFrame(pop_sid)"
   ]
  },
  {
   "cell_type": "markdown",
   "id": "8ace19d7-d5d9-429d-8d33-f0d40690604b",
   "metadata": {},
   "source": [
    "### How many pictures-only posts have they published? How many reels? (only videos) and how many with both contents? Provide the number as percentages and interpret those figures."
   ]
  },
  {
   "cell_type": "code",
   "execution_count": 41,
   "id": "a2c1fe79-9d0c-4041-873a-e5392011c5ca",
   "metadata": {},
   "outputs": [],
   "source": [
    "#pop_post_type = locations.loc[locations['sid_profile'].isin(pop_subset['sid']), ['sid_profile', 'post_type']]\n",
    "#pop_tab = pd.crosstab(pop_post_type['sid_profile'], pop_post_type['post_type'])\n",
    "#pop_tab"
   ]
  },
  {
   "cell_type": "markdown",
   "id": "8ebde140-df59-46f8-8d48-04cbdc5eaa83",
   "metadata": {},
   "source": [
    "### How many \"likes\" and comments did posts with only pictures receive? How about videos and mixed posts? Try to provide the average numbers and confront them with their followers amount, explaining what you can say from that comparison."
   ]
  },
  {
   "cell_type": "code",
   "execution_count": 49,
   "id": "b207318d-6d84-4f47-97fc-ab8fee20444e",
   "metadata": {},
   "outputs": [],
   "source": [
    "#groupby su post_type facendo la somma/media di tutti i commenti e like, riportando anche il numero di followers per user \n",
    "#users = profiles.col([\"profile_name\", \"profile_id\", \"followers\", \"n_posts\", ])\n",
    "#pop_users = users.sort_values(by=['followers', 'n_posts'], ascending = False).head(10)"
   ]
  },
  {
   "cell_type": "markdown",
   "id": "fc467c0e-da7f-4742-928c-8ffbec0a8fe7",
   "metadata": {},
   "source": [
    "# [RQ8]"
   ]
  },
  {
   "cell_type": "markdown",
   "id": "35510c71-b99a-4cbd-8320-ee20f7d44fee",
   "metadata": {},
   "source": [
    "### Does more “likes” also mean more comments? Plot a scatter plot of “likes” vs comments for posts."
   ]
  },
  {
   "cell_type": "code",
   "execution_count": 42,
   "id": "32537bcd-f56c-4caf-92dc-8fe2addd69a0",
   "metadata": {},
   "outputs": [],
   "source": [
    "posts1 = posts.col(['post_id', 'numbr_likes', 'number_comments'], index=False, nrows=SAMPLE_SIZE)"
   ]
  },
  {
   "cell_type": "code",
   "execution_count": 43,
   "id": "6972f357-19cb-46d1-ac62-3b6759c6a77c",
   "metadata": {},
   "outputs": [
    {
     "data": {
      "image/png": "[encoded data removed]",
      "text/plain": [
       "<Figure size 576x432 with 1 Axes>"
      ]
     },
     "metadata": {
      "needs_background": "light"
     },
     "output_type": "display_data"
    }
   ],
   "source": [
    "# Let's see graphically with a scatterplot if there is some kind of relationship between the two variables.\n",
    "#sns.set(rc = {'figure.figsize':(15,8)})\n",
    "fig = sns.scatterplot(data=posts1, x=\"numbr_likes\", y=\"number_comments\",   \n",
    "                      alpha=0.8)                               \n",
    "fig.set(xlabel='Number of likes', ylabel='Number of comments', title='Number of likes VS number of comments')\n",
    "plt.grid()"
   ]
  },
  {
   "cell_type": "markdown",
   "id": "3f30eb73-c80b-443a-9107-56047ad82678",
   "metadata": {},
   "source": [
    "It doesn't seem to be a stict correlation between the number of likes and the number of comments. For example there are posts with a lot of likes but only a few comments and vice versa."
   ]
  },
  {
   "cell_type": "markdown",
   "id": "9e2474d6-f37a-4a23-aae0-3d171360760e",
   "metadata": {},
   "source": [
    "### Can you find any significant relationship between the time a user publishes a post and the number of comments and “likes”? Use an appropriate statistical test or technique and support your choice."
   ]
  },
  {
   "cell_type": "code",
   "execution_count": null,
   "id": "e12f3294-01c9-40b0-a460-2acfb5973bdb",
   "metadata": {},
   "outputs": [],
   "source": []
  },
  {
   "cell_type": "markdown",
   "id": "89807d06-ca4f-4fff-91d6-02153102932b",
   "metadata": {},
   "source": [
    "### What’s the distribution of followers? Plot the empirical distribution of followers amongst all users and extract the mean, mode, and quantiles. Interpret those figures."
   ]
  },
  {
   "cell_type": "code",
   "execution_count": null,
   "id": "97376883-613c-4e05-a262-fa46869918e0",
   "metadata": {},
   "outputs": [],
   "source": []
  },
  {
   "cell_type": "markdown",
   "id": "03d4b809-a82f-4f2c-8779-383e55b08118",
   "metadata": {},
   "source": [
    "### What are histograms, bar plots, scatterplots and pie charts used for?"
   ]
  },
  {
   "cell_type": "markdown",
   "id": "9d62ca63-288a-4954-8df3-8d1f9fae125b",
   "metadata": {},
   "source": [
    "Histograms, bar plots, scatterplots and pie charts are the most popular and used tools for data visualization.\n",
    "\n",
    "* **Histograms** are used for representing continuous variables divided into a series of intervals. These intervals must be adjacent and they can be also of different sizes. For each bin (interval) we have a rectangle. If the bins have the same size, the height of the rectangle is proportional to the frequency (the number of cases in each interval), otherwise the *area* of the rectangle has to be proportional to the frequency. In this last case, the height represent the *frequency density* (the number of cases per unit of the variable on the x-axis).\n",
    "\n",
    "* **Bar plots** are used for comparing categorical data. For each category we have a rectangular bar which heigth is proportional to the value that represents. The bars can be horizontal or vertical.\n",
    "\n",
    "* **Scatterplots** are plots used for representing values for (usually) two variables in a Cartesian diagram. Every value is represented by a point with coordinates equal to the value for the first variable on the x-axis and the value for the second variable on the y-axis. With a scatterplot we can detect relations and correlations between variables. They can be used for both continuous and discrete variables.\n",
    "\n",
    "* **Pie charts** are circular statistical graphics. The 'pie' is divided into slices proportional to the quantity it represents. They are suited to express percentage and to observe the composition of a phenomena. The total of the percentages must be equal to 100%. If there are a lot of modalities related to the phenomena we want to represent, it can be worth to use a bar plot, because comparing the area of a lot of 'slices' can be difficult and not so easy."
   ]
  },
  {
   "cell_type": "markdown",
   "id": "89d7bf89-7fc2-4f48-8763-e6dd33032e43",
   "metadata": {},
   "source": [
    "### What insights can you extract from a Box Plot?"
   ]
  },
  {
   "cell_type": "markdown",
   "id": "d9fa2a5b-8592-4614-b44b-fcb4f8ac83e3",
   "metadata": {},
   "source": [
    "With a **Box Plot** we analyze the distribution of a variable paying attention to its quartiles. In a box plot we can identify the first quartile (as the lower box edge), the median (as the line inside the box) and the third quartile (as the upper box edge). In the box plots can be plotted also lines representing the values located outside lower and upper quartiles. Outlier values can be represented by single points. \n",
    "\n",
    "In addition, we are able to know the variability and the dispersion of the variable, looking at the length of the box. If we have a little box, all the data are located near the median, so we have low dispersion; otherwise we have a larger box. We can also get information about the symmetry of a variable, if t"
   ]
  },
  {
   "cell_type": "code",
   "execution_count": null,
   "id": "135308de-c71a-4995-ad2b-d12e0f9e18c9",
   "metadata": {},
   "outputs": [],
   "source": []
  }
 ],
 "metadata": {
  "kernelspec": {
   "display_name": "Python 3 (ipykernel)",
   "language": "python",
   "name": "python3"
  },
  "language_info": {
   "codemirror_mode": {
    "name": "ipython",
    "version": 3
   },
   "file_extension": ".py",
   "mimetype": "text/x-python",
   "name": "python",
   "nbconvert_exporter": "python",
   "pygments_lexer": "ipython3",
   "version": "3.10.8"
  }
 },
 "nbformat": 4,
 "nbformat_minor": 5
}
