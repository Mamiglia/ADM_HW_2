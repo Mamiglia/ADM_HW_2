{
 "cells": [
  {
   "cell_type": "markdown",
   "id": "04c21119-107a-4f2f-9355-272f1c45d165",
   "metadata": {},
   "source": [
    "# __Homework 2 - Instagram Profiles & Posts__"
   ]
  },
  {
   "cell_type": "code",
   "execution_count": 1,
   "id": "174027f2-01af-4e80-a15c-fbc75f32dba8",
   "metadata": {},
   "outputs": [],
   "source": [
    "import pandas as pd\n",
    "import seaborn as sns\n",
    "import numpy as np\n",
    "import random\n",
    "import re\n",
    "import os\n",
    "from math import pi, floor, log10, ceil\n",
    "\n",
    "\n",
    "SAMPLE_SIZE = 10000\n",
    "\n",
    "%matplotlib inline\n",
    "import matplotlib.pyplot as plt\n",
    "# You can write up to 20GB to the current directory (/kaggle/working/) that gets preserved as output when you create a version using \"Save & Run All\" \n",
    "# You can also write temporary files to /kaggle/temp/, but they won't be saved outside of the current session"
   ]
  },
  {
   "cell_type": "code",
   "execution_count": 2,
   "id": "85655cb1-614d-4667-86bf-028feb1c475c",
   "metadata": {},
   "outputs": [
    {
     "name": "stdout",
     "output_type": "stream",
     "text": [
      "Defaulting to user installation because normal site-packages is not writeable\n",
      "Requirement already satisfied: pyarrow in /home/mamiglia/.local/lib/python3.10/site-packages (9.0.0)\n",
      "Requirement already satisfied: numpy>=1.16.6 in /home/mamiglia/.local/lib/python3.10/site-packages (from pyarrow) (1.23.3)\n"
     ]
    }
   ],
   "source": [
    "!pip install pyarrow"
   ]
  },
  {
   "cell_type": "markdown",
   "id": "afc4cb26-a453-4ac6-8389-1c90db419de8",
   "metadata": {},
   "source": [
    "***\n",
    "\n",
    "## __Preprocessing__\n",
    "\n",
    "***"
   ]
  },
  {
   "cell_type": "code",
   "execution_count": 10,
   "id": "9bcfeeb6-ffb9-4589-a3ba-8239913fe710",
   "metadata": {},
   "outputs": [],
   "source": [
    "class Dataset:\n",
    "    def __init__(self, file:str):\n",
    "        self.file_name : str = file\n",
    "        self.types : dict = self.load_types()\n",
    "        self.df : pd.DataFrame = None\n",
    "        \n",
    "    def name(self):\n",
    "        return re.search(r'\\/([\\w\\d]*)\\.csv',self.file_name).group(1)\n",
    "    \n",
    "    def __types_file__(self):\n",
    "        return 'types/' + self.name() +'.npy'\n",
    "        \n",
    "    def save_types(self):\n",
    "        np.save(self.__types_file__(), self.types)\n",
    "        \n",
    "    def load_types(self):\n",
    "        if os.path.isfile(self.__types_file__()):\n",
    "            self.types = np.load(self.__types_file__(),allow_pickle='TRUE').item()\n",
    "            return self.types\n",
    "        return None\n",
    "    \n",
    "    def col(self,columns:list, index=True,**pd_params)->pd.DataFrame:\n",
    "        \"\"\"Loads some columns of the dataframe out of the whole csv file\n",
    "        \n",
    "        :param columns: a list of the desired columns\n",
    "        :type columns: list\n",
    "        :param index: if True loads also the 'sid' column as the index\n",
    "        :type index: bool\n",
    "        :param **pd_params: any other params for pd.read_csv(...)\n",
    "        :rtype: pd.DataFrame\n",
    "        \"\"\"\n",
    "        col_list = columns\n",
    "        if 'cts' in col_list:\n",
    "            pd_params['parse_dates'] = ['cts']\n",
    "        if index==True:\n",
    "            col_list.append('sid')\n",
    "        return pd.read_csv(self.file_name,\n",
    "                           usecols=col_list,\n",
    "                           dtype=self.types, \n",
    "                           index_col='sid' if index==True else index,\n",
    "                           delimiter='\\t', \n",
    "                           **pd_params)\n",
    "\n",
    "datasets = [\n",
    "    Dataset(file='instagram-dataset/instagram_profiles.csv'), \n",
    "    Dataset(file='instagram-dataset/instagram_locations.csv'), \n",
    "    Dataset(file='instagram-dataset/instagram_posts.csv')\n",
    "]\n",
    "profiles, locations, posts = datasets"
   ]
  },
  {
   "cell_type": "markdown",
   "id": "3f090725-1f85-459e-8fd8-6cff54c492f3",
   "metadata": {},
   "source": [
    "Columns and inferred types from descrption \n",
    "TODO DESCRIBE MORE"
   ]
  },
  {
   "cell_type": "code",
   "execution_count": 11,
   "id": "6cddca29-5f8a-4e77-a170-29cb1f99b480",
   "metadata": {},
   "outputs": [],
   "source": [
    "profiles.types = {\n",
    "#     'sid' : 'Int64',\n",
    "    'profile_id' : 'Int64',\n",
    "    'profile_name' : pd.StringDtype(storage='pyarrow'),\n",
    "    'firstname_lastname' : pd.StringDtype(storage='pyarrow'),\n",
    "    'description' : pd.StringDtype(storage='pyarrow'),\n",
    "    'following' : 'Int64',\n",
    "    'followers' : 'Int64',\n",
    "    'n_posts' : 'Int64',\n",
    "    'url' : pd.StringDtype(storage='pyarrow'),\n",
    "#     'cts' : pd.DatetimeTZDtype(tz='UTC'), #obtained through parse_dates=['cts']\n",
    "    'is_business_account' : pd.BooleanDtype()\n",
    "}\n",
    "posts.types = {\n",
    "#     'sid' : 'Int64', # gives an error, maybe because it's the index?\n",
    "    'sid_profile' : 'Int64',\n",
    "    'post_id' : pd.StringDtype(storage='pyarrow'),\n",
    "    'profile_id' : 'Int64',\n",
    "    'location_id' : 'Int64',\n",
    "    'description' : pd.StringDtype(storage='pyarrow'),\n",
    "    'post_type' : pd.CategoricalDtype(categories=[1,2,3]),\n",
    "    'numbr_likes' : 'Int64',\n",
    "    'number_comments' : 'Int64'\n",
    "}\n",
    "locations.types = {\n",
    "#     'sid' : 'Int64', # gives an error, maybe because it's the index?\n",
    "    'id' : 'Int64',\n",
    "    'name' : pd.StringDtype(storage='pyarrow'),\n",
    "    'street' : pd.StringDtype(storage='pyarrow'),\n",
    "    'zip' : pd.StringDtype(storage='pyarrow'),\n",
    "    'city' : pd.StringDtype(storage='pyarrow'),\n",
    "    'region' : pd.StringDtype(storage='pyarrow'),\n",
    "    'cd' : pd.CategoricalDtype(),\n",
    "    'phone' : pd.StringDtype(storage='pyarrow'),\n",
    "    'aj_exact_city_match' : pd.BooleanDtype(),\n",
    "    'aj_exact_country_match' : pd.BooleanDtype(),\n",
    "    'blurb' : pd.StringDtype(storage='pyarrow'),\n",
    "    'dir_city_id' : pd.StringDtype(storage='pyarrow'),\n",
    "    'dir_city_name' : pd.StringDtype(storage='pyarrow'),\n",
    "    'dir_city_slug' : pd.StringDtype(storage='pyarrow'),\n",
    "    'dir_country_id' : pd.CategoricalDtype(),\n",
    "    'dir_country_name' : pd.CategoricalDtype(),\n",
    "    'lat' : pd.Float32Dtype(),\n",
    "    'lng' : pd.Float32Dtype(),\n",
    "    'primary_alias_on_fb' : pd.StringDtype(storage='pyarrow'),\n",
    "    'slug' : pd.StringDtype(storage='pyarrow'),\n",
    "    'website' : pd.StringDtype(storage='pyarrow'),\n",
    "}"
   ]
  },
  {
   "cell_type": "code",
   "execution_count": 12,
   "id": "e0aab5f2-0944-4188-b533-a0031d3520a6",
   "metadata": {},
   "outputs": [],
   "source": [
    "def get_types(signed=True, unsigned=True, custom=[]):\n",
    "    '''Returns a pandas dataframe containing the boundaries of each integer dtype'''\n",
    "    # based on https://stackoverflow.com/a/57894540/9419492\n",
    "    pd_types = custom\n",
    "    if signed:\n",
    "        pd_types += [pd.Int8Dtype() ,pd.Int16Dtype() ,pd.Int32Dtype(), pd.Int64Dtype()]\n",
    "    if unsigned:\n",
    "        pd_types += [pd.UInt8Dtype() ,pd.UInt16Dtype(), pd.UInt32Dtype(), pd.UInt64Dtype()]\n",
    "    type_df = pd.DataFrame(data=pd_types, columns=['pd_type'])\n",
    "    type_df['np_type'] = type_df['pd_type'].apply(lambda t: t.numpy_dtype)\n",
    "    type_df['min_value'] = type_df['np_type'].apply(lambda row: np.iinfo(row).min)\n",
    "    type_df['max_value'] = type_df['np_type'].apply(lambda row: np.iinfo(row).max)\n",
    "    type_df['allow_negatives'] = type_df['min_value'] < 0\n",
    "    type_df['size'] = type_df['np_type'].apply(lambda row: row.itemsize)\n",
    "    type_df.sort_values(by=['size', 'allow_negatives'], inplace=True)\n",
    "    return type_df.reset_index(drop=True)\n",
    "def downcast_int(file_path, column:str, chunksize=10000, delimiter=',', signed=True, unsigned=True):\n",
    "    '''Assigns the smallest possible dtype to an integer column of a csv'''\n",
    "    types = get_types(signed, unsigned)\n",
    "    negatives = False\n",
    "    print(delimiter)\n",
    "    for chunk in pd.read_csv(file_path, \n",
    "                             usecols=[column],\n",
    "                             delimiter=delimiter,\n",
    "                             chunksize=chunksize):\n",
    "        M = chunk[column].max()\n",
    "        m = chunk[column].min()\n",
    "        if not signed and not negatives and m < 0 :\n",
    "            types = types[types['allow_negatives']] # removes unsigned rows\n",
    "            negatives = True\n",
    "        if m < types['min_value'].iloc[0]:\n",
    "            types = types[types['min_value'] < m]\n",
    "        if M > types['max_value'].iloc[0]:\n",
    "            types = types[types['max_value'] > M]\n",
    "        if len(types) == 1:\n",
    "            print('early stop')\n",
    "            break\n",
    "    return types['pd_type'].iloc[0]\n",
    "\n",
    "def optimize_cols(file, int_cols, delimiter=',', signed=True, unsigned=True):\n",
    "    out = dict()\n",
    "    for col in int_cols:\n",
    "        out[col] = downcast_int(file, col, delimiter=delimiter, signed=signed, unsigned=unsigned)\n",
    "    return out"
   ]
  },
  {
   "cell_type": "markdown",
   "id": "34857117-7869-4132-8ed6-b148c95a6e5f",
   "metadata": {},
   "source": [
    "Optimize types"
   ]
  },
  {
   "cell_type": "code",
   "execution_count": 13,
   "id": "9243db11-d621-4790-a22f-163763165d3c",
   "metadata": {},
   "outputs": [
    {
     "name": "stdout",
     "output_type": "stream",
     "text": [
      "instagram_profiles  mean optimized memory usage per entry:  150 B vs  542 B  : 27.71%\n",
      "instagram_locations mean optimized memory usage per entry:  272 B vs 1117 B  : 24.34%\n",
      "instagram_posts     mean optimized memory usage per entry:  314 B vs  748 B  : 42.05%\n"
     ]
    }
   ],
   "source": [
    "for ds in datasets:\n",
    "    if not ds.load_types():\n",
    "        int_cols = [k for k,v in ds.types.items() if v == 'Int64']\n",
    "        print(int_cols)\n",
    "        ds.types.update(optimize_cols(ds.file_name, int_cols, delimiter='\\t'))\n",
    "        print(f'Optimized {len(int_cols)} types for {ds.name()}')\n",
    "    ds.save_types()\n",
    "\n",
    "for ds in datasets:\n",
    "    ds.df = pd.read_csv(ds.file_name, dtype=ds.types, index_col='sid', delimiter='\\t', parse_dates=['cts'], nrows=SAMPLE_SIZE)\n",
    "    avg_mem_unoptimized = pd.read_csv(ds.file_name, index_col='sid', delimiter='\\t', nrows=SAMPLE_SIZE).memory_usage(deep=True).sum()/SAMPLE_SIZE\n",
    "    avg_mem_optimized = ds.df.memory_usage(deep=True).sum()/SAMPLE_SIZE\n",
    "    print(f'{ds.name().ljust(19)} mean optimized memory usage per entry:  {round(avg_mem_optimized):3} B vs {round(avg_mem_unoptimized):4} B  : {round(avg_mem_optimized/avg_mem_unoptimized*100,2):5}%') "
   ]
  },
  {
   "cell_type": "code",
   "execution_count": null,
   "id": "af17f2b6-63f3-45f8-9434-6e45b4af5ab3",
   "metadata": {},
   "outputs": [],
   "source": []
  },
  {
   "cell_type": "markdown",
   "id": "815e13f5-237e-4a6b-89a2-923dd1b41b3f",
   "metadata": {},
   "source": [
    "## RQ1 - EDA\n",
    "Andrea\n",
    "\n",
    "#### Profiles \n",
    "| Field | Description | Type |\n",
    "|---|---|---|\n",
    "| SID | Sequence ID | `int` |\n",
    "| profile_id | Instagrams ID | `int `|\n",
    "| profile_name | profile name | `string` |\n",
    "| firstname_lastname | firstname lastname | `string` |\n",
    "| description | May contain '\\n' | `string` |\n",
    "| following | Number of following profile at the moment it was visited | `int` |\n",
    "| followers | Number of followers at the moment it was visited | `int` |\n",
    "| n_posts | Number of posts at the moment it was visited | `int` |\n",
    "| url | Url in profile description | `string` |\n",
    "| cts | Timestamp when the profile was visited | `datetime` |\n",
    "| is_business_account | Boolean flag if that profile was makred by the owner as business account | `bool` |\n",
    "\n",
    "#### Locations\n",
    "\n",
    "| Field | Description | Type |\n",
    "|---|---|---|\n",
    "| SID | Sequence ID | `int` |\n",
    "| ID | Instagrams ID | `string` |\n",
    "| Name | Locations Name | `string` |\n",
    "| Street | Street Address, may contain '\\n' | `string` |\n",
    "| ZIP | Zip code | `string` |\n",
    "| City | City Name | `string` |\n",
    "| Region | Region | `string` |\n",
    "| CD | Country Code | `string` |\n",
    "| Phone | The phone in format as on the Instragram | `string` |\n",
    "| aj_exact_city_match | The Instagrams Internal key | `string` |\n",
    "| aj_exact_country_match | The Instagrams Internal key | `string` |\n",
    "| blurb | Description of the place, may contain '\\n' | `string` |\n",
    "| dir_city_id | The Instagrams internal City ID | `string` |\n",
    "| dir_city_name | city Name | `string` |\n",
    "| dir_city_slug | City tag (sortof) | `string` |\n",
    "| dir_country_id | Country ID | `string` |\n",
    "| dir_country_name | country | `string` |\n",
    "| lat | Latitude | `float` |\n",
    "| lng | Longtitude | `float` |\n",
    "| primary_alias_on_fb | Bool Flag | `bool` |\n",
    "| slug | ??? | `string` |\n",
    "| website | The URL to web site, may contain more then 1 URL, may contain '\\n' | `string` |\n",
    "| cts | Timestamp when the location was visited | `datetime` |\n",
    "\n",
    "#### Posts\n",
    "| Field | Description | Type |\n",
    "|---|---|---|\n",
    "| SID | Sequence ID | `int` |\n",
    "| sid_profile | Sequence ID of the profile from *Profiles* table, -1 if not in *Profiles* table | `int` |\n",
    "| post_id | Instagrams ID | `int` |\n",
    "| profile_id | Instagrams ID may be null | `int` |\n",
    "| location_id | Instagrams ID | `int` |\n",
    "| cts | Timestamp when the Post was created | `datetime` |\n",
    "| post_type | 1 - Photo, 2 - Video, 3 - multy | `int` |\n",
    "| description | May contain '\\n' | `string` |\n",
    "| number_likes | Number of Likes at the moment it was visited | `int` |\n",
    "| number_comments | Number of comments at the moment it was visited | `int` |"
   ]
  },
  {
   "cell_type": "markdown",
   "id": "d760d963-d7fa-40ae-b41e-8f1b0c5fa930",
   "metadata": {},
   "source": [
    "***\n",
    "\n",
    "### __1. [RQ1] After collecting information, the Data Scientists have to know what dataset they are dealing with, so let's start with an Exploratory Data Analysis (EDA). What can you say about our datasets? Please summarise its main characteristics with visual and tabular methods.__\n",
    "\n",
    "***"
   ]
  },
  {
   "cell_type": "code",
   "execution_count": null,
   "id": "2ee4fdba-0ec0-4ca6-9e6e-bfa7d51c52d9",
   "metadata": {},
   "outputs": [],
   "source": []
  },
  {
   "cell_type": "markdown",
   "id": "cbdacedb-30b4-4bb4-aa4c-fd8d5745557a",
   "metadata": {},
   "source": [
    "***\n",
    "\n",
    "### __2. [RQ2] Let's explore the dataset by finding simple insights regarding the profile and posts.__\n",
    "\n",
    "***"
   ]
  },
  {
   "cell_type": "markdown",
   "id": "2f551ebb-1dd7-46eb-ad7a-edc4e8b138ec",
   "metadata": {},
   "source": [
    "#### $\\bullet$ Plot the number of posts for each profile in descending order."
   ]
  },
  {
   "cell_type": "code",
   "execution_count": null,
   "id": "59e6116c-371f-4848-abb1-450ec0203538",
   "metadata": {},
   "outputs": [],
   "source": []
  },
  {
   "cell_type": "markdown",
   "id": "04d9960d-b935-48d3-82bf-4f8227c01dee",
   "metadata": {},
   "source": [
    "#### $\\bullet$ What posts have the highest number of \"likes\"?"
   ]
  },
  {
   "cell_type": "code",
   "execution_count": null,
   "id": "5bf5cf0b-c721-4ee5-ae9e-b14fb76be276",
   "metadata": {},
   "outputs": [],
   "source": []
  },
  {
   "cell_type": "markdown",
   "id": "108c3d35-8b72-447c-be21-4f157bc5ec4c",
   "metadata": {},
   "source": [
    "#### $\\bullet$ What posts have the most and the least number of comments?"
   ]
  },
  {
   "cell_type": "code",
   "execution_count": null,
   "id": "b864ae41-378f-4834-bb7b-0b5693615f57",
   "metadata": {},
   "outputs": [],
   "source": []
  },
  {
   "cell_type": "markdown",
   "id": "bd4714ee-10f8-448d-aa52-0932e89253c5",
   "metadata": {},
   "source": [
    "#### $\\bullet$ How many posts include tagged locations, and how many do not? Show it using an appropriate chart and comment your results."
   ]
  },
  {
   "cell_type": "code",
   "execution_count": null,
   "id": "24fbd9be-6e96-4340-834c-6db8cbbbc60a",
   "metadata": {},
   "outputs": [],
   "source": []
  },
  {
   "cell_type": "markdown",
   "id": "33e231d3-e536-4ed8-b150-fe821cb2f0ff",
   "metadata": {},
   "source": [
    "#### $\\bullet$ How many posts include only photos? How many also have videos?"
   ]
  },
  {
   "cell_type": "code",
   "execution_count": null,
   "id": "6e418a81-6496-49ff-b635-c5ec46bbb69d",
   "metadata": {},
   "outputs": [],
   "source": []
  },
  {
   "cell_type": "markdown",
   "id": "36e66c9d-7af4-430a-a711-368c6f585227",
   "metadata": {},
   "source": [
    "#### $\\bullet$ What's the percentage of business accounts vs non- business? What can you interpret regarding that percentage?"
   ]
  },
  {
   "cell_type": "code",
   "execution_count": null,
   "id": "e2db2002-9f90-45c4-a300-ea269d9671d6",
   "metadata": {},
   "outputs": [],
   "source": []
  },
  {
   "cell_type": "markdown",
   "id": "8227e76f",
   "metadata": {},
   "source": [
    "***\n",
    "\n",
    "### 3. __[RQ3] Now it's important to understand the most common times in which users publish their posts__\n",
    "\n",
    "***"
   ]
  },
  {
   "cell_type": "markdown",
   "id": "42351432",
   "metadata": {},
   "source": [
    "#### $\\bullet$ What is the most common time in which users publish their posts?"
   ]
  },
  {
   "cell_type": "code",
   "execution_count": null,
   "id": "2948238e",
   "metadata": {
    "execution": {
     "iopub.execute_input": "2022-10-24T20:28:12.286994Z",
     "iopub.status.busy": "2022-10-24T20:28:12.285899Z",
     "iopub.status.idle": "2022-10-24T20:32:48.454371Z",
     "shell.execute_reply": "2022-10-24T20:32:48.451723Z",
     "shell.execute_reply.started": "2022-10-24T20:28:12.286956Z"
    },
    "tags": [],
    "trusted": true
   },
   "outputs": [],
   "source": [
    "time = posts.col(['cts'], index=False)\n",
    "time['hour'] = time['cts'].dt.hour"
   ]
  },
  {
   "cell_type": "code",
   "execution_count": null,
   "id": "34f1e9be",
   "metadata": {
    "execution": {
     "iopub.execute_input": "2022-10-24T20:50:27.473724Z",
     "iopub.status.busy": "2022-10-24T20:50:27.472261Z",
     "iopub.status.idle": "2022-10-24T20:50:28.993225Z",
     "shell.execute_reply": "2022-10-24T20:50:28.991978Z",
     "shell.execute_reply.started": "2022-10-24T20:50:27.473660Z"
    },
    "tags": [],
    "trusted": true
   },
   "outputs": [
    {
     "data": {
      "image/png": "[encoded data removed]",
      "text/plain": [
       "<Figure size 432x288 with 1 Axes>"
      ]
     },
     "metadata": {},
     "output_type": "display_data"
    }
   ],
   "source": [
    "def cool_ticks(value, tick_number=None):\n",
    "    '''based on https://stackoverflow.com/a/59973033/9419492'''\n",
    "    num_thousands = 0 if abs(value) < 1000 else floor(log10(abs(value))/3)\n",
    "    value = round(value / 5/ 1000**num_thousands, 1) * 5\n",
    "    return f'{value:g}'+' KMGTPEZY'[num_thousands], value * 1000**num_thousands\n",
    "\n",
    "def clock_graph(hours: pd.Series, labels:list=None):\n",
    "    '''plots a Series in a Radar Chart.\n",
    "        :hours: a pandas series where each row index will become an angle\n",
    "    '''\n",
    "    # https://www.python-graph-gallery.com/390-basic-radar-chart\n",
    "    N = len(hours)\n",
    "    angles = [n / float(N) * 2 * pi for n in range(N)]\n",
    "    angles += angles[:1]\n",
    "    hours = pd.concat([\n",
    "        hours.iloc[-N//4-1:],\n",
    "        hours.iloc[:-N//4-1] ]) if N==24 else hours.sort_index(ascending=False)\n",
    "    # Initialise the spider plot\n",
    "    ax = plt.subplot(111, polar=True)\n",
    "\n",
    "    # Draw one axe per variable + add labels\n",
    "    labels = labels if labels is not None else hours.index\n",
    "    plt.xticks(angles[:-1], labels, color='black', size=15)\n",
    "\n",
    "    # Draw ylabels\n",
    "    ax.set_rlabel_position(10)\n",
    "    M = hours.max()\n",
    "    ticks = [cool_ticks(M*x/5) for x in range(1,5)]\n",
    "    plt.yticks([v[1] for v in ticks], [t[0] for t in ticks], color=\"black\", size=10)\n",
    "    plt.ylim(0,M*21/20)\n",
    "    \n",
    "    # Plot data\n",
    "    ax.plot(angles, [*hours, hours.iloc[0]], linewidth=2, linestyle='solid')\n",
    "\n",
    "    # Fill area\n",
    "    ax.fill(angles[:-1], hours, 'b', alpha=0.1)\n",
    "\n",
    "hours = time.hour.value_counts(sort=False).sort_index(ascending=False).to_frame()\n",
    "\n",
    "clock_graph(hours.hour)"
   ]
  },
  {
   "cell_type": "markdown",
   "id": "eb35b5ca",
   "metadata": {},
   "source": [
    "#### $\\bullet$ Create a function that receives a time intervals list as a parameter and returns a plot with the number of posts for each given interval."
   ]
  },
  {
   "cell_type": "code",
   "execution_count": null,
   "id": "641fcf14",
   "metadata": {
    "execution": {
     "iopub.execute_input": "2022-10-24T20:50:28.995859Z",
     "iopub.status.busy": "2022-10-24T20:50:28.995365Z",
     "iopub.status.idle": "2022-10-24T20:50:29.007377Z",
     "shell.execute_reply": "2022-10-24T20:50:29.006067Z",
     "shell.execute_reply.started": "2022-10-24T20:50:28.995822Z"
    },
    "trusted": true
   },
   "outputs": [],
   "source": [
    "def inter(h,inters, categories):\n",
    "    assert len(inters)-1 == len(categories), 'Categories and Intervals length must match'\n",
    "    assert inters[0] == 0 and inters[-1]==24, 'Intervals list must start at 0 and end at 24'\n",
    "    for i in range(len(inters) - 1):\n",
    "        if h >= inters[i] and h < inters[i+1]:\n",
    "            return categories[i]\n",
    "        \n",
    "def plot_intervals(hours_count, inters=range(0,25,4), col_name='hour'):\n",
    "    \"\"\"A radarplot with the hours divided into intervals\n",
    "    :hours_count: a dataframe where index is the hours\n",
    "    :inters: a sorted list of hours breakpoints, starting at 1 and ending at 24\n",
    "    :col_name: the column of which the values have to be plotted\n",
    "    \"\"\"\n",
    "    I = pd.CategoricalDtype(categories= [f\"{inters[i]}:00->{inters[i+1]-1}:59\" for i in range(len(inters)-1)], ordered=True)\n",
    "    hours_count['intervals'] = hours_count.index.to_series().apply(\n",
    "        lambda h :inter(h, inters, I.categories)\n",
    "    ).astype(I)\n",
    "    clock_graph(hours_count.groupby(by='intervals').sum()[col_name])"
   ]
  },
  {
   "cell_type": "markdown",
   "id": "977b7f46",
   "metadata": {},
   "source": [
    "#### $\\bullet$ Use the function that you created in the previous literal to plot the number of posts between the following time intervals:\n",
    "\n",
    "| Initial time | Final time |\n",
    "|---|---|\n",
    "| 06:00:00 | 10:59:59 |\n",
    "| 11:00:00 | 13:59:59 |\n",
    "| 14:00:00 | 16:59:59 |\n",
    "| 17:00:00 | 19:59:59 |\n",
    "| 20:00:00 | 23:59:59 |\n",
    "| 00:00:00 | 02:59:59 |\n",
    "| 03:00:00 | 05:59:59 |"
   ]
  },
  {
   "cell_type": "code",
   "execution_count": null,
   "id": "e93896e0",
   "metadata": {
    "execution": {
     "iopub.execute_input": "2022-10-24T20:50:29.699693Z",
     "iopub.status.busy": "2022-10-24T20:50:29.698754Z",
     "iopub.status.idle": "2022-10-24T20:50:30.245618Z",
     "shell.execute_reply": "2022-10-24T20:50:30.243912Z",
     "shell.execute_reply.started": "2022-10-24T20:50:29.699644Z"
    },
    "trusted": true
   },
   "outputs": [
    {
     "data": {
      "image/png": "[encoded data removed]",
      "text/plain": [
       "<Figure size 432x288 with 1 Axes>"
      ]
     },
     "metadata": {},
     "output_type": "display_data"
    }
   ],
   "source": [
    "INTERVALS = [0,3,6,11,14,17,20,24]\n",
    "plot_intervals(hours, INTERVALS)"
   ]
  },
  {
   "cell_type": "code",
   "execution_count": null,
   "id": "71fe58bb",
   "metadata": {},
   "outputs": [],
   "source": [
    "del time\n",
    "del hours"
   ]
  },
  {
   "cell_type": "markdown",
   "id": "9a448e1a-9cfa-4c08-8fec-d75d0edf7c9e",
   "metadata": {},
   "source": [
    "***\n",
    "\n",
    "### 4. __[RQ4] In most cases, we will not have a consistent dataset, and the one we are dealing with is not an exception (ex. in the given datasets, you may not find the information of the profiles for some of the posts). So let’s enhance our analysis.__\n",
    "\n",
    "***"
   ]
  },
  {
   "cell_type": "markdown",
   "id": "00739d26-f766-4ae9-89b2-c5e3d0d1c70a",
   "metadata": {},
   "source": [
    "#### $\\bullet$ Write a function that, given a profile_id, will be able to return the posts that belong to the given profile_id."
   ]
  },
  {
   "cell_type": "code",
   "execution_count": null,
   "id": "fef0af37-0fba-4470-8074-ee168693b66e",
   "metadata": {},
   "outputs": [],
   "source": []
  },
  {
   "cell_type": "markdown",
   "id": "528b8e59-690a-4b2b-9238-b15d2b9abb75",
   "metadata": {},
   "source": [
    "#### $\\bullet$ Write another function that, given an input n (an integer), will return the posts that belong to the n top posted profiles (top n profiles that have posted the highest number of posts) that their data is available in the profile.csv using the previously written function."
   ]
  },
  {
   "cell_type": "code",
   "execution_count": null,
   "id": "bb4dd6e5-3a7d-4da9-8cc3-ee1fd79651be",
   "metadata": {},
   "outputs": [],
   "source": []
  },
  {
   "cell_type": "markdown",
   "id": "0e1c4833-aa87-4230-8449-a8752fbc31bc",
   "metadata": {},
   "source": [
    "#### $\\bullet$ What is the average number of \"likes\" and comments of the top 10 profiles with the highest number of posts which their information is available in profile.csv?"
   ]
  },
  {
   "cell_type": "code",
   "execution_count": null,
   "id": "3080f46f-8982-4c54-9b6c-9247ec204612",
   "metadata": {},
   "outputs": [],
   "source": []
  },
  {
   "cell_type": "markdown",
   "id": "fb089129-4955-4206-b75c-95bcff2cb3b4",
   "metadata": {},
   "source": [
    "#### $\\bullet$ Plot the number of posts that these top 10 profiles have sent on Instagram in the given interval in question RQ3. Interpret the resulting chart."
   ]
  },
  {
   "cell_type": "code",
   "execution_count": null,
   "id": "3533f401-96d2-4bad-bb59-5e3c1fd1e1d6",
   "metadata": {},
   "outputs": [],
   "source": []
  },
  {
   "cell_type": "markdown",
   "id": "ceb965c7-9dc4-4acf-9bb1-8a526875c76c",
   "metadata": {},
   "source": [
    "***\n",
    "\n",
    "### 5. __[RQ5] The most influential users are the ones with the highest number of “followers\", you can now look more into their activity.__\n",
    "\n",
    "***"
   ]
  },
  {
   "cell_type": "markdown",
   "id": "0d8492cd-250f-4f77-aec4-286f4defd079",
   "metadata": {},
   "source": [
    "#### $\\bullet$ Plot the top 10 most popular users in terms of followers and their number of posts."
   ]
  },
  {
   "cell_type": "code",
   "execution_count": null,
   "id": "72619d3f-392b-46e0-bc46-ead1a756d0b0",
   "metadata": {},
   "outputs": [],
   "source": []
  },
  {
   "cell_type": "markdown",
   "id": "fdafba41-caee-4f42-a89c-1dd5c59c205c",
   "metadata": {},
   "source": [
    "#### $\\bullet$ Who is the most influential user?"
   ]
  },
  {
   "cell_type": "code",
   "execution_count": null,
   "id": "b651f721-e48c-43c5-987f-577760ff10c9",
   "metadata": {},
   "outputs": [],
   "source": []
  },
  {
   "cell_type": "markdown",
   "id": "9a46826f-f66d-4573-8890-1c5cda5508b7",
   "metadata": {},
   "source": [
    "#### $\\bullet$ Have they posted anything with tagged locations? Extract the most frequent areas on their posts and plot the number of times each city has been visited."
   ]
  },
  {
   "cell_type": "code",
   "execution_count": null,
   "id": "300c50ef-a374-4a45-b818-fe7aac16f418",
   "metadata": {},
   "outputs": [],
   "source": []
  },
  {
   "cell_type": "markdown",
   "id": "522a6ca5-f015-4745-995b-3d26bcf98655",
   "metadata": {},
   "source": [
    "#### $\\bullet$ How many pictures-only posts have they published? How many reels? (only videos) and how many with both contents? Provide the number as percentages and interpret those figures."
   ]
  },
  {
   "cell_type": "code",
   "execution_count": null,
   "id": "28512909-04fc-497a-a5a6-4c6c02b69709",
   "metadata": {},
   "outputs": [],
   "source": []
  },
  {
   "cell_type": "markdown",
   "id": "de51d658-edf1-43cf-8068-b1a9051ed01d",
   "metadata": {},
   "source": [
    "#### $\\bullet$ How many \"likes\" and comments did posts with only pictures receive? How about videos and mixed posts? Try to provide the average numbers and confront them with their followers amount, explaining what you can say from that comparison."
   ]
  },
  {
   "cell_type": "code",
   "execution_count": null,
   "id": "4ddf200a-21c6-4d52-aec8-aae2a8eb1b3d",
   "metadata": {},
   "outputs": [],
   "source": []
  },
  {
   "cell_type": "markdown",
   "id": "0aaad3c9-6b4c-4ebb-8bc6-4f2290ca0227",
   "metadata": {},
   "source": [
    "### 6. __[RQ6] It's time to get information from the user posting effectiveness.__"
   ]
  },
  {
   "cell_type": "markdown",
   "id": "fc2e9f1c-7708-461c-9bbb-dd5abc0c2e8b",
   "metadata": {},
   "source": [
    "#### What is the average time (days and minutes) a user lets pass before publishing another post? Plot the top 3 users that publish posts more frequently (calculate the average time that passes between posts), including their amount of followers and following. Provide insights from that chart."
   ]
  },
  {
   "cell_type": "code",
   "execution_count": null,
   "id": "d79f11b9",
   "metadata": {
    "execution": {
     "iopub.execute_input": "2022-10-24T18:51:51.584031Z",
     "iopub.status.busy": "2022-10-24T18:51:51.582929Z",
     "iopub.status.idle": "2022-10-24T19:15:48.019783Z",
     "shell.execute_reply": "2022-10-24T19:15:48.018482Z",
     "shell.execute_reply.started": "2022-10-24T18:51:51.583986Z"
    },
    "trusted": true
   },
   "outputs": [
    {
     "data": {
      "text/html": [
       "<div>\n",
       "<style scoped>\n",
       "    .dataframe tbody tr th:only-of-type {\n",
       "        vertical-align: middle;\n",
       "    }\n",
       "\n",
       "    .dataframe tbody tr th {\n",
       "        vertical-align: top;\n",
       "    }\n",
       "\n",
       "    .dataframe thead th {\n",
       "        text-align: right;\n",
       "    }\n",
       "</style>\n",
       "<table border=\"1\" class=\"dataframe\">\n",
       "  <thead>\n",
       "    <tr style=\"text-align: right;\">\n",
       "      <th></th>\n",
       "      <th></th>\n",
       "      <th>drift</th>\n",
       "      <th>count</th>\n",
       "    </tr>\n",
       "    <tr>\n",
       "      <th>profile_id</th>\n",
       "      <th>sid_profile</th>\n",
       "      <th></th>\n",
       "      <th></th>\n",
       "    </tr>\n",
       "  </thead>\n",
       "  <tbody>\n",
       "    <tr>\n",
       "      <th>2237947779</th>\n",
       "      <th>3496776</th>\n",
       "      <td>17 days 10:03:56.027027</td>\n",
       "      <td>38</td>\n",
       "    </tr>\n",
       "    <tr>\n",
       "      <th>35673872</th>\n",
       "      <th>-1</th>\n",
       "      <td>422 days 15:35:51.500000</td>\n",
       "      <td>3</td>\n",
       "    </tr>\n",
       "    <tr>\n",
       "      <th>329994</th>\n",
       "      <th>-1</th>\n",
       "      <td>742 days 06:59:28</td>\n",
       "      <td>2</td>\n",
       "    </tr>\n",
       "    <tr>\n",
       "      <th>11771599</th>\n",
       "      <th>3303402</th>\n",
       "      <td>79 days 09:58:46.133333</td>\n",
       "      <td>16</td>\n",
       "    </tr>\n",
       "    <tr>\n",
       "      <th>42762751</th>\n",
       "      <th>-1</th>\n",
       "      <td>16 days 08:05:54.333333</td>\n",
       "      <td>4</td>\n",
       "    </tr>\n",
       "  </tbody>\n",
       "</table>\n",
       "</div>"
      ],
      "text/plain": [
       "                                          drift  count\n",
       "profile_id sid_profile                                \n",
       "2237947779 3496776      17 days 10:03:56.027027     38\n",
       "35673872   -1          422 days 15:35:51.500000      3\n",
       "329994     -1                 742 days 06:59:28      2\n",
       "11771599   3303402      79 days 09:58:46.133333     16\n",
       "42762751   -1           16 days 08:05:54.333333      4"
      ]
     },
     "metadata": {},
     "output_type": "display_data"
    }
   ],
   "source": [
    "# TODO maybe it's better to load \n",
    "    # 'sid_profile' since it's of int type and can be connected to profiles table\n",
    "    # 'profile_id' since it includes all profiles id (less null?) and otherwise most of the values get smashed into -1\n",
    "drift = lambda g: (g.max() - g.min()) / (g.count()-1) if g.shape[0] > 1 else pd.NA\n",
    "\n",
    "post_time = posts\\\n",
    "                .col(['profile_id','sid_profile','cts'], index=None)\\\n",
    "                .groupby(by=['profile_id','sid_profile'], sort=False, dropna=True)\\\n",
    "                .aggregate(\n",
    "                        drift=pd.NamedAgg(column=\"cts\", aggfunc=drift),\n",
    "                        count=pd.NamedAgg(column=\"cts\", aggfunc=\"count\"))\\\n",
    "                .dropna()\n",
    "post_time = post_time[post_time.index != -1]\n",
    "post_time['drift'] = post_time['drift'].astype('timedelta64[ns]')\n",
    "post_time.head()"
   ]
  },
  {
   "cell_type": "markdown",
   "id": "fa40eb2a",
   "metadata": {},
   "source": [
    "We want to note that this kind of metric, as taken by itself alone, has **little or no value** since it doesn't take in account the number of posts, and it's not robust at all.\n",
    "\n",
    "For example it could happen that people that have posted only a couple of times in a small interval of time are labeled as the most frequent post publishers."
   ]
  },
  {
   "cell_type": "code",
   "execution_count": null,
   "id": "b5c8758b",
   "metadata": {
    "execution": {
     "iopub.execute_input": "2022-10-24T20:20:02.762399Z",
     "iopub.status.busy": "2022-10-24T20:20:02.761618Z",
     "iopub.status.idle": "2022-10-24T20:20:20.760565Z",
     "shell.execute_reply": "2022-10-24T20:20:20.759305Z",
     "shell.execute_reply.started": "2022-10-24T20:20:02.762355Z"
    },
    "trusted": true
   },
   "outputs": [
    {
     "data": {
      "text/html": [
       "<div>\n",
       "<style scoped>\n",
       "    .dataframe tbody tr th:only-of-type {\n",
       "        vertical-align: middle;\n",
       "    }\n",
       "\n",
       "    .dataframe tbody tr th {\n",
       "        vertical-align: top;\n",
       "    }\n",
       "\n",
       "    .dataframe thead th {\n",
       "        text-align: right;\n",
       "    }\n",
       "</style>\n",
       "<table border=\"1\" class=\"dataframe\">\n",
       "  <thead>\n",
       "    <tr style=\"text-align: right;\">\n",
       "      <th></th>\n",
       "      <th>drift</th>\n",
       "      <th>count</th>\n",
       "      <th>following</th>\n",
       "      <th>followers</th>\n",
       "    </tr>\n",
       "  </thead>\n",
       "  <tbody>\n",
       "    <tr>\n",
       "      <th>3403295</th>\n",
       "      <td>0 days 00:11:51.176470</td>\n",
       "      <td>18</td>\n",
       "      <td>2</td>\n",
       "      <td>59</td>\n",
       "    </tr>\n",
       "    <tr>\n",
       "      <th>3532530</th>\n",
       "      <td>0 days 00:14:15.800000</td>\n",
       "      <td>16</td>\n",
       "      <td>90</td>\n",
       "      <td>62</td>\n",
       "    </tr>\n",
       "    <tr>\n",
       "      <th>3596504</th>\n",
       "      <td>0 days 00:14:35.066666</td>\n",
       "      <td>16</td>\n",
       "      <td>185</td>\n",
       "      <td>143</td>\n",
       "    </tr>\n",
       "  </tbody>\n",
       "</table>\n",
       "</div>"
      ],
      "text/plain": [
       "                         drift  count  following  followers\n",
       "3403295 0 days 00:11:51.176470     18          2         59\n",
       "3532530 0 days 00:14:15.800000     16         90         62\n",
       "3596504 0 days 00:14:35.066666     16        185        143"
      ]
     },
     "metadata": {},
     "output_type": "display_data"
    }
   ],
   "source": [
    "N3 = 3 # 100\n",
    "post_time = post_time[\n",
    "    (post_time.index.get_level_values('sid_profile') != -1) &\\\n",
    "    (post_time['drift'] > pd.Timedelta(minutes=1)) # if a post occurs before in under 1 minute from another post is probably a double counting issue or repost \n",
    "]\n",
    "top3 =  post_time.nsmallest(N3*10, columns=['drift'])\n",
    "\n",
    "top3 = pd.concat([\n",
    "    top3.droplevel('profile_id'),\n",
    "    profiles.col(['followers', 'following'], index=True).dropna()\n",
    "], axis=1, join='inner')\n",
    "top3.head(N3)"
   ]
  },
  {
   "cell_type": "markdown",
   "id": "b1154ebe",
   "metadata": {},
   "source": [
    "Here I plot on a graph the first 3 top frequency post publishers (excluding those that do not have a following/followers infos)\n",
    "\n",
    "I honestly do not get any insight from this graph because:\n",
    "- 3 isn't enough to get any useful insights\n",
    "- this frequency measure we're taking in is not robust at all, and shouldn't be considered into account (for the aforementioned reasons)\n",
    "- even when plotting much more points, the plot doesn't show any correlation between drift and the other two features\n",
    "- some of the elements have $T = 0$, meaning that it may have happened that some posts have been posted in the exact same moment by the same account $frequency = \\frac{1}{T} = \\infty$"
   ]
  },
  {
   "cell_type": "code",
   "execution_count": null,
   "id": "9834fd28",
   "metadata": {
    "execution": {
     "iopub.execute_input": "2022-10-24T20:21:24.880555Z",
     "iopub.status.busy": "2022-10-24T20:21:24.879414Z",
     "iopub.status.idle": "2022-10-24T20:21:25.306088Z",
     "shell.execute_reply": "2022-10-24T20:21:25.304779Z",
     "shell.execute_reply.started": "2022-10-24T20:21:24.880499Z"
    },
    "trusted": true
   },
   "outputs": [
    {
     "data": {
      "image/png": "[encoded data removed]",
      "text/plain": [
       "<Figure size 432x288 with 1 Axes>"
      ]
     },
     "metadata": {},
     "output_type": "display_data"
    }
   ],
   "source": [
    "ax = sns.scatterplot(data=top3.iloc[:N3],\n",
    "                x=\"following\", \n",
    "                y=\"followers\", \n",
    "                size=3600/top3['drift'].dt.total_seconds(), \n",
    "                sizes=(10,1000),\n",
    "                palette=\"pastel\")\n",
    "ax.legend(title='Avg # posts per hour')\n",
    "ax.set_yscale('log')\n",
    "plt.show()"
   ]
  },
  {
   "cell_type": "code",
   "execution_count": null,
   "id": "e41dd049",
   "metadata": {
    "execution": {
     "iopub.execute_input": "2022-10-24T20:27:53.763220Z",
     "iopub.status.busy": "2022-10-24T20:27:53.761933Z",
     "iopub.status.idle": "2022-10-24T20:27:53.768402Z",
     "shell.execute_reply": "2022-10-24T20:27:53.767229Z",
     "shell.execute_reply.started": "2022-10-24T20:27:53.763168Z"
    },
    "trusted": true
   },
   "outputs": [],
   "source": [
    "del top3 \n",
    "del post_time"
   ]
  },
  {
   "cell_type": "markdown",
   "id": "e2b92fd6",
   "metadata": {},
   "source": [
    "#### Using the function you previously coded, plot the time intervals with the highest average number of “likes” and the ones with the highest average number of comments on posts."
   ]
  },
  {
   "cell_type": "code",
   "execution_count": null,
   "id": "6321db50",
   "metadata": {
    "execution": {
     "iopub.execute_input": "2022-10-24T18:45:36.547079Z",
     "iopub.status.busy": "2022-10-24T18:45:36.546693Z",
     "iopub.status.idle": "2022-10-24T18:51:05.898810Z",
     "shell.execute_reply": "2022-10-24T18:51:05.896621Z",
     "shell.execute_reply.started": "2022-10-24T18:45:36.547045Z"
    },
    "trusted": true
   },
   "outputs": [],
   "source": [
    "likes_time = posts.col(['numbr_likes', 'number_comments', 'cts'], index=False)\n",
    "likes_time['hour'] = likes_time['cts'].dt.hour\n",
    "likes_time.drop('cts', inplace=True, axis=1)"
   ]
  },
  {
   "cell_type": "code",
   "execution_count": null,
   "id": "1691447d",
   "metadata": {
    "execution": {
     "iopub.execute_input": "2022-10-24T18:51:05.902066Z",
     "iopub.status.busy": "2022-10-24T18:51:05.901539Z",
     "iopub.status.idle": "2022-10-24T18:51:08.160463Z",
     "shell.execute_reply": "2022-10-24T18:51:08.158430Z",
     "shell.execute_reply.started": "2022-10-24T18:51:05.902027Z"
    },
    "trusted": true
   },
   "outputs": [
    {
     "data": {
      "image/png": "[encoded data removed]",
      "text/plain": [
       "<Figure size 432x288 with 1 Axes>"
      ]
     },
     "metadata": {},
     "output_type": "display_data"
    }
   ],
   "source": [
    "plot_intervals(likes_time.groupby(by='hour').agg('mean'), INTERVALS, col_name='numbr_likes')"
   ]
  },
  {
   "cell_type": "code",
   "execution_count": null,
   "id": "e7a81643",
   "metadata": {
    "execution": {
     "iopub.execute_input": "2022-10-24T18:51:20.913169Z",
     "iopub.status.busy": "2022-10-24T18:51:20.912179Z",
     "iopub.status.idle": "2022-10-24T18:51:23.113068Z",
     "shell.execute_reply": "2022-10-24T18:51:23.111506Z",
     "shell.execute_reply.started": "2022-10-24T18:51:20.913131Z"
    },
    "trusted": true
   },
   "outputs": [
    {
     "data": {
      "image/png": "[encoded data removed]",
      "text/plain": [
       "<Figure size 432x288 with 1 Axes>"
      ]
     },
     "metadata": {},
     "output_type": "display_data"
    }
   ],
   "source": [
    "plot_intervals(likes_time.groupby(by='hour').agg('mean'), INTERVALS, col_name='number_comments')"
   ]
  },
  {
   "cell_type": "code",
   "execution_count": null,
   "id": "d48071f3",
   "metadata": {
    "execution": {
     "iopub.execute_input": "2022-10-24T18:51:31.345659Z",
     "iopub.status.busy": "2022-10-24T18:51:31.344897Z",
     "iopub.status.idle": "2022-10-24T18:51:31.368113Z",
     "shell.execute_reply": "2022-10-24T18:51:31.366725Z",
     "shell.execute_reply.started": "2022-10-24T18:51:31.345613Z"
    },
    "trusted": true
   },
   "outputs": [],
   "source": [
    "del likes_time"
   ]
  },
  {
   "cell_type": "markdown",
   "id": "d0c036eb-9180-4e15-89d2-dd3027adca47",
   "metadata": {},
   "source": [
    "#### 7. __[RQ7] Of course, calculating probabilities is a job that any Data Scientist must know. So let's compute some engaging figures__"
   ]
  },
  {
   "cell_type": "markdown",
   "id": "24739097-4f7b-4c3e-a37a-207e2f40466f",
   "metadata": {},
   "source": [
    "#### $\\bullet$ What's the probability that a post receives more than 20% \"likes\" of the number of followers a user has?"
   ]
  },
  {
   "cell_type": "code",
   "execution_count": null,
   "id": "96a95345-9fc1-47f2-9549-72c0ba4db140",
   "metadata": {},
   "outputs": [],
   "source": []
  },
  {
   "cell_type": "markdown",
   "id": "5db0abf2-dfd0-487e-b32d-e10c463da0e9",
   "metadata": {},
   "source": [
    "#### $\\bullet$ Do users usually return to locations? Extract the probability that a user returns to a site after having posted it in the past. Does that probability make sense to you? Explain why or why not."
   ]
  },
  {
   "cell_type": "code",
   "execution_count": null,
   "id": "b6252a45-ba84-4e61-9947-070bb70174b3",
   "metadata": {},
   "outputs": [],
   "source": []
  },
  {
   "cell_type": "markdown",
   "id": "463a0b40-f5bb-4c92-bd72-8c6d090f3185",
   "metadata": {},
   "source": [
    "### 8. __[RQ8] Every decision you take in a data-based environment should be reinforced with charts, statistical tests and analysis methods to check whether a hypothesis is correct or not.__"
   ]
  },
  {
   "cell_type": "markdown",
   "id": "0a71fb9b-160c-4dc6-b0ba-b66a0ac8437c",
   "metadata": {},
   "source": [
    "#### $\\bullet$ Does more “likes” also mean more comments? Plot a scatter plot of “likes” vs comments for posts."
   ]
  },
  {
   "cell_type": "code",
   "execution_count": null,
   "id": "7639a6d6-1d75-4150-bfad-adb8e9f0f05a",
   "metadata": {},
   "outputs": [],
   "source": []
  },
  {
   "cell_type": "markdown",
   "id": "40310e45-d5bd-41c6-b636-94b92da5b643",
   "metadata": {},
   "source": [
    "#### $\\bullet$ Can you find any significant relationship between the time a user publishes a post and the number of comments and “likes”? Use an appropriate statistical test or technique and support your choice."
   ]
  },
  {
   "cell_type": "code",
   "execution_count": null,
   "id": "053f6098-984b-43ab-9e24-49b6c20eab97",
   "metadata": {},
   "outputs": [],
   "source": []
  },
  {
   "cell_type": "markdown",
   "id": "8e223b91-bc79-495d-a847-196d99fc1671",
   "metadata": {},
   "source": [
    "#### $\\bullet$ What’s the distribution of followers? Plot the empirical distribution of followers amongst all users and extract the mean, mode, and quantiles. Interpret those figures."
   ]
  },
  {
   "cell_type": "code",
   "execution_count": null,
   "id": "a64771ea-f81a-4649-b83e-e6c49bafc94e",
   "metadata": {},
   "outputs": [],
   "source": []
  },
  {
   "cell_type": "markdown",
   "id": "31b93b48-c436-499c-b535-475afed90788",
   "metadata": {},
   "source": [
    "#### $\\bullet$ What are histograms, bar plots, scatterplots and pie charts used for?"
   ]
  },
  {
   "cell_type": "code",
   "execution_count": null,
   "id": "28949f3d-51fd-485e-878f-62f52f628bd2",
   "metadata": {},
   "outputs": [],
   "source": []
  },
  {
   "cell_type": "markdown",
   "id": "492dbcdf-64e0-4f76-af0a-4e8b5c2836a6",
   "metadata": {},
   "source": [
    "#### $\\bullet$ What insights can you extract from a Box Plot?"
   ]
  },
  {
   "cell_type": "code",
   "execution_count": null,
   "id": "16341dff-c121-45fe-9fc8-0e1a51ce4f2e",
   "metadata": {},
   "outputs": [],
   "source": []
  },
  {
   "cell_type": "markdown",
   "id": "495ae649-925f-4b94-aa6f-70bbccc6b85b",
   "metadata": {},
   "source": [
    "***\n",
    "\n",
    "## __Bonus points__\n",
    "\n",
    "***"
   ]
  },
  {
   "cell_type": "markdown",
   "id": "1bc6a434-ace6-4f7b-92b2-3814cf25dbf7",
   "metadata": {},
   "source": [
    "#### Up to this point, you probably have worked with one or two files simultaneously. Nevertheless, for the literals a. and b. of this section, you must work with the three datasets at the same time. Note that performing some of these operations might be too complex for your pc specs. For this reason, we suggest you make use of AWS (yeah! only a suggestion). In case you need it, in the following links you can find the same three files already mounted into AWS for you to work with them easily (instagram_posts, instagram_profiles, instagram_locations)."
   ]
  },
  {
   "cell_type": "markdown",
   "id": "0dcaf23a-7dc2-4869-81c4-41cb39e397ee",
   "metadata": {},
   "source": [
    "#### a. Sort the users in terms of number of followers and divide them into two groups: for the first group, take only the top 10% regarding \"followers\", and for the second one, take the rest. Now compare the mean of time intervals between posts for the two categories. Do you notice something relevant?"
   ]
  },
  {
   "cell_type": "code",
   "execution_count": null,
   "id": "11273e83-b82d-4c20-a52b-1deba1806d2f",
   "metadata": {},
   "outputs": [],
   "source": []
  },
  {
   "cell_type": "markdown",
   "id": "d3172591-cdaa-4d13-a535-9cf8865e2063",
   "metadata": {},
   "source": [
    "#### b. Assume users publish their posts the same day pictures or videos are taken: Are there users that have visited the same location on the same day? How about the same week? Extract the results and explain them."
   ]
  },
  {
   "cell_type": "code",
   "execution_count": null,
   "id": "ba066583-6169-4b83-8a64-2fc1fc6da834",
   "metadata": {},
   "outputs": [],
   "source": []
  },
  {
   "cell_type": "markdown",
   "id": "3df7497f-53c7-43e2-82b9-13e071187152",
   "metadata": {},
   "source": [
    "#### c. Implement a text data analysis (also known as text mining) of the field \"description\" from instagram_posts.csv for descriptions written in English. Use appropriate visualizations and statistics to highlight the words (and probably the topics) provided for the users in that field."
   ]
  },
  {
   "cell_type": "code",
   "execution_count": null,
   "id": "78af9e57-dc50-4909-8644-b27d32622b92",
   "metadata": {},
   "outputs": [],
   "source": []
  },
  {
   "cell_type": "markdown",
   "id": "68c92592-301f-4e76-a5ec-b5d23ca92294",
   "metadata": {},
   "source": [
    "***\n",
    "\n",
    "## __Command Line Question__\n",
    "\n",
    "***"
   ]
  },
  {
   "cell_type": "markdown",
   "id": "37f3beb1-a6d9-4442-8f65-64e027876045",
   "metadata": {},
   "source": [
    "#### Using the command line is a feature that Data Scientists must master. It is relevant since the operations there require less memory to use in comparison to other interfaces. It also does not use as much CPU processing time as other interfaces. In addition, it can be faster and more efficient and handle repetitive tasks quickly."
   ]
  },
  {
   "cell_type": "markdown",
   "id": "8e5f517d-5ffb-4751-98cb-504e807331d0",
   "metadata": {},
   "source": [
    "#### In this question, you should use command line tools such as grep and possibly other commands to answer the following question:"
   ]
  },
  {
   "cell_type": "markdown",
   "id": "3a72e380-c6b3-4859-9579-324ad633c90d",
   "metadata": {},
   "source": [
    "#### $\\bullet$ Using the instagram_posts.csv, retrieve the first ten posts with descriptions longer than 100 characters and output the profiles that posted them. (Please keep in mind that the profile associated with some of those posts may not be found in the profiles. You can simply output User was not found! for those posts.)"
   ]
  },
  {
   "cell_type": "markdown",
   "id": "12d12183-a04c-43cb-9390-79e95fbbddc0",
   "metadata": {},
   "source": [
    "#### Note: You may work on this question in any environment (AWS, your PC command line, Jupyter notebook, etc.), but the final script must be placed in CommandLine.sh, which must be executable."
   ]
  },
  {
   "cell_type": "code",
   "execution_count": null,
   "id": "64c5290f-6d40-461c-bd0f-13fa77c81646",
   "metadata": {},
   "outputs": [],
   "source": []
  },
  {
   "cell_type": "markdown",
   "id": "8f13b985-cc40-448a-8b65-12b4829924e6",
   "metadata": {},
   "source": [
    "***\n",
    "\n",
    "## __Algorithmic Question__\n",
    "\n",
    "***"
   ]
  },
  {
   "cell_type": "markdown",
   "id": "446322f6-bfcd-4f90-a1df-a49b7123b836",
   "metadata": {},
   "source": [
    "### 1. __[AQ1] Given the following pseudocode, answer the questions:__"
   ]
  },
  {
   "cell_type": "markdown",
   "id": "1c85f831-92c2-4754-93a9-5200db7e6f87",
   "metadata": {},
   "source": [
    "Input:\n",
    "       N : an integer\n",
    "       List : array of characters of leng\n",
    "   function f1(sequence, end):\n",
    "       For i=0 To end:\n",
    "           OUTPUT sequence[i]\n",
    "       EndFor\n",
    "Output \"\\n\"\n",
    "   function f2(sequence, start, end):\n",
    "       If start = end:\n",
    "           f1(sequence, end)\n",
    "       Else\n",
    "           For i=start To end:\n",
    "               temp <-- sequence[start]\n",
    "               sequence[start] <-- sequen\n",
    "               sequence[i] <-- temp\n",
    "               f2(sequence, start+1, end)\n",
    "               temp <-- sequence[start]\n",
    "               sequence[start] <-- sequen\n",
    "               sequence[i] <-- temp\n",
    "   f2(List, 0, N)"
   ]
  },
  {
   "cell_type": "markdown",
   "id": "086bc88e-4baf-45ce-8256-8aa8a45fc427",
   "metadata": {},
   "source": [
    "#### $\\bullet$ What is the output of this algorithm? Describe the mechanism of the algorithm in detail . We do not want to know only its final result. (Describe one example on your own)"
   ]
  },
  {
   "cell_type": "code",
   "execution_count": null,
   "id": "5850ed95-b073-4885-8c8b-c0db509f66bb",
   "metadata": {},
   "outputs": [],
   "source": []
  },
  {
   "cell_type": "markdown",
   "id": "b9ad3526-4c54-41ff-9957-12a64c9c00ea",
   "metadata": {},
   "source": [
    "#### $\\bullet$ What is asymptotically (i.e., we are asking for big-O complexity) the algorithm's running time as a function of N?"
   ]
  },
  {
   "cell_type": "code",
   "execution_count": null,
   "id": "398d7a8c-d870-421d-a9a9-b1c01c062af0",
   "metadata": {},
   "outputs": [],
   "source": []
  },
  {
   "cell_type": "markdown",
   "id": "c3cd83ed-a2d7-497e-bc47-88004b980711",
   "metadata": {},
   "source": [
    "#### $\\bullet$ Is this algorithm the optimal one to produce this output? If not, can you suggest a better algorithm to perform the same task?"
   ]
  },
  {
   "cell_type": "code",
   "execution_count": null,
   "id": "4a248ccd-0563-4c50-b353-7ecfe8b51a0f",
   "metadata": {},
   "outputs": [],
   "source": []
  },
  {
   "cell_type": "markdown",
   "id": "667e36fd-8baf-43f4-be01-0c9f20a4882a",
   "metadata": {},
   "source": [
    "### 3. __[AQ2] Considering the following problem, answer the questions:__"
   ]
  },
  {
   "cell_type": "markdown",
   "id": "b68a2f97-59c3-4206-bacb-e77cae2c075e",
   "metadata": {},
   "source": [
    "#### Alex has a ribbon of length N. He wants to cut the ribbon in a way that fulfils the following __three__ conditions:\n",
    "- Each piece of the cut should have an integer length\n",
    "- He should at least cut the ribbon once\n",
    "- The __multiplication__ of the length of all the pieces be the maximum possible"
   ]
  },
  {
   "cell_type": "markdown",
   "id": "dc688541-7904-462e-9414-cfe2cffdad40",
   "metadata": {},
   "source": [
    "#### 1. Implement a __recursive algorithm__ to help Alex find the maximum possible value after multiplying the length of the pieces. Explain your algorithm in detail."
   ]
  },
  {
   "cell_type": "code",
   "execution_count": null,
   "id": "1a03dbe1-bcde-45ef-80af-e711e3074f15",
   "metadata": {},
   "outputs": [
    {
     "data": {
      "text/plain": [
       "19683"
      ]
     },
     "metadata": {},
     "output_type": "display_data"
    }
   ],
   "source": [
    "def ribbon_cut_exp(N):\n",
    "    if N <= 2:\n",
    "        return 1\n",
    "    l = [N]\n",
    "    for i in range(1,N//2+1):\n",
    "        l.append(max(i, ribbon_cut_exp(i)) * max(N-i, ribbon_cut_exp(N-i)))\n",
    "    return max(l)\n",
    "                            \n",
    "ribbon_cut_exp(27)"
   ]
  },
  {
   "cell_type": "markdown",
   "id": "f7e5c4e9-334d-4a0c-9ad3-491114adc5e3",
   "metadata": {},
   "source": [
    "#### 2. Show that the algorithm has exponential running time."
   ]
  },
  {
   "cell_type": "markdown",
   "id": "44c294ec-afc4-4ccb-ad43-4494b6fb53a3",
   "metadata": {},
   "source": [
    "When the function is called with a certain parameter $N$ the func calls $N-1$ other instances of itself with parameters $\\{n | n \\in (1,N-1)\\}$. Each function has $O(n)$ complexity, since it finds the maximum in an array of length $n/2$.\n",
    "\n",
    "So the number of executions is\n",
    "$$\n",
    "    (N-2) + 2^1(N-3) + 2^2(N-4) + 2^3(N-5) + ... + 2^N 1 = O(2^N) \n",
    "$$"
   ]
  },
  {
   "cell_type": "markdown",
   "id": "185bd5c8-0ebd-4da2-a076-79922e9d64b5",
   "metadata": {},
   "source": [
    "#### 3. Now provide a polynomial solution, based on __dynamic programming__, and compute its running-time complexity."
   ]
  },
  {
   "cell_type": "code",
   "execution_count": null,
   "id": "154821ae-3926-49cc-bbc6-7430364e1df5",
   "metadata": {},
   "outputs": [
    {
     "data": {
      "text/plain": [
       "81"
      ]
     },
     "metadata": {},
     "output_type": "display_data"
    }
   ],
   "source": [
    "def ribbon_cut_poly(N):\n",
    "    if N <= 2:\n",
    "        return 1\n",
    "    cuts = [1,2]\n",
    "    for x in range(3,N+1):\n",
    "        l = [x]\n",
    "        for i in range(1,x//2+1):\n",
    "            l.append(max(i, cuts[i-1]) * max(x-i, cuts[x-i-1]))\n",
    "        cuts.append(max(l))\n",
    "    # print(cuts)\n",
    "    return cuts[N-1]\n",
    "    \n",
    "ribbon_cut_poly(12)"
   ]
  },
  {
   "cell_type": "markdown",
   "id": "c91010e1-962b-48e6-a633-7753dab6c421",
   "metadata": {},
   "source": [
    "At the $j^{th}$ iteration of the outer loop, it iterates $j/2$ times in the inner loop. The inner loop computes some $O(1)$ operations and then appends at the result at a list ($O(1)$). At the end a search for the maximum is performed on an array of length $j/2$, complexity of this last operation is $O(j/2)$.\n",
    "At the end the total number of operations performed is:\n",
    "$$\n",
    "    1 + 2 + ... + (N-1) + N = \\frac{N (N-1)}{2} = O(N^2)\n",
    "$$"
   ]
  },
  {
   "cell_type": "markdown",
   "id": "de4111cb-62f7-485e-a465-61da71635712",
   "metadata": {},
   "source": [
    "#### 4. Evaluate the running time of your algorithm for the sizes (Ns) in the __range of [2, 25]__, plot the results, and interpret it (if you have implemented two algorithms, please include both in the plot and compare them)."
   ]
  },
  {
   "cell_type": "code",
   "execution_count": null,
   "id": "cab8bcc0-4789-4936-9871-d54b0d2a97aa",
   "metadata": {},
   "outputs": [
    {
     "name": "stdout",
     "output_type": "stream",
     "text": [
      "2th iteration\n",
      "3th iteration\n",
      "4th iteration\n",
      "5th iteration\n",
      "6th iteration\n",
      "7th iteration\n",
      "8th iteration\n",
      "9th iteration\n",
      "10th iteration\n",
      "11th iteration\n"
     ]
    }
   ],
   "source": [
    "from timeit import timeit\n",
    "\n",
    "performance = {\n",
    "    'time' : [],\n",
    "    'type' : [],\n",
    "    'N' : []\n",
    "}\n",
    "N_RANGE = 26\n",
    "for i in range(2,N_RANGE):\n",
    "    print(f\"{i}th iteration\")\n",
    "    performance['time'].append(timeit(lambda: ribbon_cut_poly(i), number = 10000) * 10**3)\n",
    "    performance['type'].append('poly')\n",
    "    performance['N'].append(i)\n",
    "    \n",
    "    performance['N'].append(i)\n",
    "    performance['time'].append(timeit(lambda: ribbon_cut_exp(i), number=1000) * 10**3)\n",
    "    performance['type'].append('exp')"
   ]
  },
  {
   "cell_type": "code",
   "execution_count": null,
   "id": "39cbdf3e-e54a-46de-8de1-a4f789bf9e02",
   "metadata": {},
   "outputs": [
    {
     "data": {
      "text/plain": [
       "<AxesSubplot: xlabel='N', ylabel='time'>"
      ]
     },
     "metadata": {},
     "output_type": "display_data"
    },
    {
     "data": {
      "image/png": "[encoded data removed]",
      "text/plain": [
       "<Figure size 640x480 with 1 Axes>"
      ]
     },
     "metadata": {},
     "output_type": "display_data"
    }
   ],
   "source": [
    "cut_performance = pd.DataFrame.from_dict(performance)\n",
    "sns.lineplot(data=cut_performance,x='N', y='time', hue='type', palette='pastel')"
   ]
  },
  {
   "cell_type": "markdown",
   "id": "50f8a5b1-9cd0-4cd2-b580-abbb5ab7bf31",
   "metadata": {},
   "source": [
    "#### 5. (Optional, mini bonus) Is the algorithm of question 3 __optimal__? If you belive it, can you prove it? If not, can you find a faster algorithm? In case you found a faster algorithm implement it and explain your algorithm in detail."
   ]
  },
  {
   "cell_type": "markdown",
   "id": "61808e32-35fd-495d-bf87-64a49b075b00",
   "metadata": {},
   "source": [
    "The algorithm is not optimal, because the answer can be easily computed by a constant function with complexity $O(1)$\n",
    "\n",
    "$\n",
    "f(x) = \n",
    "\\begin{cases} \n",
    "          x & 0 < x \\leq 2 \\\\\n",
    "          3^{\\frac{x}{3}} & x \\mod{3} = 0 \\\\\n",
    "          2^2 \\cdot 3^{\\frac{(x-4)}{3}} & x \\mod{3} = 1\\\\\n",
    "          2 \\cdot 3^{\\frac{x-2}{3}} & x \\mod{3} = 2\n",
    "       \\end{cases}\n",
    "$\n"
   ]
  },
  {
   "cell_type": "code",
   "execution_count": null,
   "id": "69ca2afa-d663-4ad1-a7f7-2cd5573bf790",
   "metadata": {},
   "outputs": [
    {
     "data": {
      "text/plain": [
       "13122"
      ]
     },
     "metadata": {},
     "output_type": "display_data"
    }
   ],
   "source": [
    "def ribbon_cut_const(N):\n",
    "    if N <= 3:\n",
    "        return N\n",
    "    if N % 3 == 0:\n",
    "        return 3** (N // 3)\n",
    "    if N % 3 == 1:\n",
    "        return 4 * 3** ((N-4)//3)\n",
    "    if N % 3 == 2:\n",
    "        return 3**(N//3) * 2\n",
    "    \n",
    "ribbon_cut_const(26)"
   ]
  },
  {
   "cell_type": "code",
   "execution_count": null,
   "id": "2c974e55-b5b3-4212-881d-b752d93a0a55",
   "metadata": {},
   "outputs": [
    {
     "data": {
      "text/plain": [
       "<AxesSubplot: xlabel='N', ylabel='time'>"
      ]
     },
     "metadata": {},
     "output_type": "display_data"
    },
    {
     "data": {
      "image/png": "[encoded data removed]",
      "text/plain": [
       "<Figure size 640x480 with 1 Axes>"
      ]
     },
     "metadata": {},
     "output_type": "display_data"
    }
   ],
   "source": [
    "for i in range(1,N_RANGE):\n",
    "    performance['N'].append(i)\n",
    "    performance['time'].append(timeit(lambda: ribbon_cut_const(i), number=1000) * 10**3)\n",
    "    performance['type'].append('const')\n",
    "    \n",
    "cut_performance = pd.DataFrame.from_dict(performance)\n",
    "sns.lineplot(data=cut_performance,x='N', y='time', hue='type', palette='pastel')"
   ]
  }
 ],
 "metadata": {
  "kernelspec": {
   "display_name": "Python 3.10.8 64-bit (microsoft store)",
   "language": "python",
   "name": "python3"
  },
  "language_info": {
   "codemirror_mode": {
    "name": "ipython",
    "version": 3
   },
   "file_extension": ".py",
   "mimetype": "text/x-python",
   "name": "python",
   "nbconvert_exporter": "python",
   "pygments_lexer": "ipython3",
   "version": "3.10.8"
  },
  "vscode": {
   "interpreter": {
    "hash": "d0d9de1bd73e5057d6899d8fb9583eaa7e585bedee5ed3c304303aa57f28dd3f"
   }
  }
 },
 "nbformat": 4,
 "nbformat_minor": 5
}
