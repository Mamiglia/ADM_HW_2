{
 "cells": [
  {
   "cell_type": "markdown",
   "id": "04c21119-107a-4f2f-9355-272f1c45d165",
   "metadata": {},
   "source": [
    "# __Homework 2 - Instagram Profiles & Posts__"
   ]
  },
  {
   "cell_type": "code",
   "execution_count": 1,
   "id": "174027f2-01af-4e80-a15c-fbc75f32dba8",
   "metadata": {},
   "outputs": [
    {
     "data": {
      "text/html": [
       "<style type='text/css'>\n",
       ".datatable table.frame { margin-bottom: 0; }\n",
       ".datatable table.frame thead { border-bottom: none; }\n",
       ".datatable table.frame tr.coltypes td {  color: #FFFFFF;  line-height: 6px;  padding: 0 0.5em;}\n",
       ".datatable .bool    { background: #DDDD99; }\n",
       ".datatable .object  { background: #565656; }\n",
       ".datatable .int     { background: #5D9E5D; }\n",
       ".datatable .float   { background: #4040CC; }\n",
       ".datatable .str     { background: #CC4040; }\n",
       ".datatable .time    { background: #40CC40; }\n",
       ".datatable .row_index {  background: var(--jp-border-color3);  border-right: 1px solid var(--jp-border-color0);  color: var(--jp-ui-font-color3);  font-size: 9px;}\n",
       ".datatable .frame tbody td { text-align: left; }\n",
       ".datatable .frame tr.coltypes .row_index {  background: var(--jp-border-color0);}\n",
       ".datatable th:nth-child(2) { padding-left: 12px; }\n",
       ".datatable .hellipsis {  color: var(--jp-cell-editor-border-color);}\n",
       ".datatable .vellipsis {  background: var(--jp-layout-color0);  color: var(--jp-cell-editor-border-color);}\n",
       ".datatable .na {  color: var(--jp-cell-editor-border-color);  font-size: 80%;}\n",
       ".datatable .sp {  opacity: 0.25;}\n",
       ".datatable .footer { font-size: 9px; }\n",
       ".datatable .frame_dimensions {  background: var(--jp-border-color3);  border-top: 1px solid var(--jp-border-color0);  color: var(--jp-ui-font-color3);  display: inline-block;  opacity: 0.6;  padding: 1px 10px 1px 5px;}\n",
       "</style>\n"
      ],
      "text/plain": [
       "<IPython.core.display.HTML object>"
      ]
     },
     "metadata": {},
     "output_type": "display_data"
    }
   ],
   "source": [
    "import pandas as pd\n",
    "import seaborn as sns\n",
    "import numpy as np\n",
    "import random\n",
    "import datatable as dt # probably needed !pip install datatable\n",
    "import re\n",
    "import os\n",
    "import statistics\n",
    "from math import pi, floor, log10, ceil\n",
    "from scipy.stats.stats import pearsonr\n",
    "\n",
    "\n",
    "SAMPLE_SIZE = 10000\n",
    "\n",
    "%matplotlib inline\n",
    "import matplotlib.pyplot as plt\n",
    "# You can write up to 20GB to the current directory (/kaggle/working/) that gets preserved as output when you create a version using \"Save & Run All\" \n",
    "# You can also write temporary files to /kaggle/temp/, but they won't be saved outside of the current session"
   ]
  },
  {
   "cell_type": "code",
   "execution_count": 2,
   "id": "85655cb1-614d-4667-86bf-028feb1c475c",
   "metadata": {},
   "outputs": [
    {
     "name": "stdout",
     "output_type": "stream",
     "text": [
      "Requirement already satisfied: pyarrow in /Users/andrea/opt/anaconda3/lib/python3.9/site-packages (9.0.0)\n",
      "Requirement already satisfied: numpy>=1.16.6 in /Users/andrea/opt/anaconda3/lib/python3.9/site-packages (from pyarrow) (1.21.5)\n"
     ]
    }
   ],
   "source": [
    "!pip install pyarrow"
   ]
  },
  {
   "cell_type": "markdown",
   "id": "afc4cb26-a453-4ac6-8389-1c90db419de8",
   "metadata": {},
   "source": [
    "***\n",
    "\n",
    "## __Preprocessing__\n",
    "\n",
    "***"
   ]
  },
  {
   "cell_type": "code",
   "execution_count": 3,
   "id": "9bcfeeb6-ffb9-4589-a3ba-8239913fe710",
   "metadata": {},
   "outputs": [],
   "source": [
    "class Dataset:\n",
    "    def __init__(self, file:str):\n",
    "        self.file_name : str = file\n",
    "        self.types : dict = self.load_types()\n",
    "        self.df : pd.DataFrame = None\n",
    "        \n",
    "    def name(self):\n",
    "        return re.search(r'\\/([\\w\\d]*)\\.csv',self.file_name).group(1)\n",
    "    \n",
    "    def __types_file__(self):\n",
    "        return 'types/' + self.name() +'.npy'\n",
    "        \n",
    "    def save_types(self):\n",
    "        np.save(self.__types_file__(), self.types)\n",
    "        \n",
    "    def load_types(self):\n",
    "        if os.path.isfile(self.__types_file__()):\n",
    "            self.types = np.load(self.__types_file__(),allow_pickle='TRUE').item()\n",
    "            return self.types\n",
    "        return None\n",
    "    \n",
    "    def col(self,columns:list, index=True,**dt_params)->pd.DataFrame:\n",
    "        \"\"\"Loads some columns of the dataframe out of the whole csv file\n",
    "        \n",
    "        :param columns: a list of the desired columns\n",
    "        :type columns: list\n",
    "        :param index: if True loads also the 'sid' column as the index\n",
    "        :type index: bool\n",
    "        :param **pd_params: any other params for pd.read_csv(...)\n",
    "        :rtype: pd.DataFrame\n",
    "        \"\"\"\n",
    "        col_list = columns\n",
    "        if index==True:\n",
    "            col_list.append('sid')\n",
    "        d = dt.fread(self.file_name,\n",
    "                           columns=set(col_list),\n",
    "                           sep='\\t',\n",
    "                            **dt_params)\n",
    "        if index == True:\n",
    "            d.key = 'sid'\n",
    "        elif index:\n",
    "            d.key = index\n",
    "        d = d.to_pandas().astype({k:v for k,v in self.types.items() if k in d.names})\n",
    "        if 'cts' in col_list:\n",
    "            d['cts'] = pd.to_datetime(d['cts'])\n",
    "        return d\n",
    "\n",
    "datasets = [\n",
    "    Dataset(file='instagram-dataset/instagram_profiles.csv'), \n",
    "    Dataset(file='instagram-dataset/instagram_locations.csv'), \n",
    "    Dataset(file='instagram-dataset/instagram_posts.csv')\n",
    "]\n",
    "profiles, locations, posts = datasets"
   ]
  },
  {
   "cell_type": "markdown",
   "id": "3f090725-1f85-459e-8fd8-6cff54c492f3",
   "metadata": {},
   "source": [
    "Columns and inferred types from descrption \n",
    "TODO DESCRIBE MORE"
   ]
  },
  {
   "cell_type": "code",
   "execution_count": 4,
   "id": "6cddca29-5f8a-4e77-a170-29cb1f99b480",
   "metadata": {},
   "outputs": [],
   "source": [
    "profiles.types = {\n",
    "#     'sid' : 'Int64',\n",
    "    'profile_id' : 'Int64',\n",
    "    'profile_name' : pd.StringDtype(storage='pyarrow'),\n",
    "    'firstname_lastname' : pd.StringDtype(storage='pyarrow'),\n",
    "    'description' : pd.StringDtype(storage='pyarrow'),\n",
    "    'following' : 'Int64',\n",
    "    'followers' : 'Int64',\n",
    "    'n_posts' : 'Int64',\n",
    "    'url' : pd.StringDtype(storage='pyarrow'),\n",
    "#     'cts' : pd.DatetimeTZDtype(tz='UTC'), #obtained through parse_dates=['cts']\n",
    "    'is_business_account' : pd.BooleanDtype()\n",
    "}\n",
    "posts.types = {\n",
    "#     'sid' : 'Int64', # gives an error, maybe because it's the index?\n",
    "    'sid_profile' : 'Int64',\n",
    "    'post_id' : pd.StringDtype(storage='pyarrow'),\n",
    "    'profile_id' : 'Int64',\n",
    "    'location_id' : 'Int64',\n",
    "    'description' : pd.StringDtype(storage='pyarrow'),\n",
    "    'post_type' : pd.CategoricalDtype(categories=[1,2,3]),\n",
    "    'numbr_likes' : 'Int64',\n",
    "    'number_comments' : 'Int64'\n",
    "}\n",
    "locations.types = {\n",
    "#     'sid' : 'Int64', # gives an error, maybe because it's the index?\n",
    "    'id' : 'Int64',\n",
    "    'name' : pd.StringDtype(storage='pyarrow'),\n",
    "    'street' : pd.StringDtype(storage='pyarrow'),\n",
    "    'zip' : pd.StringDtype(storage='pyarrow'),\n",
    "    'city' : pd.StringDtype(storage='pyarrow'),\n",
    "    'region' : pd.StringDtype(storage='pyarrow'),\n",
    "    'cd' : pd.CategoricalDtype(),\n",
    "    'phone' : pd.StringDtype(storage='pyarrow'),\n",
    "    'aj_exact_city_match' : pd.BooleanDtype(),\n",
    "    'aj_exact_country_match' : pd.BooleanDtype(),\n",
    "    'blurb' : pd.StringDtype(storage='pyarrow'),\n",
    "    'dir_city_id' : pd.StringDtype(storage='pyarrow'),\n",
    "    'dir_city_name' : pd.StringDtype(storage='pyarrow'),\n",
    "    'dir_city_slug' : pd.StringDtype(storage='pyarrow'),\n",
    "    'dir_country_id' : pd.CategoricalDtype(),\n",
    "    'dir_country_name' : pd.CategoricalDtype(),\n",
    "    'lat' : pd.Float32Dtype(),\n",
    "    'lng' : pd.Float32Dtype(),\n",
    "    'primary_alias_on_fb' : pd.StringDtype(storage='pyarrow'),\n",
    "    'slug' : pd.StringDtype(storage='pyarrow'),\n",
    "    'website' : pd.StringDtype(storage='pyarrow'),\n",
    "}"
   ]
  },
  {
   "cell_type": "code",
   "execution_count": 5,
   "id": "e0aab5f2-0944-4188-b533-a0031d3520a6",
   "metadata": {},
   "outputs": [],
   "source": [
    "def get_types(signed=True, unsigned=True, custom=[]):\n",
    "    '''Returns a pandas dataframe containing the boundaries of each integer dtype'''\n",
    "    # based on https://stackoverflow.com/a/57894540/9419492\n",
    "    pd_types = custom\n",
    "    if signed:\n",
    "        pd_types += [pd.Int8Dtype() ,pd.Int16Dtype() ,pd.Int32Dtype(), pd.Int64Dtype()]\n",
    "    if unsigned:\n",
    "        pd_types += [pd.UInt8Dtype() ,pd.UInt16Dtype(), pd.UInt32Dtype(), pd.UInt64Dtype()]\n",
    "    type_df = pd.DataFrame(data=pd_types, columns=['pd_type'])\n",
    "    type_df['np_type'] = type_df['pd_type'].apply(lambda t: t.numpy_dtype)\n",
    "    type_df['min_value'] = type_df['np_type'].apply(lambda row: np.iinfo(row).min)\n",
    "    type_df['max_value'] = type_df['np_type'].apply(lambda row: np.iinfo(row).max)\n",
    "    type_df['allow_negatives'] = type_df['min_value'] < 0\n",
    "    type_df['size'] = type_df['np_type'].apply(lambda row: row.itemsize)\n",
    "    type_df.sort_values(by=['size', 'allow_negatives'], inplace=True)\n",
    "    return type_df.reset_index(drop=True)\n",
    "def downcast_int(file_path, column:str, chunksize=10000, delimiter=',', signed=True, unsigned=True):\n",
    "    '''Assigns the smallest possible dtype to an integer column of a csv'''\n",
    "    types = get_types(signed, unsigned)\n",
    "    negatives = False\n",
    "    print(delimiter)\n",
    "    for chunk in pd.read_csv(file_path, \n",
    "                             usecols=[column],\n",
    "                             delimiter=delimiter,\n",
    "                             chunksize=chunksize):\n",
    "        M = chunk[column].max()\n",
    "        m = chunk[column].min()\n",
    "        if not signed and not negatives and m < 0 :\n",
    "            types = types[types['allow_negatives']] # removes unsigned rows\n",
    "            negatives = True\n",
    "        if m < types['min_value'].iloc[0]:\n",
    "            types = types[types['min_value'] < m]\n",
    "        if M > types['max_value'].iloc[0]:\n",
    "            types = types[types['max_value'] > M]\n",
    "        if len(types) == 1:\n",
    "            print('early stop')\n",
    "            break\n",
    "    return types['pd_type'].iloc[0]\n",
    "\n",
    "def optimize_cols(file, int_cols, delimiter=',', signed=True, unsigned=True):\n",
    "    out = dict()\n",
    "    for col in int_cols:\n",
    "        out[col] = downcast_int(file, col, delimiter=delimiter, signed=signed, unsigned=unsigned)\n",
    "    return out"
   ]
  },
  {
   "cell_type": "markdown",
   "id": "34857117-7869-4132-8ed6-b148c95a6e5f",
   "metadata": {},
   "source": [
    "Optimize types"
   ]
  },
  {
   "cell_type": "code",
   "execution_count": 6,
   "id": "9243db11-d621-4790-a22f-163763165d3c",
   "metadata": {},
   "outputs": [
    {
     "name": "stdout",
     "output_type": "stream",
     "text": [
      "instagram_profiles  mean optimized memory usage per entry:  150 B vs  542 B  : 27.71%\n",
      "instagram_locations mean optimized memory usage per entry:  272 B vs 1117 B  : 24.34%\n",
      "instagram_posts     mean optimized memory usage per entry:  277 B vs  752 B  : 36.89%\n"
     ]
    }
   ],
   "source": [
    "for ds in datasets:\n",
    "    if not ds.load_types():\n",
    "        int_cols = [k for k,v in ds.types.items() if v == 'Int64']\n",
    "        print(int_cols)\n",
    "        ds.types.update(optimize_cols(ds.file_name, int_cols, delimiter='\\t'))\n",
    "        print(f'Optimized {len(int_cols)} types for {ds.name()}')\n",
    "    ds.save_types()\n",
    "\n",
    "for ds in datasets:\n",
    "    ds.df = pd.read_csv(ds.file_name, dtype=ds.types, index_col='sid', delimiter='\\t', parse_dates=['cts'], nrows=SAMPLE_SIZE)\n",
    "    avg_mem_unoptimized = pd.read_csv(ds.file_name, index_col='sid', delimiter='\\t', nrows=SAMPLE_SIZE).memory_usage(deep=True).sum()/SAMPLE_SIZE\n",
    "    avg_mem_optimized = ds.df.memory_usage(deep=True).sum()/SAMPLE_SIZE\n",
    "    print(f'{ds.name().ljust(19)} mean optimized memory usage per entry:  {round(avg_mem_optimized):3} B vs {round(avg_mem_unoptimized):4} B  : {round(avg_mem_optimized/avg_mem_unoptimized*100,2):5}%') "
   ]
  },
  {
   "cell_type": "code",
   "execution_count": null,
   "id": "af17f2b6-63f3-45f8-9434-6e45b4af5ab3",
   "metadata": {},
   "outputs": [],
   "source": []
  },
  {
   "cell_type": "markdown",
   "id": "815e13f5-237e-4a6b-89a2-923dd1b41b3f",
   "metadata": {},
   "source": [
    "## RQ1 - EDA\n",
    "Andrea\n",
    "\n",
    "#### Profiles \n",
    "| Field | Description | Type |\n",
    "|---|---|---|\n",
    "| SID | Sequence ID | `int` |\n",
    "| profile_id | Instagrams ID | `int `|\n",
    "| profile_name | profile name | `string` |\n",
    "| firstname_lastname | firstname lastname | `string` |\n",
    "| description | May contain '\\n' | `string` |\n",
    "| following | Number of following profile at the moment it was visited | `int` |\n",
    "| followers | Number of followers at the moment it was visited | `int` |\n",
    "| n_posts | Number of posts at the moment it was visited | `int` |\n",
    "| url | Url in profile description | `string` |\n",
    "| cts | Timestamp when the profile was visited | `datetime` |\n",
    "| is_business_account | Boolean flag if that profile was makred by the owner as business account | `bool` |\n",
    "\n",
    "#### Locations\n",
    "\n",
    "| Field | Description | Type |\n",
    "|---|---|---|\n",
    "| SID | Sequence ID | `int` |\n",
    "| ID | Instagrams ID | `string` |\n",
    "| Name | Locations Name | `string` |\n",
    "| Street | Street Address, may contain '\\n' | `string` |\n",
    "| ZIP | Zip code | `string` |\n",
    "| City | City Name | `string` |\n",
    "| Region | Region | `string` |\n",
    "| CD | Country Code | `string` |\n",
    "| Phone | The phone in format as on the Instragram | `string` |\n",
    "| aj_exact_city_match | The Instagrams Internal key | `string` |\n",
    "| aj_exact_country_match | The Instagrams Internal key | `string` |\n",
    "| blurb | Description of the place, may contain '\\n' | `string` |\n",
    "| dir_city_id | The Instagrams internal City ID | `string` |\n",
    "| dir_city_name | city Name | `string` |\n",
    "| dir_city_slug | City tag (sortof) | `string` |\n",
    "| dir_country_id | Country ID | `string` |\n",
    "| dir_country_name | country | `string` |\n",
    "| lat | Latitude | `float` |\n",
    "| lng | Longtitude | `float` |\n",
    "| primary_alias_on_fb | Bool Flag | `bool` |\n",
    "| slug | ??? | `string` |\n",
    "| website | The URL to web site, may contain more then 1 URL, may contain '\\n' | `string` |\n",
    "| cts | Timestamp when the location was visited | `datetime` |\n",
    "\n",
    "#### Posts\n",
    "| Field | Description | Type |\n",
    "|---|---|---|\n",
    "| SID | Sequence ID | `int` |\n",
    "| sid_profile | Sequence ID of the profile from *Profiles* table, -1 if not in *Profiles* table | `int` |\n",
    "| post_id | Instagrams ID | `int` |\n",
    "| profile_id | Instagrams ID may be null | `int` |\n",
    "| location_id | Instagrams ID | `int` |\n",
    "| cts | Timestamp when the Post was created | `datetime` |\n",
    "| post_type | 1 - Photo, 2 - Video, 3 - multy | `int` |\n",
    "| description | May contain '\\n' | `string` |\n",
    "| number_likes | Number of Likes at the moment it was visited | `int` |\n",
    "| number_comments | Number of comments at the moment it was visited | `int` |"
   ]
  },
  {
   "cell_type": "markdown",
   "id": "d760d963-d7fa-40ae-b41e-8f1b0c5fa930",
   "metadata": {},
   "source": [
    "***\n",
    "\n",
    "### __1. [RQ1] After collecting information, the Data Scientists have to know what dataset they are dealing with, so let's start with an Exploratory Data Analysis (EDA). What can you say about our datasets? Please summarise its main characteristics with visual and tabular methods.__\n",
    "\n",
    "***"
   ]
  },
  {
   "cell_type": "code",
   "execution_count": null,
   "id": "2ee4fdba-0ec0-4ca6-9e6e-bfa7d51c52d9",
   "metadata": {},
   "outputs": [],
   "source": []
  },
  {
   "cell_type": "markdown",
   "id": "cbdacedb-30b4-4bb4-aa4c-fd8d5745557a",
   "metadata": {},
   "source": [
    "***\n",
    "\n",
    "### __2. [RQ2] Let's explore the dataset by finding simple insights regarding the profile and posts.__\n",
    "\n",
    "***"
   ]
  },
  {
   "cell_type": "markdown",
   "id": "2f551ebb-1dd7-46eb-ad7a-edc4e8b138ec",
   "metadata": {},
   "source": [
    "#### $\\bullet$ Plot the number of posts for each profile in descending order."
   ]
  },
  {
   "cell_type": "code",
   "execution_count": null,
   "id": "59e6116c-371f-4848-abb1-450ec0203538",
   "metadata": {},
   "outputs": [],
   "source": [
    "#To create a subset with only the interested columns\n",
    "d_prof = profiles.col([\"profile_name\", \"n_posts\", \"following\", \"followers\", \"is_business_account\"])"
   ]
  },
  {
   "cell_type": "code",
   "execution_count": null,
   "id": "60fb22be-2496-40fd-a9b3-0b17dabb3983",
   "metadata": {},
   "outputs": [],
   "source": [
    "#To limit it to the top 20\n",
    "plt.rcParams['figure.figsize'] = [8,6]\n",
    "plot_order = d_prof.sort_values(by=['n_posts'], ascending=False).head(20)\n",
    "sns.barplot(data=plot_order, x=\"n_posts\", y=\"profile_name\", palette=\"pastel\", orient='h').set(title='Top 20 profiles with the highest number of posts')\n",
    "plt.xlabel(\"Profile name\")\n",
    "#plt.xticks(rotation=90)\n",
    "plt.ylabel(\"Number of posts\")\n",
    "plt.grid()"
   ]
  },
  {
   "cell_type": "markdown",
   "id": "04d9960d-b935-48d3-82bf-4f8227c01dee",
   "metadata": {},
   "source": [
    "#### $\\bullet$ What posts have the highest number of \"likes\"?"
   ]
  },
  {
   "cell_type": "code",
   "execution_count": null,
   "id": "5bf5cf0b-c721-4ee5-ae9e-b14fb76be276",
   "metadata": {},
   "outputs": [],
   "source": [
    "#We create a subset with only the interested columns\n",
    "d_posts = posts.col([\"profile_id\", \"location_id\", \"post_type\", \"numbr_likes\", \"number_comments\", \"post_id\"], index=False)"
   ]
  },
  {
   "cell_type": "code",
   "execution_count": null,
   "id": "df80dc2f-1163-4859-8e25-ecce405d9f2c",
   "metadata": {},
   "outputs": [],
   "source": [
    "#To print the top 20 most liked posts\n",
    "pop_posts = d_posts.sort_values(by=['numbr_likes'], ascending = False).head(20)\n",
    "pop_posts"
   ]
  },
  {
   "cell_type": "code",
   "execution_count": null,
   "id": "c2b94659-5368-4267-94ef-5289c742f87f",
   "metadata": {},
   "outputs": [],
   "source": [
    "#Plot\n",
    "plt.rcParams['figure.figsize'] = [8,6]\n",
    "plot_order = d_posts.sort_values(by=['numbr_likes'], ascending=False).head(20)\n",
    "sns.barplot(data=plot_order, x=\"numbr_likes\", y=\"post_id\", palette=\"pastel\", orient='h').set(title='Top 20 most liked posts')\n",
    "plt.xlabel(\"Post ID\")\n",
    "plt.ylabel(\"Number of likes\")\n",
    "plt.grid()"
   ]
  },
  {
   "cell_type": "markdown",
   "id": "108c3d35-8b72-447c-be21-4f157bc5ec4c",
   "metadata": {},
   "source": [
    "#### $\\bullet$ What posts have the most and the least number of comments?"
   ]
  },
  {
   "cell_type": "code",
   "execution_count": null,
   "id": "b864ae41-378f-4834-bb7b-0b5693615f57",
   "metadata": {},
   "outputs": [],
   "source": [
    "#We create a subset with only the interested columns\n",
    "post_comm = posts.col([\"profile_id\", \"post_type\", \"number_comments\", \"post_id\"], index=False)"
   ]
  },
  {
   "cell_type": "code",
   "execution_count": null,
   "id": "4faaee35-39d2-403d-826c-297d7cdd59c6",
   "metadata": {},
   "outputs": [],
   "source": [
    "#To print the top 10 posts with the most number of comments\n",
    "most_num_comm = post_comm.sort_values(by=['number_comments'], ascending = False).head(10)\n",
    "most_num_comm"
   ]
  },
  {
   "cell_type": "code",
   "execution_count": null,
   "id": "a2cf7aa9-dded-4892-9fcc-a3a594520318",
   "metadata": {},
   "outputs": [],
   "source": [
    "#Plot\n",
    "plt.rcParams['figure.figsize'] = [8,6]\n",
    "sns.barplot(data=most_num_comm, x=\"number_comments\", y=\"post_id\", palette=\"pastel\", orient='h').set(title='Top 20 most commented posts')\n",
    "plt.xticks(rotation=90)\n",
    "plt.ylabel(\"Number of comments\")\n",
    "plt.grid()"
   ]
  },
  {
   "cell_type": "code",
   "execution_count": null,
   "id": "b6ea4202-55d5-4e9d-9da1-90d5024cad25",
   "metadata": {},
   "outputs": [],
   "source": [
    "most_num_comm.head(1)"
   ]
  },
  {
   "cell_type": "markdown",
   "id": "68008b3c-3728-4625-b80a-795052f6625b",
   "metadata": {},
   "source": [
    "This is the post with the most number of comments in our dataset."
   ]
  },
  {
   "cell_type": "code",
   "execution_count": null,
   "id": "8e631f74-39c9-42ba-b04f-af6450fc32c0",
   "metadata": {},
   "outputs": [],
   "source": [
    "#To print the last 10 posts with the least number of comments\n",
    "least_num_comm = post_comm.sort_values(by=['number_comments'], ascending = False).tail(10)\n",
    "least_num_comm"
   ]
  },
  {
   "cell_type": "code",
   "execution_count": null,
   "id": "f569015b-81e0-424c-8643-d71bc6edbd0b",
   "metadata": {},
   "outputs": [],
   "source": [
    "least_num_comm.tail(1)"
   ]
  },
  {
   "cell_type": "markdown",
   "id": "9feb761b-daf4-499c-8b98-f65ee0d577b4",
   "metadata": {},
   "source": [
    "This is the post with the least number of comments in our chunk of data, but as we can see, there are other posts with 0 comments."
   ]
  },
  {
   "cell_type": "markdown",
   "id": "bd4714ee-10f8-448d-aa52-0932e89253c5",
   "metadata": {},
   "source": [
    "#### $\\bullet$ How many posts include tagged locations, and how many do not? Show it using an appropriate chart and comment your results."
   ]
  },
  {
   "cell_type": "code",
   "execution_count": null,
   "id": "24fbd9be-6e96-4340-834c-6db8cbbbc60a",
   "metadata": {},
   "outputs": [],
   "source": [
    "#We create a subset with only the interested columns\n",
    "d_loc = locations.col([\"sid\", \"id\", \"name\", \"city\", \"cd\", \"dir_city_name\", \"dir_city_slug\"])"
   ]
  },
  {
   "cell_type": "code",
   "execution_count": null,
   "id": "e067dfa6-7164-4a22-99f3-03e9e04b562b",
   "metadata": {},
   "outputs": [],
   "source": [
    "post_loc = d_posts[\"location_id\"].value_counts(dropna=False)\n",
    "post_loc"
   ]
  },
  {
   "cell_type": "code",
   "execution_count": null,
   "id": "01fdaf0d-9a6c-4e14-917f-cb0ce8d86322",
   "metadata": {},
   "outputs": [],
   "source": [
    "#To count just the N/A (so the posts with no tagged location)\n",
    "nan_loc = d_posts[\"location_id\"].isna().sum()\n",
    "nan_loc"
   ]
  },
  {
   "cell_type": "code",
   "execution_count": null,
   "id": "7ef54e85-8e46-4aee-a894-696e02ab9fdd",
   "metadata": {},
   "outputs": [],
   "source": [
    "#To count just the posts with tagged location\n",
    "loc_tag = d_posts[\"location_id\"].value_counts().sum()\n",
    "loc_tag"
   ]
  },
  {
   "cell_type": "code",
   "execution_count": null,
   "id": "60021aa2-2c33-4e10-8f4c-7393b5733000",
   "metadata": {},
   "outputs": [],
   "source": [
    "data = [nan_loc,loc_tag]"
   ]
  },
  {
   "cell_type": "code",
   "execution_count": null,
   "id": "6b72a7c4-ce90-4357-a856-b078881b3e9c",
   "metadata": {},
   "outputs": [],
   "source": [
    "#Plot\n",
    "plt.figure(1, figsize=(25, 5))\n",
    "colors = sns.color_palette('pastel')[0:3]\n",
    "data = [loc_tag, nan_loc]\n",
    "explode = (0.1, 0)\n",
    "\n",
    "labels=['With location tagged', 'Without location tagged']\n",
    "plt.pie(data, explode=explode, labels=labels, colors=colors, autopct='%.0f%%', shadow=True)\n",
    "\n",
    "plt.show()"
   ]
  },
  {
   "cell_type": "markdown",
   "id": "1f056829-035b-4c99-9e65-10af657c0df6",
   "metadata": {},
   "source": [
    "The posts with a tagged location are the majority in our chunk of data."
   ]
  },
  {
   "cell_type": "markdown",
   "id": "33e231d3-e536-4ed8-b150-fe821cb2f0ff",
   "metadata": {},
   "source": [
    "#### $\\bullet$ How many posts include only photos? How many also have videos?"
   ]
  },
  {
   "cell_type": "code",
   "execution_count": null,
   "id": "6e418a81-6496-49ff-b635-c5ec46bbb69d",
   "metadata": {},
   "outputs": [],
   "source": [
    "#To count how many posts are included in the three different types\n",
    "post_type = d_posts[\"post_type\"].value_counts() \n",
    "post_type"
   ]
  },
  {
   "cell_type": "code",
   "execution_count": null,
   "id": "5a4b6982-d9fb-4d9a-8091-450a5390d09d",
   "metadata": {},
   "outputs": [],
   "source": [
    "#Plot\n",
    "sns.countplot(x=d_posts[\"post_type\"], palette = \"pastel\", orient='h').set(title='Post type')\n",
    "plt.xlabel(\"Post Type\")\n",
    "plt.ylabel(\"Count\")\n",
    "plt.xticks([0, 1, 2], ['Just photos', 'Just videos', 'Photos and videos'])\n",
    "plt.grid()"
   ]
  },
  {
   "cell_type": "markdown",
   "id": "36e66c9d-7af4-430a-a711-368c6f585227",
   "metadata": {},
   "source": [
    "#### $\\bullet$ What's the percentage of business accounts vs non- business? What can you interpret regarding that percentage?"
   ]
  },
  {
   "cell_type": "code",
   "execution_count": null,
   "id": "e2db2002-9f90-45c4-a300-ea269d9671d6",
   "metadata": {},
   "outputs": [],
   "source": [
    "#To count just che N/A\n",
    "nan_prof = d_prof[\"is_business_account\"].isna().sum()\n",
    "nan_prof"
   ]
  },
  {
   "cell_type": "code",
   "execution_count": null,
   "id": "f1b86c47-6da5-4d1f-945c-c4ccf443d609",
   "metadata": {},
   "outputs": [],
   "source": [
    "#To count the values excluding the N/A\n",
    "b_prof = d_prof[\"is_business_account\"].value_counts()\n",
    "b_prof"
   ]
  },
  {
   "cell_type": "code",
   "execution_count": null,
   "id": "a28ace7a-e21b-4254-ad57-4fc2feb0dbfc",
   "metadata": {},
   "outputs": [],
   "source": [
    "#To count the values including the N/A\n",
    "b_prof2 = d_prof[\"is_business_account\"].value_counts(dropna=False)\n",
    "b_prof2"
   ]
  },
  {
   "cell_type": "code",
   "execution_count": null,
   "id": "3c7e5cf4-1e88-4385-9902-5fe1b9781dc6",
   "metadata": {},
   "outputs": [],
   "source": [
    "#Plots\n",
    "plt.figure(1, figsize=(25, 5))\n",
    "colors = sns.color_palette('pastel')[0:4]\n",
    "explode1 = (0.1, 0)\n",
    "explode2 = (0.1, 0, 0)\n",
    " \n",
    "plt.subplot(1, 2, 1)\n",
    "labels=['Not business accounts', 'N/A', 'Business accounts']\n",
    "plt.pie(b_prof2, explode=explode2, labels=labels, colors=colors, autopct='%.0f%%', shadow=True)\n",
    "\n",
    "\n",
    "plt.subplot(1, 2, 2)\n",
    "labels=['Not business accounts', 'Business accounts']\n",
    "plt.pie(b_prof, explode=explode1, labels=labels, colors=colors, autopct='%.0f%%', shadow=True)\n",
    "\n",
    "plt.show()"
   ]
  },
  {
   "cell_type": "markdown",
   "id": "d03c015f-eb0d-49fd-82d9-3478058f8ab0",
   "metadata": {},
   "source": [
    "The most profiles are not business accounts, maybe beacause this kind of account is mostly used by influencers or companies, which are a small percentage in the totality of Instagram accounts."
   ]
  },
  {
   "cell_type": "markdown",
   "id": "8227e76f",
   "metadata": {},
   "source": [
    "***\n",
    "\n",
    "### 3. __[RQ3] Now it's important to understand the most common times in which users publish their posts__\n",
    "\n",
    "***"
   ]
  },
  {
   "cell_type": "markdown",
   "id": "42351432",
   "metadata": {},
   "source": [
    "#### $\\bullet$ What is the most common time in which users publish their posts?"
   ]
  },
  {
   "cell_type": "code",
   "execution_count": 7,
   "id": "2948238e",
   "metadata": {
    "tags": []
   },
   "outputs": [],
   "source": [
    "time = posts.col(['cts'], index=False)\n",
    "time['hour'] = time['cts'].dt.hour"
   ]
  },
  {
   "cell_type": "code",
   "execution_count": 8,
   "id": "cdafdde7",
   "metadata": {
    "_cell_guid": "7e422ef5-b78c-435e-a1e6-ce0712001bb8",
    "_uuid": "a9dbddb9-7b76-47ce-9876-f784d2e79479",
    "tags": []
   },
   "outputs": [
    {
     "data": {
      "image/png": "[encoded data removed]",
      "text/plain": [
       "<Figure size 432x288 with 1 Axes>"
      ]
     },
     "metadata": {
      "needs_background": "light"
     },
     "output_type": "display_data"
    }
   ],
   "source": [
    "def cool_ticks(value, tick_number=None):\n",
    "    '''based on https://stackoverflow.com/a/59973033/9419492'''\n",
    "    num_thousands = 0 if abs(value) < 1000 else floor(ceil(log10(abs(value)))/3)\n",
    "    value = round(value / 1000**num_thousands, 1) \n",
    "    return f'{value:g}'+' KMGTPEZY'[num_thousands], value * 1000**num_thousands\n",
    "\n",
    "def clock_graph(hours: pd.Series, labels:list=None):\n",
    "    '''plots a Series in a Radar Chart.\n",
    "        :hours: a pandas series where each row index will become an angle\n",
    "    '''\n",
    "    # https://www.python-graph-gallery.com/390-basic-radar-chart\n",
    "    N = len(hours)\n",
    "    angles = [n / float(N) * 2 * pi for n in range(N)]\n",
    "    angles += angles[:1]\n",
    "    hours = pd.concat([\n",
    "        hours.iloc[-N//4-1:],\n",
    "        hours.iloc[:-N//4-1] ]) if N==24 else hours.sort_index(ascending=False)\n",
    "    # Initialise the spider plot\n",
    "    ax = plt.subplot(111, polar=True)\n",
    "\n",
    "    # Draw one axe per variable + add labels\n",
    "    labels = labels if labels is not None else hours.index\n",
    "    plt.xticks(angles[:-1], labels, color='black', size=15)\n",
    "\n",
    "    # Draw ylabels\n",
    "    ax.set_rlabel_position(10)\n",
    "    M = hours.max()\n",
    "    ticks = [cool_ticks(M*x/5) for x in range(1,5)]\n",
    "    plt.yticks([v[1] for v in ticks], [t[0] for t in ticks], color=\"black\", size=10)\n",
    "    plt.ylim(0,M*21/20)\n",
    "    \n",
    "    # Plot data\n",
    "    ax.plot(angles, [*hours, hours.iloc[0]], linewidth=2, linestyle='solid')\n",
    "\n",
    "    # Fill area\n",
    "    ax.fill(angles[:-1], hours, 'b', alpha=0.1)\n",
    "\n",
    "hours = time.hour.value_counts(sort=False).sort_index(ascending=False).to_frame()\n",
    "\n",
    "clock_graph(hours.hour)"
   ]
  },
  {
   "cell_type": "markdown",
   "id": "eb35b5ca",
   "metadata": {},
   "source": [
    "#### $\\bullet$ Create a function that receives a time intervals list as a parameter and returns a plot with the number of posts for each given interval."
   ]
  },
  {
   "cell_type": "code",
   "execution_count": 9,
   "id": "641fcf14",
   "metadata": {
    "tags": []
   },
   "outputs": [],
   "source": [
    "def inter(h, inters, categories):\n",
    "    assert len(inters)-1 == len(categories), 'Categories and Intervals length must match'\n",
    "    assert inters[0] == 0 and inters[-1]==24, 'Intervals list must start at 0 and end at 24'\n",
    "    for i in range(len(inters) - 1):\n",
    "        if h >= inters[i] and h < inters[i+1]:\n",
    "            return categories[i]\n",
    "        \n",
    "def plot_intervals(hours_count, inters=range(0,25,4), col_name='hour'):\n",
    "    \"\"\"A radarplot with the hours divided into intervals\n",
    "    :hours_count: a dataframe where index is the hours\n",
    "    :inters: a sorted list of hours breakpoints, starting at 1 and ending at 24\n",
    "    :col_name: the column of which the values have to be plotted\n",
    "    \"\"\"\n",
    "    I = pd.CategoricalDtype(categories= [f\"{inters[i]}:00->{inters[i+1]-1}:59\" for i in range(len(inters)-1)], ordered=True)\n",
    "    hours_count['intervals'] = hours_count.index.to_series().apply(\n",
    "        lambda h :inter(h, inters, I.categories)\n",
    "    ).astype(I)\n",
    "    clock_graph(hours_count.groupby(by='intervals').sum()[col_name])"
   ]
  },
  {
   "cell_type": "markdown",
   "id": "977b7f46",
   "metadata": {},
   "source": [
    "#### $\\bullet$ Use the function that you created in the previous literal to plot the number of posts between the following time intervals:\n",
    "\n",
    "| Initial time | Final time |\n",
    "|---|---|\n",
    "| 06:00:00 | 10:59:59 |\n",
    "| 11:00:00 | 13:59:59 |\n",
    "| 14:00:00 | 16:59:59 |\n",
    "| 17:00:00 | 19:59:59 |\n",
    "| 20:00:00 | 23:59:59 |\n",
    "| 00:00:00 | 02:59:59 |\n",
    "| 03:00:00 | 05:59:59 |"
   ]
  },
  {
   "cell_type": "code",
   "execution_count": 10,
   "id": "89660f61",
   "metadata": {
    "_cell_guid": "93924e1d-5a2a-456c-b02d-c0fbe2aa48d5",
    "_uuid": "9156018c-4b65-47ed-afbe-68612fb5aae0",
    "tags": []
   },
   "outputs": [
    {
     "data": {
      "image/png": "[encoded data removed]",
      "text/plain": [
       "<Figure size 432x288 with 1 Axes>"
      ]
     },
     "metadata": {
      "needs_background": "light"
     },
     "output_type": "display_data"
    }
   ],
   "source": [
    "INTERVALS = [0,3,6,11,14,17,20,24]\n",
    "plot_intervals(hours, INTERVALS)"
   ]
  },
  {
   "cell_type": "code",
   "execution_count": 11,
   "id": "71fe58bb",
   "metadata": {},
   "outputs": [],
   "source": [
    "del time\n",
    "del hours"
   ]
  },
  {
   "cell_type": "markdown",
   "id": "9a448e1a-9cfa-4c08-8fec-d75d0edf7c9e",
   "metadata": {},
   "source": [
    "***\n",
    "\n",
    "### 4. __[RQ4] In most cases, we will not have a consistent dataset, and the one we are dealing with is not an exception (ex. in the given datasets, you may not find the information of the profiles for some of the posts). So let’s enhance our analysis.__\n",
    "\n",
    "***"
   ]
  },
  {
   "cell_type": "markdown",
   "id": "00739d26-f766-4ae9-89b2-c5e3d0d1c70a",
   "metadata": {},
   "source": [
    "#### $\\bullet$ Write a function that, given a profile_id, will be able to return the posts that belong to the given profile_id."
   ]
  },
  {
   "cell_type": "code",
   "execution_count": 37,
   "id": "fef0af37-0fba-4470-8074-ee168693b66e",
   "metadata": {},
   "outputs": [],
   "source": [
    "sub_posts = posts.col(['profile_id', 'post_id', 'numbr_likes', 'number_comments']) "
   ]
  },
  {
   "cell_type": "code",
   "execution_count": 38,
   "id": "99ace2d6-9155-4585-b185-fac668dcd404",
   "metadata": {},
   "outputs": [],
   "source": [
    "def post_finder(prof_id):\n",
    "    # the function will return a subset containing only the rows with profile_id equal to the query  \n",
    "    return sub_posts[sub_posts[\"profile_id\"] == prof_id]"
   ]
  },
  {
   "cell_type": "code",
   "execution_count": 39,
   "id": "27ea789d-cb56-4fcf-8964-d384c5baf575",
   "metadata": {},
   "outputs": [
    {
     "data": {
      "text/html": [
       "<div>\n",
       "<style scoped>\n",
       "    .dataframe tbody tr th:only-of-type {\n",
       "        vertical-align: middle;\n",
       "    }\n",
       "\n",
       "    .dataframe tbody tr th {\n",
       "        vertical-align: top;\n",
       "    }\n",
       "\n",
       "    .dataframe thead th {\n",
       "        text-align: right;\n",
       "    }\n",
       "</style>\n",
       "<table border=\"1\" class=\"dataframe\">\n",
       "  <thead>\n",
       "    <tr style=\"text-align: right;\">\n",
       "      <th></th>\n",
       "      <th>post_id</th>\n",
       "      <th>profile_id</th>\n",
       "      <th>numbr_likes</th>\n",
       "      <th>number_comments</th>\n",
       "    </tr>\n",
       "    <tr>\n",
       "      <th>sid</th>\n",
       "      <th></th>\n",
       "      <th></th>\n",
       "      <th></th>\n",
       "      <th></th>\n",
       "    </tr>\n",
       "  </thead>\n",
       "  <tbody>\n",
       "    <tr>\n",
       "      <th>28452667</th>\n",
       "      <td>BsRarTBBPmd</td>\n",
       "      <td>5337907015</td>\n",
       "      <td>30</td>\n",
       "      <td>6</td>\n",
       "    </tr>\n",
       "    <tr>\n",
       "      <th>28452668</th>\n",
       "      <td>BqOlb0kBQ5V</td>\n",
       "      <td>5337907015</td>\n",
       "      <td>25</td>\n",
       "      <td>5</td>\n",
       "    </tr>\n",
       "    <tr>\n",
       "      <th>28452669</th>\n",
       "      <td>BtxQHmLhI1h</td>\n",
       "      <td>5337907015</td>\n",
       "      <td>26</td>\n",
       "      <td>11</td>\n",
       "    </tr>\n",
       "    <tr>\n",
       "      <th>28452670</th>\n",
       "      <td>BxDLnoAhLJL</td>\n",
       "      <td>5337907015</td>\n",
       "      <td>24</td>\n",
       "      <td>3</td>\n",
       "    </tr>\n",
       "    <tr>\n",
       "      <th>28452671</th>\n",
       "      <td>BvFHZuWBcy2</td>\n",
       "      <td>5337907015</td>\n",
       "      <td>23</td>\n",
       "      <td>5</td>\n",
       "    </tr>\n",
       "    <tr>\n",
       "      <th>28452672</th>\n",
       "      <td>Bic19O-liDj</td>\n",
       "      <td>5337907015</td>\n",
       "      <td>28</td>\n",
       "      <td>0</td>\n",
       "    </tr>\n",
       "    <tr>\n",
       "      <th>28452673</th>\n",
       "      <td>BsTLZELBTnU</td>\n",
       "      <td>5337907015</td>\n",
       "      <td>28</td>\n",
       "      <td>0</td>\n",
       "    </tr>\n",
       "    <tr>\n",
       "      <th>28452674</th>\n",
       "      <td>BqTsJM_FDQ_</td>\n",
       "      <td>5337907015</td>\n",
       "      <td>28</td>\n",
       "      <td>0</td>\n",
       "    </tr>\n",
       "    <tr>\n",
       "      <th>28452675</th>\n",
       "      <td>ByB_OFnnGFM</td>\n",
       "      <td>5337907015</td>\n",
       "      <td>19</td>\n",
       "      <td>0</td>\n",
       "    </tr>\n",
       "    <tr>\n",
       "      <th>28452676</th>\n",
       "      <td>BxxLqEyHlyg</td>\n",
       "      <td>5337907015</td>\n",
       "      <td>24</td>\n",
       "      <td>0</td>\n",
       "    </tr>\n",
       "    <tr>\n",
       "      <th>28452677</th>\n",
       "      <td>BxsxNBfHqgv</td>\n",
       "      <td>5337907015</td>\n",
       "      <td>19</td>\n",
       "      <td>0</td>\n",
       "    </tr>\n",
       "    <tr>\n",
       "      <th>28452678</th>\n",
       "      <td>Bxj4nbjHzkx</td>\n",
       "      <td>5337907015</td>\n",
       "      <td>31</td>\n",
       "      <td>4</td>\n",
       "    </tr>\n",
       "    <tr>\n",
       "      <th>28452679</th>\n",
       "      <td>BxXxQAXnOkL</td>\n",
       "      <td>5337907015</td>\n",
       "      <td>15</td>\n",
       "      <td>0</td>\n",
       "    </tr>\n",
       "    <tr>\n",
       "      <th>28452680</th>\n",
       "      <td>BxXZvyfhLCz</td>\n",
       "      <td>5337907015</td>\n",
       "      <td>17</td>\n",
       "      <td>1</td>\n",
       "    </tr>\n",
       "    <tr>\n",
       "      <th>28452681</th>\n",
       "      <td>BxVbbxihvLJ</td>\n",
       "      <td>5337907015</td>\n",
       "      <td>16</td>\n",
       "      <td>0</td>\n",
       "    </tr>\n",
       "    <tr>\n",
       "      <th>28452682</th>\n",
       "      <td>BxTV32ahahQ</td>\n",
       "      <td>5337907015</td>\n",
       "      <td>15</td>\n",
       "      <td>2</td>\n",
       "    </tr>\n",
       "    <tr>\n",
       "      <th>28452683</th>\n",
       "      <td>BxPa3dUhPtk</td>\n",
       "      <td>5337907015</td>\n",
       "      <td>26</td>\n",
       "      <td>0</td>\n",
       "    </tr>\n",
       "    <tr>\n",
       "      <th>28452684</th>\n",
       "      <td>BxOmh2QBn1q</td>\n",
       "      <td>5337907015</td>\n",
       "      <td>19</td>\n",
       "      <td>0</td>\n",
       "    </tr>\n",
       "    <tr>\n",
       "      <th>28452685</th>\n",
       "      <td>BxMyVcwhjs6</td>\n",
       "      <td>5337907015</td>\n",
       "      <td>20</td>\n",
       "      <td>0</td>\n",
       "    </tr>\n",
       "    <tr>\n",
       "      <th>28452686</th>\n",
       "      <td>Bw-vVJsFZ-t</td>\n",
       "      <td>5337907015</td>\n",
       "      <td>6</td>\n",
       "      <td>5</td>\n",
       "    </tr>\n",
       "    <tr>\n",
       "      <th>28452687</th>\n",
       "      <td>BwzkHAWh1ff</td>\n",
       "      <td>5337907015</td>\n",
       "      <td>22</td>\n",
       "      <td>0</td>\n",
       "    </tr>\n",
       "    <tr>\n",
       "      <th>28452688</th>\n",
       "      <td>BwyVNqSB167</td>\n",
       "      <td>5337907015</td>\n",
       "      <td>16</td>\n",
       "      <td>1</td>\n",
       "    </tr>\n",
       "    <tr>\n",
       "      <th>28452689</th>\n",
       "      <td>BwhkuLblrOs</td>\n",
       "      <td>5337907015</td>\n",
       "      <td>18</td>\n",
       "      <td>0</td>\n",
       "    </tr>\n",
       "    <tr>\n",
       "      <th>28452690</th>\n",
       "      <td>BwHZPqvhuBC</td>\n",
       "      <td>5337907015</td>\n",
       "      <td>25</td>\n",
       "      <td>6</td>\n",
       "    </tr>\n",
       "    <tr>\n",
       "      <th>28452691</th>\n",
       "      <td>BwCKGP5BF5g</td>\n",
       "      <td>5337907015</td>\n",
       "      <td>29</td>\n",
       "      <td>2</td>\n",
       "    </tr>\n",
       "    <tr>\n",
       "      <th>28452692</th>\n",
       "      <td>BwBNmHiBYV3</td>\n",
       "      <td>5337907015</td>\n",
       "      <td>22</td>\n",
       "      <td>0</td>\n",
       "    </tr>\n",
       "    <tr>\n",
       "      <th>28452693</th>\n",
       "      <td>BvqVmBVBOsY</td>\n",
       "      <td>5337907015</td>\n",
       "      <td>21</td>\n",
       "      <td>0</td>\n",
       "    </tr>\n",
       "    <tr>\n",
       "      <th>28452694</th>\n",
       "      <td>BvHrnrMhBi9</td>\n",
       "      <td>5337907015</td>\n",
       "      <td>21</td>\n",
       "      <td>0</td>\n",
       "    </tr>\n",
       "    <tr>\n",
       "      <th>28452695</th>\n",
       "      <td>BvGARlZh6M9</td>\n",
       "      <td>5337907015</td>\n",
       "      <td>21</td>\n",
       "      <td>0</td>\n",
       "    </tr>\n",
       "    <tr>\n",
       "      <th>33826690</th>\n",
       "      <td>ByK_5hhnY0o</td>\n",
       "      <td>5337907015</td>\n",
       "      <td>33</td>\n",
       "      <td>2</td>\n",
       "    </tr>\n",
       "  </tbody>\n",
       "</table>\n",
       "</div>"
      ],
      "text/plain": [
       "              post_id  profile_id  numbr_likes  number_comments\n",
       "sid                                                            \n",
       "28452667  BsRarTBBPmd  5337907015           30                6\n",
       "28452668  BqOlb0kBQ5V  5337907015           25                5\n",
       "28452669  BtxQHmLhI1h  5337907015           26               11\n",
       "28452670  BxDLnoAhLJL  5337907015           24                3\n",
       "28452671  BvFHZuWBcy2  5337907015           23                5\n",
       "28452672  Bic19O-liDj  5337907015           28                0\n",
       "28452673  BsTLZELBTnU  5337907015           28                0\n",
       "28452674  BqTsJM_FDQ_  5337907015           28                0\n",
       "28452675  ByB_OFnnGFM  5337907015           19                0\n",
       "28452676  BxxLqEyHlyg  5337907015           24                0\n",
       "28452677  BxsxNBfHqgv  5337907015           19                0\n",
       "28452678  Bxj4nbjHzkx  5337907015           31                4\n",
       "28452679  BxXxQAXnOkL  5337907015           15                0\n",
       "28452680  BxXZvyfhLCz  5337907015           17                1\n",
       "28452681  BxVbbxihvLJ  5337907015           16                0\n",
       "28452682  BxTV32ahahQ  5337907015           15                2\n",
       "28452683  BxPa3dUhPtk  5337907015           26                0\n",
       "28452684  BxOmh2QBn1q  5337907015           19                0\n",
       "28452685  BxMyVcwhjs6  5337907015           20                0\n",
       "28452686  Bw-vVJsFZ-t  5337907015            6                5\n",
       "28452687  BwzkHAWh1ff  5337907015           22                0\n",
       "28452688  BwyVNqSB167  5337907015           16                1\n",
       "28452689  BwhkuLblrOs  5337907015           18                0\n",
       "28452690  BwHZPqvhuBC  5337907015           25                6\n",
       "28452691  BwCKGP5BF5g  5337907015           29                2\n",
       "28452692  BwBNmHiBYV3  5337907015           22                0\n",
       "28452693  BvqVmBVBOsY  5337907015           21                0\n",
       "28452694  BvHrnrMhBi9  5337907015           21                0\n",
       "28452695  BvGARlZh6M9  5337907015           21                0\n",
       "33826690  ByK_5hhnY0o  5337907015           33                2"
      ]
     },
     "execution_count": 39,
     "metadata": {},
     "output_type": "execute_result"
    }
   ],
   "source": [
    "# let's try the function with an example profile_id\n",
    "example = 5337907015\n",
    "post_finder(example)"
   ]
  },
  {
   "cell_type": "markdown",
   "id": "528b8e59-690a-4b2b-9238-b15d2b9abb75",
   "metadata": {},
   "source": [
    "#### $\\bullet$ Write another function that, given an input n (an integer), will return the posts that belong to the n top posted profiles (top n profiles that have posted the highest number of posts) that their data is available in the profile.csv using the previously written function."
   ]
  },
  {
   "cell_type": "code",
   "execution_count": 40,
   "id": "e90eec0b-a721-4661-9d99-94e4b5c1418b",
   "metadata": {},
   "outputs": [],
   "source": [
    "sub_profiles = profiles.col(['profile_id', 'n_posts'])"
   ]
  },
  {
   "cell_type": "code",
   "execution_count": 41,
   "id": "653f0063-40f5-478d-9f04-d930ed681d6f",
   "metadata": {},
   "outputs": [],
   "source": [
    "def top_posts_profiles(n):\n",
    "    # find the n profiles who post the most using profiles dataset\n",
    "    top10_profiles = sub_profiles.nlargest(n, 'n_posts')\n",
    "    # search and return all the posts that belongs to \"prof\"\n",
    "    return sub_posts.loc[sub_posts['profile_id'].isin(top10_profiles['profile_id']), \n",
    "                         [\"profile_id\", \"post_id\", \"numbr_likes\", \"number_comments\"]]"
   ]
  },
  {
   "cell_type": "code",
   "execution_count": 42,
   "id": "597a32f7-e3b5-4707-9335-66f658d3e766",
   "metadata": {},
   "outputs": [
    {
     "data": {
      "text/html": [
       "<div>\n",
       "<style scoped>\n",
       "    .dataframe tbody tr th:only-of-type {\n",
       "        vertical-align: middle;\n",
       "    }\n",
       "\n",
       "    .dataframe tbody tr th {\n",
       "        vertical-align: top;\n",
       "    }\n",
       "\n",
       "    .dataframe thead th {\n",
       "        text-align: right;\n",
       "    }\n",
       "</style>\n",
       "<table border=\"1\" class=\"dataframe\">\n",
       "  <thead>\n",
       "    <tr style=\"text-align: right;\">\n",
       "      <th></th>\n",
       "      <th>profile_id</th>\n",
       "      <th>post_id</th>\n",
       "      <th>numbr_likes</th>\n",
       "      <th>number_comments</th>\n",
       "    </tr>\n",
       "    <tr>\n",
       "      <th>sid</th>\n",
       "      <th></th>\n",
       "      <th></th>\n",
       "      <th></th>\n",
       "      <th></th>\n",
       "    </tr>\n",
       "  </thead>\n",
       "  <tbody>\n",
       "    <tr>\n",
       "      <th>8768851</th>\n",
       "      <td>199664772</td>\n",
       "      <td>3V4OeXypTT</td>\n",
       "      <td>19</td>\n",
       "      <td>0</td>\n",
       "    </tr>\n",
       "    <tr>\n",
       "      <th>9253732</th>\n",
       "      <td>8563366588</td>\n",
       "      <td>BxJp4i3pArJ</td>\n",
       "      <td>0</td>\n",
       "      <td>0</td>\n",
       "    </tr>\n",
       "    <tr>\n",
       "      <th>9253733</th>\n",
       "      <td>8563366588</td>\n",
       "      <td>BxJp2qgpVJo</td>\n",
       "      <td>0</td>\n",
       "      <td>0</td>\n",
       "    </tr>\n",
       "    <tr>\n",
       "      <th>9253736</th>\n",
       "      <td>8563366588</td>\n",
       "      <td>BxJpzW4J6Aq</td>\n",
       "      <td>0</td>\n",
       "      <td>0</td>\n",
       "    </tr>\n",
       "    <tr>\n",
       "      <th>9253737</th>\n",
       "      <td>8563366588</td>\n",
       "      <td>BxJpxSLp4rB</td>\n",
       "      <td>0</td>\n",
       "      <td>0</td>\n",
       "    </tr>\n",
       "    <tr>\n",
       "      <th>...</th>\n",
       "      <td>...</td>\n",
       "      <td>...</td>\n",
       "      <td>...</td>\n",
       "      <td>...</td>\n",
       "    </tr>\n",
       "    <tr>\n",
       "      <th>39883139</th>\n",
       "      <td>1273455368</td>\n",
       "      <td>Bz6mAlXpyCK</td>\n",
       "      <td>3</td>\n",
       "      <td>0</td>\n",
       "    </tr>\n",
       "    <tr>\n",
       "      <th>39883141</th>\n",
       "      <td>1273455368</td>\n",
       "      <td>Bz6l-HkpF8G</td>\n",
       "      <td>2</td>\n",
       "      <td>0</td>\n",
       "    </tr>\n",
       "    <tr>\n",
       "      <th>39883143</th>\n",
       "      <td>1273455368</td>\n",
       "      <td>Bz6lo6RpKQF</td>\n",
       "      <td>2</td>\n",
       "      <td>0</td>\n",
       "    </tr>\n",
       "    <tr>\n",
       "      <th>39883145</th>\n",
       "      <td>1273455368</td>\n",
       "      <td>Bz6VVamJ73y</td>\n",
       "      <td>2</td>\n",
       "      <td>0</td>\n",
       "    </tr>\n",
       "    <tr>\n",
       "      <th>39883147</th>\n",
       "      <td>1273455368</td>\n",
       "      <td>Bz4nObeJBHe</td>\n",
       "      <td>4</td>\n",
       "      <td>0</td>\n",
       "    </tr>\n",
       "  </tbody>\n",
       "</table>\n",
       "<p>61 rows × 4 columns</p>\n",
       "</div>"
      ],
      "text/plain": [
       "          profile_id      post_id  numbr_likes  number_comments\n",
       "sid                                                            \n",
       "8768851    199664772   3V4OeXypTT           19                0\n",
       "9253732   8563366588  BxJp4i3pArJ            0                0\n",
       "9253733   8563366588  BxJp2qgpVJo            0                0\n",
       "9253736   8563366588  BxJpzW4J6Aq            0                0\n",
       "9253737   8563366588  BxJpxSLp4rB            0                0\n",
       "...              ...          ...          ...              ...\n",
       "39883139  1273455368  Bz6mAlXpyCK            3                0\n",
       "39883141  1273455368  Bz6l-HkpF8G            2                0\n",
       "39883143  1273455368  Bz6lo6RpKQF            2                0\n",
       "39883145  1273455368  Bz6VVamJ73y            2                0\n",
       "39883147  1273455368  Bz4nObeJBHe            4                0\n",
       "\n",
       "[61 rows x 4 columns]"
      ]
     },
     "execution_count": 42,
     "metadata": {},
     "output_type": "execute_result"
    }
   ],
   "source": [
    "example = 3\n",
    "top_posts_profiles(example)"
   ]
  },
  {
   "cell_type": "markdown",
   "id": "0e1c4833-aa87-4230-8449-a8752fbc31bc",
   "metadata": {},
   "source": [
    "#### $\\bullet$ What is the average number of \"likes\" and comments of the top 10 profiles with the highest number of posts which their information is available in profile.csv?"
   ]
  },
  {
   "cell_type": "code",
   "execution_count": 43,
   "id": "3080f46f-8982-4c54-9b6c-9247ec204612",
   "metadata": {},
   "outputs": [
    {
     "data": {
      "text/html": [
       "<div>\n",
       "<style scoped>\n",
       "    .dataframe tbody tr th:only-of-type {\n",
       "        vertical-align: middle;\n",
       "    }\n",
       "\n",
       "    .dataframe tbody tr th {\n",
       "        vertical-align: top;\n",
       "    }\n",
       "\n",
       "    .dataframe thead th {\n",
       "        text-align: right;\n",
       "    }\n",
       "</style>\n",
       "<table border=\"1\" class=\"dataframe\">\n",
       "  <thead>\n",
       "    <tr style=\"text-align: right;\">\n",
       "      <th></th>\n",
       "      <th>numbr_likes</th>\n",
       "    </tr>\n",
       "    <tr>\n",
       "      <th>profile_id</th>\n",
       "      <th></th>\n",
       "    </tr>\n",
       "  </thead>\n",
       "  <tbody>\n",
       "    <tr>\n",
       "      <th>9813508</th>\n",
       "      <td>0.3</td>\n",
       "    </tr>\n",
       "    <tr>\n",
       "      <th>199664772</th>\n",
       "      <td>7.67</td>\n",
       "    </tr>\n",
       "    <tr>\n",
       "      <th>218172998</th>\n",
       "      <td>0.4</td>\n",
       "    </tr>\n",
       "    <tr>\n",
       "      <th>285549744</th>\n",
       "      <td>3.92</td>\n",
       "    </tr>\n",
       "    <tr>\n",
       "      <th>1087613619</th>\n",
       "      <td>2.03</td>\n",
       "    </tr>\n",
       "    <tr>\n",
       "      <th>1273455368</th>\n",
       "      <td>2.96</td>\n",
       "    </tr>\n",
       "    <tr>\n",
       "      <th>1603889832</th>\n",
       "      <td>6.48</td>\n",
       "    </tr>\n",
       "    <tr>\n",
       "      <th>1607309412</th>\n",
       "      <td>1.54</td>\n",
       "    </tr>\n",
       "    <tr>\n",
       "      <th>8563366588</th>\n",
       "      <td>0.0</td>\n",
       "    </tr>\n",
       "  </tbody>\n",
       "</table>\n",
       "</div>"
      ],
      "text/plain": [
       "            numbr_likes\n",
       "profile_id             \n",
       "9813508             0.3\n",
       "199664772          7.67\n",
       "218172998           0.4\n",
       "285549744          3.92\n",
       "1087613619         2.03\n",
       "1273455368         2.96\n",
       "1603889832         6.48\n",
       "1607309412         1.54\n",
       "8563366588          0.0"
      ]
     },
     "execution_count": 43,
     "metadata": {},
     "output_type": "execute_result"
    }
   ],
   "source": [
    "# through the previously created function it finds all the posts of the 10 users who post the most \n",
    "# with the associated number of likes and comments\n",
    "top10 = top_posts_profiles(10)\n",
    "# groups by profile_id and calculates the average of the number of likes their posts have got\n",
    "round(top10[['profile_id', 'numbr_likes']].groupby('profile_id').mean(), 2)"
   ]
  },
  {
   "cell_type": "code",
   "execution_count": 44,
   "id": "32e5cc1b-ac65-48f3-8b13-5d1ea1ba6a4e",
   "metadata": {},
   "outputs": [
    {
     "data": {
      "text/html": [
       "<div>\n",
       "<style scoped>\n",
       "    .dataframe tbody tr th:only-of-type {\n",
       "        vertical-align: middle;\n",
       "    }\n",
       "\n",
       "    .dataframe tbody tr th {\n",
       "        vertical-align: top;\n",
       "    }\n",
       "\n",
       "    .dataframe thead th {\n",
       "        text-align: right;\n",
       "    }\n",
       "</style>\n",
       "<table border=\"1\" class=\"dataframe\">\n",
       "  <thead>\n",
       "    <tr style=\"text-align: right;\">\n",
       "      <th></th>\n",
       "      <th>number_comments</th>\n",
       "    </tr>\n",
       "    <tr>\n",
       "      <th>profile_id</th>\n",
       "      <th></th>\n",
       "    </tr>\n",
       "  </thead>\n",
       "  <tbody>\n",
       "    <tr>\n",
       "      <th>9813508</th>\n",
       "      <td>0.0</td>\n",
       "    </tr>\n",
       "    <tr>\n",
       "      <th>199664772</th>\n",
       "      <td>0.0</td>\n",
       "    </tr>\n",
       "    <tr>\n",
       "      <th>218172998</th>\n",
       "      <td>0.04</td>\n",
       "    </tr>\n",
       "    <tr>\n",
       "      <th>285549744</th>\n",
       "      <td>0.0</td>\n",
       "    </tr>\n",
       "    <tr>\n",
       "      <th>1087613619</th>\n",
       "      <td>0.18</td>\n",
       "    </tr>\n",
       "    <tr>\n",
       "      <th>1273455368</th>\n",
       "      <td>0.04</td>\n",
       "    </tr>\n",
       "    <tr>\n",
       "      <th>1603889832</th>\n",
       "      <td>0.04</td>\n",
       "    </tr>\n",
       "    <tr>\n",
       "      <th>1607309412</th>\n",
       "      <td>0.0</td>\n",
       "    </tr>\n",
       "    <tr>\n",
       "      <th>8563366588</th>\n",
       "      <td>0.0</td>\n",
       "    </tr>\n",
       "  </tbody>\n",
       "</table>\n",
       "</div>"
      ],
      "text/plain": [
       "            number_comments\n",
       "profile_id                 \n",
       "9813508                 0.0\n",
       "199664772               0.0\n",
       "218172998              0.04\n",
       "285549744               0.0\n",
       "1087613619             0.18\n",
       "1273455368             0.04\n",
       "1603889832             0.04\n",
       "1607309412              0.0\n",
       "8563366588              0.0"
      ]
     },
     "execution_count": 44,
     "metadata": {},
     "output_type": "execute_result"
    }
   ],
   "source": [
    "# groups by profile_id and calculates the average of the number of comments their posts have got\n",
    "round(top10[['profile_id', 'number_comments']].groupby('profile_id').mean(), 2)"
   ]
  },
  {
   "cell_type": "code",
   "execution_count": 45,
   "id": "c537665c-015b-464b-979a-153322179059",
   "metadata": {},
   "outputs": [],
   "source": [
    "del sub_posts, sub_profiles"
   ]
  },
  {
   "cell_type": "markdown",
   "id": "fb089129-4955-4206-b75c-95bcff2cb3b4",
   "metadata": {},
   "source": [
    "#### $\\bullet$ Plot the number of posts that these top 10 profiles have sent on Instagram in the given interval in question RQ3. Interpret the resulting chart."
   ]
  },
  {
   "cell_type": "code",
   "execution_count": 46,
   "id": "3533f401-96d2-4bad-bb59-5e3c1fd1e1d6",
   "metadata": {},
   "outputs": [],
   "source": [
    "# slightly modified version of the function created in step 3\n",
    "def inter_v2(h, inters):\n",
    "    assert inters[0] == 0 and inters[-1]==24, 'Intervals list must start at 0 and end at 24'\n",
    "    for i in range(len(inters) - 1):\n",
    "        if h >= inters[i] and h < inters[i+1]:\n",
    "            return i"
   ]
  },
  {
   "cell_type": "code",
   "execution_count": 47,
   "id": "b8ee9865-49f9-43e4-9d27-9679e5c9a9e4",
   "metadata": {},
   "outputs": [],
   "source": [
    "# create a new subset that contains only profile_id and cts\n",
    "posts_cts = posts.col(['profile_id', 'cts'], index=False)\n",
    "# keep only the rows in which a profile_id belonging to the top 10 appears\n",
    "posts_cts = posts_cts[posts_cts[\"profile_id\"].isin(top10['profile_id'].value_counts().index.tolist())]\n",
    "# add a column called hour in the same way of exercise 3\n",
    "posts_cts['hour'] = posts_cts['cts'].map(lambda x: x.hour).astype('Int8')\n",
    "# add a column called intervals in the same way of exercise 3\n",
    "posts_cts['intervals'] = posts_cts['hour'].map(lambda h :inter_v2(h, [0,3,6,11,14,17,20,24]))"
   ]
  },
  {
   "cell_type": "code",
   "execution_count": 48,
   "id": "d20c72af-1935-43ee-b9cf-34b0bdcc31c2",
   "metadata": {},
   "outputs": [],
   "source": [
    "# for each user of the top 10 it counts how many posts he made in each of the established time intervals\n",
    "prof_posts_hour = pd.crosstab(posts_cts.profile_id, posts_cts.intervals).replace(0,np.nan).\\\n",
    "     stack().reset_index().rename(columns={0:'Time'})"
   ]
  },
  {
   "cell_type": "code",
   "execution_count": 49,
   "id": "4911fb1b-0006-4703-be99-ddb7af086346",
   "metadata": {},
   "outputs": [
    {
     "data": {
      "image/png": "[encoded data removed]",
      "text/plain": [
       "<Figure size 864x360 with 1 Axes>"
      ]
     },
     "metadata": {},
     "output_type": "display_data"
    }
   ],
   "source": [
    "plt.figure(1, figsize=(12, 5))\n",
    "\n",
    "labels=[\"[0, 3)\",\"[3, 6)\", \"[6, 11)\", \"[11, 14)\", \"[14, 17)\", \"[17, 20)\", \"[20, 24)\"]\n",
    "ax = sns.barplot(data=prof_posts_hour, x=\"profile_id\", y=\"Time\", hue=\"intervals\", palette=\"pastel\")\n",
    "plt.xticks(rotation=60)\n",
    "plt.tight_layout()\n",
    "plt.title(\"TOP 10 PROFILES: NUMBER OF POSTS FOR EACH TIME INTERVAL\")\n",
    "plt.xlabel(\"Profile id\")\n",
    "plt.ylabel(\"Frequency\")\n",
    "h, l = ax.get_legend_handles_labels()\n",
    "ax.legend(h, labels, title=\"Time intervals\", loc='upper left')\n",
    "sns.set(rc={'figure.figsize':(12,8)})\n",
    "sns.set_theme(style=\"whitegrid\")\n",
    "plt.show()"
   ]
  },
  {
   "cell_type": "code",
   "execution_count": 50,
   "id": "8af6eb5b-4f2d-443c-b11f-c77346dbd412",
   "metadata": {},
   "outputs": [],
   "source": [
    "del posts_cts, prof_posts_hour, top10"
   ]
  },
  {
   "cell_type": "markdown",
   "id": "ceb965c7-9dc4-4acf-9bb1-8a526875c76c",
   "metadata": {},
   "source": [
    "***\n",
    "\n",
    "### 5. __[RQ5] The most influential users are the ones with the highest number of “followers\", you can now look more into their activity.__\n",
    "\n",
    "***"
   ]
  },
  {
   "cell_type": "markdown",
   "id": "0d8492cd-250f-4f77-aec4-286f4defd079",
   "metadata": {},
   "source": [
    "#### $\\bullet$ Plot the top 10 most popular users in terms of followers and their number of posts."
   ]
  },
  {
   "cell_type": "code",
   "execution_count": 51,
   "id": "72619d3f-392b-46e0-bc46-ead1a756d0b0",
   "metadata": {},
   "outputs": [],
   "source": [
    "# create a new subset that contains only profile_id and cts\n",
    "subset5 = profiles.col(['profile_name', 'followers', 'n_posts']).dropna()"
   ]
  },
  {
   "cell_type": "code",
   "execution_count": 52,
   "id": "395900e2-7a9b-4258-b125-954b6b044ada",
   "metadata": {},
   "outputs": [],
   "source": [
    "# extract only the 10 users with the highest number of followers\n",
    "top10profiles_followers = subset5.nlargest(10, 'followers')"
   ]
  },
  {
   "cell_type": "code",
   "execution_count": 53,
   "id": "e74f4673-3d21-4f2e-8bf2-495fdfc7bb57",
   "metadata": {},
   "outputs": [
    {
     "data": {
      "image/png": "[encoded data removed]",
      "text/plain": [
       "<Figure size 1800x360 with 3 Axes>"
      ]
     },
     "metadata": {},
     "output_type": "display_data"
    }
   ],
   "source": [
    "plt.figure(1, figsize=(25, 5))\n",
    "\n",
    "plt.subplot(1, 3, 1)\n",
    "sns.barplot(data=top10profiles_followers, x='followers', y='profile_name', palette=\"pastel\")\n",
    "plt.title(\"BARPLOT OF THE 10 USERS WITH MOST FOLLOWERS\")\n",
    "plt.ylabel(\"Profiles\")\n",
    "plt.xlabel(\"Numbers of followers * e^7)\")\n",
    "#plt.grid()\n",
    "\n",
    "plt.subplot(1, 3, 2)\n",
    "sns.barplot(data=top10profiles_followers, x='n_posts', y='profile_name', palette=\"pastel\")\n",
    "plt.ylabel('')\n",
    "plt.title('Numbers of posts of the top 10 users')\n",
    "\n",
    "plt.subplot(1, 3, 3)\n",
    "top10profiles_followers['followers'] = top10profiles_followers['followers']/top10profiles_followers['followers'].max()\n",
    "top10profiles_followers['n_posts'] = top10profiles_followers['n_posts']/top10profiles_followers['n_posts'].max()\n",
    "color1 = sns.color_palette(\"pastel\")[0]\n",
    "color2 = sns.color_palette(\"pastel\")[1]\n",
    "plt.barh(top10profiles_followers['profile_name'], top10profiles_followers['followers'], \n",
    "         align='center', color=color1)\n",
    "plt.barh(top10profiles_followers['profile_name'], -top10profiles_followers['n_posts'], \n",
    "         align='center', color=color2)\n",
    "plt.title('Numbers of posts of the top 10 users')\n",
    "\n",
    "plt.show()"
   ]
  },
  {
   "cell_type": "markdown",
   "id": "fdafba41-caee-4f42-a89c-1dd5c59c205c",
   "metadata": {},
   "source": [
    "#### $\\bullet$ Who is the most influential user?"
   ]
  },
  {
   "cell_type": "code",
   "execution_count": 54,
   "id": "b651f721-e48c-43c5-987f-577760ff10c9",
   "metadata": {},
   "outputs": [
    {
     "data": {
      "text/html": [
       "<div>\n",
       "<style scoped>\n",
       "    .dataframe tbody tr th:only-of-type {\n",
       "        vertical-align: middle;\n",
       "    }\n",
       "\n",
       "    .dataframe tbody tr th {\n",
       "        vertical-align: top;\n",
       "    }\n",
       "\n",
       "    .dataframe thead th {\n",
       "        text-align: right;\n",
       "    }\n",
       "</style>\n",
       "<table border=\"1\" class=\"dataframe\">\n",
       "  <thead>\n",
       "    <tr style=\"text-align: right;\">\n",
       "      <th></th>\n",
       "      <th>profile_name</th>\n",
       "    </tr>\n",
       "    <tr>\n",
       "      <th>sid</th>\n",
       "      <th></th>\n",
       "    </tr>\n",
       "  </thead>\n",
       "  <tbody>\n",
       "    <tr>\n",
       "      <th>336492</th>\n",
       "      <td>instagram</td>\n",
       "    </tr>\n",
       "  </tbody>\n",
       "</table>\n",
       "</div>"
      ],
      "text/plain": [
       "       profile_name\n",
       "sid                \n",
       "336492    instagram"
      ]
     },
     "execution_count": 54,
     "metadata": {},
     "output_type": "execute_result"
    }
   ],
   "source": [
    "top10profiles_followers[['profile_name']].head(1)"
   ]
  },
  {
   "cell_type": "markdown",
   "id": "6a62102a-bf86-4dad-b1a7-0b8bfcbe82ae",
   "metadata": {},
   "source": [
    "The most influential user is the one with the most followers, so it's Instagram "
   ]
  },
  {
   "cell_type": "markdown",
   "id": "9a46826f-f66d-4573-8890-1c5cda5508b7",
   "metadata": {},
   "source": [
    "#### $\\bullet$ Have they posted anything with tagged locations? Extract the most frequent areas on their posts and plot the number of times each city has been visited."
   ]
  },
  {
   "cell_type": "code",
   "execution_count": 55,
   "id": "300c50ef-a374-4a45-b818-fe7aac16f418",
   "metadata": {},
   "outputs": [],
   "source": [
    "# subset with only the needed columns of dataset posts\n",
    "post_locations = posts.col(['sid_profile', 'location_id', 'post_type']).dropna()"
   ]
  },
  {
   "cell_type": "code",
   "execution_count": 56,
   "id": "f905293d-29ad-4850-9cf0-9274dedb5cd1",
   "metadata": {},
   "outputs": [
    {
     "name": "stdout",
     "output_type": "stream",
     "text": [
      "[ True  True  True  True  True  True  True  True  True  True]\n"
     ]
    }
   ],
   "source": [
    "# check for every influent user if they have tagged any location in a post\n",
    "post_locations_influent = post_locations.loc[post_locations['sid_profile'].isin(top10profiles_followers.index), \n",
    "                                             ['sid_profile', 'location_id']]\n",
    "print(top10profiles_followers.index.isin(post_locations_influent['sid_profile']))"
   ]
  },
  {
   "cell_type": "markdown",
   "id": "530abcd5-7d3e-4702-a845-db55d650a24f",
   "metadata": {},
   "source": [
    "All of them has at least one post with a tagged location"
   ]
  },
  {
   "cell_type": "code",
   "execution_count": 57,
   "id": "e13be472-55c6-4cff-ad00-f3fce61a3511",
   "metadata": {},
   "outputs": [],
   "source": [
    "# subset with only the needed columns of dataset locations\n",
    "locations_city = locations.col(['id', 'city'])"
   ]
  },
  {
   "cell_type": "code",
   "execution_count": 58,
   "id": "147ba6d1-a975-44ec-9ea0-9f6d9f0e7da2",
   "metadata": {},
   "outputs": [],
   "source": [
    "# to find the cities most visited (it will takes the first ten)\n",
    "top_city = locations_city.loc[locations_city['id'].isin(post_locations_influent['location_id'])].city.value_counts().head(10)\n",
    "# we eliminate one of the location because it has no name\n",
    "top_city = top_city[top_city.index != '']"
   ]
  },
  {
   "cell_type": "code",
   "execution_count": 59,
   "id": "66ebb077-5bb2-4a35-8600-7cb6d791dc80",
   "metadata": {},
   "outputs": [
    {
     "data": {
      "image/png": "[encoded data removed]",
      "text/plain": [
       "<Figure size 720x360 with 1 Axes>"
      ]
     },
     "metadata": {},
     "output_type": "display_data"
    }
   ],
   "source": [
    "plt.figure(1, figsize=(10, 5))\n",
    "sns.barplot(x=top_city, y=top_city.index, palette='pastel')\n",
    "plt.xlabel('Frequencies')\n",
    "plt.ylabel('Cities')\n",
    "plt.title('MOST VISITED CITIES BY TOP 10 MOST INFLUENTIAL USERS')\n",
    "plt.show()"
   ]
  },
  {
   "cell_type": "markdown",
   "id": "522a6ca5-f015-4745-995b-3d26bcf98655",
   "metadata": {},
   "source": [
    "#### $\\bullet$ How many pictures-only posts have they published? How many reels? (only videos) and how many with both contents? Provide the number as percentages and interpret those figures."
   ]
  },
  {
   "cell_type": "code",
   "execution_count": null,
   "id": "28512909-04fc-497a-a5a6-4c6c02b69709",
   "metadata": {},
   "outputs": [],
   "source": []
  },
  {
   "cell_type": "markdown",
   "id": "de51d658-edf1-43cf-8068-b1a9051ed01d",
   "metadata": {},
   "source": [
    "#### $\\bullet$ How many \"likes\" and comments did posts with only pictures receive? How about videos and mixed posts? Try to provide the average numbers and confront them with their followers amount, explaining what you can say from that comparison."
   ]
  },
  {
   "cell_type": "code",
   "execution_count": null,
   "id": "4ddf200a-21c6-4d52-aec8-aae2a8eb1b3d",
   "metadata": {},
   "outputs": [],
   "source": []
  },
  {
   "cell_type": "code",
   "execution_count": 60,
   "id": "6cbdb87f-d791-4a30-9766-e1ea98ea66fb",
   "metadata": {},
   "outputs": [],
   "source": [
    "del subset5, top10profiles_followers, post_locations, post_locations_influent, locations_city, top_city"
   ]
  },
  {
   "cell_type": "markdown",
   "id": "0aaad3c9-6b4c-4ebb-8bc6-4f2290ca0227",
   "metadata": {},
   "source": [
    "### 6. __[RQ6] It's time to get information from the user posting effectiveness.__"
   ]
  },
  {
   "cell_type": "markdown",
   "id": "8d20edc1-ab9d-4b94-b130-4dc92457e354",
   "metadata": {
    "_cell_guid": "587eb1a4-1d2e-4c6c-a77e-cb789f38b3d8",
    "_uuid": "6780ebd7-940c-4ea5-97b5-f70ed3a06849"
   },
   "source": [
    "#### What is the average time (days and minutes) a user lets pass before publishing another post? Plot the top 3 users that publish posts more frequently (calculate the average time that passes between posts), including their amount of followers and following. Provide insights from that chart."
   ]
  },
  {
   "cell_type": "code",
   "execution_count": 131,
   "id": "7ef5225c-fa5b-422d-8dae-2a469d413ea2",
   "metadata": {
    "_cell_guid": "ec58c250-acb2-4fa0-8750-a48c268bbb8d",
    "_uuid": "b5618895-1969-4a97-88cc-1f95a3ecfbb7",
    "execution": {
     "iopub.execute_input": "2022-10-25T10:42:52.993560Z",
     "iopub.status.busy": "2022-10-25T10:42:52.991749Z",
     "iopub.status.idle": "2022-10-25T11:01:35.074184Z",
     "shell.execute_reply": "2022-10-25T11:01:35.072334Z",
     "shell.execute_reply.started": "2022-10-25T10:42:52.993502Z"
    }
   },
   "outputs": [
    {
     "data": {
      "text/html": [
       "<div>\n",
       "<style scoped>\n",
       "    .dataframe tbody tr th:only-of-type {\n",
       "        vertical-align: middle;\n",
       "    }\n",
       "\n",
       "    .dataframe tbody tr th {\n",
       "        vertical-align: top;\n",
       "    }\n",
       "\n",
       "    .dataframe thead th {\n",
       "        text-align: right;\n",
       "    }\n",
       "</style>\n",
       "<table border=\"1\" class=\"dataframe\">\n",
       "  <thead>\n",
       "    <tr style=\"text-align: right;\">\n",
       "      <th></th>\n",
       "      <th></th>\n",
       "      <th>drift</th>\n",
       "      <th>count</th>\n",
       "    </tr>\n",
       "    <tr>\n",
       "      <th>profile_id</th>\n",
       "      <th>sid_profile</th>\n",
       "      <th></th>\n",
       "      <th></th>\n",
       "    </tr>\n",
       "  </thead>\n",
       "  <tbody>\n",
       "    <tr>\n",
       "      <th>2237947779</th>\n",
       "      <th>3496776</th>\n",
       "      <td>17 days 10:03:56.027027</td>\n",
       "      <td>38</td>\n",
       "    </tr>\n",
       "    <tr>\n",
       "      <th>11771599</th>\n",
       "      <th>3303402</th>\n",
       "      <td>79 days 09:58:46.133333</td>\n",
       "      <td>16</td>\n",
       "    </tr>\n",
       "    <tr>\n",
       "      <th>6027750611</th>\n",
       "      <th>3406435</th>\n",
       "      <td>2 days 02:45:14.545454</td>\n",
       "      <td>12</td>\n",
       "    </tr>\n",
       "    <tr>\n",
       "      <th>6263700119</th>\n",
       "      <th>3529017</th>\n",
       "      <td>3 days 18:16:18.687500</td>\n",
       "      <td>17</td>\n",
       "    </tr>\n",
       "    <tr>\n",
       "      <th>2873605885</th>\n",
       "      <th>3206132</th>\n",
       "      <td>124 days 00:16:34.333333</td>\n",
       "      <td>4</td>\n",
       "    </tr>\n",
       "  </tbody>\n",
       "</table>\n",
       "</div>"
      ],
      "text/plain": [
       "                                          drift  count\n",
       "profile_id sid_profile                                \n",
       "2237947779 3496776      17 days 10:03:56.027027     38\n",
       "11771599   3303402      79 days 09:58:46.133333     16\n",
       "6027750611 3406435       2 days 02:45:14.545454     12\n",
       "6263700119 3529017       3 days 18:16:18.687500     17\n",
       "2873605885 3206132     124 days 00:16:34.333333      4"
      ]
     },
     "execution_count": 131,
     "metadata": {},
     "output_type": "execute_result"
    }
   ],
   "source": [
    "# TODO maybe it's better to load \n",
    "    # 'sid_profile' since it's of int type and can be connected to profiles table\n",
    "    # 'profile_id' since it includes all profiles id (less null?) and otherwise most of the values get smashed into -1\n",
    "drift = lambda g: (g.max() - g.min()) / (g.count()-1) if g.shape[0] > 1 else pd.NA\n",
    "\n",
    "post_time = posts\\\n",
    "                .col(['profile_id','sid_profile','cts'], index=None)\\\n",
    "                .groupby(by=['profile_id','sid_profile'], sort=False, dropna=True)\\\n",
    "                .aggregate(\n",
    "                        drift=pd.NamedAgg(column=\"cts\", aggfunc=drift),\n",
    "                        count=pd.NamedAgg(column=\"cts\", aggfunc=\"count\"))\\\n",
    "                .dropna()\n",
    "post_time = post_time[post_time.index.get_level_values('sid_profile') != -1]\n",
    "post_time['drift'] = post_time['drift'].astype('timedelta64[ns]')\n",
    "post_time.head()"
   ]
  },
  {
   "cell_type": "markdown",
   "id": "6a48933d-17bf-4dd4-99b7-42da0a5068ff",
   "metadata": {
    "_cell_guid": "7f1b9b41-23a0-4e4f-a201-93b8e90a3f4d",
    "_uuid": "b2a63656-c10a-47f2-aefe-292ab8989598"
   },
   "source": [
    "We want to note that this kind of metric, as taken by itself alone, has **little or no value** since it doesn't take in account the number of posts, and it's not robust at all.\n",
    "\n",
    "For example it could happen that people that have posted only a couple of times in a small interval of time are labeled as the most frequent post publishers."
   ]
  },
  {
   "cell_type": "code",
   "execution_count": 132,
   "id": "153959e7-4a9b-422a-ad00-23ce1550d90e",
   "metadata": {
    "_cell_guid": "4d4be03a-03aa-4a8c-8144-8546c81ecc70",
    "_uuid": "c9d146bd-6ef9-46dd-82a1-0113c3d83fb7",
    "execution": {
     "iopub.execute_input": "2022-10-25T11:01:35.078090Z",
     "iopub.status.busy": "2022-10-25T11:01:35.076886Z",
     "iopub.status.idle": "2022-10-25T11:01:44.280473Z",
     "shell.execute_reply": "2022-10-25T11:01:44.278610Z",
     "shell.execute_reply.started": "2022-10-25T11:01:35.077999Z"
    }
   },
   "outputs": [
    {
     "data": {
      "text/html": [
       "<div>\n",
       "<style scoped>\n",
       "    .dataframe tbody tr th:only-of-type {\n",
       "        vertical-align: middle;\n",
       "    }\n",
       "\n",
       "    .dataframe tbody tr th {\n",
       "        vertical-align: top;\n",
       "    }\n",
       "\n",
       "    .dataframe thead th {\n",
       "        text-align: right;\n",
       "    }\n",
       "</style>\n",
       "<table border=\"1\" class=\"dataframe\">\n",
       "  <thead>\n",
       "    <tr style=\"text-align: right;\">\n",
       "      <th></th>\n",
       "      <th>drift</th>\n",
       "      <th>count</th>\n",
       "      <th>following</th>\n",
       "      <th>followers</th>\n",
       "    </tr>\n",
       "  </thead>\n",
       "  <tbody>\n",
       "    <tr>\n",
       "      <th>520414</th>\n",
       "      <td>0 days 00:01:00.090909</td>\n",
       "      <td>12</td>\n",
       "      <td>147</td>\n",
       "      <td>111</td>\n",
       "    </tr>\n",
       "    <tr>\n",
       "      <th>1296750</th>\n",
       "      <td>0 days 00:01:00.090909</td>\n",
       "      <td>12</td>\n",
       "      <td>1598</td>\n",
       "      <td>891</td>\n",
       "    </tr>\n",
       "    <tr>\n",
       "      <th>2795357</th>\n",
       "      <td>0 days 00:01:00.090909</td>\n",
       "      <td>12</td>\n",
       "      <td>7587</td>\n",
       "      <td>2798</td>\n",
       "    </tr>\n",
       "  </tbody>\n",
       "</table>\n",
       "</div>"
      ],
      "text/plain": [
       "                         drift  count  following  followers\n",
       "520414  0 days 00:01:00.090909     12        147        111\n",
       "1296750 0 days 00:01:00.090909     12       1598        891\n",
       "2795357 0 days 00:01:00.090909     12       7587       2798"
      ]
     },
     "execution_count": 132,
     "metadata": {},
     "output_type": "execute_result"
    }
   ],
   "source": [
    "N3 = 3 # 100\n",
    "post_time = post_time[\n",
    "    (post_time.index.get_level_values('sid_profile') != -1) &\\\n",
    "    (post_time['drift'] > pd.Timedelta(minutes=1)) # if a post occurs before in under 1 minute from another post is probably a double counting issue or repost \n",
    "]\n",
    "top3 =  post_time.nsmallest(N3*10, columns=['drift'])\n",
    "\n",
    "top3 = pd.concat([\n",
    "    top3.droplevel('profile_id'),\n",
    "    profiles.col(['followers', 'following'], index=True).dropna()\n",
    "], axis=1, join='inner')\n",
    "top3.head(N3)"
   ]
  },
  {
   "cell_type": "markdown",
   "id": "6a9829f6-f806-4361-a4e3-7dd3a701640f",
   "metadata": {
    "_cell_guid": "5826b5ce-2271-425b-8cdc-476f6bd87723",
    "_uuid": "d25f63e5-00cd-4c9b-afdc-8a5a708ebb00"
   },
   "source": [
    "Here I plot on a graph the first 3 top frequency post publishers (excluding those that do not have a following/followers infos)\n",
    "\n",
    "I honestly do not get any insight from this graph because:\n",
    "- 3 isn't enough to get any useful insights\n",
    "- this frequency measure we're taking in is not robust at all, and shouldn't be considered into account (for the aforementioned reasons)\n",
    "- even when plotting much more points, the plot doesn't show any correlation between drift and the other two features\n",
    "- some of the elements have $T = 0$, meaning that it may have happened that some posts have been posted in the exact same moment by the same account $frequency = \\frac{1}{T} = \\infty$"
   ]
  },
  {
   "cell_type": "code",
   "execution_count": 133,
   "id": "df708896-4ad9-4456-8889-0f92c1608a9d",
   "metadata": {
    "_cell_guid": "6e081f51-1501-4836-9626-09ae5b5df78f",
    "_uuid": "8f5a8ce2-bd05-4cce-bf50-30f90ffadd41",
    "execution": {
     "iopub.execute_input": "2022-10-25T11:01:44.282949Z",
     "iopub.status.busy": "2022-10-25T11:01:44.282548Z",
     "iopub.status.idle": "2022-10-25T11:01:44.856042Z",
     "shell.execute_reply": "2022-10-25T11:01:44.854817Z",
     "shell.execute_reply.started": "2022-10-25T11:01:44.282914Z"
    }
   },
   "outputs": [
    {
     "data": {
      "image/png": "[encoded data removed]",
      "text/plain": [
       "<Figure size 720x360 with 1 Axes>"
      ]
     },
     "metadata": {},
     "output_type": "display_data"
    }
   ],
   "source": [
    "ax = sns.scatterplot(data=top3.iloc[:N3],\n",
    "                x=\"following\", \n",
    "                y=\"followers\", \n",
    "                size=3600/top3['drift'].dt.total_seconds(), \n",
    "                sizes=(10,1000),\n",
    "                palette=\"pastel\")\n",
    "ax.legend(title='Avg # posts per hour')\n",
    "ax.set_yscale('log')\n",
    "plt.show()"
   ]
  },
  {
   "cell_type": "code",
   "execution_count": null,
   "id": "0229bda9-cdc5-4eda-b52e-17b7ea29aa85",
   "metadata": {
    "_cell_guid": "6799883c-06fb-451a-a600-da286c30d301",
    "_uuid": "97c3acbc-af40-41bf-b362-1a2bfc229aa0",
    "execution": {
     "iopub.execute_input": "2022-10-24T20:27:53.763220Z",
     "iopub.status.busy": "2022-10-24T20:27:53.761933Z",
     "iopub.status.idle": "2022-10-24T20:27:53.768402Z",
     "shell.execute_reply": "2022-10-24T20:27:53.767229Z",
     "shell.execute_reply.started": "2022-10-24T20:27:53.763168Z"
    }
   },
   "outputs": [],
   "source": [
    "del top3 \n",
    "del post_time"
   ]
  },
  {
   "cell_type": "markdown",
   "id": "b7deeea1-2bab-42ba-9b9b-5c93f21f458f",
   "metadata": {
    "_cell_guid": "9f29409a-a137-4a30-82ba-69da1888b819",
    "_uuid": "e73ffe60-9b82-44ec-885f-a234ecf01dd8"
   },
   "source": [
    "#### Using the function you previously coded, plot the time intervals with the highest average number of “likes” and the ones with the highest average number of comments on posts."
   ]
  },
  {
   "cell_type": "code",
   "execution_count": 134,
   "id": "35ef1f0a-b1cb-4397-8509-b9abd6e9e5d1",
   "metadata": {
    "_cell_guid": "dacac989-b36b-40f1-be82-49a136cf5479",
    "_uuid": "d4f6643d-ec0f-4dd8-808d-322be2d26f78",
    "execution": {
     "iopub.execute_input": "2022-10-25T11:01:44.859709Z",
     "iopub.status.busy": "2022-10-25T11:01:44.858941Z",
     "iopub.status.idle": "2022-10-25T11:02:42.418001Z",
     "shell.execute_reply": "2022-10-25T11:02:42.416069Z",
     "shell.execute_reply.started": "2022-10-25T11:01:44.859621Z"
    }
   },
   "outputs": [],
   "source": [
    "likes_time = posts.col(['numbr_likes', 'number_comments', 'cts'], index=False)\n",
    "likes_time['hour'] = likes_time['cts'].dt.hour\n",
    "likes_time.drop('cts', inplace=True, axis=1)"
   ]
  },
  {
   "cell_type": "code",
   "execution_count": 135,
   "id": "eb4e513f-0700-4473-aa5b-a14b6704d3d9",
   "metadata": {
    "_cell_guid": "d586cf93-7c66-4899-bc1b-cb490f043f3a",
    "_uuid": "76d0342b-b764-4922-adfd-fd680ffa39a9",
    "execution": {
     "iopub.execute_input": "2022-10-25T11:02:42.420011Z",
     "iopub.status.busy": "2022-10-25T11:02:42.419614Z",
     "iopub.status.idle": "2022-10-25T11:02:44.140544Z",
     "shell.execute_reply": "2022-10-25T11:02:44.139719Z",
     "shell.execute_reply.started": "2022-10-25T11:02:42.419979Z"
    }
   },
   "outputs": [
    {
     "data": {
      "image/png": "[encoded data removed]",
      "text/plain": [
       "<Figure size 720x360 with 1 Axes>"
      ]
     },
     "metadata": {},
     "output_type": "display_data"
    }
   ],
   "source": [
    "plot_intervals(likes_time.groupby(by='hour').agg('mean'), INTERVALS, col_name='numbr_likes')"
   ]
  },
  {
   "cell_type": "code",
   "execution_count": 136,
   "id": "ee810f7c-2cb8-4e37-b958-67d0b3f3fd95",
   "metadata": {
    "_cell_guid": "754dae71-e7fc-48d0-89c6-18fc0558e785",
    "_uuid": "52b3f658-72c7-40b5-b56c-171f9bd7e7dd",
    "execution": {
     "iopub.execute_input": "2022-10-25T11:02:44.142350Z",
     "iopub.status.busy": "2022-10-25T11:02:44.141726Z",
     "iopub.status.idle": "2022-10-25T11:02:45.773169Z",
     "shell.execute_reply": "2022-10-25T11:02:45.772113Z",
     "shell.execute_reply.started": "2022-10-25T11:02:44.142316Z"
    }
   },
   "outputs": [
    {
     "data": {
      "image/png": "[encoded data removed]",
      "text/plain": [
       "<Figure size 720x360 with 1 Axes>"
      ]
     },
     "metadata": {},
     "output_type": "display_data"
    }
   ],
   "source": [
    "plot_intervals(likes_time.groupby(by='hour').agg('mean'), INTERVALS, col_name='number_comments')"
   ]
  },
  {
   "cell_type": "code",
   "execution_count": null,
   "id": "d26e8ede-9f8d-4288-8486-b615191f1486",
   "metadata": {
    "_cell_guid": "e8cffc47-e74d-44e2-97fc-918b3e0c0f1c",
    "_uuid": "92a5258f-3a98-44de-9979-16e5f9e4f1da",
    "execution": {
     "iopub.execute_input": "2022-10-24T18:51:31.345659Z",
     "iopub.status.busy": "2022-10-24T18:51:31.344897Z",
     "iopub.status.idle": "2022-10-24T18:51:31.368113Z",
     "shell.execute_reply": "2022-10-24T18:51:31.366725Z",
     "shell.execute_reply.started": "2022-10-24T18:51:31.345613Z"
    }
   },
   "outputs": [],
   "source": [
    "del likes_time"
   ]
  },
  {
   "cell_type": "markdown",
   "id": "d0c036eb-9180-4e15-89d2-dd3027adca47",
   "metadata": {},
   "source": [
    "#### 7. __[RQ7] Of course, calculating probabilities is a job that any Data Scientist must know. So let's compute some engaging figures__"
   ]
  },
  {
   "cell_type": "markdown",
   "id": "24739097-4f7b-4c3e-a37a-207e2f40466f",
   "metadata": {},
   "source": [
    "#### $\\bullet$ What's the probability that a post receives more than 20% \"likes\" of the number of followers a user has?"
   ]
  },
  {
   "cell_type": "code",
   "execution_count": 68,
   "id": "96a95345-9fc1-47f2-9549-72c0ba4db140",
   "metadata": {},
   "outputs": [],
   "source": [
    "# First we create a subset of the posts dataframe that contains only the columns that we need\n",
    "# and the rows for which we have a match (with the user) in the profiles dataset\n",
    "sub_posts = posts.col([\"sid_profile\", \"numbr_likes\"])\n",
    "sub_posts = sub_posts[sub_posts['sid_profile'] != -1]"
   ]
  },
  {
   "cell_type": "code",
   "execution_count": 69,
   "id": "63ffcf87-92af-44a1-b418-f47f9558831a",
   "metadata": {},
   "outputs": [],
   "source": [
    "# We create also a subset for the profiles dataset which contain only \"sid\" and \"followers\" \n",
    "# and the rows different from NA\n",
    "sub_prof = profiles.col([\"followers\"]).dropna()"
   ]
  },
  {
   "cell_type": "code",
   "execution_count": 70,
   "id": "a3bf4c7d-2412-4fc9-9e84-15b910de0e6d",
   "metadata": {},
   "outputs": [],
   "source": [
    "# At this point we merge the to subsets on \"sid_profile\"\n",
    "merged_df = pd.merge(sub_posts, sub_prof, left_on=\"sid_profile\", right_on=sub_prof.index)"
   ]
  },
  {
   "cell_type": "code",
   "execution_count": null,
   "id": "fbd51b91-219c-4cd4-ab83-91367e4363ac",
   "metadata": {},
   "outputs": [],
   "source": [
    "# Then we can calculate the numbers of positive cases\n",
    "pos_cases = (merged_df.apply(lambda x: x.numbr_likes > x.followers*0.2, axis=1)).sum()\n",
    "# And finally we calculate the probability dividing the positive cases for the total number of evaluated posts\n",
    "print(f\"Probability is equal to: {round(pos_cases/merged_df.shape[0], 5)*100}%\")"
   ]
  },
  {
   "cell_type": "code",
   "execution_count": null,
   "id": "5d290ee7-9893-4547-806d-f4dcbbb2a75f",
   "metadata": {},
   "outputs": [],
   "source": [
    "del sub_posts, sub_prof, merged_df, pos_cases"
   ]
  },
  {
   "cell_type": "markdown",
   "id": "5db0abf2-dfd0-487e-b32d-e10c463da0e9",
   "metadata": {},
   "source": [
    "#### $\\bullet$ Do users usually return to locations? Extract the probability that a user returns to a site after having posted it in the past. Does that probability make sense to you? Explain why or why not."
   ]
  },
  {
   "cell_type": "code",
   "execution_count": 14,
   "id": "380d2968-ac57-4046-bdc7-e04fd061ee4c",
   "metadata": {},
   "outputs": [],
   "source": [
    "# Subset that contains only the necessary columns of posts dataset\n",
    "posts_loc = posts.col([\"profile_id\", \"location_id\"])"
   ]
  },
  {
   "cell_type": "code",
   "execution_count": 15,
   "id": "b6252a45-ba84-4e61-9947-070bb70174b3",
   "metadata": {},
   "outputs": [
    {
     "name": "stdout",
     "output_type": "stream",
     "text": [
      "Probability that a user returns to a site after having posted it in the past is equal to: 38.36%\n",
      "Probability that a user returns to a site after having posted it in the past is equal to: 21.52%\n"
     ]
    }
   ],
   "source": [
    "# Then we eliminate the rows that do not contain duplicates in the values of the two columns\n",
    "posts_loc2 = posts_loc[posts_loc.duplicated(subset=[\"profile_id\", \"location_id\"], keep=False)]\n",
    "# As a last step we eliminate the duplicates and take the value of the number of rows left\n",
    "n_duplicates = posts_loc2.drop_duplicates(subset=[\"profile_id\", \"location_id\"]).shape[0]\n",
    "# We are now ready to calculate the probability...\n",
    "# Case 1: considering as denominator the number of total different users:\n",
    "prob_dupl1 = n_duplicates / posts_loc.nunique()[0]\n",
    "# Case 2: considering as denominator the number of total different couple user-location:\n",
    "prob_dupl2 = n_duplicates / posts_loc.groupby([\"profile_id\", \"location_id\"]).ngroups\n",
    "print(f\"Probability that a user returns to a site after having posted it in the past is equal to: {round(prob_dupl1,4)*100}%\")\n",
    "print(f\"Probability that a user returns to a site after having posted it in the past is equal to: {round(prob_dupl2,4)*100}%\")"
   ]
  },
  {
   "cell_type": "code",
   "execution_count": 13,
   "id": "0b125a95-2f75-4c85-a5ea-476ebb9a60c6",
   "metadata": {},
   "outputs": [],
   "source": [
    "del posts_loc, posts_loc2, n_duplicates"
   ]
  },
  {
   "cell_type": "markdown",
   "id": "463a0b40-f5bb-4c92-bd72-8c6d090f3185",
   "metadata": {},
   "source": [
    "### 8. __[RQ8] Every decision you take in a data-based environment should be reinforced with charts, statistical tests and analysis methods to check whether a hypothesis is correct or not.__"
   ]
  },
  {
   "cell_type": "markdown",
   "id": "0a71fb9b-160c-4dc6-b0ba-b66a0ac8437c",
   "metadata": {},
   "source": [
    "#### $\\bullet$ Does more “likes” also mean more comments? Plot a scatter plot of “likes” vs comments for posts."
   ]
  },
  {
   "cell_type": "code",
   "execution_count": 7,
   "id": "7639a6d6-1d75-4150-bfad-adb8e9f0f05a",
   "metadata": {},
   "outputs": [],
   "source": [
    "# create a subset with only the necessaries columns of posts dataset\n",
    "sub8_posts = posts.col(['post_id', 'numbr_likes', 'number_comments', 'cts'], index=False).dropna()"
   ]
  },
  {
   "cell_type": "code",
   "execution_count": 11,
   "id": "b0a13923-1969-4449-aa55-784356d39fd1",
   "metadata": {},
   "outputs": [
    {
     "data": {
      "text/plain": [
       "(0.37445351725562276, 0.0)"
      ]
     },
     "execution_count": 11,
     "metadata": {},
     "output_type": "execute_result"
    }
   ],
   "source": [
    "# to check if there is a correlation between the number of likes and the number of comments\n",
    "test_likes_vs_comments = pearsonr(sub8_posts['numbr_likes'], sub8_posts['number_comments'])\n",
    "test_likes_vs_comments"
   ]
  },
  {
   "cell_type": "markdown",
   "id": "6afa9b9f-a4d7-4f04-97f7-f77f3a7b9601",
   "metadata": {},
   "source": [
    "Through the pearson correlation index we calculate the correlation between the two variables, we find that they are positively correlated. To test whether this correlation is statistically significant or not, we calculate the p-value which, being <0.05, confirms that the correlation is statistically significant."
   ]
  },
  {
   "cell_type": "code",
   "execution_count": 12,
   "id": "ee1db41a-58be-4836-b0e9-30c3138ef92b",
   "metadata": {},
   "outputs": [
    {
     "data": {
      "image/png": "[encoded data removed]",
      "text/plain": [
       "<Figure size 432x288 with 1 Axes>"
      ]
     },
     "metadata": {
      "needs_background": "light"
     },
     "output_type": "display_data"
    }
   ],
   "source": [
    "# To visualize the scatterplot it is useful to apply a logorithmic transformation both \n",
    "# to the values of the likes column and to the values of the comments column. \n",
    "# This transformation is used when the range of natural scales is too wide and there are \n",
    "# \"extreme\" values that make it impossible to display the graph correctly.\n",
    "plt.figure(1, figsize=(10, 5))\n",
    "scatter_plot = sns.scatterplot(data=sub8_posts, x=\"numbr_likes\", y=\"number_comments\")\n",
    "scatter_plot.set(xscale=\"log\", yscale=\"log\")\n",
    "plt.xlabel(\"Log number likes\")\n",
    "plt.ylabel(\"Log number comments\")\n",
    "plt.title(\"SCATTERPLOT OF LIKES vs COMMENTS USING LOG/LOG-SCALE\")\n",
    "plt.show()"
   ]
  },
  {
   "cell_type": "markdown",
   "id": "40310e45-d5bd-41c6-b636-94b92da5b643",
   "metadata": {},
   "source": [
    "#### $\\bullet$ Can you find any significant relationship between the time a user publishes a post and the number of comments and “likes”? Use an appropriate statistical test or technique and support your choice."
   ]
  },
  {
   "cell_type": "code",
   "execution_count": null,
   "id": "053f6098-984b-43ab-9e24-49b6c20eab97",
   "metadata": {},
   "outputs": [],
   "source": []
  },
  {
   "cell_type": "markdown",
   "id": "8e223b91-bc79-495d-a847-196d99fc1671",
   "metadata": {},
   "source": [
    "#### $\\bullet$ What’s the distribution of followers? Plot the empirical distribution of followers amongst all users and extract the mean, mode, and quantiles. Interpret those figures."
   ]
  },
  {
   "cell_type": "code",
   "execution_count": null,
   "id": "a64771ea-f81a-4649-b83e-e6c49bafc94e",
   "metadata": {},
   "outputs": [],
   "source": [
    "# First we create a subset wich contains only the number of followers\n",
    "profiles_followers = profiles.col(['followers'], index=False, nrows=SAMPLE_SIZE)\n",
    "# Then we can drop all the NA because we don't need them to visualize the empirical distribution\n",
    "profiles_followers.dropna(inplace=True)\n",
    "# As a last step we apply the logaritm to the followers because the range is too big and otherwise would be impossible \n",
    "# to visualize them correctly. We use log(x+1) to avoid that profiles with 0 followers will result -inf\n",
    "prof_foll_log = profiles_followers['followers'].apply(lambda x: np.log(x+1))"
   ]
  },
  {
   "cell_type": "code",
   "execution_count": null,
   "id": "a348229c-6df3-4b39-9ace-692df9ba61e8",
   "metadata": {},
   "outputs": [],
   "source": [
    "sns.histplot(prof_foll_log, bins=100, kde=True)\n",
    "plt.xlabel(\"Log(followers + 1)\")\n",
    "plt.ylabel(\"Frequency\")\n",
    "plt.title(\"HISTOGRAM OF THE FOLLOWERS DISTRIBUTION USING LOG-SCALE\")\n",
    "plt.show()"
   ]
  },
  {
   "cell_type": "code",
   "execution_count": null,
   "id": "19d317e5-1f4d-4330-8a74-856400a72c87",
   "metadata": {},
   "outputs": [],
   "source": [
    "# followers mean\n",
    "followers_mean = round(np.mean(profiles_followers['followers']), 3)\n",
    "print(f'Followers mean is equal to: {followers_mean}')\n",
    "# followers mode\n",
    "followers_mode = round(statistics.mode(profiles_followers['followers']), 3)\n",
    "print(f'Followers mode is equal to: {followers_mode}')\n",
    "# followers first quartile\n",
    "followers_1stQuantile = int(np.quantile(profiles_followers['followers'], q=0.25))\n",
    "print(f'Followers first quartile is equal to: {followers_1stQuantile}')\n",
    "# followers median\n",
    "followers_median = int(np.quantile(profiles_followers['followers'], q=0.5))\n",
    "print(f'Followers median is equal to: {followers_median}')\n",
    "# followers third quartile\n",
    "followers_3rdQuantile = int(np.quantile(profiles_followers['followers'], q=0.75))\n",
    "print(f'Followers third quartile is equal to: {followers_3rdQuantile}')"
   ]
  },
  {
   "cell_type": "markdown",
   "id": "31b93b48-c436-499c-b535-475afed90788",
   "metadata": {},
   "source": [
    "#### $\\bullet$ What are histograms, bar plots, scatterplots and pie charts used for?"
   ]
  },
  {
   "cell_type": "markdown",
   "id": "9ad51753-226e-4c19-ab0b-e9106ad56763",
   "metadata": {},
   "source": [
    "Histograms, bar plots, scatterplots and pie charts are the most popular and used tools for data visualization.\n",
    "\n",
    "* **Histograms** are used to represent continuous variables divided into a series of intervals. These intervals must be adjacent and they can be also of different sizes. They are also useful when dealing with large datasets because they can help in detecting any unusual observations (outliers) or any gaps in the data. Each bin (interval) is repreesented by a rectangle. If the bins have the same size, the height of the rectangle is proportional to the frequency (the number of cases in each interval), otherwise the *area* of the rectangle has to be proportional to the frequency. In this last case, the height represent the *frequency density* (the number of cases per unit of the variable on the x-axis). A histogram has an appearance similar to a vertical bar chart, but there are no gaps between the bars. Generally, a histogram will have bars of equal width. \n",
    "\n",
    "* **Bar plots** are used to compare categorical data with rectangular bars with heights or lengths proportional to the values that they represent. The bars can be plotted vertically or horizontally. A bar plot shows comparisons among discrete categories. One axis of the chart shows the specific categories being compared, and the other axis represents a measured value. They can also represent bars clustered in groups of more than one, showing the values of more than one measured variable.\n",
    "\n",
    "* **Scatterplots** are a type of plot or mathematical diagram used to represent values for (usually) two variables in a Cartesian diagram. The data are displayed as a collection of points, each having the value of one variable determining the position on the horizontal axis and the value of the other variable determining the position on the vertical axis. With a scatterplot can be detected relations and correlations between variables. They can be used for both continuous and discrete variables.\n",
    "\n",
    "* **Pie charts** are circular statistical graphics. The 'pie' is divided into slices proportional to the quantity they represent. They are suited to express percentage and to observe the composition of a phenomenon. The total sum of the percentages must be equal to 100%. If there are a lot of modalities related to the phenomenon we want to represent it can be worth to use a bar plot, because comparing the area of a lot of 'slices' can be not so easy."
   ]
  },
  {
   "cell_type": "markdown",
   "id": "492dbcdf-64e0-4f76-af0a-4e8b5c2836a6",
   "metadata": {},
   "source": [
    "#### $\\bullet$ What insights can you extract from a Box Plot?"
   ]
  },
  {
   "cell_type": "markdown",
   "id": "a7f5d7bb-33cd-4806-91d5-d323e7cc6227",
   "metadata": {},
   "source": [
    "**Box plots** provide a quick visual summary of the variability of values in a dataset. They help to identify the first quartile (as the lower box edge), the median (as the line inside the box) and the third quartile (as the upper box edge). In the box plots can be shown also lines representing the values located outside lower and upper quartiles. Outliers can reveal mistakes or unusual occurrences in data, and can be represented by single points. A box plot is created using a number or rate/ratio field on the y-axis.\n",
    "\n",
    "In addition, it can be known the variability and the dispersion of the variable, looking at the length of the box. If the box is little, all the data is located near to the median, meaning that there's low dispersion; otherwise the result is a larger box. This type of plot can give also information about the symmetry of a variable. If the median line is in the center of the box, maybe the variable is symmetric (but is always needed to check it also with statistical parameters), otherwise the line will be closer to one box edge (quartile) than the other.\n",
    "\n",
    "Box plots are useful to answer questions like: How is my data distributed? Are there any outliers in the dataset? \n",
    "\n",
    "| Component | Description |\n",
    "|---|---|\n",
    "| Whisker | The range of data less than the first quartile and greater than the third quartile. Each whisker has 25 percent of the data. Whiskers typically cannot be more than 1.5 times IQR, which sets the threshold for outliers. |\n",
    "| Box | The range of data between the first and third quartiles. 50 percent of the data lies within this range. The range between the first and third quartile is also known as the Inter Quartile Range (IQR). |\n",
    "| Maximum | The largest value in the dataset or the largest value that is not outside the threshold set by the whiskers. |\n",
    "| Third quartile | The value where 75 percent of the data is less than the value, and 25 percent of the data is greater than the value. |\n",
    "| Median | The middle number in the dataset. Half of the numbers are greater than the median and half are less than the median. The median can also be called the second quartile. |\n",
    "| First quartile | The value where 25 percent of the data is less than the value, and 75 percent of the data is greater than the value. |\n",
    "| Minimum| The smallest value in the dataset or the smallest value that is not outside the threshold set by the whiskers. |\n",
    "| Outliers| Data values that are higher or lower than the limits set by the whiskers. |"
   ]
  },
  {
   "cell_type": "markdown",
   "id": "495ae649-925f-4b94-aa6f-70bbccc6b85b",
   "metadata": {},
   "source": [
    "***\n",
    "\n",
    "## __Bonus points__\n",
    "\n",
    "***"
   ]
  },
  {
   "cell_type": "markdown",
   "id": "1bc6a434-ace6-4f7b-92b2-3814cf25dbf7",
   "metadata": {},
   "source": [
    "#### Up to this point, you probably have worked with one or two files simultaneously. Nevertheless, for the literals a. and b. of this section, you must work with the three datasets at the same time. Note that performing some of these operations might be too complex for your pc specs. For this reason, we suggest you make use of AWS (yeah! only a suggestion). In case you need it, in the following links you can find the same three files already mounted into AWS for you to work with them easily (instagram_posts, instagram_profiles, instagram_locations)."
   ]
  },
  {
   "cell_type": "markdown",
   "id": "574ed6ac",
   "metadata": {
    "_cell_guid": "3a6804c1-f32d-492a-a1b1-8216aeea7866",
    "_uuid": "3fba3dc7-6054-4ef3-9113-c38e6ed32c4b"
   },
   "source": [
    "#### a. Sort the users in terms of number of followers and divide them into two groups: for the first group, take only the top 10% regarding \"followers\", and for the second one, take the rest. Now compare the mean of time intervals between posts for the two categories. Do you notice something relevant?"
   ]
  },
  {
   "cell_type": "code",
   "execution_count": null,
   "id": "44437843",
   "metadata": {
    "_cell_guid": "41ce369f-9759-421e-9b70-ce55e25a62a1",
    "_uuid": "43a3e699-118d-40cf-be7f-92d0ebccf894",
    "execution": {
     "iopub.execute_input": "2022-10-25T09:07:01.875548Z",
     "iopub.status.busy": "2022-10-25T09:07:01.875164Z",
     "iopub.status.idle": "2022-10-25T09:07:11.633861Z",
     "shell.execute_reply": "2022-10-25T09:07:11.632783Z",
     "shell.execute_reply.started": "2022-10-25T09:07:01.875515Z"
    }
   },
   "outputs": [
    {
     "data": {
      "text/html": [
       "<div>\n",
       "<style scoped>\n",
       "    .dataframe tbody tr th:only-of-type {\n",
       "        vertical-align: middle;\n",
       "    }\n",
       "\n",
       "    .dataframe tbody tr th {\n",
       "        vertical-align: top;\n",
       "    }\n",
       "\n",
       "    .dataframe thead th {\n",
       "        text-align: right;\n",
       "    }\n",
       "</style>\n",
       "<table border=\"1\" class=\"dataframe\">\n",
       "  <thead>\n",
       "    <tr style=\"text-align: right;\">\n",
       "      <th></th>\n",
       "      <th>followers</th>\n",
       "    </tr>\n",
       "    <tr>\n",
       "      <th>sid</th>\n",
       "      <th></th>\n",
       "    </tr>\n",
       "  </thead>\n",
       "  <tbody>\n",
       "    <tr>\n",
       "      <th>4184446</th>\n",
       "      <td>146</td>\n",
       "    </tr>\n",
       "    <tr>\n",
       "      <th>4184457</th>\n",
       "      <td>1145</td>\n",
       "    </tr>\n",
       "    <tr>\n",
       "      <th>4184460</th>\n",
       "      <td>324</td>\n",
       "    </tr>\n",
       "    <tr>\n",
       "      <th>4184465</th>\n",
       "      <td>192</td>\n",
       "    </tr>\n",
       "    <tr>\n",
       "      <th>4184471</th>\n",
       "      <td>4137</td>\n",
       "    </tr>\n",
       "  </tbody>\n",
       "</table>\n",
       "</div>"
      ],
      "text/plain": [
       "         followers\n",
       "sid               \n",
       "4184446        146\n",
       "4184457       1145\n",
       "4184460        324\n",
       "4184465        192\n",
       "4184471       4137"
      ]
     },
     "metadata": {},
     "output_type": "display_data"
    }
   ],
   "source": [
    "profiles.df = profiles.col(['followers'], index=True).dropna()\n",
    "profiles.df.head()"
   ]
  },
  {
   "cell_type": "code",
   "execution_count": null,
   "id": "e62391f2",
   "metadata": {
    "execution": {
     "iopub.execute_input": "2022-10-25T09:20:51.134767Z",
     "iopub.status.busy": "2022-10-25T09:20:51.134290Z",
     "iopub.status.idle": "2022-10-25T09:33:05.696389Z",
     "shell.execute_reply": "2022-10-25T09:33:05.694623Z",
     "shell.execute_reply.started": "2022-10-25T09:20:51.134725Z"
    }
   },
   "outputs": [
    {
     "data": {
      "text/html": [
       "<div>\n",
       "<style scoped>\n",
       "    .dataframe tbody tr th:only-of-type {\n",
       "        vertical-align: middle;\n",
       "    }\n",
       "\n",
       "    .dataframe tbody tr th {\n",
       "        vertical-align: top;\n",
       "    }\n",
       "\n",
       "    .dataframe thead th {\n",
       "        text-align: right;\n",
       "    }\n",
       "</style>\n",
       "<table border=\"1\" class=\"dataframe\">\n",
       "  <thead>\n",
       "    <tr style=\"text-align: right;\">\n",
       "      <th></th>\n",
       "      <th>drift</th>\n",
       "    </tr>\n",
       "    <tr>\n",
       "      <th>sid_profile</th>\n",
       "      <th></th>\n",
       "    </tr>\n",
       "  </thead>\n",
       "  <tbody>\n",
       "    <tr>\n",
       "      <th>3496776</th>\n",
       "      <td>17 days 10:03:56.027027</td>\n",
       "    </tr>\n",
       "    <tr>\n",
       "      <th>3303402</th>\n",
       "      <td>79 days 09:58:46.133333</td>\n",
       "    </tr>\n",
       "    <tr>\n",
       "      <th>3406435</th>\n",
       "      <td>2 days 02:45:14.545454</td>\n",
       "    </tr>\n",
       "    <tr>\n",
       "      <th>3529017</th>\n",
       "      <td>3 days 18:16:18.687500</td>\n",
       "    </tr>\n",
       "    <tr>\n",
       "      <th>3206132</th>\n",
       "      <td>124 days 00:16:34.333333</td>\n",
       "    </tr>\n",
       "  </tbody>\n",
       "</table>\n",
       "</div>"
      ],
      "text/plain": [
       "                               drift\n",
       "sid_profile                         \n",
       "3496776      17 days 10:03:56.027027\n",
       "3303402      79 days 09:58:46.133333\n",
       "3406435       2 days 02:45:14.545454\n",
       "3529017       3 days 18:16:18.687500\n",
       "3206132     124 days 00:16:34.333333"
      ]
     },
     "metadata": {},
     "output_type": "display_data"
    }
   ],
   "source": [
    "drift = lambda g: (g.max() - g.min()) / (g.count()-1) if g.shape[0] > 1 else pd.NA\n",
    "\n",
    "post_time = posts\\\n",
    "                .col(['sid_profile','cts'], index=None)\\\n",
    "                .groupby(by=['sid_profile'], sort=False, dropna=True)\\\n",
    "                .agg(drift=pd.NamedAgg(column=\"cts\", aggfunc=drift))\\\n",
    "                .dropna()\n",
    "post_time = post_time[post_time.index.get_level_values('sid_profile') != -1]\n",
    "post_time['drift'] = post_time['drift'].astype('timedelta64[ns]')\n",
    "post_time.head()"
   ]
  },
  {
   "cell_type": "code",
   "execution_count": null,
   "id": "7308b42e",
   "metadata": {
    "execution": {
     "iopub.execute_input": "2022-10-25T09:33:05.699390Z",
     "iopub.status.busy": "2022-10-25T09:33:05.699038Z",
     "iopub.status.idle": "2022-10-25T09:33:06.291221Z",
     "shell.execute_reply": "2022-10-25T09:33:06.290322Z",
     "shell.execute_reply.started": "2022-10-25T09:33:05.699361Z"
    }
   },
   "outputs": [
    {
     "data": {
      "text/html": [
       "<div>\n",
       "<style scoped>\n",
       "    .dataframe tbody tr th:only-of-type {\n",
       "        vertical-align: middle;\n",
       "    }\n",
       "\n",
       "    .dataframe tbody tr th {\n",
       "        vertical-align: top;\n",
       "    }\n",
       "\n",
       "    .dataframe thead th {\n",
       "        text-align: right;\n",
       "    }\n",
       "</style>\n",
       "<table border=\"1\" class=\"dataframe\">\n",
       "  <thead>\n",
       "    <tr style=\"text-align: right;\">\n",
       "      <th></th>\n",
       "      <th>drift</th>\n",
       "      <th>followers</th>\n",
       "    </tr>\n",
       "  </thead>\n",
       "  <tbody>\n",
       "    <tr>\n",
       "      <th>1817101</th>\n",
       "      <td>5 days 14:09:50.187500</td>\n",
       "      <td>858</td>\n",
       "    </tr>\n",
       "    <tr>\n",
       "      <th>3521482</th>\n",
       "      <td>20 days 12:59:05.047619</td>\n",
       "      <td>5099</td>\n",
       "    </tr>\n",
       "    <tr>\n",
       "      <th>1891211</th>\n",
       "      <td>80 days 13:46:52.250000</td>\n",
       "      <td>559</td>\n",
       "    </tr>\n",
       "    <tr>\n",
       "      <th>4293767</th>\n",
       "      <td>22 days 22:59:48.409090</td>\n",
       "      <td>926</td>\n",
       "    </tr>\n",
       "    <tr>\n",
       "      <th>3414742</th>\n",
       "      <td>125 days 21:28:32.812500</td>\n",
       "      <td>4161</td>\n",
       "    </tr>\n",
       "  </tbody>\n",
       "</table>\n",
       "</div>"
      ],
      "text/plain": [
       "                           drift  followers\n",
       "1817101   5 days 14:09:50.187500        858\n",
       "3521482  20 days 12:59:05.047619       5099\n",
       "1891211  80 days 13:46:52.250000        559\n",
       "4293767  22 days 22:59:48.409090        926\n",
       "3414742 125 days 21:28:32.812500       4161"
      ]
     },
     "metadata": {},
     "output_type": "display_data"
    }
   ],
   "source": [
    "profiles.df = pd.concat([\n",
    "    post_time,\n",
    "    profiles.df[['followers']]\n",
    "], axis=1, join='inner')\n",
    "profiles.df.head()"
   ]
  },
  {
   "cell_type": "code",
   "execution_count": null,
   "id": "3ac78bb1",
   "metadata": {
    "execution": {
     "iopub.execute_input": "2022-10-25T09:33:06.293024Z",
     "iopub.status.busy": "2022-10-25T09:33:06.292523Z",
     "iopub.status.idle": "2022-10-25T09:33:06.305788Z",
     "shell.execute_reply": "2022-10-25T09:33:06.304530Z",
     "shell.execute_reply.started": "2022-10-25T09:33:06.292994Z"
    }
   },
   "outputs": [
    {
     "name": "stdout",
     "output_type": "stream",
     "text": [
      "Influencers mean time between posts: \t 10 days 14:46:14.786765333\n",
      "Normal users mean time between posts: \t 23 days 09:13:00.539863666\n"
     ]
    }
   ],
   "source": [
    "profiles.df['category'] = pd.qcut(profiles.df.followers, [0.,0.9,1.], labels=['norm', 'influencer'])\n",
    "\n",
    "print('Influencers mean time between posts: \\t', profiles.df[profiles.df.category=='influencer'].drift.mean())\n",
    "print('Normal users mean time between posts: \\t', profiles.df[profiles.df.category=='norm'].drift.mean())"
   ]
  },
  {
   "cell_type": "code",
   "execution_count": null,
   "id": "402ba392",
   "metadata": {
    "execution": {
     "iopub.execute_input": "2022-10-25T09:33:06.308515Z",
     "iopub.status.busy": "2022-10-25T09:33:06.308031Z",
     "iopub.status.idle": "2022-10-25T09:33:06.604535Z",
     "shell.execute_reply": "2022-10-25T09:33:06.602772Z",
     "shell.execute_reply.started": "2022-10-25T09:33:06.308484Z"
    }
   },
   "outputs": [
    {
     "data": {
      "image/png": "[encoded data removed]",
      "text/plain": [
       "<Figure size 360x360 with 1 Axes>"
      ]
     },
     "metadata": {},
     "output_type": "display_data"
    }
   ],
   "source": [
    "sns.set(rc={'figure.figsize':(5,5)})\n",
    "\n",
    "ax = sns.boxplot(data=profiles.df, \n",
    "            x='category', \n",
    "            y=24*31*3600/profiles.df['drift'].dt.total_seconds(), \n",
    "            palette='pastel')\n",
    "ax.set(\n",
    "    xlabel = 'Followers',\n",
    "    ylabel = 'Average posts per month',\n",
    "    title = 'Normal users vs Influencers publishing ratio',\n",
    "    yscale = 'log')\n",
    "plt.show()"
   ]
  },
  {
   "cell_type": "code",
   "execution_count": null,
   "id": "4833931a",
   "metadata": {
    "execution": {
     "iopub.execute_input": "2022-10-25T09:33:06.606642Z",
     "iopub.status.busy": "2022-10-25T09:33:06.606280Z",
     "iopub.status.idle": "2022-10-25T09:33:06.611599Z",
     "shell.execute_reply": "2022-10-25T09:33:06.610572Z",
     "shell.execute_reply.started": "2022-10-25T09:33:06.606612Z"
    }
   },
   "outputs": [],
   "source": [
    "del post_time\n",
    "del profiles.df"
   ]
  },
  {
   "cell_type": "markdown",
   "id": "704df93a",
   "metadata": {
    "_cell_guid": "f315c749-e99c-4a4a-a44d-2cce25ebad48",
    "_uuid": "7ca70f05-f21a-454c-9153-d920606647e0"
   },
   "source": [
    "#### b. Assume users publish their posts the same day pictures or videos are taken: Are there users that have visited the same location on the same day? How about the same week? Extract the results and explain them."
   ]
  },
  {
   "cell_type": "code",
   "execution_count": null,
   "id": "b828c1af",
   "metadata": {
    "_cell_guid": "4e6263d0-ff3d-4fb4-91be-bdb3ac3adcb4",
    "_uuid": "0486b05f-5ae1-43a0-921c-98838f8cd705",
    "execution": {
     "iopub.execute_input": "2022-10-25T09:33:06.613210Z",
     "iopub.status.busy": "2022-10-25T09:33:06.612871Z",
     "iopub.status.idle": "2022-10-25T09:37:32.433491Z",
     "shell.execute_reply": "2022-10-25T09:37:32.432129Z",
     "shell.execute_reply.started": "2022-10-25T09:33:06.613176Z"
    }
   },
   "outputs": [],
   "source": [
    "posts.df = posts\\\n",
    "    .col(['location_id', 'profile_id', 'cts'])\\\n",
    "    .dropna()"
   ]
  },
  {
   "cell_type": "code",
   "execution_count": null,
   "id": "8663de96",
   "metadata": {
    "execution": {
     "iopub.execute_input": "2022-10-25T09:37:32.435128Z",
     "iopub.status.busy": "2022-10-25T09:37:32.434861Z",
     "iopub.status.idle": "2022-10-25T09:38:24.307960Z",
     "shell.execute_reply": "2022-10-25T09:38:24.306580Z",
     "shell.execute_reply.started": "2022-10-25T09:37:32.435102Z"
    }
   },
   "outputs": [
    {
     "data": {
      "image/png": "[encoded data removed]",
      "text/plain": [
       "<Figure size 612x288 with 1 Axes>"
      ]
     },
     "metadata": {},
     "output_type": "display_data"
    }
   ],
   "source": [
    "day = posts.df\\\n",
    "            .groupby([pd.Grouper(key=\"cts\", freq=\"1d\"), 'location_id', 'profile_id'], sort=False)\\\n",
    "            .agg(cnt=pd.NamedAgg(column=\"cts\", aggfunc='count'))['cnt']\\\n",
    "            .value_counts().sort_index()\n",
    "sns.set(rc={'figure.figsize':(day.index.shape[0]/4,4)})\n",
    "ax = sns.barplot(x=day.index, y=day, palette='pastel')\n",
    "ax.set(\n",
    "    xlabel = '# of posts in the same day and location',\n",
    "    ylabel = 'Occurrences',\n",
    "    title = 'Frequency of same-location posts per Day',\n",
    "    yscale = 'log'\n",
    ")\n",
    "plt.show()"
   ]
  },
  {
   "cell_type": "code",
   "execution_count": null,
   "id": "34579cda",
   "metadata": {
    "execution": {
     "iopub.execute_input": "2022-10-25T09:38:24.309934Z",
     "iopub.status.busy": "2022-10-25T09:38:24.309616Z",
     "iopub.status.idle": "2022-10-25T09:39:13.836560Z",
     "shell.execute_reply": "2022-10-25T09:39:13.835159Z",
     "shell.execute_reply.started": "2022-10-25T09:38:24.309904Z"
    }
   },
   "outputs": [
    {
     "data": {
      "image/png": "[encoded data removed]",
      "text/plain": [
       "<Figure size 918x288 with 1 Axes>"
      ]
     },
     "metadata": {},
     "output_type": "display_data"
    }
   ],
   "source": [
    "week = posts.df\\\n",
    "            .groupby([pd.Grouper(key=\"cts\", freq=\"1W\"), 'location_id', 'profile_id'], sort=False)\\\n",
    "            .agg(cnt=pd.NamedAgg(column=\"cts\", aggfunc='count'))['cnt']\\\n",
    "            .value_counts().sort_index()\n",
    "sns.set(rc={'figure.figsize':(week.index.shape[0]/4,4)})\n",
    "ax = sns.barplot(x=week.index, y=week, palette='pastel')\n",
    "ax.set(\n",
    "    xlabel = '# of posts in the same week and location',\n",
    "    ylabel = 'Occurrences',\n",
    "    title = 'Frequency of same-location posts per Week',\n",
    "    yscale = 'log'\n",
    ")\n",
    "plt.show()"
   ]
  },
  {
   "cell_type": "code",
   "execution_count": null,
   "id": "9b79eb3a",
   "metadata": {
    "execution": {
     "iopub.execute_input": "2022-10-25T09:43:17.202685Z",
     "iopub.status.busy": "2022-10-25T09:43:17.201693Z",
     "iopub.status.idle": "2022-10-25T09:43:17.248428Z",
     "shell.execute_reply": "2022-10-25T09:43:17.246468Z",
     "shell.execute_reply.started": "2022-10-25T09:43:17.202634Z"
    }
   },
   "outputs": [],
   "source": [
    "del posts.df"
   ]
  },
  {
   "cell_type": "markdown",
   "id": "3df7497f-53c7-43e2-82b9-13e071187152",
   "metadata": {},
   "source": [
    "#### c. Implement a text data analysis (also known as text mining) of the field \"description\" from instagram_posts.csv for descriptions written in English. Use appropriate visualizations and statistics to highlight the words (and probably the topics) provided for the users in that field."
   ]
  },
  {
   "cell_type": "code",
   "execution_count": null,
   "id": "78af9e57-dc50-4909-8644-b27d32622b92",
   "metadata": {},
   "outputs": [],
   "source": []
  },
  {
   "cell_type": "markdown",
   "id": "68c92592-301f-4e76-a5ec-b5d23ca92294",
   "metadata": {},
   "source": [
    "***\n",
    "\n",
    "## __Command Line Question__\n",
    "\n",
    "***"
   ]
  },
  {
   "cell_type": "markdown",
   "id": "37f3beb1-a6d9-4442-8f65-64e027876045",
   "metadata": {},
   "source": [
    "#### Using the command line is a feature that Data Scientists must master. It is relevant since the operations there require less memory to use in comparison to other interfaces. It also does not use as much CPU processing time as other interfaces. In addition, it can be faster and more efficient and handle repetitive tasks quickly."
   ]
  },
  {
   "cell_type": "markdown",
   "id": "8e5f517d-5ffb-4751-98cb-504e807331d0",
   "metadata": {},
   "source": [
    "#### In this question, you should use command line tools such as grep and possibly other commands to answer the following question:"
   ]
  },
  {
   "cell_type": "markdown",
   "id": "3a72e380-c6b3-4859-9579-324ad633c90d",
   "metadata": {},
   "source": [
    "#### $\\bullet$ Using the instagram_posts.csv, retrieve the first ten posts with descriptions longer than 100 characters and output the profiles that posted them. (Please keep in mind that the profile associated with some of those posts may not be found in the profiles. You can simply output User was not found! for those posts.)"
   ]
  },
  {
   "cell_type": "markdown",
   "id": "12d12183-a04c-43cb-9390-79e95fbbddc0",
   "metadata": {},
   "source": [
    "#### Note: You may work on this question in any environment (AWS, your PC command line, Jupyter notebook, etc.), but the final script must be placed in CommandLine.sh, which must be executable."
   ]
  },
  {
   "cell_type": "code",
   "execution_count": null,
   "id": "64c5290f-6d40-461c-bd0f-13fa77c81646",
   "metadata": {},
   "outputs": [],
   "source": []
  },
  {
   "cell_type": "markdown",
   "id": "8f13b985-cc40-448a-8b65-12b4829924e6",
   "metadata": {},
   "source": [
    "***\n",
    "\n",
    "## __Algorithmic Question__\n",
    "\n",
    "***"
   ]
  },
  {
   "cell_type": "markdown",
   "id": "446322f6-bfcd-4f90-a1df-a49b7123b836",
   "metadata": {},
   "source": [
    "### 1. __[AQ1] Given the following pseudocode, answer the questions:__"
   ]
  },
  {
   "cell_type": "markdown",
   "id": "1c85f831-92c2-4754-93a9-5200db7e6f87",
   "metadata": {},
   "source": [
    "```\n",
    "Input:\n",
    "       N : an integer\n",
    "       List : array of characters of length N\n",
    "\n",
    "function f1(sequence, end):\n",
    "    For i=0 To end:\n",
    "        OUTPUT sequence[i]\n",
    "    EndFor\n",
    "        Output \"\\n\"\n",
    "\n",
    "function f2(sequence, start, end):\n",
    "    If start = end:\n",
    "        f1(sequence, end)\n",
    "    Else\n",
    "        For i=start To end:\n",
    "            temp <-- sequence[start]\n",
    "            sequence[start] <-- sequen\n",
    "            sequence[i] <-- temp\n",
    "            f2(sequence, start+1, end)\n",
    "            temp <-- sequence[start]\n",
    "            sequence[start] <-- sequen\n",
    "            sequence[i] <-- temp\n",
    "\n",
    "f2(List, 0, N)\n",
    "```"
   ]
  },
  {
   "cell_type": "markdown",
   "id": "086bc88e-4baf-45ce-8256-8aa8a45fc427",
   "metadata": {},
   "source": [
    "####  What is the output of this algorithm? Describe the mechanism of the algorithm in detail . We do not want to know only its final result. (Describe one example on your own)"
   ]
  },
  {
   "cell_type": "markdown",
   "id": "e219637a",
   "metadata": {},
   "source": [
    "This algorithm performs consecutives swaps of items in the array in order to obtain and print all the possible permutations of the initial array of characters.\n",
    "At each call of $f2$, starting from a certain parameter $i_{start}=0$, the function iterates in the set $\\{i | i_{start} \\leq i \\leq N, i \\in \\N\\}$ of $i$, each time swapping the char in position $i_{start}$ with the one in $i$, and then calling itself with parameter $i_{start}' = i_{start} + 1$. After this new call of $f2$ has ended, it swaps back $i_{start}$ and $i$, and proceeds to repeat the process for the next $i$. \n",
    "\n",
    "When $i_{start} = N$ the function prints the current state of the char array, through the $f1$ function.\n",
    "\n",
    "The result is that all the possible permutations are printed, and the char array is left ordered at the end.\n",
    "\n",
    "```\n",
    "0:0\t a<>a\t ['a', 'p', 'e']\n",
    "1:1\t p<>p\t ['a', 'p', 'e']\n",
    "2:2\t e<>e\t ['a', 'p', 'e']\n",
    "OUTPUT\tape\n",
    "2:2\t e<>e\t ['a', 'p', 'e']\n",
    "1:1\t p<>p\t ['a', 'p', 'e']\n",
    "1:2\t p<>e\t ['a', 'p', 'e']\n",
    "2:2\t p<>p\t ['a', 'e', 'p']\n",
    "OUTPUT\taep\n",
    "2:2\t p<>p\t ['a', 'e', 'p']\n",
    "1:2\t e<>p\t ['a', 'e', 'p']\n",
    "0:0\t a<>a\t ['a', 'p', 'e']\n",
    "0:1\t a<>p\t ['a', 'p', 'e']\n",
    "1:1\t a<>a\t ['p', 'a', 'e']\n",
    "2:2\t e<>e\t ['p', 'a', 'e']\n",
    "OUTPUT\tpae\n",
    "...\n",
    "```\n",
    "\n"
   ]
  },
  {
   "cell_type": "markdown",
   "id": "b9ad3526-4c54-41ff-9957-12a64c9c00ea",
   "metadata": {},
   "source": [
    "#### $\\bullet$ What is asymptotically (i.e., we are asking for big-O complexity) the algorithm's running time as a function of N?"
   ]
  },
  {
   "cell_type": "markdown",
   "id": "903c9f05",
   "metadata": {},
   "source": [
    "At any call of $f2(i_{start})$ it performs $2(N - i_{start})$ swaps, calling $N - i_{start}$ times $f2(i_{start} - 1)$. So each function call calls another function $N - i_{start}$ times:\n",
    "$$\n",
    "    T(n) = 2n + n \\cdot T(n-1) \n",
    "$$\n",
    "$$\n",
    "    T(N) = 2N + N(2(N-1) \\cdot (N-1)(...)) = O(N^2 \\cdot N!) \\overset{Stirling}{=}O(N^(N+2))\n",
    "$$"
   ]
  },
  {
   "cell_type": "markdown",
   "id": "c3cd83ed-a2d7-497e-bc47-88004b980711",
   "metadata": {},
   "source": [
    "#### $\\bullet$ Is this algorithm the optimal one to produce this output? If not, can you suggest a better algorithm to perform the same task?"
   ]
  },
  {
   "cell_type": "markdown",
   "id": "9719cb06",
   "metadata": {},
   "source": [
    "The algorithm is asymptotically optimal, since no algorithm can produce $N!$ outputs in less then $O(N!)$ complexity.\n",
    "\n",
    "There is some margin of improvement that can be made "
   ]
  },
  {
   "cell_type": "markdown",
   "id": "667e36fd-8baf-43f4-be01-0c9f20a4882a",
   "metadata": {},
   "source": [
    "### 3. __[AQ2] Considering the following problem, answer the questions:__"
   ]
  },
  {
   "cell_type": "markdown",
   "id": "b68a2f97-59c3-4206-bacb-e77cae2c075e",
   "metadata": {},
   "source": [
    "#### Alex has a ribbon of length N. He wants to cut the ribbon in a way that fulfils the following __three__ conditions:\n",
    "- Each piece of the cut should have an integer length\n",
    "- He should at least cut the ribbon once\n",
    "- The __multiplication__ of the length of all the pieces be the maximum possible"
   ]
  },
  {
   "cell_type": "markdown",
   "id": "dc688541-7904-462e-9414-cfe2cffdad40",
   "metadata": {},
   "source": [
    "#### 1. Implement a __recursive algorithm__ to help Alex find the maximum possible value after multiplying the length of the pieces. Explain your algorithm in detail."
   ]
  },
  {
   "cell_type": "code",
   "execution_count": null,
   "id": "1a03dbe1-bcde-45ef-80af-e711e3074f15",
   "metadata": {},
   "outputs": [
    {
     "data": {
      "text/plain": [
       "19683"
      ]
     },
     "metadata": {},
     "output_type": "display_data"
    }
   ],
   "source": [
    "def ribbon_cut_exp(N):\n",
    "    if N <= 2:\n",
    "        return 1\n",
    "    l = [N]\n",
    "    for i in range(1,N//2+1):\n",
    "        l.append(max(i, ribbon_cut_exp(i)) * max(N-i, ribbon_cut_exp(N-i)))\n",
    "    return max(l)\n",
    "                            \n",
    "ribbon_cut_exp(27)"
   ]
  },
  {
   "cell_type": "markdown",
   "id": "f7e5c4e9-334d-4a0c-9ad3-491114adc5e3",
   "metadata": {},
   "source": [
    "#### 2. Show that the algorithm has exponential running time."
   ]
  },
  {
   "cell_type": "markdown",
   "id": "44c294ec-afc4-4ccb-ad43-4494b6fb53a3",
   "metadata": {},
   "source": [
    "When the function is called with a certain parameter $N$ the func calls $N-1$ other instances of itself with parameters $\\{n | n \\in (1,N-1)\\}$. Each function has $O(n)$ complexity, since it has to compute $n/2$ products and maximums.\n",
    "\n",
    "So the number of executions is\n",
    "$$\n",
    "    T(n) = O(n) + \\sum_i^{n-1} T(i) \\geq O(n) + (n-1) \\cdot T(1)\n",
    "$$\n",
    "$$\n",
    "    T(N) = O(N) + \\sum_i^{N-1}[ O(i) + \\sum_j^{i-1}[ O(j) + \\sum[ ... ]]]= O(N) + \\sum_i^{N-1} 2^i O(i) =\\\\ (N-2) + 2^1(N-3) + 2^2(N-4) + 2^3(N-5) + ... + 2^N 1 = O(2^N) \n",
    "$$"
   ]
  },
  {
   "cell_type": "markdown",
   "id": "185bd5c8-0ebd-4da2-a076-79922e9d64b5",
   "metadata": {},
   "source": [
    "#### 3. Now provide a polynomial solution, based on __dynamic programming__, and compute its running-time complexity."
   ]
  },
  {
   "cell_type": "code",
   "execution_count": null,
   "id": "154821ae-3926-49cc-bbc6-7430364e1df5",
   "metadata": {},
   "outputs": [
    {
     "data": {
      "text/plain": [
       "81"
      ]
     },
     "metadata": {},
     "output_type": "display_data"
    }
   ],
   "source": [
    "def ribbon_cut_poly(N):\n",
    "    if N <= 2:\n",
    "        return 1\n",
    "    cuts = [1,2]\n",
    "    for x in range(3,N+1):\n",
    "        l = [x]\n",
    "        for i in range(1,x//2+1):\n",
    "            l.append(max(i, cuts[i-1]) * max(x-i, cuts[x-i-1]))\n",
    "        cuts.append(max(l))\n",
    "    # print(cuts)\n",
    "    return cuts[N-1]\n",
    "    \n",
    "ribbon_cut_poly(12)"
   ]
  },
  {
   "cell_type": "markdown",
   "id": "c91010e1-962b-48e6-a633-7753dab6c421",
   "metadata": {},
   "source": [
    "At the $j^{th}$ iteration of the outer loop, it iterates $j/2$ times in the inner loop. The inner loop computes some $O(1)$ operations and then appends at the result at a list ($O(1)$). At the end a search for the maximum is performed on an array of length $j/2$, complexity of this last operation is $O(j/2)$.\n",
    "At the end the total number of operations performed is:\n",
    "$$\n",
    "    T(N) = 1 + 2 + ... + (N-1) + N = \\frac{N (N-1)}{2} = O(N^2)\n",
    "$$"
   ]
  },
  {
   "cell_type": "markdown",
   "id": "de4111cb-62f7-485e-a465-61da71635712",
   "metadata": {},
   "source": [
    "#### 4. Evaluate the running time of your algorithm for the sizes (Ns) in the __range of [2, 25]__, plot the results, and interpret it (if you have implemented two algorithms, please include both in the plot and compare them)."
   ]
  },
  {
   "cell_type": "code",
   "execution_count": null,
   "id": "cab8bcc0-4789-4936-9871-d54b0d2a97aa",
   "metadata": {},
   "outputs": [
    {
     "name": "stdout",
     "output_type": "stream",
     "text": [
      "2th iteration\n",
      "3th iteration\n",
      "4th iteration\n",
      "5th iteration\n",
      "6th iteration\n",
      "7th iteration\n",
      "8th iteration\n",
      "9th iteration\n",
      "10th iteration\n",
      "11th iteration\n"
     ]
    }
   ],
   "source": [
    "from timeit import timeit\n",
    "\n",
    "performance = {\n",
    "    'time' : [],\n",
    "    'type' : [],\n",
    "    'N' : []\n",
    "}\n",
    "N_RANGE = 26\n",
    "for i in range(2,N_RANGE):\n",
    "    print(f\"{i}th iteration\")\n",
    "    performance['time'].append(timeit(lambda: ribbon_cut_poly(i), number = 10000) * 10**3)\n",
    "    performance['type'].append('poly')\n",
    "    performance['N'].append(i)\n",
    "    \n",
    "    performance['N'].append(i)\n",
    "    performance['time'].append(timeit(lambda: ribbon_cut_exp(i), number=1000) * 10**3)\n",
    "    performance['type'].append('exp')"
   ]
  },
  {
   "cell_type": "code",
   "execution_count": null,
   "id": "39cbdf3e-e54a-46de-8de1-a4f789bf9e02",
   "metadata": {},
   "outputs": [
    {
     "data": {
      "text/plain": [
       "<AxesSubplot: xlabel='N', ylabel='time'>"
      ]
     },
     "metadata": {},
     "output_type": "display_data"
    },
    {
     "data": {
      "image/png": "[encoded data removed]",
      "text/plain": [
       "<Figure size 640x480 with 1 Axes>"
      ]
     },
     "metadata": {},
     "output_type": "display_data"
    }
   ],
   "source": [
    "cut_performance = pd.DataFrame.from_dict(performance)\n",
    "sns.lineplot(data=cut_performance,x='N', y='time', hue='type', palette='pastel')"
   ]
  },
  {
   "cell_type": "markdown",
   "id": "50f8a5b1-9cd0-4cd2-b580-abbb5ab7bf31",
   "metadata": {},
   "source": [
    "#### 5. (Optional, mini bonus) Is the algorithm of question 3 __optimal__? If you belive it, can you prove it? If not, can you find a faster algorithm? In case you found a faster algorithm implement it and explain your algorithm in detail."
   ]
  },
  {
   "cell_type": "markdown",
   "id": "61808e32-35fd-495d-bf87-64a49b075b00",
   "metadata": {},
   "source": [
    "The algorithm is not optimal, because the answer can be easily computed by a constant function with complexity $O(1)$\n",
    "\n",
    "$\n",
    "f(x) = \n",
    "\\begin{cases} \n",
    "          x & 0 < x \\leq 2 \\\\\n",
    "          3^{\\frac{x}{3}} & x \\mod{3} = 0 \\\\\n",
    "          2^2 \\cdot 3^{\\frac{(x-4)}{3}} & x \\mod{3} = 1\\\\\n",
    "          2 \\cdot 3^{\\frac{x-2}{3}} & x \\mod{3} = 2\n",
    "       \\end{cases}\n",
    "$\n"
   ]
  },
  {
   "cell_type": "code",
   "execution_count": null,
   "id": "69ca2afa-d663-4ad1-a7f7-2cd5573bf790",
   "metadata": {},
   "outputs": [
    {
     "data": {
      "text/plain": [
       "13122"
      ]
     },
     "metadata": {},
     "output_type": "display_data"
    }
   ],
   "source": [
    "def ribbon_cut_const(N):\n",
    "    if N <= 3:\n",
    "        return N\n",
    "    if N % 3 == 0:\n",
    "        return 3** (N // 3)\n",
    "    if N % 3 == 1:\n",
    "        return 4 * 3** ((N-4)//3)\n",
    "    if N % 3 == 2:\n",
    "        return 3**(N//3) * 2\n",
    "    \n",
    "ribbon_cut_const(26)"
   ]
  },
  {
   "cell_type": "code",
   "execution_count": null,
   "id": "2c974e55-b5b3-4212-881d-b752d93a0a55",
   "metadata": {},
   "outputs": [
    {
     "data": {
      "text/plain": [
       "<AxesSubplot: xlabel='N', ylabel='time'>"
      ]
     },
     "metadata": {},
     "output_type": "display_data"
    },
    {
     "data": {
      "image/png": "[encoded data removed]",
      "text/plain": [
       "<Figure size 640x480 with 1 Axes>"
      ]
     },
     "metadata": {},
     "output_type": "display_data"
    }
   ],
   "source": [
    "for i in range(1,N_RANGE):\n",
    "    performance['N'].append(i)\n",
    "    performance['time'].append(timeit(lambda: ribbon_cut_const(i), number=1000) * 10**3)\n",
    "    performance['type'].append('const')\n",
    "    \n",
    "cut_performance = pd.DataFrame.from_dict(performance)\n",
    "sns.lineplot(data=cut_performance,x='N', y='time', hue='type', palette='pastel')"
   ]
  }
 ],
 "metadata": {
  "kernelspec": {
   "display_name": "Python 3 (ipykernel)",
   "language": "python",
   "name": "python3"
  },
  "language_info": {
   "codemirror_mode": {
    "name": "ipython",
    "version": 3
   },
   "file_extension": ".py",
   "mimetype": "text/x-python",
   "name": "python",
   "nbconvert_exporter": "python",
   "pygments_lexer": "ipython3",
   "version": "3.10.8"
  },
  "vscode": {
   "interpreter": {
    "hash": "d0d9de1bd73e5057d6899d8fb9583eaa7e585bedee5ed3c304303aa57f28dd3f"
   }
  }
 },
 "nbformat": 4,
 "nbformat_minor": 5
}
